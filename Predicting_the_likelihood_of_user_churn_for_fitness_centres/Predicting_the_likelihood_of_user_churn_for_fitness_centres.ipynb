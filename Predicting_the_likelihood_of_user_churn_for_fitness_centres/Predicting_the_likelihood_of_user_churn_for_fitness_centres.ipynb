{
 "cells": [
  {
   "cell_type": "markdown",
   "metadata": {},
   "source": [
    "# <center> Прогнозирование вероятности оттока пользователей для фитнес-центров \n",
    "<center> Автор материала: Толстошеева Татьяна (@tsheeva)"
   ]
  },
  {
   "cell_type": "markdown",
   "metadata": {},
   "source": [
    "## Описание\n",
    "Чтобы бороться с оттоком клиентов, отдел по работе с клиентами «Культуриста-датасаентиста» перевёл в электронный вид множество клиентских анкет. Наша задача — провести анализ и подготовить план действий по удержанию клиентов, а именно:\n",
    "- срогнозировать вероятность оттока (на уровне следующего месяца) для каждого клиента;\n",
    "- сформировать типичные портреты клиентов: выделить несколько наиболее ярких групп и охарактеризовать их основные свойства;\n",
    "- проанализировать основные признаки, наиболее сильно влияющие на отток;\n",
    "- сформулировать основные выводы и разработать рекомендации по повышению качества работы с клиентами."
   ]
  },
  {
   "cell_type": "markdown",
   "metadata": {},
   "source": [
    "## Ознакомление с данными"
   ]
  },
  {
   "cell_type": "code",
   "execution_count": 1,
   "metadata": {},
   "outputs": [],
   "source": [
    "import pandas as pd\n",
    "import seaborn as sns\n",
    "import matplotlib.pyplot as plt\n",
    "import plotly.express as px\n",
    "import warnings\n",
    "import itertools\n",
    "\n",
    "\n",
    "from sklearn.preprocessing import StandardScaler\n",
    "from sklearn.model_selection import train_test_split\n",
    "\n",
    "from sklearn.linear_model import Lasso, Ridge\n",
    "from sklearn.linear_model import LogisticRegression\n",
    "\n",
    "from sklearn.tree import DecisionTreeRegressor\n",
    "from sklearn.tree import DecisionTreeClassifier\n",
    "\n",
    "from sklearn.ensemble import RandomForestRegressor, GradientBoostingRegressor\n",
    "from sklearn.ensemble import RandomForestClassifier, GradientBoostingClassifier\n",
    "\n",
    "from sklearn.metrics import mean_absolute_error, mean_squared_error, r2_score\n",
    "from sklearn.metrics import accuracy_score, precision_score, recall_score, f1_score\n",
    "from sklearn.metrics import roc_auc_score\n",
    "\n",
    "from scipy.cluster.hierarchy import dendrogram, linkage\n",
    "from sklearn.cluster import KMeans\n",
    "\n",
    "warnings.simplefilter(action='ignore', category=FutureWarning)\n",
    "warnings.filterwarnings(\"ignore\")"
   ]
  },
  {
   "cell_type": "code",
   "execution_count": 2,
   "metadata": {},
   "outputs": [],
   "source": [
    "# прочитаем из csv-файла данные и сохраним их в переменной:\n",
    "data = pd.read_csv('/datasets/gym_churn.csv')"
   ]
  },
  {
   "cell_type": "code",
   "execution_count": 3,
   "metadata": {},
   "outputs": [
    {
     "name": "stdout",
     "output_type": "stream",
     "text": [
      "<class 'pandas.core.frame.DataFrame'>\n",
      "RangeIndex: 4000 entries, 0 to 3999\n",
      "Data columns (total 14 columns):\n",
      " #   Column                             Non-Null Count  Dtype  \n",
      "---  ------                             --------------  -----  \n",
      " 0   gender                             4000 non-null   int64  \n",
      " 1   Near_Location                      4000 non-null   int64  \n",
      " 2   Partner                            4000 non-null   int64  \n",
      " 3   Promo_friends                      4000 non-null   int64  \n",
      " 4   Phone                              4000 non-null   int64  \n",
      " 5   Contract_period                    4000 non-null   int64  \n",
      " 6   Group_visits                       4000 non-null   int64  \n",
      " 7   Age                                4000 non-null   int64  \n",
      " 8   Avg_additional_charges_total       4000 non-null   float64\n",
      " 9   Month_to_end_contract              4000 non-null   float64\n",
      " 10  Lifetime                           4000 non-null   int64  \n",
      " 11  Avg_class_frequency_total          4000 non-null   float64\n",
      " 12  Avg_class_frequency_current_month  4000 non-null   float64\n",
      " 13  Churn                              4000 non-null   int64  \n",
      "dtypes: float64(4), int64(10)\n",
      "memory usage: 437.6 KB\n"
     ]
    }
   ],
   "source": [
    "#посмотрим на сводную информацию о наборе данных\n",
    "data.info()"
   ]
  },
  {
   "cell_type": "code",
   "execution_count": 4,
   "metadata": {},
   "outputs": [
    {
     "name": "stdout",
     "output_type": "stream",
     "text": [
      "(4000, 14)\n"
     ]
    },
    {
     "data": {
      "text/html": [
       "<div>\n",
       "<style scoped>\n",
       "    .dataframe tbody tr th:only-of-type {\n",
       "        vertical-align: middle;\n",
       "    }\n",
       "\n",
       "    .dataframe tbody tr th {\n",
       "        vertical-align: top;\n",
       "    }\n",
       "\n",
       "    .dataframe thead th {\n",
       "        text-align: right;\n",
       "    }\n",
       "</style>\n",
       "<table border=\"1\" class=\"dataframe\">\n",
       "  <thead>\n",
       "    <tr style=\"text-align: right;\">\n",
       "      <th></th>\n",
       "      <th>gender</th>\n",
       "      <th>Near_Location</th>\n",
       "      <th>Partner</th>\n",
       "      <th>Promo_friends</th>\n",
       "      <th>Phone</th>\n",
       "      <th>Contract_period</th>\n",
       "      <th>Group_visits</th>\n",
       "      <th>Age</th>\n",
       "      <th>Avg_additional_charges_total</th>\n",
       "      <th>Month_to_end_contract</th>\n",
       "      <th>Lifetime</th>\n",
       "      <th>Avg_class_frequency_total</th>\n",
       "      <th>Avg_class_frequency_current_month</th>\n",
       "      <th>Churn</th>\n",
       "    </tr>\n",
       "  </thead>\n",
       "  <tbody>\n",
       "    <tr>\n",
       "      <th>0</th>\n",
       "      <td>1</td>\n",
       "      <td>1</td>\n",
       "      <td>1</td>\n",
       "      <td>1</td>\n",
       "      <td>0</td>\n",
       "      <td>6</td>\n",
       "      <td>1</td>\n",
       "      <td>29</td>\n",
       "      <td>14.227470</td>\n",
       "      <td>5.0</td>\n",
       "      <td>3</td>\n",
       "      <td>0.020398</td>\n",
       "      <td>0.000000</td>\n",
       "      <td>0</td>\n",
       "    </tr>\n",
       "    <tr>\n",
       "      <th>1</th>\n",
       "      <td>0</td>\n",
       "      <td>1</td>\n",
       "      <td>0</td>\n",
       "      <td>0</td>\n",
       "      <td>1</td>\n",
       "      <td>12</td>\n",
       "      <td>1</td>\n",
       "      <td>31</td>\n",
       "      <td>113.202938</td>\n",
       "      <td>12.0</td>\n",
       "      <td>7</td>\n",
       "      <td>1.922936</td>\n",
       "      <td>1.910244</td>\n",
       "      <td>0</td>\n",
       "    </tr>\n",
       "    <tr>\n",
       "      <th>2</th>\n",
       "      <td>0</td>\n",
       "      <td>1</td>\n",
       "      <td>1</td>\n",
       "      <td>0</td>\n",
       "      <td>1</td>\n",
       "      <td>1</td>\n",
       "      <td>0</td>\n",
       "      <td>28</td>\n",
       "      <td>129.448479</td>\n",
       "      <td>1.0</td>\n",
       "      <td>2</td>\n",
       "      <td>1.859098</td>\n",
       "      <td>1.736502</td>\n",
       "      <td>0</td>\n",
       "    </tr>\n",
       "    <tr>\n",
       "      <th>3</th>\n",
       "      <td>0</td>\n",
       "      <td>1</td>\n",
       "      <td>1</td>\n",
       "      <td>1</td>\n",
       "      <td>1</td>\n",
       "      <td>12</td>\n",
       "      <td>1</td>\n",
       "      <td>33</td>\n",
       "      <td>62.669863</td>\n",
       "      <td>12.0</td>\n",
       "      <td>2</td>\n",
       "      <td>3.205633</td>\n",
       "      <td>3.357215</td>\n",
       "      <td>0</td>\n",
       "    </tr>\n",
       "    <tr>\n",
       "      <th>4</th>\n",
       "      <td>1</td>\n",
       "      <td>1</td>\n",
       "      <td>1</td>\n",
       "      <td>1</td>\n",
       "      <td>1</td>\n",
       "      <td>1</td>\n",
       "      <td>0</td>\n",
       "      <td>26</td>\n",
       "      <td>198.362265</td>\n",
       "      <td>1.0</td>\n",
       "      <td>3</td>\n",
       "      <td>1.113884</td>\n",
       "      <td>1.120078</td>\n",
       "      <td>0</td>\n",
       "    </tr>\n",
       "  </tbody>\n",
       "</table>\n",
       "</div>"
      ],
      "text/plain": [
       "   gender  Near_Location  Partner  Promo_friends  Phone  Contract_period  \\\n",
       "0       1              1        1              1      0                6   \n",
       "1       0              1        0              0      1               12   \n",
       "2       0              1        1              0      1                1   \n",
       "3       0              1        1              1      1               12   \n",
       "4       1              1        1              1      1                1   \n",
       "\n",
       "   Group_visits  Age  Avg_additional_charges_total  Month_to_end_contract  \\\n",
       "0             1   29                     14.227470                    5.0   \n",
       "1             1   31                    113.202938                   12.0   \n",
       "2             0   28                    129.448479                    1.0   \n",
       "3             1   33                     62.669863                   12.0   \n",
       "4             0   26                    198.362265                    1.0   \n",
       "\n",
       "   Lifetime  Avg_class_frequency_total  Avg_class_frequency_current_month  \\\n",
       "0         3                   0.020398                           0.000000   \n",
       "1         7                   1.922936                           1.910244   \n",
       "2         2                   1.859098                           1.736502   \n",
       "3         2                   3.205633                           3.357215   \n",
       "4         3                   1.113884                           1.120078   \n",
       "\n",
       "   Churn  \n",
       "0      0  \n",
       "1      0  \n",
       "2      0  \n",
       "3      0  \n",
       "4      0  "
      ]
     },
     "metadata": {},
     "output_type": "display_data"
    }
   ],
   "source": [
    "#распечатаем его размер и первые 5 строк\n",
    "print(data.shape)\n",
    "display(data.head())"
   ]
  },
  {
   "cell_type": "markdown",
   "metadata": {},
   "source": [
    "Набор данных включает следующие поля:\n",
    "\n",
    " Данные клиента за предыдущий до проверки факта оттока месяц:\n",
    "- 'gender' — пол;\n",
    "- 'Near_Location' — проживание или работа в районе, где находится фитнес-центр;\n",
    "- 'Partner' — сотрудник компании-партнёра клуба (сотрудничество с компаниями, чьи сотрудники могут получать скидки на абонемент — в таком случае фитнес-центр хранит информацию о работодателе клиента);\n",
    "- Promo_friends — факт первоначальной записи в рамках акции «приведи друга» (использовал промо-код от знакомого при оплате первого абонемента);\n",
    "- 'Phone' — наличие контактного телефона;\n",
    "- 'Age' — возраст;\n",
    "- 'Lifetime' — время с момента первого обращения в фитнес-центр (в месяцах).\n",
    "\n",
    "Информация на основе журнала посещений, покупок и информация о текущем статусе абонемента клиента:\n",
    "- 'Contract_period' — длительность текущего действующего абонемента (месяц, 6 месяцев, год);\n",
    "- 'Month_to_end_contract' — срок до окончания текущего действующего абонемента (в месяцах);\n",
    "- 'Group_visits' — факт посещения групповых занятий;\n",
    "- 'Avg_class_frequency_total' — средняя частота посещений в неделю за все время с начала действия абонемента;\n",
    "- 'Avg_class_frequency_current_month' — средняя частота посещений в неделю за предыдущий месяц;\n",
    "- 'Avg_additional_charges_total' — суммарная выручка от других услуг фитнес-центра: кафе, спорттовары, косметический и массажный салон.\n",
    "\n",
    "\n",
    "- 'Churn' — факт оттока в текущем месяце."
   ]
  },
  {
   "cell_type": "code",
   "execution_count": 5,
   "metadata": {},
   "outputs": [],
   "source": [
    "# приведем названия столбцов к нижнему регистру\n",
    "data.columns = data.columns.str.lower()"
   ]
  },
  {
   "cell_type": "code",
   "execution_count": 6,
   "metadata": {},
   "outputs": [
    {
     "data": {
      "text/plain": [
       "0"
      ]
     },
     "execution_count": 6,
     "metadata": {},
     "output_type": "execute_result"
    }
   ],
   "source": [
    "#проверим на дубликаты\n",
    "data.duplicated().sum()"
   ]
  },
  {
   "cell_type": "markdown",
   "metadata": {},
   "source": [
    "### Вывод\n",
    "\n",
    "Мы прочитали данные и изучили их размер, сводную информацию, проверили на пропуски и дубликаты. Для удобства дальнейшей работы привели названия столбцов к нижнему регистру. Данные готовы к EDA. "
   ]
  },
  {
   "cell_type": "markdown",
   "metadata": {},
   "source": [
    "## Исследовательский анализ данных (EDA)"
   ]
  },
  {
   "cell_type": "markdown",
   "metadata": {},
   "source": [
    "### Средние значения и стандартные отклонения"
   ]
  },
  {
   "cell_type": "code",
   "execution_count": 7,
   "metadata": {},
   "outputs": [
    {
     "data": {
      "text/html": [
       "<div>\n",
       "<style scoped>\n",
       "    .dataframe tbody tr th:only-of-type {\n",
       "        vertical-align: middle;\n",
       "    }\n",
       "\n",
       "    .dataframe tbody tr th {\n",
       "        vertical-align: top;\n",
       "    }\n",
       "\n",
       "    .dataframe thead th {\n",
       "        text-align: right;\n",
       "    }\n",
       "</style>\n",
       "<table border=\"1\" class=\"dataframe\">\n",
       "  <thead>\n",
       "    <tr style=\"text-align: right;\">\n",
       "      <th></th>\n",
       "      <th>count</th>\n",
       "      <th>mean</th>\n",
       "      <th>std</th>\n",
       "      <th>min</th>\n",
       "      <th>25%</th>\n",
       "      <th>50%</th>\n",
       "      <th>75%</th>\n",
       "      <th>max</th>\n",
       "    </tr>\n",
       "  </thead>\n",
       "  <tbody>\n",
       "    <tr>\n",
       "      <th>gender</th>\n",
       "      <td>4000.0</td>\n",
       "      <td>0.51</td>\n",
       "      <td>0.50</td>\n",
       "      <td>0.00</td>\n",
       "      <td>0.00</td>\n",
       "      <td>1.00</td>\n",
       "      <td>1.00</td>\n",
       "      <td>1.00</td>\n",
       "    </tr>\n",
       "    <tr>\n",
       "      <th>near_location</th>\n",
       "      <td>4000.0</td>\n",
       "      <td>0.85</td>\n",
       "      <td>0.36</td>\n",
       "      <td>0.00</td>\n",
       "      <td>1.00</td>\n",
       "      <td>1.00</td>\n",
       "      <td>1.00</td>\n",
       "      <td>1.00</td>\n",
       "    </tr>\n",
       "    <tr>\n",
       "      <th>partner</th>\n",
       "      <td>4000.0</td>\n",
       "      <td>0.49</td>\n",
       "      <td>0.50</td>\n",
       "      <td>0.00</td>\n",
       "      <td>0.00</td>\n",
       "      <td>0.00</td>\n",
       "      <td>1.00</td>\n",
       "      <td>1.00</td>\n",
       "    </tr>\n",
       "    <tr>\n",
       "      <th>promo_friends</th>\n",
       "      <td>4000.0</td>\n",
       "      <td>0.31</td>\n",
       "      <td>0.46</td>\n",
       "      <td>0.00</td>\n",
       "      <td>0.00</td>\n",
       "      <td>0.00</td>\n",
       "      <td>1.00</td>\n",
       "      <td>1.00</td>\n",
       "    </tr>\n",
       "    <tr>\n",
       "      <th>phone</th>\n",
       "      <td>4000.0</td>\n",
       "      <td>0.90</td>\n",
       "      <td>0.30</td>\n",
       "      <td>0.00</td>\n",
       "      <td>1.00</td>\n",
       "      <td>1.00</td>\n",
       "      <td>1.00</td>\n",
       "      <td>1.00</td>\n",
       "    </tr>\n",
       "    <tr>\n",
       "      <th>contract_period</th>\n",
       "      <td>4000.0</td>\n",
       "      <td>4.68</td>\n",
       "      <td>4.55</td>\n",
       "      <td>1.00</td>\n",
       "      <td>1.00</td>\n",
       "      <td>1.00</td>\n",
       "      <td>6.00</td>\n",
       "      <td>12.00</td>\n",
       "    </tr>\n",
       "    <tr>\n",
       "      <th>group_visits</th>\n",
       "      <td>4000.0</td>\n",
       "      <td>0.41</td>\n",
       "      <td>0.49</td>\n",
       "      <td>0.00</td>\n",
       "      <td>0.00</td>\n",
       "      <td>0.00</td>\n",
       "      <td>1.00</td>\n",
       "      <td>1.00</td>\n",
       "    </tr>\n",
       "    <tr>\n",
       "      <th>age</th>\n",
       "      <td>4000.0</td>\n",
       "      <td>29.18</td>\n",
       "      <td>3.26</td>\n",
       "      <td>18.00</td>\n",
       "      <td>27.00</td>\n",
       "      <td>29.00</td>\n",
       "      <td>31.00</td>\n",
       "      <td>41.00</td>\n",
       "    </tr>\n",
       "    <tr>\n",
       "      <th>avg_additional_charges_total</th>\n",
       "      <td>4000.0</td>\n",
       "      <td>146.94</td>\n",
       "      <td>96.36</td>\n",
       "      <td>0.15</td>\n",
       "      <td>68.87</td>\n",
       "      <td>136.22</td>\n",
       "      <td>210.95</td>\n",
       "      <td>552.59</td>\n",
       "    </tr>\n",
       "    <tr>\n",
       "      <th>month_to_end_contract</th>\n",
       "      <td>4000.0</td>\n",
       "      <td>4.32</td>\n",
       "      <td>4.19</td>\n",
       "      <td>1.00</td>\n",
       "      <td>1.00</td>\n",
       "      <td>1.00</td>\n",
       "      <td>6.00</td>\n",
       "      <td>12.00</td>\n",
       "    </tr>\n",
       "    <tr>\n",
       "      <th>lifetime</th>\n",
       "      <td>4000.0</td>\n",
       "      <td>3.72</td>\n",
       "      <td>3.75</td>\n",
       "      <td>0.00</td>\n",
       "      <td>1.00</td>\n",
       "      <td>3.00</td>\n",
       "      <td>5.00</td>\n",
       "      <td>31.00</td>\n",
       "    </tr>\n",
       "    <tr>\n",
       "      <th>avg_class_frequency_total</th>\n",
       "      <td>4000.0</td>\n",
       "      <td>1.88</td>\n",
       "      <td>0.97</td>\n",
       "      <td>0.00</td>\n",
       "      <td>1.18</td>\n",
       "      <td>1.83</td>\n",
       "      <td>2.54</td>\n",
       "      <td>6.02</td>\n",
       "    </tr>\n",
       "    <tr>\n",
       "      <th>avg_class_frequency_current_month</th>\n",
       "      <td>4000.0</td>\n",
       "      <td>1.77</td>\n",
       "      <td>1.05</td>\n",
       "      <td>0.00</td>\n",
       "      <td>0.96</td>\n",
       "      <td>1.72</td>\n",
       "      <td>2.51</td>\n",
       "      <td>6.15</td>\n",
       "    </tr>\n",
       "    <tr>\n",
       "      <th>churn</th>\n",
       "      <td>4000.0</td>\n",
       "      <td>0.27</td>\n",
       "      <td>0.44</td>\n",
       "      <td>0.00</td>\n",
       "      <td>0.00</td>\n",
       "      <td>0.00</td>\n",
       "      <td>1.00</td>\n",
       "      <td>1.00</td>\n",
       "    </tr>\n",
       "  </tbody>\n",
       "</table>\n",
       "</div>"
      ],
      "text/plain": [
       "                                    count    mean    std    min    25%  \\\n",
       "gender                             4000.0    0.51   0.50   0.00   0.00   \n",
       "near_location                      4000.0    0.85   0.36   0.00   1.00   \n",
       "partner                            4000.0    0.49   0.50   0.00   0.00   \n",
       "promo_friends                      4000.0    0.31   0.46   0.00   0.00   \n",
       "phone                              4000.0    0.90   0.30   0.00   1.00   \n",
       "contract_period                    4000.0    4.68   4.55   1.00   1.00   \n",
       "group_visits                       4000.0    0.41   0.49   0.00   0.00   \n",
       "age                                4000.0   29.18   3.26  18.00  27.00   \n",
       "avg_additional_charges_total       4000.0  146.94  96.36   0.15  68.87   \n",
       "month_to_end_contract              4000.0    4.32   4.19   1.00   1.00   \n",
       "lifetime                           4000.0    3.72   3.75   0.00   1.00   \n",
       "avg_class_frequency_total          4000.0    1.88   0.97   0.00   1.18   \n",
       "avg_class_frequency_current_month  4000.0    1.77   1.05   0.00   0.96   \n",
       "churn                              4000.0    0.27   0.44   0.00   0.00   \n",
       "\n",
       "                                      50%     75%     max  \n",
       "gender                               1.00    1.00    1.00  \n",
       "near_location                        1.00    1.00    1.00  \n",
       "partner                              0.00    1.00    1.00  \n",
       "promo_friends                        0.00    1.00    1.00  \n",
       "phone                                1.00    1.00    1.00  \n",
       "contract_period                      1.00    6.00   12.00  \n",
       "group_visits                         0.00    1.00    1.00  \n",
       "age                                 29.00   31.00   41.00  \n",
       "avg_additional_charges_total       136.22  210.95  552.59  \n",
       "month_to_end_contract                1.00    6.00   12.00  \n",
       "lifetime                             3.00    5.00   31.00  \n",
       "avg_class_frequency_total            1.83    2.54    6.02  \n",
       "avg_class_frequency_current_month    1.72    2.51    6.15  \n",
       "churn                                0.00    1.00    1.00  "
      ]
     },
     "execution_count": 7,
     "metadata": {},
     "output_type": "execute_result"
    }
   ],
   "source": [
    "# изучим средние значения и стандартные отклонения:\n",
    "data.describe().round(2).T"
   ]
  },
  {
   "cell_type": "markdown",
   "metadata": {},
   "source": [
    "Данные распределены равномерно, аномалий не наблюдается. \n",
    "\n",
    "В выборке представлены почти в равной доле мужчины и женщины в возрасте от 18 до 41 года. 85% из них работают или живут рядом с фитнес-центром, а почти половина - являются сотрудником компании-партнера клуба. Больше половины посетителей берут абонемент на 1 месяц."
   ]
  },
  {
   "cell_type": "code",
   "execution_count": 8,
   "metadata": {},
   "outputs": [
    {
     "data": {
      "text/html": [
       "<div>\n",
       "<style scoped>\n",
       "    .dataframe tbody tr th:only-of-type {\n",
       "        vertical-align: middle;\n",
       "    }\n",
       "\n",
       "    .dataframe tbody tr th {\n",
       "        vertical-align: top;\n",
       "    }\n",
       "\n",
       "    .dataframe thead th {\n",
       "        text-align: right;\n",
       "    }\n",
       "</style>\n",
       "<table border=\"1\" class=\"dataframe\">\n",
       "  <thead>\n",
       "    <tr style=\"text-align: right;\">\n",
       "      <th></th>\n",
       "      <th>gender</th>\n",
       "      <th>near_location</th>\n",
       "      <th>partner</th>\n",
       "      <th>promo_friends</th>\n",
       "      <th>phone</th>\n",
       "      <th>contract_period</th>\n",
       "      <th>group_visits</th>\n",
       "      <th>age</th>\n",
       "      <th>avg_additional_charges_total</th>\n",
       "      <th>month_to_end_contract</th>\n",
       "      <th>lifetime</th>\n",
       "      <th>avg_class_frequency_total</th>\n",
       "      <th>avg_class_frequency_current_month</th>\n",
       "    </tr>\n",
       "    <tr>\n",
       "      <th>churn</th>\n",
       "      <th></th>\n",
       "      <th></th>\n",
       "      <th></th>\n",
       "      <th></th>\n",
       "      <th></th>\n",
       "      <th></th>\n",
       "      <th></th>\n",
       "      <th></th>\n",
       "      <th></th>\n",
       "      <th></th>\n",
       "      <th></th>\n",
       "      <th></th>\n",
       "      <th></th>\n",
       "    </tr>\n",
       "  </thead>\n",
       "  <tbody>\n",
       "    <tr>\n",
       "      <th>0</th>\n",
       "      <td>0.51</td>\n",
       "      <td>0.87</td>\n",
       "      <td>0.53</td>\n",
       "      <td>0.35</td>\n",
       "      <td>0.9</td>\n",
       "      <td>5.75</td>\n",
       "      <td>0.46</td>\n",
       "      <td>29.98</td>\n",
       "      <td>158.45</td>\n",
       "      <td>5.28</td>\n",
       "      <td>4.71</td>\n",
       "      <td>2.02</td>\n",
       "      <td>2.03</td>\n",
       "    </tr>\n",
       "    <tr>\n",
       "      <th>1</th>\n",
       "      <td>0.51</td>\n",
       "      <td>0.77</td>\n",
       "      <td>0.36</td>\n",
       "      <td>0.18</td>\n",
       "      <td>0.9</td>\n",
       "      <td>1.73</td>\n",
       "      <td>0.27</td>\n",
       "      <td>26.99</td>\n",
       "      <td>115.08</td>\n",
       "      <td>1.66</td>\n",
       "      <td>0.99</td>\n",
       "      <td>1.47</td>\n",
       "      <td>1.04</td>\n",
       "    </tr>\n",
       "  </tbody>\n",
       "</table>\n",
       "</div>"
      ],
      "text/plain": [
       "       gender  near_location  partner  promo_friends  phone  contract_period  \\\n",
       "churn                                                                          \n",
       "0        0.51           0.87     0.53           0.35    0.9             5.75   \n",
       "1        0.51           0.77     0.36           0.18    0.9             1.73   \n",
       "\n",
       "       group_visits    age  avg_additional_charges_total  \\\n",
       "churn                                                      \n",
       "0              0.46  29.98                        158.45   \n",
       "1              0.27  26.99                        115.08   \n",
       "\n",
       "       month_to_end_contract  lifetime  avg_class_frequency_total  \\\n",
       "churn                                                               \n",
       "0                       5.28      4.71                       2.02   \n",
       "1                       1.66      0.99                       1.47   \n",
       "\n",
       "       avg_class_frequency_current_month  \n",
       "churn                                     \n",
       "0                                   2.03  \n",
       "1                                   1.04  "
      ]
     },
     "execution_count": 8,
     "metadata": {},
     "output_type": "execute_result"
    }
   ],
   "source": [
    "# посмотрим на средние значения признаков в двух группах — тех, кто ушел в отток и тех, кто остался:\n",
    "data.groupby('churn').mean().round(2)"
   ]
  },
  {
   "cell_type": "markdown",
   "metadata": {},
   "source": [
    "Клиенты, которые уходят в отток, моложе, живут или работают от фитнес центров дальше, реже работают в компаниях-партнерах центра, реже приходят по акции \"приведи друга\", реже ходят на тренировки, в том числе и на групповые занятия. Они значительно меньше траят на дополнительные услуги. "
   ]
  },
  {
   "cell_type": "markdown",
   "metadata": {},
   "source": [
    "### Диаграммы оттока"
   ]
  },
  {
   "cell_type": "code",
   "execution_count": 9,
   "metadata": {},
   "outputs": [
    {
     "data": {
      "image/png": "[encoded data removed]",
      "text/plain": [
       "<Figure size 864x1728 with 14 Axes>"
      ]
     },
     "metadata": {
      "needs_background": "light"
     },
     "output_type": "display_data"
    }
   ],
   "source": [
    "# построим столбчатые гистограммы для тех, кто ушёл (отток) и тех, кто остался (не попали в отток):\n",
    "\n",
    "fig, axes = plt.subplots(nrows=7, ncols=2, figsize=(12,24)) # чертим сетку\n",
    "axes_list = [item for sublist in axes for item in sublist] # создаем список \n",
    "fig.tight_layout(pad=5.0) # корректируем размер подграфиков\n",
    "for feature in data.columns:\n",
    "    ax = axes_list.pop(0)\n",
    "    sns.distplot(data.query('churn == 1')[feature], ax=ax, kde=True, label='ушли (1)')\n",
    "    sns.distplot(data.query('churn == 0')[feature], ax=ax, kde=True, label='остались (0)')\n",
    "    ax.set_xlabel(feature, fontsize=10)\n",
    "    ax.set_ylabel('Кол-во записей', fontsize=10)\n",
    "    ax.legend()"
   ]
  },
  {
   "cell_type": "markdown",
   "metadata": {},
   "source": [
    "На диаграммах мы видим:\n",
    "- мужчины и женщины почти в равных долях посещают фитнес-центр, и почти одинаково попадают в отток;\n",
    "- живущих/работающих рядом клиентов намного больше, среди них значительно больше людей остаются лояльными;\n",
    "- клиенты, пришедшие по партнерской программе, реже попадают в отток;\n",
    "- клиенты, пришедшие по акции \"приведи друга\", чаще остаются лояльными;\n",
    "- не оставившие свой номер телефона клиенты - скорее исключение из правил;\n",
    "- абонементы чаще всего приобретают на 1 месяц, затем на 12 и на 6. В отток в основном уходят клиенты, которые взяли абонемент на 1 месяц. Много таких клиентов и в шестимесячных абонементах;\n",
    "- большая часть людей, которые ходит на групповые занятия - лояльны и в отток не попадают;\n",
    "- на графике хорошо видно, как смещено распределение по возрасту ушедших и лояльных клиентов: чем старше - тем больше вероятность остаться, и наоборот.\n",
    "- и ушедшие и лояльные клиенты совершали траты, правда первые тратили часто и по чуть-чуть, вторые тратились реже, но значительно больше\n",
    "- график Month_to_end_contract сильно коррелирует с Contract_period;\n",
    "- чем дольше лайфтайм, тем меньше отток. Чаще всего люди отваливаются в первые 2 месяца. Многие, кстати отваливаются, так и не начав ходить;\n",
    "- в среднем, ушедшие посещали 1-2 занятия в неделю за все время, в то время как лояльные клиенты в среднем посещали 1-3 занятия в неделю\n",
    "- за месяц до оттока клиенты часто вообще не посещали центр. Тут, как и в предыдущем пункте видно, что чем чаще клиент посещает занятия, тем меньше отток."
   ]
  },
  {
   "cell_type": "markdown",
   "metadata": {},
   "source": [
    "### Распределение признаков"
   ]
  },
  {
   "cell_type": "code",
   "execution_count": 10,
   "metadata": {},
   "outputs": [
    {
     "data": {
      "text/plain": [
       "<matplotlib.legend.Legend at 0x7f6ecec687f0>"
      ]
     },
     "execution_count": 10,
     "metadata": {},
     "output_type": "execute_result"
    },
    {
     "data": {
      "image/png": "[encoded data removed]",
      "text/plain": [
       "<Figure size 864x864 with 15 Axes>"
      ]
     },
     "metadata": {
      "needs_background": "light"
     },
     "output_type": "display_data"
    }
   ],
   "source": [
    "# построим распределения признаков для тех, кто ушёл (отток) и тех, кто остался (не попали в отток):\n",
    "fig, axes = plt.subplots(nrows=3, ncols=5, figsize=(12,12)) # чертим сетку\n",
    "axes_list = [item for sublist in axes for item in sublist] # создаем список \n",
    "fig.tight_layout(pad=5.0) # корректируем размер подграфиков\n",
    "for feature in data.drop('churn', axis = 1).columns:\n",
    "    ax = axes_list.pop(0)\n",
    "    sns.scatterplot(x=data.query('churn == 1')['churn'], y=data[feature], ax=ax, label='ушли (1)') \n",
    "    sns.scatterplot(x=data.query('churn == 0')['churn'], y=data[feature], ax=ax, label='остались (0)')\n",
    "    ax.set_xticks(range(0,1))\n",
    "\n",
    "ax.legend()"
   ]
  },
  {
   "cell_type": "markdown",
   "metadata": {},
   "source": [
    "Мы видим, что:\n",
    "- Возраст ушедших в отток редко превышает 35 лет, что тратят они в среднем не более 300 у.е., берут абонементы на 12 месяцев, но ходят не больше 10, в среднем ходят в центр не более 3-4 раз.\n",
    "- Возраст не попавших в отток клиентов доходит до 40 лет, разброс в средних значениях дополнительных трат больше, превышает 500 у.е., лайфтайм не ограничивается самым длинным абонементом, а максимально доходит до 31 месяца. В это число входят настоящие спортсмены, которые в среднем посещают клуб до 6 раз в неделю!"
   ]
  },
  {
   "cell_type": "markdown",
   "metadata": {},
   "source": [
    "### Матрица корреляций"
   ]
  },
  {
   "cell_type": "code",
   "execution_count": 11,
   "metadata": {},
   "outputs": [
    {
     "data": {
      "image/png": "[encoded data removed]",
      "text/plain": [
       "<Figure size 1080x1080 with 2 Axes>"
      ]
     },
     "metadata": {
      "needs_background": "light"
     },
     "output_type": "display_data"
    }
   ],
   "source": [
    "# построим матрицу корреляций\n",
    "cm = data.corr() #вычисляем матрицу корреляций\n",
    "plt.figure(figsize=(15,15))\n",
    "\n",
    "#нарисуем тепловую карту с подписями для матрицы корреляций\n",
    "sns.heatmap(cm, annot=True, square=True) \n",
    "\n",
    "plt.show()"
   ]
  },
  {
   "cell_type": "markdown",
   "metadata": {},
   "source": [
    "- сильно коррелируют между собой величина абонемента и количество месяцев до его окончания. Как мы уже увидели на диаграммах выше, подавляющее число клиентов покупают абонементы на месяц, не удивительно, что они всегда находятся в зоне \"месяц до окончания абонемента\";\n",
    "- сильно связаны параметры 'Avg_class_frequency_total' и 'Avg_class_frequency_current_month';\n",
    "- также связаны признаки 'Partner' и 'Promo_friends'. Напомню, что это программы, по которым можно получить скидки на приобретение абонемента. Интересно, а скидки между собой суммируются?\n",
    "- пол и наличие контактного телефона не коррелируют ни с одним параметром.\n",
    "\n",
    "Отрицательная корреляция у целевого параметра 'churn':\n",
    "- зависит от лайфтайма;\n",
    "- от возраста клиента;\n",
    "- от длительности абонемента и времени его окончания;\n",
    "- от среднего количества посещений в неделю за предыдущий месяц (с 'Avg_class_frequency_total' также коррелирует, но в меньшей степени)"
   ]
  },
  {
   "cell_type": "markdown",
   "metadata": {},
   "source": [
    "### Вывод"
   ]
  },
  {
   "cell_type": "markdown",
   "metadata": {},
   "source": [
    "Мы проверили данные на пропуски, изучили средние значения и стандартные отклонения, средние значения признаков в двух группах — тех, кто ушел в отток и тех, кто остался. Построили матрицу корреляций, столбчатые гистограммы и распределения признаков для тех, кто ушёл (отток) и тех, кто остался (не попали в отток). \n",
    "\n",
    "В выбоке представлены почти в равной доле мужчины и жещины в возрасте от 18 до 41 года. Больше 75% из них работают или живут рядом с фитнес-центром, половина - являются сотрудником компании-партнера клуба. Больше половины посетителей берут абонемент на 1 месяц.\n",
    "\n",
    "На основании EDA, мы уже можем предположить, что и как влияет на целевую переменную. Чем ниже следующие показатели, тем больше вероятность оттока клиентов в текущем месяце:\n",
    "- длительность абонемента;\n",
    "- возраст;\n",
    "- среднее количество посещений за последний месяц;\n",
    "- участие в акциях;\n",
    "- лайфтайм.\n",
    "\n",
    "Также необходимо обратить внимание на признаки, которые сильно коррелируют между собой - аvg_class_frequency_total'/'аvg_class_frequency_current_month и 'contract_period'/'month_to_end_contract'. Модель линейной регрессии склонна неустойчива в случае взаимной корреляции признаков."
   ]
  },
  {
   "cell_type": "markdown",
   "metadata": {},
   "source": [
    "## Прогнозирование оттока клиентов"
   ]
  },
  {
   "cell_type": "code",
   "execution_count": 12,
   "metadata": {},
   "outputs": [],
   "source": [
    "# определим функцию, которая будет выводить наши метрики\n",
    "def print_all_metrics(y_true, y_pred, y_proba, title='Метрики классификации'):\n",
    "    print(title)\n",
    "    print('\\tAccuracy: {:.2f}'.format(accuracy_score(y_true, y_pred)))\n",
    "    print('\\tPrecision: {:.2f}'.format(precision_score(y_true, y_pred)))\n",
    "    print('\\tRecall: {:.2f}'.format(recall_score(y_true, y_pred)))"
   ]
  },
  {
   "cell_type": "code",
   "execution_count": 13,
   "metadata": {},
   "outputs": [],
   "source": [
    "# разделим данные на признаки (матрица X) и целевую переменную (y)\n",
    "X = data.drop('churn', axis = 1)\n",
    "y = data['churn']\n",
    "\n",
    "# разделим  модель на обучающую и валидационную выборку\n",
    "X_train, X_test, y_train, y_test = train_test_split(X, y, test_size=0.2, random_state=0)\n",
    "\n",
    "scaler = StandardScaler()\n",
    "scaler.fit(X_train) # обучаем scaler на обучающей выборке методом fit\n",
    "\n",
    "X_train_st = scaler.transform(X_train) # стандартизируем обучающую выборку методом transform scaler\n",
    "X_test_st = scaler.transform(X_test)# стандартизируем тестовую выборку методом transform scaler\n",
    "\n",
    "# зададим алгоритм для модели логистической регрессии\n",
    "lr_model = LogisticRegression(random_state=0)\n",
    "# обучим модель\n",
    "lr_model.fit(X_train_st, y_train)\n",
    "# воспользуемся уже обученной моделью, чтобы сделать прогнозы\n",
    "lr_predictions = lr_model.predict(X_test_st)\n",
    "lr_probabilities = lr_model.predict_proba(X_test_st)[:, 1]\n",
    "\n",
    "# зададим алгоритм для новой модели на основе алгоритма случайного леса\n",
    "rf_model = RandomForestClassifier(n_estimators = 100, random_state = 0) # Ваш код здесь\n",
    "# обучим модель случайного леса\n",
    "rf_model.fit(X_train_st, y_train)\n",
    "# воспользуемся уже обученной моделью, чтобы сделать прогнозы\n",
    "rf_predictions = rf_model.predict(X_test_st)# Ваш код здесь\n",
    "rf_probabilities = rf_model.predict_proba(X_test_st)[:, 1]# Ваш код здесь"
   ]
  },
  {
   "cell_type": "code",
   "execution_count": 14,
   "metadata": {},
   "outputs": [
    {
     "name": "stdout",
     "output_type": "stream",
     "text": [
      "Метрики для модели логистической регрессии:\n",
      "\tAccuracy: 0.92\n",
      "\tPrecision: 0.85\n",
      "\tRecall: 0.83\n",
      "Метрики для модели случайного леса:\n",
      "\tAccuracy: 0.92\n",
      "\tPrecision: 0.84\n",
      "\tRecall: 0.81\n"
     ]
    }
   ],
   "source": [
    "# выведем все метрики\n",
    "print_all_metrics(\n",
    "    y_test,\n",
    "    lr_predictions,\n",
    "    lr_probabilities,\n",
    "    title='Метрики для модели логистической регрессии:',\n",
    ")\n",
    "\n",
    "print_all_metrics(\n",
    "    y_test,\n",
    "    rf_predictions,\n",
    "    rf_probabilities,\n",
    "    title='Метрики для модели случайного леса:'\n",
    ")"
   ]
  },
  {
   "cell_type": "markdown",
   "metadata": {},
   "source": [
    "### Вывод\n",
    "Мы построили модель бинарной классификации клиентов, где целевой признак — факт оттока клиента в следующем месяце. Для этого мы разбили данные на обучающую и валидационную выборку и обучили модель на train-выборке двумя способами (логистической регрессией и случайным лесом).\n",
    "\n",
    "По метрикам accuracy, precision и recall видно, что модели логистической регрессии немного лучше случайного леса, но в обоих случаях показатели высокие, можно использовать обе модели."
   ]
  },
  {
   "cell_type": "markdown",
   "metadata": {},
   "source": [
    "## Кластеризация клиентов"
   ]
  },
  {
   "cell_type": "code",
   "execution_count": 15,
   "metadata": {},
   "outputs": [],
   "source": [
    "# Отложим в сторону столбец с оттоком и два сильно коррелирующих признака, стандартизируем данные:\n",
    "sc = StandardScaler()\n",
    "X_sc = sc.fit_transform(data.drop(['churn', 'avg_class_frequency_total', 'month_to_end_contract'], axis=1))"
   ]
  },
  {
   "cell_type": "code",
   "execution_count": 16,
   "metadata": {},
   "outputs": [
    {
     "data": {
      "image/png": "[encoded data removed]",
      "text/plain": [
       "<Figure size 1440x720 with 1 Axes>"
      ]
     },
     "metadata": {
      "needs_background": "light"
     },
     "output_type": "display_data"
    }
   ],
   "source": [
    "# построим матрицу расстояний функцией linkage():\n",
    "linked = linkage(X_sc, method = 'ward')\n",
    "\n",
    "# нарисуем дендрограмму\n",
    "plt.figure(figsize=(20, 10))  \n",
    "dendrogram(linked, orientation='top')\n",
    "plt.title('Иерархическая кластеризация клиентов «Культуриста-датасаентиста»')\n",
    "plt.show()"
   ]
  },
  {
   "cell_type": "markdown",
   "metadata": {},
   "source": [
    "Предложенное оптимальное число кластеров 4 — четыре разных цвета на графике. Но один из них можно поделить еще на 2. Остановимся на пяти. "
   ]
  },
  {
   "cell_type": "markdown",
   "metadata": {},
   "source": [
    "### Среднее значение по каждому кластеру"
   ]
  },
  {
   "cell_type": "code",
   "execution_count": 17,
   "metadata": {},
   "outputs": [
    {
     "data": {
      "text/html": [
       "<div>\n",
       "<style scoped>\n",
       "    .dataframe tbody tr th:only-of-type {\n",
       "        vertical-align: middle;\n",
       "    }\n",
       "\n",
       "    .dataframe tbody tr th {\n",
       "        vertical-align: top;\n",
       "    }\n",
       "\n",
       "    .dataframe thead th {\n",
       "        text-align: right;\n",
       "    }\n",
       "</style>\n",
       "<table border=\"1\" class=\"dataframe\">\n",
       "  <thead>\n",
       "    <tr style=\"text-align: right;\">\n",
       "      <th>cluster_km</th>\n",
       "      <th>0</th>\n",
       "      <th>1</th>\n",
       "      <th>2</th>\n",
       "      <th>3</th>\n",
       "      <th>4</th>\n",
       "    </tr>\n",
       "  </thead>\n",
       "  <tbody>\n",
       "    <tr>\n",
       "      <th>gender</th>\n",
       "      <td>0.496447</td>\n",
       "      <td>0.500000</td>\n",
       "      <td>0.500940</td>\n",
       "      <td>0.534260</td>\n",
       "      <td>0.523316</td>\n",
       "    </tr>\n",
       "    <tr>\n",
       "      <th>near_location</th>\n",
       "      <td>0.995939</td>\n",
       "      <td>0.000000</td>\n",
       "      <td>1.000000</td>\n",
       "      <td>0.996028</td>\n",
       "      <td>0.862694</td>\n",
       "    </tr>\n",
       "    <tr>\n",
       "      <th>partner</th>\n",
       "      <td>0.892386</td>\n",
       "      <td>0.489247</td>\n",
       "      <td>0.217105</td>\n",
       "      <td>0.379345</td>\n",
       "      <td>0.471503</td>\n",
       "    </tr>\n",
       "    <tr>\n",
       "      <th>promo_friends</th>\n",
       "      <td>1.000000</td>\n",
       "      <td>0.078853</td>\n",
       "      <td>0.072368</td>\n",
       "      <td>0.009930</td>\n",
       "      <td>0.305699</td>\n",
       "    </tr>\n",
       "    <tr>\n",
       "      <th>phone</th>\n",
       "      <td>1.000000</td>\n",
       "      <td>1.000000</td>\n",
       "      <td>1.000000</td>\n",
       "      <td>1.000000</td>\n",
       "      <td>0.000000</td>\n",
       "    </tr>\n",
       "    <tr>\n",
       "      <th>contract_period</th>\n",
       "      <td>6.922843</td>\n",
       "      <td>2.994624</td>\n",
       "      <td>2.010338</td>\n",
       "      <td>6.208540</td>\n",
       "      <td>4.777202</td>\n",
       "    </tr>\n",
       "    <tr>\n",
       "      <th>group_visits</th>\n",
       "      <td>0.524873</td>\n",
       "      <td>0.232975</td>\n",
       "      <td>0.277256</td>\n",
       "      <td>0.538232</td>\n",
       "      <td>0.427461</td>\n",
       "    </tr>\n",
       "    <tr>\n",
       "      <th>age</th>\n",
       "      <td>29.606091</td>\n",
       "      <td>28.679211</td>\n",
       "      <td>27.583647</td>\n",
       "      <td>30.699106</td>\n",
       "      <td>29.297927</td>\n",
       "    </tr>\n",
       "    <tr>\n",
       "      <th>avg_additional_charges_total</th>\n",
       "      <td>153.424651</td>\n",
       "      <td>137.125763</td>\n",
       "      <td>119.339956</td>\n",
       "      <td>176.259567</td>\n",
       "      <td>144.208179</td>\n",
       "    </tr>\n",
       "    <tr>\n",
       "      <th>month_to_end_contract</th>\n",
       "      <td>6.332995</td>\n",
       "      <td>2.818996</td>\n",
       "      <td>1.941729</td>\n",
       "      <td>5.650447</td>\n",
       "      <td>4.466321</td>\n",
       "    </tr>\n",
       "    <tr>\n",
       "      <th>lifetime</th>\n",
       "      <td>4.283249</td>\n",
       "      <td>2.974910</td>\n",
       "      <td>1.922932</td>\n",
       "      <td>5.415094</td>\n",
       "      <td>3.940415</td>\n",
       "    </tr>\n",
       "    <tr>\n",
       "      <th>avg_class_frequency_total</th>\n",
       "      <td>1.962217</td>\n",
       "      <td>1.764122</td>\n",
       "      <td>1.451098</td>\n",
       "      <td>2.322960</td>\n",
       "      <td>1.854211</td>\n",
       "    </tr>\n",
       "    <tr>\n",
       "      <th>avg_class_frequency_current_month</th>\n",
       "      <td>1.919520</td>\n",
       "      <td>1.597146</td>\n",
       "      <td>1.203319</td>\n",
       "      <td>2.324220</td>\n",
       "      <td>1.723967</td>\n",
       "    </tr>\n",
       "    <tr>\n",
       "      <th>churn</th>\n",
       "      <td>0.119797</td>\n",
       "      <td>0.403226</td>\n",
       "      <td>0.563910</td>\n",
       "      <td>0.014896</td>\n",
       "      <td>0.266839</td>\n",
       "    </tr>\n",
       "  </tbody>\n",
       "</table>\n",
       "</div>"
      ],
      "text/plain": [
       "cluster_km                                  0           1           2  \\\n",
       "gender                               0.496447    0.500000    0.500940   \n",
       "near_location                        0.995939    0.000000    1.000000   \n",
       "partner                              0.892386    0.489247    0.217105   \n",
       "promo_friends                        1.000000    0.078853    0.072368   \n",
       "phone                                1.000000    1.000000    1.000000   \n",
       "contract_period                      6.922843    2.994624    2.010338   \n",
       "group_visits                         0.524873    0.232975    0.277256   \n",
       "age                                 29.606091   28.679211   27.583647   \n",
       "avg_additional_charges_total       153.424651  137.125763  119.339956   \n",
       "month_to_end_contract                6.332995    2.818996    1.941729   \n",
       "lifetime                             4.283249    2.974910    1.922932   \n",
       "avg_class_frequency_total            1.962217    1.764122    1.451098   \n",
       "avg_class_frequency_current_month    1.919520    1.597146    1.203319   \n",
       "churn                                0.119797    0.403226    0.563910   \n",
       "\n",
       "cluster_km                                  3           4  \n",
       "gender                               0.534260    0.523316  \n",
       "near_location                        0.996028    0.862694  \n",
       "partner                              0.379345    0.471503  \n",
       "promo_friends                        0.009930    0.305699  \n",
       "phone                                1.000000    0.000000  \n",
       "contract_period                      6.208540    4.777202  \n",
       "group_visits                         0.538232    0.427461  \n",
       "age                                 30.699106   29.297927  \n",
       "avg_additional_charges_total       176.259567  144.208179  \n",
       "month_to_end_contract                5.650447    4.466321  \n",
       "lifetime                             5.415094    3.940415  \n",
       "avg_class_frequency_total            2.322960    1.854211  \n",
       "avg_class_frequency_current_month    2.324220    1.723967  \n",
       "churn                                0.014896    0.266839  "
      ]
     },
     "metadata": {},
     "output_type": "display_data"
    }
   ],
   "source": [
    "# задаём модель k_means с числом кластеров 5 и фиксируем значение random_state\n",
    "km = KMeans(n_clusters=5, random_state=0)\n",
    "\n",
    "# прогнозируем кластеры для наблюдений (алгоритм присваивает им номера от 0 до 4)\n",
    "labels = km.fit_predict(X_sc)\n",
    "\n",
    "# сохраняем метки кластера в поле нашего датасета\n",
    "data['cluster_km'] = labels\n",
    " \n",
    "# выводим статистику по средним значениям наших признаков по кластеру и отсортируем по среднему показателю оттока\n",
    "cluster_data = data.groupby('cluster_km').mean()\n",
    "display(cluster_data.T)"
   ]
  },
  {
   "cell_type": "code",
   "execution_count": 19,
   "metadata": {},
   "outputs": [
    {
     "data": {
      "image/png": "[encoded data removed]",
      "text/plain": [
       "<Figure size 1440x2160 with 15 Axes>"
      ]
     },
     "metadata": {
      "needs_background": "light"
     },
     "output_type": "display_data"
    }
   ],
   "source": [
    "# построим распределения признаков для тех, кто ушёл (отток) и тех, кто остался (не попали в отток):\n",
    "\n",
    "fig, axes = plt.subplots(nrows=5, ncols=3, figsize=(20,30)) # чертим сетку\n",
    "axes_list = [item for sublist in axes for item in sublist] # создаем список \n",
    "fig.tight_layout(pad=5.0) # корректируем размер подграфиков\n",
    "for feature in data.drop(['cluster_km', 'churn'], axis = 1).columns:\n",
    "    ax = axes_list.pop(0)\n",
    "    sns.histplot(data, x='cluster_km', y=feature, hue='churn', ax=ax)\n",
    "    ax.set_xticks(range(0,4))\n",
    "fig.tight_layout()"
   ]
  },
  {
   "cell_type": "markdown",
   "metadata": {},
   "source": [
    "На диаграммах и по средним значениям признаков по кластерам мы видим как произошло разделение клиентов:\n",
    "- в 0 кластер попали только те клиенты, которые пришли по акции \"приведи друга\";\n",
    "- в 1 кластер попали только те, кто живет или работает далеко от фитнес центра;\n",
    "- во 2 кластер попали только те, кто живет или работает близко к фитнес центру;\n",
    "- в 3 кластере в основом клиенты, которые не учавствовали в акции \"приведи друга\";\n",
    "- в 4 попали те, кто не оставил контактный номер телефона."
   ]
  },
  {
   "cell_type": "markdown",
   "metadata": {},
   "source": [
    "### Доля оттока для каждого кластера"
   ]
  },
  {
   "cell_type": "code",
   "execution_count": 20,
   "metadata": {},
   "outputs": [
    {
     "data": {
      "text/html": [
       "<div>\n",
       "<style scoped>\n",
       "    .dataframe tbody tr th:only-of-type {\n",
       "        vertical-align: middle;\n",
       "    }\n",
       "\n",
       "    .dataframe tbody tr th {\n",
       "        vertical-align: top;\n",
       "    }\n",
       "\n",
       "    .dataframe thead th {\n",
       "        text-align: right;\n",
       "    }\n",
       "</style>\n",
       "<table border=\"1\" class=\"dataframe\">\n",
       "  <thead>\n",
       "    <tr style=\"text-align: right;\">\n",
       "      <th></th>\n",
       "      <th>cluster_km</th>\n",
       "      <th>gender</th>\n",
       "      <th>near_location</th>\n",
       "      <th>partner</th>\n",
       "      <th>promo_friends</th>\n",
       "      <th>phone</th>\n",
       "      <th>contract_period</th>\n",
       "      <th>group_visits</th>\n",
       "      <th>age</th>\n",
       "      <th>avg_additional_charges_total</th>\n",
       "      <th>month_to_end_contract</th>\n",
       "      <th>lifetime</th>\n",
       "      <th>avg_class_frequency_total</th>\n",
       "      <th>avg_class_frequency_current_month</th>\n",
       "      <th>churn</th>\n",
       "      <th>churn_part</th>\n",
       "    </tr>\n",
       "  </thead>\n",
       "  <tbody>\n",
       "    <tr>\n",
       "      <th>0</th>\n",
       "      <td>0</td>\n",
       "      <td>0.496447</td>\n",
       "      <td>0.995939</td>\n",
       "      <td>0.892386</td>\n",
       "      <td>1.000000</td>\n",
       "      <td>1.0</td>\n",
       "      <td>6.922843</td>\n",
       "      <td>0.524873</td>\n",
       "      <td>29.606091</td>\n",
       "      <td>153.424651</td>\n",
       "      <td>6.332995</td>\n",
       "      <td>4.283249</td>\n",
       "      <td>1.962217</td>\n",
       "      <td>1.919520</td>\n",
       "      <td>0.119797</td>\n",
       "      <td>0.111216</td>\n",
       "    </tr>\n",
       "    <tr>\n",
       "      <th>1</th>\n",
       "      <td>1</td>\n",
       "      <td>0.500000</td>\n",
       "      <td>0.000000</td>\n",
       "      <td>0.489247</td>\n",
       "      <td>0.078853</td>\n",
       "      <td>1.0</td>\n",
       "      <td>2.994624</td>\n",
       "      <td>0.232975</td>\n",
       "      <td>28.679211</td>\n",
       "      <td>137.125763</td>\n",
       "      <td>2.818996</td>\n",
       "      <td>2.974910</td>\n",
       "      <td>1.764122</td>\n",
       "      <td>1.597146</td>\n",
       "      <td>0.403226</td>\n",
       "      <td>0.212064</td>\n",
       "    </tr>\n",
       "    <tr>\n",
       "      <th>2</th>\n",
       "      <td>2</td>\n",
       "      <td>0.500940</td>\n",
       "      <td>1.000000</td>\n",
       "      <td>0.217105</td>\n",
       "      <td>0.072368</td>\n",
       "      <td>1.0</td>\n",
       "      <td>2.010338</td>\n",
       "      <td>0.277256</td>\n",
       "      <td>27.583647</td>\n",
       "      <td>119.339956</td>\n",
       "      <td>1.941729</td>\n",
       "      <td>1.922932</td>\n",
       "      <td>1.451098</td>\n",
       "      <td>1.203319</td>\n",
       "      <td>0.563910</td>\n",
       "      <td>0.565504</td>\n",
       "    </tr>\n",
       "    <tr>\n",
       "      <th>3</th>\n",
       "      <td>3</td>\n",
       "      <td>0.534260</td>\n",
       "      <td>0.996028</td>\n",
       "      <td>0.379345</td>\n",
       "      <td>0.009930</td>\n",
       "      <td>1.0</td>\n",
       "      <td>6.208540</td>\n",
       "      <td>0.538232</td>\n",
       "      <td>30.699106</td>\n",
       "      <td>176.259567</td>\n",
       "      <td>5.650447</td>\n",
       "      <td>5.415094</td>\n",
       "      <td>2.322960</td>\n",
       "      <td>2.324220</td>\n",
       "      <td>0.014896</td>\n",
       "      <td>0.014138</td>\n",
       "    </tr>\n",
       "    <tr>\n",
       "      <th>4</th>\n",
       "      <td>4</td>\n",
       "      <td>0.523316</td>\n",
       "      <td>0.862694</td>\n",
       "      <td>0.471503</td>\n",
       "      <td>0.305699</td>\n",
       "      <td>0.0</td>\n",
       "      <td>4.777202</td>\n",
       "      <td>0.427461</td>\n",
       "      <td>29.297927</td>\n",
       "      <td>144.208179</td>\n",
       "      <td>4.466321</td>\n",
       "      <td>3.940415</td>\n",
       "      <td>1.854211</td>\n",
       "      <td>1.723967</td>\n",
       "      <td>0.266839</td>\n",
       "      <td>0.097078</td>\n",
       "    </tr>\n",
       "  </tbody>\n",
       "</table>\n",
       "</div>"
      ],
      "text/plain": [
       "   cluster_km    gender  near_location   partner  promo_friends  phone  \\\n",
       "0           0  0.496447       0.995939  0.892386       1.000000    1.0   \n",
       "1           1  0.500000       0.000000  0.489247       0.078853    1.0   \n",
       "2           2  0.500940       1.000000  0.217105       0.072368    1.0   \n",
       "3           3  0.534260       0.996028  0.379345       0.009930    1.0   \n",
       "4           4  0.523316       0.862694  0.471503       0.305699    0.0   \n",
       "\n",
       "   contract_period  group_visits        age  avg_additional_charges_total  \\\n",
       "0         6.922843      0.524873  29.606091                    153.424651   \n",
       "1         2.994624      0.232975  28.679211                    137.125763   \n",
       "2         2.010338      0.277256  27.583647                    119.339956   \n",
       "3         6.208540      0.538232  30.699106                    176.259567   \n",
       "4         4.777202      0.427461  29.297927                    144.208179   \n",
       "\n",
       "   month_to_end_contract  lifetime  avg_class_frequency_total  \\\n",
       "0               6.332995  4.283249                   1.962217   \n",
       "1               2.818996  2.974910                   1.764122   \n",
       "2               1.941729  1.922932                   1.451098   \n",
       "3               5.650447  5.415094                   2.322960   \n",
       "4               4.466321  3.940415                   1.854211   \n",
       "\n",
       "   avg_class_frequency_current_month     churn  churn_part  \n",
       "0                           1.919520  0.119797    0.111216  \n",
       "1                           1.597146  0.403226    0.212064  \n",
       "2                           1.203319  0.563910    0.565504  \n",
       "3                           2.324220  0.014896    0.014138  \n",
       "4                           1.723967  0.266839    0.097078  "
      ]
     },
     "execution_count": 20,
     "metadata": {},
     "output_type": "execute_result"
    }
   ],
   "source": [
    "# рассчитаем долю оттока для каждого кластера: \n",
    "cluster_data['churn_part'] = data.query('churn==1').groupby('cluster_km')['churn'].count() / data.query('churn==1')['churn'].count()\n",
    "cluster_data.reset_index() "
   ]
  },
  {
   "cell_type": "markdown",
   "metadata": {},
   "source": [
    "2 кластер - самый склонный к оттоку, его доля составляет 56,6%. Несмотря на то, что все они живут/работают рядом с клубом, лайфтайм там самый низкий. \n",
    "3 кластер - самый надежный, доля оттока всего 1,41%. Это самая возрастная группа с самым большим лайфтаймом. "
   ]
  },
  {
   "cell_type": "markdown",
   "metadata": {},
   "source": [
    "### Вывод\n",
    "\n",
    "Мы стандартизировали данные, построили дендрограмму и выделили 5  кластеров. Спрогнозировав кластеры клиентов, посмотрели на срадние значения признаков, построили распределения и посчитали доли оттока. Вот что мы выяснили: \n",
    "\n",
    "- в 0 кластер попали только те клиенты, которые пришли по акции \"приведи друга\", доля оттока 11,1%;\n",
    "- в 1 кластер попали только те, кто живет или работает далеко от фитнес центра, доля оттока 21,2%;\n",
    "- во 2 кластер попали только те, кто живет или работает близко к фитнес центру, доля оттока 56,6%;\n",
    "- в 3 кластере в основом клиенты, которые не учавствовали в акции \"приведи друга\", доля оттока 1,41%;\n",
    "- в 4 попали те, кто не оставил контактный номер телефона, доля оттока 9,71%.\n",
    "\n",
    "Получается, что на отток не влияет расположение к центру (1 и 2 кластеры с самой высокой долей оттока как раз сформированы на этом признаке), акция \"приведи друга\" тоже не влияет на отток. Влияет возраст, лайфтайм и среднее количество посещений в неделю. "
   ]
  },
  {
   "cell_type": "markdown",
   "metadata": {},
   "source": [
    "## Общие выводы и рекомендации"
   ]
  },
  {
   "cell_type": "markdown",
   "metadata": {},
   "source": [
    "Сформулируйте выводы и сделайте базовые рекомендации по работе с клиентами\n",
    "Сформулируйте основные выводы и предложите рекомендации для стратегии взаимодействия с клиентами и их удержания. \n",
    "Не описывайте стратегию детально: достаточно 3-4 важных принципов и примеров их реализации в виде определённых маркетинговых действий."
   ]
  },
  {
   "cell_type": "markdown",
   "metadata": {},
   "source": [
    "Мы прочитали данные и изучили их размер, сводную информацию, проверили на пропуски и дубликаты, привели названия столбцов к нижнему регистру. \n",
    "\n",
    "Далее мы провели сследовательский анализ данных(EDA):\n",
    "\n",
    "- изучили средние значения и стандартные отклонения;\n",
    "\n",
    "- посмотрели на средние значения признаков в двух группах — тех, кто ушел в отток и тех, кто остался;\n",
    "\n",
    "- построили столбчатые гистограммы и распределения признаков\n",
    "\n",
    "- создали построим матрицу корреляций и отобразили ее на тепловой карте.\n",
    "\n",
    "В результате EDA мы смогли создать предположительный портрет лояльных клиентов, и клиентов, ушедших в отток. Так, последние моложе, живут или работают от фитнес-центров дальше, реже работают в компаниях-партнерах центра, реже приходят по акции \"приведи друга\", реже ходят на тренировки, в том числе и на групповые занятия. Они значительно меньше тратят на дополнительные услуги.\n",
    "\n",
    "Мы также обнаружили признаки, которые сильно коррелируют между собой - 'аvg_class_frequency_total'/'аvg_class_frequency_current_month' и 'contract_period'/'month_to_end_contract'. Мы учли это в дальнейшем исследовании. \n",
    "\n",
    "Следом мы построили модель бинарной классификации клиентов, где целевой признак — факт оттока клиента в следующем месяце, разбили данные на обучающую и валидационную выборку и обучили модель на train-выборке двумя способами (логистическая регрессия и случайный лес). Мы сравнили результаты и выяснили, что метрики модели логистической регрессии немного выше метрик случайного леса, но в обоих случаях показатели высокие, можно использовать обе модели.\n",
    "\n",
    "Мы стандартизировали данные, построили дендрограмму и выделили 5  кластеров. Спрогнозировав кластеры клиентов, посмотрели на срадние значения признаков, построили распределения и посчитали доли оттока. Вот что мы выяснили: \n",
    "\n",
    "- в 0 кластер попали только те клиенты, которые пришли по акции \"приведи друга\", доля оттока 11,1%;\n",
    "- в 1 кластер попали только те, кто живет или работает далеко от фитнес центра, доля оттока 21,2%;\n",
    "- во 2 кластер попали только те, кто живет или работает близко к фитнес центру, доля оттока 56,6%;\n",
    "- в 3 кластере в основом клиенты, которые не учавствовали в акции \"приведи друга\", доля оттока 1,41%;\n",
    "- в 4 попали те, кто не оставил контактный номер телефона, доля оттока 9,71%.\n",
    "\n",
    "Получается, что на отток не влияет расположение к центру (1 и 2 кластеры с самой высокой долей оттока как раз сформированы на этом признаке), акция \"приведи друга\" тоже не влияет на отток. Влияет возраст, лайфтайм и среднее количество посещений в неделю. \n",
    "\n"
   ]
  },
  {
   "cell_type": "markdown",
   "metadata": {},
   "source": [
    "### Рекомендации\n"
   ]
  },
  {
   "cell_type": "markdown",
   "metadata": {},
   "source": [
    "- Продолжать увеличивать количество новых клиентов предлагая партнерские программы и промо-акции;\n",
    "- Работать над тем, чтобы новые клиенты брали абонементы не на 1 месяц, а на более длительное время. Если 6 месяцев - слишком большой срок для тех, кто только начинает заниматься, то абонементы на 3 месяца - возможность удержать клиентов на более длительный срок.\n",
    "- Очень много тех, кто покупает абонемент, но не приходит ни на одно занятие. Работать с этими клиентами. \n",
    "- Продумать разные стратегии удержания для разных возрастов."
   ]
  }
 ],
 "metadata": {
  "ExecuteTimeLog": [
   {
    "duration": 3,
    "start_time": "2023-04-05T12:13:29.054Z"
   },
   {
    "duration": 1443,
    "start_time": "2023-04-05T12:14:37.989Z"
   },
   {
    "duration": 69,
    "start_time": "2023-04-05T12:17:02.618Z"
   },
   {
    "duration": 11,
    "start_time": "2023-04-05T12:17:04.698Z"
   },
   {
    "duration": 14,
    "start_time": "2023-04-05T12:37:40.074Z"
   },
   {
    "duration": 14,
    "start_time": "2023-04-05T12:38:07.069Z"
   },
   {
    "duration": 11,
    "start_time": "2023-04-05T12:44:00.918Z"
   },
   {
    "duration": 1305,
    "start_time": "2023-04-05T12:49:16.167Z"
   },
   {
    "duration": 7,
    "start_time": "2023-04-05T12:49:34.106Z"
   },
   {
    "duration": 4,
    "start_time": "2023-04-05T12:55:08.142Z"
   },
   {
    "duration": 5,
    "start_time": "2023-04-05T12:55:28.921Z"
   },
   {
    "duration": 4,
    "start_time": "2023-04-05T12:55:35.464Z"
   },
   {
    "duration": 4,
    "start_time": "2023-04-05T12:55:40.937Z"
   },
   {
    "duration": 5,
    "start_time": "2023-04-05T12:55:54.811Z"
   },
   {
    "duration": 5,
    "start_time": "2023-04-05T12:56:15.245Z"
   },
   {
    "duration": 5,
    "start_time": "2023-04-05T12:56:35.987Z"
   },
   {
    "duration": 4,
    "start_time": "2023-04-05T12:57:00.988Z"
   },
   {
    "duration": 4,
    "start_time": "2023-04-05T12:57:12.704Z"
   },
   {
    "duration": 49,
    "start_time": "2023-04-05T16:27:43.412Z"
   },
   {
    "duration": 1482,
    "start_time": "2023-04-05T16:27:48.863Z"
   },
   {
    "duration": 81,
    "start_time": "2023-04-05T16:27:50.348Z"
   },
   {
    "duration": 20,
    "start_time": "2023-04-05T16:27:50.432Z"
   },
   {
    "duration": 16,
    "start_time": "2023-04-05T16:27:50.454Z"
   },
   {
    "duration": 55,
    "start_time": "2023-04-05T16:27:50.473Z"
   },
   {
    "duration": 80,
    "start_time": "2023-04-05T16:45:06.249Z"
   },
   {
    "duration": 20,
    "start_time": "2023-04-05T16:56:32.953Z"
   },
   {
    "duration": 12,
    "start_time": "2023-04-05T16:56:45.189Z"
   },
   {
    "duration": 21,
    "start_time": "2023-04-05T16:57:06.130Z"
   },
   {
    "duration": 17,
    "start_time": "2023-04-05T16:57:16.555Z"
   },
   {
    "duration": 22,
    "start_time": "2023-04-05T16:57:20.537Z"
   },
   {
    "duration": 4,
    "start_time": "2023-04-05T17:09:50.150Z"
   },
   {
    "duration": 39,
    "start_time": "2023-04-05T17:10:30.565Z"
   },
   {
    "duration": 32,
    "start_time": "2023-04-05T17:11:10.390Z"
   },
   {
    "duration": 20,
    "start_time": "2023-04-05T17:13:26.495Z"
   },
   {
    "duration": 30,
    "start_time": "2023-04-05T17:13:33.861Z"
   },
   {
    "duration": 1296,
    "start_time": "2023-04-05T19:12:11.488Z"
   },
   {
    "duration": 138,
    "start_time": "2023-04-05T19:12:12.789Z"
   },
   {
    "duration": 12,
    "start_time": "2023-04-05T19:12:12.929Z"
   },
   {
    "duration": 20,
    "start_time": "2023-04-05T19:12:12.944Z"
   },
   {
    "duration": 69,
    "start_time": "2023-04-05T19:12:12.966Z"
   },
   {
    "duration": 17,
    "start_time": "2023-04-05T19:12:13.037Z"
   },
   {
    "duration": 2138,
    "start_time": "2023-04-05T19:12:13.056Z"
   },
   {
    "duration": 3923,
    "start_time": "2023-04-05T19:13:04.615Z"
   },
   {
    "duration": 116,
    "start_time": "2023-04-05T19:32:59.709Z"
   },
   {
    "duration": 8,
    "start_time": "2023-04-05T19:33:26.941Z"
   },
   {
    "duration": 4,
    "start_time": "2023-04-05T19:35:31.743Z"
   },
   {
    "duration": 41,
    "start_time": "2023-04-05T19:35:43.949Z"
   },
   {
    "duration": 12,
    "start_time": "2023-04-05T19:35:51.869Z"
   },
   {
    "duration": 12,
    "start_time": "2023-04-05T19:36:07.700Z"
   },
   {
    "duration": 18,
    "start_time": "2023-04-05T19:36:16.223Z"
   },
   {
    "duration": 4150,
    "start_time": "2023-04-05T19:36:23.495Z"
   },
   {
    "duration": 9,
    "start_time": "2023-04-05T19:36:34.035Z"
   },
   {
    "duration": 2284,
    "start_time": "2023-04-05T19:38:49.967Z"
   },
   {
    "duration": 1854,
    "start_time": "2023-04-05T19:39:20.796Z"
   },
   {
    "duration": 2005,
    "start_time": "2023-04-05T19:39:31.169Z"
   },
   {
    "duration": 8,
    "start_time": "2023-04-05T19:42:27.349Z"
   },
   {
    "duration": 2083,
    "start_time": "2023-04-05T19:42:33.308Z"
   },
   {
    "duration": 1925,
    "start_time": "2023-04-05T19:43:27.019Z"
   },
   {
    "duration": 139,
    "start_time": "2023-04-05T19:49:15.901Z"
   },
   {
    "duration": 1984,
    "start_time": "2023-04-05T19:59:56.040Z"
   },
   {
    "duration": 2483,
    "start_time": "2023-04-05T20:02:34.141Z"
   },
   {
    "duration": 2,
    "start_time": "2023-04-05T20:04:50.132Z"
   },
   {
    "duration": 2336,
    "start_time": "2023-04-05T20:04:55.298Z"
   },
   {
    "duration": 2245,
    "start_time": "2023-04-05T20:05:02.394Z"
   },
   {
    "duration": 2511,
    "start_time": "2023-04-05T20:05:19.990Z"
   },
   {
    "duration": 2359,
    "start_time": "2023-04-05T20:05:29.763Z"
   },
   {
    "duration": 2788,
    "start_time": "2023-04-05T20:06:03.142Z"
   },
   {
    "duration": 2761,
    "start_time": "2023-04-05T20:06:23.335Z"
   },
   {
    "duration": 2805,
    "start_time": "2023-04-05T20:15:31.739Z"
   },
   {
    "duration": 3175,
    "start_time": "2023-04-05T20:15:51.699Z"
   },
   {
    "duration": 2856,
    "start_time": "2023-04-05T20:16:49.791Z"
   },
   {
    "duration": 3376,
    "start_time": "2023-04-05T20:17:22.492Z"
   },
   {
    "duration": 2451,
    "start_time": "2023-04-05T20:17:40.303Z"
   },
   {
    "duration": 1428,
    "start_time": "2023-04-06T12:10:19.947Z"
   },
   {
    "duration": 67,
    "start_time": "2023-04-06T12:10:21.377Z"
   },
   {
    "duration": 12,
    "start_time": "2023-04-06T12:10:21.446Z"
   },
   {
    "duration": 44,
    "start_time": "2023-04-06T12:10:21.461Z"
   },
   {
    "duration": 114,
    "start_time": "2023-04-06T12:10:21.507Z"
   },
   {
    "duration": 59,
    "start_time": "2023-04-06T12:10:21.623Z"
   },
   {
    "duration": 22,
    "start_time": "2023-04-06T12:10:21.685Z"
   },
   {
    "duration": 2465,
    "start_time": "2023-04-06T12:10:21.710Z"
   },
   {
    "duration": 14,
    "start_time": "2023-04-06T12:10:24.177Z"
   },
   {
    "duration": 3289,
    "start_time": "2023-04-06T12:10:24.193Z"
   },
   {
    "duration": 2663,
    "start_time": "2023-04-06T12:10:27.488Z"
   },
   {
    "duration": 0,
    "start_time": "2023-04-06T12:10:30.153Z"
   },
   {
    "duration": 3964,
    "start_time": "2023-04-06T12:11:13.907Z"
   },
   {
    "duration": 3987,
    "start_time": "2023-04-06T12:11:40.027Z"
   },
   {
    "duration": 1515,
    "start_time": "2023-04-06T12:21:55.179Z"
   },
   {
    "duration": 1445,
    "start_time": "2023-04-06T12:22:12.981Z"
   },
   {
    "duration": 1642,
    "start_time": "2023-04-06T12:22:26.504Z"
   },
   {
    "duration": 1469,
    "start_time": "2023-04-06T12:22:37.606Z"
   },
   {
    "duration": 1421,
    "start_time": "2023-04-06T12:22:53.012Z"
   },
   {
    "duration": 1637,
    "start_time": "2023-04-06T12:25:05.483Z"
   },
   {
    "duration": 1563,
    "start_time": "2023-04-06T12:25:57.757Z"
   },
   {
    "duration": 1526,
    "start_time": "2023-04-06T12:26:27.703Z"
   },
   {
    "duration": 1758,
    "start_time": "2023-04-06T12:26:47.086Z"
   },
   {
    "duration": 1713,
    "start_time": "2023-04-06T12:26:52.545Z"
   },
   {
    "duration": 76,
    "start_time": "2023-04-06T12:33:54.422Z"
   },
   {
    "duration": 78,
    "start_time": "2023-04-06T12:34:35.385Z"
   },
   {
    "duration": 4323,
    "start_time": "2023-04-06T12:34:39.118Z"
   },
   {
    "duration": 4080,
    "start_time": "2023-04-06T12:35:27.534Z"
   },
   {
    "duration": 4377,
    "start_time": "2023-04-06T12:36:10.461Z"
   },
   {
    "duration": 681,
    "start_time": "2023-04-06T12:36:56.721Z"
   },
   {
    "duration": 609,
    "start_time": "2023-04-06T12:37:13.470Z"
   },
   {
    "duration": 754,
    "start_time": "2023-04-06T12:37:35.598Z"
   },
   {
    "duration": 1158,
    "start_time": "2023-04-06T12:38:25.776Z"
   },
   {
    "duration": 1200,
    "start_time": "2023-04-06T12:38:34.930Z"
   },
   {
    "duration": 1110,
    "start_time": "2023-04-06T12:38:47.579Z"
   },
   {
    "duration": 1302,
    "start_time": "2023-04-06T12:38:53.056Z"
   },
   {
    "duration": 1359,
    "start_time": "2023-04-06T12:38:57.921Z"
   },
   {
    "duration": 1497,
    "start_time": "2023-04-06T12:39:07.922Z"
   },
   {
    "duration": 5119,
    "start_time": "2023-04-06T12:39:16.058Z"
   },
   {
    "duration": 1382,
    "start_time": "2023-04-06T12:39:28.490Z"
   },
   {
    "duration": 5404,
    "start_time": "2023-04-06T12:40:00.028Z"
   },
   {
    "duration": 4132,
    "start_time": "2023-04-06T12:41:00.701Z"
   },
   {
    "duration": 3283,
    "start_time": "2023-04-06T12:41:41.166Z"
   },
   {
    "duration": 3190,
    "start_time": "2023-04-06T12:42:58.018Z"
   },
   {
    "duration": 2161,
    "start_time": "2023-04-06T12:43:24.314Z"
   },
   {
    "duration": 2638,
    "start_time": "2023-04-06T12:44:17.086Z"
   },
   {
    "duration": 3317,
    "start_time": "2023-04-06T12:44:55.526Z"
   },
   {
    "duration": 4068,
    "start_time": "2023-04-06T12:47:15.914Z"
   },
   {
    "duration": 4334,
    "start_time": "2023-04-06T12:48:23.089Z"
   },
   {
    "duration": 4341,
    "start_time": "2023-04-06T12:49:49.934Z"
   },
   {
    "duration": 4217,
    "start_time": "2023-04-06T12:50:24.126Z"
   },
   {
    "duration": 3,
    "start_time": "2023-04-06T12:51:18.401Z"
   },
   {
    "duration": 3964,
    "start_time": "2023-04-06T12:51:25.257Z"
   },
   {
    "duration": 4013,
    "start_time": "2023-04-06T12:53:55.353Z"
   },
   {
    "duration": 4213,
    "start_time": "2023-04-06T12:54:19.303Z"
   },
   {
    "duration": 59,
    "start_time": "2023-04-06T18:26:18.734Z"
   },
   {
    "duration": 1477,
    "start_time": "2023-04-06T18:26:24.212Z"
   },
   {
    "duration": 65,
    "start_time": "2023-04-06T18:26:25.691Z"
   },
   {
    "duration": 15,
    "start_time": "2023-04-06T18:26:25.758Z"
   },
   {
    "duration": 18,
    "start_time": "2023-04-06T18:26:25.775Z"
   },
   {
    "duration": 4,
    "start_time": "2023-04-06T18:26:25.795Z"
   },
   {
    "duration": 60,
    "start_time": "2023-04-06T18:26:25.800Z"
   },
   {
    "duration": 34,
    "start_time": "2023-04-06T18:26:25.862Z"
   },
   {
    "duration": 968,
    "start_time": "2023-04-06T18:26:25.898Z"
   },
   {
    "duration": 0,
    "start_time": "2023-04-06T18:26:26.868Z"
   },
   {
    "duration": 0,
    "start_time": "2023-04-06T18:26:26.870Z"
   },
   {
    "duration": 0,
    "start_time": "2023-04-06T18:26:26.872Z"
   },
   {
    "duration": 4413,
    "start_time": "2023-04-06T18:27:05.486Z"
   },
   {
    "duration": 1831,
    "start_time": "2023-04-06T18:27:09.902Z"
   },
   {
    "duration": 107,
    "start_time": "2023-04-06T18:27:11.735Z"
   },
   {
    "duration": 1533,
    "start_time": "2023-04-06T18:27:36.853Z"
   },
   {
    "duration": 1813,
    "start_time": "2023-04-06T18:27:48.088Z"
   },
   {
    "duration": 12,
    "start_time": "2023-04-06T18:31:59.277Z"
   },
   {
    "duration": 17,
    "start_time": "2023-04-06T18:32:09.530Z"
   },
   {
    "duration": 1988,
    "start_time": "2023-04-06T18:32:23.086Z"
   },
   {
    "duration": 13,
    "start_time": "2023-04-06T18:33:21.615Z"
   },
   {
    "duration": 1928,
    "start_time": "2023-04-06T18:33:44.424Z"
   },
   {
    "duration": 2012,
    "start_time": "2023-04-06T18:47:52.102Z"
   },
   {
    "duration": 2351,
    "start_time": "2023-04-06T18:49:32.001Z"
   },
   {
    "duration": 1653,
    "start_time": "2023-04-06T18:50:25.736Z"
   },
   {
    "duration": 2341,
    "start_time": "2023-04-06T18:50:54.548Z"
   },
   {
    "duration": 2574,
    "start_time": "2023-04-06T18:51:55.402Z"
   },
   {
    "duration": 3564,
    "start_time": "2023-04-06T18:53:48.648Z"
   },
   {
    "duration": 2760,
    "start_time": "2023-04-06T18:54:25.787Z"
   },
   {
    "duration": 1570,
    "start_time": "2023-04-06T18:57:26.716Z"
   },
   {
    "duration": 1419,
    "start_time": "2023-04-06T18:58:02.867Z"
   },
   {
    "duration": 4,
    "start_time": "2023-04-06T18:58:38.053Z"
   },
   {
    "duration": 28,
    "start_time": "2023-04-06T18:58:38.059Z"
   },
   {
    "duration": 12,
    "start_time": "2023-04-06T18:58:38.089Z"
   },
   {
    "duration": 14,
    "start_time": "2023-04-06T18:58:38.104Z"
   },
   {
    "duration": 5,
    "start_time": "2023-04-06T18:58:38.121Z"
   },
   {
    "duration": 57,
    "start_time": "2023-04-06T18:58:38.128Z"
   },
   {
    "duration": 21,
    "start_time": "2023-04-06T18:58:38.186Z"
   },
   {
    "duration": 4397,
    "start_time": "2023-04-06T18:58:38.209Z"
   },
   {
    "duration": 95,
    "start_time": "2023-04-06T18:58:42.608Z"
   },
   {
    "duration": 0,
    "start_time": "2023-04-06T18:58:42.705Z"
   },
   {
    "duration": 4493,
    "start_time": "2023-04-06T18:59:08.744Z"
   },
   {
    "duration": 1534,
    "start_time": "2023-04-06T18:59:19.384Z"
   },
   {
    "duration": 2900,
    "start_time": "2023-04-06T19:00:07.103Z"
   },
   {
    "duration": 5,
    "start_time": "2023-04-06T19:00:50.915Z"
   },
   {
    "duration": 2585,
    "start_time": "2023-04-06T19:01:37.522Z"
   },
   {
    "duration": 3095,
    "start_time": "2023-04-06T19:02:56.745Z"
   },
   {
    "duration": 3122,
    "start_time": "2023-04-06T19:04:56.536Z"
   },
   {
    "duration": 2685,
    "start_time": "2023-04-06T19:05:20.728Z"
   },
   {
    "duration": 1529,
    "start_time": "2023-04-06T19:05:33.005Z"
   },
   {
    "duration": 2471,
    "start_time": "2023-04-06T19:05:44.505Z"
   },
   {
    "duration": 2723,
    "start_time": "2023-04-06T19:06:00.181Z"
   },
   {
    "duration": 2187,
    "start_time": "2023-04-06T19:06:27.523Z"
   },
   {
    "duration": 3393,
    "start_time": "2023-04-06T19:12:11.654Z"
   },
   {
    "duration": 1428,
    "start_time": "2023-04-07T11:04:41.116Z"
   },
   {
    "duration": 133,
    "start_time": "2023-04-07T11:04:42.546Z"
   },
   {
    "duration": 14,
    "start_time": "2023-04-07T11:04:42.680Z"
   },
   {
    "duration": 18,
    "start_time": "2023-04-07T11:04:42.696Z"
   },
   {
    "duration": 3,
    "start_time": "2023-04-07T11:04:42.716Z"
   },
   {
    "duration": 67,
    "start_time": "2023-04-07T11:04:42.721Z"
   },
   {
    "duration": 21,
    "start_time": "2023-04-07T11:04:42.790Z"
   },
   {
    "duration": 4294,
    "start_time": "2023-04-07T11:04:42.813Z"
   },
   {
    "duration": 3507,
    "start_time": "2023-04-07T11:04:47.109Z"
   },
   {
    "duration": 1652,
    "start_time": "2023-04-07T11:04:50.619Z"
   },
   {
    "duration": 1134,
    "start_time": "2023-04-07T11:56:01.801Z"
   },
   {
    "duration": 5,
    "start_time": "2023-04-07T11:56:17.916Z"
   },
   {
    "duration": 1297,
    "start_time": "2023-04-07T11:56:35.424Z"
   },
   {
    "duration": 16,
    "start_time": "2023-04-07T11:57:28.671Z"
   },
   {
    "duration": 1284,
    "start_time": "2023-04-08T11:40:18.032Z"
   },
   {
    "duration": 136,
    "start_time": "2023-04-08T11:40:19.318Z"
   },
   {
    "duration": 13,
    "start_time": "2023-04-08T11:40:19.456Z"
   },
   {
    "duration": 15,
    "start_time": "2023-04-08T11:40:19.470Z"
   },
   {
    "duration": 3,
    "start_time": "2023-04-08T11:40:19.487Z"
   },
   {
    "duration": 56,
    "start_time": "2023-04-08T11:40:19.491Z"
   },
   {
    "duration": 20,
    "start_time": "2023-04-08T11:40:19.548Z"
   },
   {
    "duration": 3873,
    "start_time": "2023-04-08T11:40:19.570Z"
   },
   {
    "duration": 3263,
    "start_time": "2023-04-08T11:40:23.445Z"
   },
   {
    "duration": 1600,
    "start_time": "2023-04-08T11:40:26.709Z"
   },
   {
    "duration": 6,
    "start_time": "2023-04-08T11:45:39.768Z"
   },
   {
    "duration": 2,
    "start_time": "2023-04-08T12:06:42.952Z"
   },
   {
    "duration": 232,
    "start_time": "2023-04-08T13:02:37.690Z"
   },
   {
    "duration": 147,
    "start_time": "2023-04-08T13:05:15.662Z"
   },
   {
    "duration": 139,
    "start_time": "2023-04-08T13:05:24.310Z"
   },
   {
    "duration": 165,
    "start_time": "2023-04-08T13:05:29.191Z"
   },
   {
    "duration": 226,
    "start_time": "2023-04-08T13:05:32.569Z"
   },
   {
    "duration": 142,
    "start_time": "2023-04-08T13:07:01.539Z"
   },
   {
    "duration": 146,
    "start_time": "2023-04-08T13:07:07.306Z"
   },
   {
    "duration": 136,
    "start_time": "2023-04-08T13:07:09.819Z"
   },
   {
    "duration": 7,
    "start_time": "2023-04-08T13:10:17.160Z"
   },
   {
    "duration": 101,
    "start_time": "2023-04-08T13:13:15.616Z"
   },
   {
    "duration": 3,
    "start_time": "2023-04-08T13:14:07.226Z"
   },
   {
    "duration": 11,
    "start_time": "2023-04-08T13:14:12.081Z"
   },
   {
    "duration": 45,
    "start_time": "2023-04-08T13:15:37.219Z"
   },
   {
    "duration": 18,
    "start_time": "2023-04-08T13:15:49.980Z"
   },
   {
    "duration": 1817,
    "start_time": "2023-04-08T19:09:39.434Z"
   },
   {
    "duration": 154,
    "start_time": "2023-04-08T19:09:41.254Z"
   },
   {
    "duration": 14,
    "start_time": "2023-04-08T19:09:41.410Z"
   },
   {
    "duration": 29,
    "start_time": "2023-04-08T19:09:41.426Z"
   },
   {
    "duration": 5,
    "start_time": "2023-04-08T19:09:41.457Z"
   },
   {
    "duration": 11,
    "start_time": "2023-04-08T19:09:41.464Z"
   },
   {
    "duration": 67,
    "start_time": "2023-04-08T19:09:41.476Z"
   },
   {
    "duration": 23,
    "start_time": "2023-04-08T19:09:41.546Z"
   },
   {
    "duration": 4518,
    "start_time": "2023-04-08T19:09:41.572Z"
   },
   {
    "duration": 3707,
    "start_time": "2023-04-08T19:09:46.092Z"
   },
   {
    "duration": 1694,
    "start_time": "2023-04-08T19:09:49.801Z"
   },
   {
    "duration": 149,
    "start_time": "2023-04-08T19:09:51.497Z"
   },
   {
    "duration": 16,
    "start_time": "2023-04-08T19:10:42.679Z"
   },
   {
    "duration": 14,
    "start_time": "2023-04-08T19:11:07.853Z"
   },
   {
    "duration": 21,
    "start_time": "2023-04-08T19:13:46.040Z"
   },
   {
    "duration": 4,
    "start_time": "2023-04-08T19:15:33.258Z"
   },
   {
    "duration": 14,
    "start_time": "2023-04-08T19:15:40.268Z"
   },
   {
    "duration": 4,
    "start_time": "2023-04-08T19:28:22.812Z"
   },
   {
    "duration": 4,
    "start_time": "2023-04-08T19:30:48.543Z"
   },
   {
    "duration": 111,
    "start_time": "2023-04-08T19:31:58.423Z"
   },
   {
    "duration": 77,
    "start_time": "2023-04-08T19:34:00.976Z"
   },
   {
    "duration": 960,
    "start_time": "2023-04-08T19:35:39.374Z"
   },
   {
    "duration": 17,
    "start_time": "2023-04-08T19:35:40.542Z"
   },
   {
    "duration": 1509,
    "start_time": "2023-04-09T05:28:00.232Z"
   },
   {
    "duration": 148,
    "start_time": "2023-04-09T05:28:01.744Z"
   },
   {
    "duration": 12,
    "start_time": "2023-04-09T05:28:01.894Z"
   },
   {
    "duration": 28,
    "start_time": "2023-04-09T05:28:01.908Z"
   },
   {
    "duration": 11,
    "start_time": "2023-04-09T05:28:01.937Z"
   },
   {
    "duration": 35,
    "start_time": "2023-04-09T05:28:01.949Z"
   },
   {
    "duration": 82,
    "start_time": "2023-04-09T05:28:01.986Z"
   },
   {
    "duration": 18,
    "start_time": "2023-04-09T05:28:02.070Z"
   },
   {
    "duration": 3862,
    "start_time": "2023-04-09T05:28:02.090Z"
   },
   {
    "duration": 3137,
    "start_time": "2023-04-09T05:28:05.954Z"
   },
   {
    "duration": 1591,
    "start_time": "2023-04-09T05:28:09.092Z"
   },
   {
    "duration": 4,
    "start_time": "2023-04-09T05:28:10.685Z"
   },
   {
    "duration": 761,
    "start_time": "2023-04-09T05:28:10.690Z"
   },
   {
    "duration": 17,
    "start_time": "2023-04-09T05:28:11.453Z"
   },
   {
    "duration": 4,
    "start_time": "2023-04-09T05:34:14.710Z"
   },
   {
    "duration": 653,
    "start_time": "2023-04-09T05:34:30.721Z"
   },
   {
    "duration": 14,
    "start_time": "2023-04-09T05:34:31.615Z"
   },
   {
    "duration": 22,
    "start_time": "2023-04-09T05:48:19.957Z"
   },
   {
    "duration": 19,
    "start_time": "2023-04-09T05:55:43.835Z"
   },
   {
    "duration": 5,
    "start_time": "2023-04-09T05:55:55.463Z"
   },
   {
    "duration": 5,
    "start_time": "2023-04-09T05:57:13.316Z"
   },
   {
    "duration": 9,
    "start_time": "2023-04-09T05:57:54.235Z"
   },
   {
    "duration": 11,
    "start_time": "2023-04-09T06:01:25.688Z"
   },
   {
    "duration": 122619,
    "start_time": "2023-04-09T06:02:39.179Z"
   },
   {
    "duration": 116814,
    "start_time": "2023-04-09T07:07:16.278Z"
   },
   {
    "duration": 120,
    "start_time": "2023-04-09T07:13:45.782Z"
   },
   {
    "duration": 1290,
    "start_time": "2023-04-09T07:13:53.196Z"
   },
   {
    "duration": 1160,
    "start_time": "2023-04-09T07:14:54.229Z"
   },
   {
    "duration": 1089,
    "start_time": "2023-04-09T07:15:03.510Z"
   },
   {
    "duration": 1156,
    "start_time": "2023-04-09T07:15:10.071Z"
   },
   {
    "duration": 1167,
    "start_time": "2023-04-09T07:15:24.031Z"
   },
   {
    "duration": 1721,
    "start_time": "2023-04-09T07:15:31.778Z"
   },
   {
    "duration": 89,
    "start_time": "2023-04-09T07:16:52.109Z"
   },
   {
    "duration": 1424,
    "start_time": "2023-04-09T07:20:22.559Z"
   },
   {
    "duration": 1419,
    "start_time": "2023-04-09T07:20:27.668Z"
   },
   {
    "duration": 1410,
    "start_time": "2023-04-09T07:31:44.375Z"
   },
   {
    "duration": 1321,
    "start_time": "2023-04-09T07:35:17.465Z"
   },
   {
    "duration": 1293,
    "start_time": "2023-04-09T07:35:22.996Z"
   },
   {
    "duration": 1327,
    "start_time": "2023-04-09T07:36:09.259Z"
   },
   {
    "duration": 1335,
    "start_time": "2023-04-09T07:36:38.154Z"
   },
   {
    "duration": 8,
    "start_time": "2023-04-09T07:41:05.144Z"
   },
   {
    "duration": 9,
    "start_time": "2023-04-09T07:42:03.223Z"
   },
   {
    "duration": 10,
    "start_time": "2023-04-09T07:43:23.543Z"
   },
   {
    "duration": 113149,
    "start_time": "2023-04-09T07:43:29.573Z"
   },
   {
    "duration": 1114,
    "start_time": "2023-04-09T07:50:00.770Z"
   },
   {
    "duration": 1354,
    "start_time": "2023-04-09T07:52:19.930Z"
   },
   {
    "duration": 1132,
    "start_time": "2023-04-09T07:52:27.169Z"
   },
   {
    "duration": 1148,
    "start_time": "2023-04-09T10:00:03.054Z"
   },
   {
    "duration": 49,
    "start_time": "2023-04-09T10:01:12.205Z"
   },
   {
    "duration": 1019,
    "start_time": "2023-04-09T10:01:17.572Z"
   },
   {
    "duration": 1300,
    "start_time": "2023-04-09T10:01:31.095Z"
   },
   {
    "duration": 1195,
    "start_time": "2023-04-09T10:03:09.512Z"
   },
   {
    "duration": 13,
    "start_time": "2023-04-09T10:06:58.211Z"
   },
   {
    "duration": 8,
    "start_time": "2023-04-09T10:07:30.412Z"
   },
   {
    "duration": 12,
    "start_time": "2023-04-09T10:07:42.489Z"
   },
   {
    "duration": 36898,
    "start_time": "2023-04-09T10:08:20.972Z"
   },
   {
    "duration": 39614,
    "start_time": "2023-04-09T10:16:42.715Z"
   },
   {
    "duration": 24959,
    "start_time": "2023-04-09T10:18:29.483Z"
   },
   {
    "duration": 38619,
    "start_time": "2023-04-09T10:19:03.851Z"
   },
   {
    "duration": 41254,
    "start_time": "2023-04-09T10:21:02.449Z"
   },
   {
    "duration": 4134,
    "start_time": "2023-04-09T10:43:53.031Z"
   },
   {
    "duration": 9837,
    "start_time": "2023-04-09T10:44:24.231Z"
   },
   {
    "duration": 6487,
    "start_time": "2023-04-09T11:06:04.449Z"
   },
   {
    "duration": 6054,
    "start_time": "2023-04-09T11:07:00.275Z"
   },
   {
    "duration": 1896,
    "start_time": "2023-04-09T11:08:26.382Z"
   },
   {
    "duration": 2069,
    "start_time": "2023-04-09T11:09:00.640Z"
   },
   {
    "duration": 1842,
    "start_time": "2023-04-09T11:09:17.542Z"
   },
   {
    "duration": 2199,
    "start_time": "2023-04-09T11:09:52.863Z"
   },
   {
    "duration": 2767,
    "start_time": "2023-04-09T11:11:01.657Z"
   },
   {
    "duration": 2114,
    "start_time": "2023-04-09T11:11:18.714Z"
   },
   {
    "duration": 2711,
    "start_time": "2023-04-09T11:11:33.262Z"
   },
   {
    "duration": 1270,
    "start_time": "2023-04-09T11:12:11.542Z"
   },
   {
    "duration": 2083,
    "start_time": "2023-04-09T11:12:19.650Z"
   },
   {
    "duration": 2334,
    "start_time": "2023-04-09T11:12:31.143Z"
   },
   {
    "duration": 2408,
    "start_time": "2023-04-09T11:12:54.782Z"
   },
   {
    "duration": 2324,
    "start_time": "2023-04-09T11:13:12.262Z"
   },
   {
    "duration": 2342,
    "start_time": "2023-04-09T11:13:18.742Z"
   },
   {
    "duration": 2354,
    "start_time": "2023-04-09T11:13:52.578Z"
   },
   {
    "duration": 1910,
    "start_time": "2023-04-09T11:15:40.377Z"
   },
   {
    "duration": 4112,
    "start_time": "2023-04-09T11:17:31.262Z"
   },
   {
    "duration": 4311,
    "start_time": "2023-04-09T11:18:35.799Z"
   },
   {
    "duration": 3119,
    "start_time": "2023-04-09T11:19:02.807Z"
   },
   {
    "duration": 2570,
    "start_time": "2023-04-09T11:21:43.508Z"
   },
   {
    "duration": 3051,
    "start_time": "2023-04-09T11:22:22.741Z"
   },
   {
    "duration": 3372,
    "start_time": "2023-04-09T11:23:08.645Z"
   },
   {
    "duration": 3,
    "start_time": "2023-04-09T11:25:26.940Z"
   },
   {
    "duration": 2616,
    "start_time": "2023-04-09T11:29:04.740Z"
   },
   {
    "duration": 3176,
    "start_time": "2023-04-09T11:29:28.915Z"
   },
   {
    "duration": 2873,
    "start_time": "2023-04-09T11:30:33.899Z"
   },
   {
    "duration": 1756,
    "start_time": "2023-04-09T11:31:17.774Z"
   },
   {
    "duration": 2812,
    "start_time": "2023-04-09T11:34:44.977Z"
   },
   {
    "duration": 2156,
    "start_time": "2023-04-09T11:35:01.009Z"
   },
   {
    "duration": 2862,
    "start_time": "2023-04-09T11:37:17.578Z"
   },
   {
    "duration": 2729,
    "start_time": "2023-04-09T11:38:16.386Z"
   },
   {
    "duration": 2637,
    "start_time": "2023-04-09T11:38:27.453Z"
   },
   {
    "duration": 2598,
    "start_time": "2023-04-09T11:39:12.304Z"
   },
   {
    "duration": 3180,
    "start_time": "2023-04-09T11:54:23.795Z"
   },
   {
    "duration": 2572,
    "start_time": "2023-04-09T11:55:21.154Z"
   },
   {
    "duration": 3224,
    "start_time": "2023-04-09T11:56:06.339Z"
   },
   {
    "duration": 2558,
    "start_time": "2023-04-09T11:56:41.852Z"
   },
   {
    "duration": 2393,
    "start_time": "2023-04-09T11:57:51.939Z"
   },
   {
    "duration": 2503,
    "start_time": "2023-04-09T11:58:05.800Z"
   },
   {
    "duration": 3280,
    "start_time": "2023-04-09T11:58:16.859Z"
   },
   {
    "duration": 3044,
    "start_time": "2023-04-09T12:23:58.393Z"
   },
   {
    "duration": 64688,
    "start_time": "2023-04-09T12:30:58.972Z"
   },
   {
    "duration": 100450,
    "start_time": "2023-04-09T12:32:28.564Z"
   },
   {
    "duration": 5,
    "start_time": "2023-04-09T12:36:15.539Z"
   },
   {
    "duration": 16,
    "start_time": "2023-04-09T12:37:52.931Z"
   },
   {
    "duration": 34684,
    "start_time": "2023-04-09T12:38:46.266Z"
   },
   {
    "duration": 4,
    "start_time": "2023-04-09T12:43:20.539Z"
   },
   {
    "duration": 2,
    "start_time": "2023-04-09T12:43:27.020Z"
   },
   {
    "duration": 2,
    "start_time": "2023-04-09T14:44:32.461Z"
   },
   {
    "duration": 19,
    "start_time": "2023-04-09T14:46:39.839Z"
   },
   {
    "duration": 226015,
    "start_time": "2023-04-09T14:47:00.805Z"
   },
   {
    "duration": 11,
    "start_time": "2023-04-09T16:56:47.868Z"
   },
   {
    "duration": 2556,
    "start_time": "2023-04-09T16:57:19.132Z"
   },
   {
    "duration": 6417,
    "start_time": "2023-04-09T16:57:44.055Z"
   },
   {
    "duration": 8102,
    "start_time": "2023-04-09T16:58:31.409Z"
   },
   {
    "duration": 8196,
    "start_time": "2023-04-09T16:59:13.368Z"
   },
   {
    "duration": 8042,
    "start_time": "2023-04-09T16:59:40.776Z"
   },
   {
    "duration": 9383,
    "start_time": "2023-04-09T17:02:44.144Z"
   },
   {
    "duration": 1700,
    "start_time": "2023-04-09T17:06:46.709Z"
   },
   {
    "duration": 1443,
    "start_time": "2023-04-09T17:07:55.055Z"
   },
   {
    "duration": 122,
    "start_time": "2023-04-09T17:07:56.500Z"
   },
   {
    "duration": 12,
    "start_time": "2023-04-09T17:07:56.624Z"
   },
   {
    "duration": 15,
    "start_time": "2023-04-09T17:07:56.638Z"
   },
   {
    "duration": 3,
    "start_time": "2023-04-09T17:07:56.655Z"
   },
   {
    "duration": 9,
    "start_time": "2023-04-09T17:07:56.659Z"
   },
   {
    "duration": 45,
    "start_time": "2023-04-09T17:07:56.669Z"
   },
   {
    "duration": 19,
    "start_time": "2023-04-09T17:07:56.715Z"
   },
   {
    "duration": 3765,
    "start_time": "2023-04-09T17:07:56.735Z"
   },
   {
    "duration": 3071,
    "start_time": "2023-04-09T17:08:00.503Z"
   },
   {
    "duration": 1490,
    "start_time": "2023-04-09T17:08:03.583Z"
   },
   {
    "duration": 8,
    "start_time": "2023-04-09T17:08:05.075Z"
   },
   {
    "duration": 755,
    "start_time": "2023-04-09T17:08:05.084Z"
   },
   {
    "duration": 12,
    "start_time": "2023-04-09T17:08:05.841Z"
   },
   {
    "duration": 38,
    "start_time": "2023-04-09T17:08:05.855Z"
   },
   {
    "duration": 113753,
    "start_time": "2023-04-09T17:08:05.895Z"
   },
   {
    "duration": 1538,
    "start_time": "2023-04-09T17:09:59.650Z"
   },
   {
    "duration": 3103,
    "start_time": "2023-04-09T17:10:01.190Z"
   },
   {
    "duration": 2,
    "start_time": "2023-04-09T17:10:04.295Z"
   },
   {
    "duration": 1143,
    "start_time": "2023-04-09T17:11:40.060Z"
   },
   {
    "duration": 1371,
    "start_time": "2023-04-09T17:15:09.032Z"
   },
   {
    "duration": 1566,
    "start_time": "2023-04-11T11:12:05.232Z"
   },
   {
    "duration": 64,
    "start_time": "2023-04-11T11:12:06.799Z"
   },
   {
    "duration": 10,
    "start_time": "2023-04-11T11:12:06.865Z"
   },
   {
    "duration": 13,
    "start_time": "2023-04-11T11:12:06.877Z"
   },
   {
    "duration": 16,
    "start_time": "2023-04-11T11:12:06.892Z"
   },
   {
    "duration": 10,
    "start_time": "2023-04-11T11:12:06.909Z"
   },
   {
    "duration": 53,
    "start_time": "2023-04-11T11:12:06.921Z"
   },
   {
    "duration": 18,
    "start_time": "2023-04-11T11:12:06.976Z"
   },
   {
    "duration": 3891,
    "start_time": "2023-04-11T11:12:06.995Z"
   },
   {
    "duration": 3089,
    "start_time": "2023-04-11T11:12:10.889Z"
   },
   {
    "duration": 1318,
    "start_time": "2023-04-11T11:12:13.980Z"
   },
   {
    "duration": 3,
    "start_time": "2023-04-11T11:12:15.299Z"
   },
   {
    "duration": 1675,
    "start_time": "2023-04-11T11:12:15.304Z"
   },
   {
    "duration": 10,
    "start_time": "2023-04-11T11:12:16.981Z"
   },
   {
    "duration": 8,
    "start_time": "2023-04-11T11:12:16.993Z"
   },
   {
    "duration": 104473,
    "start_time": "2023-04-11T11:12:17.002Z"
   },
   {
    "duration": 1263,
    "start_time": "2023-04-11T11:14:01.476Z"
   },
   {
    "duration": 3141,
    "start_time": "2023-04-11T11:14:02.741Z"
   },
   {
    "duration": 2,
    "start_time": "2023-04-11T11:14:05.884Z"
   },
   {
    "duration": 125,
    "start_time": "2023-04-11T11:14:05.887Z"
   },
   {
    "duration": 11,
    "start_time": "2023-04-11T11:21:01.585Z"
   },
   {
    "duration": 14,
    "start_time": "2023-04-11T11:28:46.859Z"
   },
   {
    "duration": 11,
    "start_time": "2023-04-11T11:28:51.995Z"
   },
   {
    "duration": 11,
    "start_time": "2023-04-11T11:30:30.196Z"
   },
   {
    "duration": 13,
    "start_time": "2023-04-11T11:30:37.642Z"
   },
   {
    "duration": 13,
    "start_time": "2023-04-11T11:30:52.995Z"
   },
   {
    "duration": 8,
    "start_time": "2023-04-11T11:31:50.918Z"
   },
   {
    "duration": 16,
    "start_time": "2023-04-11T11:32:06.164Z"
   },
   {
    "duration": 2,
    "start_time": "2023-04-11T11:32:20.370Z"
   },
   {
    "duration": 1114,
    "start_time": "2023-04-11T11:33:14.226Z"
   },
   {
    "duration": 17,
    "start_time": "2023-04-11T11:33:34.082Z"
   },
   {
    "duration": 79,
    "start_time": "2023-04-11T11:37:46.554Z"
   },
   {
    "duration": 29,
    "start_time": "2023-04-11T11:39:36.736Z"
   },
   {
    "duration": 19,
    "start_time": "2023-04-11T11:39:55.847Z"
   },
   {
    "duration": 14,
    "start_time": "2023-04-11T11:39:57.126Z"
   },
   {
    "duration": 22,
    "start_time": "2023-04-11T11:40:06.652Z"
   },
   {
    "duration": 21,
    "start_time": "2023-04-11T11:40:56.606Z"
   },
   {
    "duration": 13,
    "start_time": "2023-04-11T11:41:03.876Z"
   },
   {
    "duration": 1806,
    "start_time": "2023-04-11T17:57:14.682Z"
   },
   {
    "duration": 79,
    "start_time": "2023-04-11T17:57:16.490Z"
   },
   {
    "duration": 12,
    "start_time": "2023-04-11T17:57:16.570Z"
   },
   {
    "duration": 24,
    "start_time": "2023-04-11T17:57:16.584Z"
   },
   {
    "duration": 5,
    "start_time": "2023-04-11T17:57:16.610Z"
   },
   {
    "duration": 11,
    "start_time": "2023-04-11T17:57:16.616Z"
   },
   {
    "duration": 51,
    "start_time": "2023-04-11T17:57:16.629Z"
   },
   {
    "duration": 29,
    "start_time": "2023-04-11T17:57:16.692Z"
   },
   {
    "duration": 4434,
    "start_time": "2023-04-11T17:57:16.723Z"
   },
   {
    "duration": 3458,
    "start_time": "2023-04-11T17:57:21.159Z"
   },
   {
    "duration": 1609,
    "start_time": "2023-04-11T17:57:24.619Z"
   },
   {
    "duration": 4,
    "start_time": "2023-04-11T17:57:26.229Z"
   },
   {
    "duration": 1450,
    "start_time": "2023-04-11T17:57:26.235Z"
   },
   {
    "duration": 24,
    "start_time": "2023-04-11T17:57:27.687Z"
   },
   {
    "duration": 9,
    "start_time": "2023-04-11T17:57:27.713Z"
   },
   {
    "duration": 123460,
    "start_time": "2023-04-11T17:57:27.723Z"
   },
   {
    "duration": 1121,
    "start_time": "2023-04-11T17:59:31.185Z"
   },
   {
    "duration": 3264,
    "start_time": "2023-04-11T17:59:32.308Z"
   },
   {
    "duration": 3,
    "start_time": "2023-04-11T17:59:35.573Z"
   },
   {
    "duration": 49,
    "start_time": "2023-04-11T17:59:35.577Z"
   },
   {
    "duration": 133,
    "start_time": "2023-04-11T17:59:35.627Z"
   },
   {
    "duration": 493,
    "start_time": "2023-04-11T18:08:15.881Z"
   },
   {
    "duration": 41,
    "start_time": "2023-04-11T18:17:16.263Z"
   },
   {
    "duration": 51,
    "start_time": "2023-04-11T18:19:06.422Z"
   },
   {
    "duration": 2,
    "start_time": "2023-04-11T18:20:51.613Z"
   },
   {
    "duration": 39,
    "start_time": "2023-04-11T18:21:43.435Z"
   },
   {
    "duration": 1497,
    "start_time": "2023-04-11T18:31:40.212Z"
   },
   {
    "duration": 29,
    "start_time": "2023-04-11T18:31:41.711Z"
   },
   {
    "duration": 12,
    "start_time": "2023-04-11T18:31:41.742Z"
   },
   {
    "duration": 16,
    "start_time": "2023-04-11T18:31:41.756Z"
   },
   {
    "duration": 3,
    "start_time": "2023-04-11T18:31:41.774Z"
   },
   {
    "duration": 19,
    "start_time": "2023-04-11T18:31:41.779Z"
   },
   {
    "duration": 49,
    "start_time": "2023-04-11T18:31:41.800Z"
   },
   {
    "duration": 23,
    "start_time": "2023-04-11T18:31:41.851Z"
   },
   {
    "duration": 4300,
    "start_time": "2023-04-11T18:31:41.893Z"
   },
   {
    "duration": 3269,
    "start_time": "2023-04-11T18:31:46.195Z"
   },
   {
    "duration": 1567,
    "start_time": "2023-04-11T18:31:49.467Z"
   },
   {
    "duration": 4,
    "start_time": "2023-04-11T18:31:51.035Z"
   },
   {
    "duration": 881,
    "start_time": "2023-04-11T18:31:51.041Z"
   },
   {
    "duration": 15,
    "start_time": "2023-04-11T18:31:51.925Z"
   },
   {
    "duration": 12,
    "start_time": "2023-04-11T18:31:51.942Z"
   },
   {
    "duration": 117586,
    "start_time": "2023-04-11T18:31:51.956Z"
   },
   {
    "duration": 1358,
    "start_time": "2023-04-11T18:33:49.544Z"
   },
   {
    "duration": 3195,
    "start_time": "2023-04-11T18:33:50.904Z"
   },
   {
    "duration": 24,
    "start_time": "2023-04-11T18:33:54.101Z"
   },
   {
    "duration": 453,
    "start_time": "2023-04-11T18:33:54.127Z"
   },
   {
    "duration": 3,
    "start_time": "2023-04-11T18:33:54.582Z"
   },
   {
    "duration": 9,
    "start_time": "2023-04-11T19:24:13.693Z"
   },
   {
    "duration": 75,
    "start_time": "2023-04-12T04:11:25.263Z"
   },
   {
    "duration": 1940,
    "start_time": "2023-04-12T04:11:50.626Z"
   },
   {
    "duration": 187,
    "start_time": "2023-04-12T04:11:52.568Z"
   },
   {
    "duration": 13,
    "start_time": "2023-04-12T04:11:52.757Z"
   },
   {
    "duration": 33,
    "start_time": "2023-04-12T04:11:52.772Z"
   },
   {
    "duration": 7,
    "start_time": "2023-04-12T04:11:52.818Z"
   },
   {
    "duration": 25,
    "start_time": "2023-04-12T04:11:52.827Z"
   },
   {
    "duration": 77,
    "start_time": "2023-04-12T04:11:52.854Z"
   },
   {
    "duration": 22,
    "start_time": "2023-04-12T04:11:52.933Z"
   },
   {
    "duration": 4752,
    "start_time": "2023-04-12T04:11:52.957Z"
   },
   {
    "duration": 3758,
    "start_time": "2023-04-12T04:11:57.710Z"
   },
   {
    "duration": 1960,
    "start_time": "2023-04-12T04:12:01.471Z"
   },
   {
    "duration": 5,
    "start_time": "2023-04-12T04:12:03.434Z"
   },
   {
    "duration": 1568,
    "start_time": "2023-04-12T04:12:03.441Z"
   },
   {
    "duration": 18,
    "start_time": "2023-04-12T04:12:05.024Z"
   },
   {
    "duration": 23,
    "start_time": "2023-04-12T04:12:05.044Z"
   },
   {
    "duration": 144396,
    "start_time": "2023-04-12T04:12:05.068Z"
   },
   {
    "duration": 1073,
    "start_time": "2023-04-12T04:14:29.466Z"
   },
   {
    "duration": 3763,
    "start_time": "2023-04-12T04:14:30.541Z"
   },
   {
    "duration": 27,
    "start_time": "2023-04-12T04:14:34.306Z"
   },
   {
    "duration": 543,
    "start_time": "2023-04-12T04:14:34.335Z"
   },
   {
    "duration": 3,
    "start_time": "2023-04-12T04:14:34.880Z"
   },
   {
    "duration": 1661,
    "start_time": "2023-04-12T10:57:12.025Z"
   },
   {
    "duration": 126,
    "start_time": "2023-04-12T10:57:13.688Z"
   },
   {
    "duration": 11,
    "start_time": "2023-04-12T10:57:13.816Z"
   },
   {
    "duration": 20,
    "start_time": "2023-04-12T10:57:13.829Z"
   },
   {
    "duration": 16,
    "start_time": "2023-04-12T10:57:13.851Z"
   },
   {
    "duration": 29,
    "start_time": "2023-04-12T10:57:13.868Z"
   },
   {
    "duration": 72,
    "start_time": "2023-04-12T10:57:13.898Z"
   },
   {
    "duration": 17,
    "start_time": "2023-04-12T10:57:13.972Z"
   },
   {
    "duration": 3844,
    "start_time": "2023-04-12T10:57:13.991Z"
   },
   {
    "duration": 2754,
    "start_time": "2023-04-12T10:57:17.838Z"
   },
   {
    "duration": 1440,
    "start_time": "2023-04-12T10:57:20.594Z"
   },
   {
    "duration": 3,
    "start_time": "2023-04-12T10:57:22.036Z"
   },
   {
    "duration": 711,
    "start_time": "2023-04-12T10:57:22.040Z"
   },
   {
    "duration": 10,
    "start_time": "2023-04-12T10:57:22.752Z"
   },
   {
    "duration": 41,
    "start_time": "2023-04-12T10:57:22.763Z"
   },
   {
    "duration": 106589,
    "start_time": "2023-04-12T10:57:22.806Z"
   },
   {
    "duration": 1339,
    "start_time": "2023-04-12T10:59:09.397Z"
   },
   {
    "duration": 2679,
    "start_time": "2023-04-12T10:59:10.738Z"
   },
   {
    "duration": 29,
    "start_time": "2023-04-12T10:59:13.419Z"
   },
   {
    "duration": 444,
    "start_time": "2023-04-12T10:59:13.450Z"
   },
   {
    "duration": 3,
    "start_time": "2023-04-12T10:59:13.896Z"
   },
   {
    "duration": 50,
    "start_time": "2023-04-12T18:53:31.016Z"
   },
   {
    "duration": 1756,
    "start_time": "2023-04-12T18:53:37.266Z"
   },
   {
    "duration": 77,
    "start_time": "2023-04-12T18:53:39.024Z"
   },
   {
    "duration": 11,
    "start_time": "2023-04-12T18:53:39.103Z"
   },
   {
    "duration": 16,
    "start_time": "2023-04-12T18:53:39.116Z"
   },
   {
    "duration": 3,
    "start_time": "2023-04-12T18:53:39.134Z"
   },
   {
    "duration": 13,
    "start_time": "2023-04-12T18:53:39.139Z"
   },
   {
    "duration": 74,
    "start_time": "2023-04-12T18:53:39.154Z"
   },
   {
    "duration": 19,
    "start_time": "2023-04-12T18:53:39.230Z"
   },
   {
    "duration": 4434,
    "start_time": "2023-04-12T18:53:39.251Z"
   },
   {
    "duration": 3506,
    "start_time": "2023-04-12T18:53:43.688Z"
   },
   {
    "duration": 1606,
    "start_time": "2023-04-12T18:53:47.199Z"
   },
   {
    "duration": 4,
    "start_time": "2023-04-12T18:53:48.808Z"
   },
   {
    "duration": 1560,
    "start_time": "2023-04-12T18:53:48.814Z"
   },
   {
    "duration": 23,
    "start_time": "2023-04-12T18:53:50.376Z"
   },
   {
    "duration": 12,
    "start_time": "2023-04-12T18:53:50.400Z"
   },
   {
    "duration": 125850,
    "start_time": "2023-04-12T18:53:50.414Z"
   },
   {
    "duration": 1242,
    "start_time": "2023-04-12T18:55:56.265Z"
   },
   {
    "duration": 3353,
    "start_time": "2023-04-12T18:55:57.584Z"
   },
   {
    "duration": 25,
    "start_time": "2023-04-12T18:56:00.939Z"
   },
   {
    "duration": 489,
    "start_time": "2023-04-12T18:56:00.966Z"
   },
   {
    "duration": 3,
    "start_time": "2023-04-12T18:56:01.457Z"
   },
   {
    "duration": 2056,
    "start_time": "2023-04-13T07:32:47.737Z"
   },
   {
    "duration": 146,
    "start_time": "2023-04-13T07:32:49.795Z"
   },
   {
    "duration": 20,
    "start_time": "2023-04-13T07:32:49.943Z"
   },
   {
    "duration": 32,
    "start_time": "2023-04-13T07:32:49.966Z"
   },
   {
    "duration": 34,
    "start_time": "2023-04-13T07:32:50.002Z"
   },
   {
    "duration": 21,
    "start_time": "2023-04-13T07:32:50.041Z"
   },
   {
    "duration": 102,
    "start_time": "2023-04-13T07:32:50.066Z"
   },
   {
    "duration": 22,
    "start_time": "2023-04-13T07:32:50.170Z"
   },
   {
    "duration": 4708,
    "start_time": "2023-04-13T07:32:50.194Z"
   },
   {
    "duration": 3657,
    "start_time": "2023-04-13T07:32:54.904Z"
   },
   {
    "duration": 1638,
    "start_time": "2023-04-13T07:32:58.564Z"
   },
   {
    "duration": 4,
    "start_time": "2023-04-13T07:33:00.205Z"
   },
   {
    "duration": 884,
    "start_time": "2023-04-13T07:33:00.211Z"
   },
   {
    "duration": 15,
    "start_time": "2023-04-13T07:33:01.097Z"
   },
   {
    "duration": 33,
    "start_time": "2023-04-13T07:33:01.114Z"
   },
   {
    "duration": 128435,
    "start_time": "2023-04-13T07:33:01.150Z"
   },
   {
    "duration": 1654,
    "start_time": "2023-04-13T07:35:09.587Z"
   },
   {
    "duration": 3552,
    "start_time": "2023-04-13T07:35:11.243Z"
   },
   {
    "duration": 38,
    "start_time": "2023-04-13T07:35:14.797Z"
   },
   {
    "duration": 552,
    "start_time": "2023-04-13T07:35:14.837Z"
   },
   {
    "duration": 4,
    "start_time": "2023-04-13T07:35:15.392Z"
   },
   {
    "duration": 28,
    "start_time": "2023-04-13T07:58:51.027Z"
   },
   {
    "duration": 59,
    "start_time": "2023-04-13T07:59:17.156Z"
   },
   {
    "duration": 3,
    "start_time": "2023-04-13T08:21:51.819Z"
   },
   {
    "duration": 3171,
    "start_time": "2023-04-13T18:09:51.852Z"
   },
   {
    "duration": 148,
    "start_time": "2023-04-13T18:09:55.025Z"
   },
   {
    "duration": 13,
    "start_time": "2023-04-13T18:09:55.175Z"
   },
   {
    "duration": 33,
    "start_time": "2023-04-13T18:09:55.190Z"
   },
   {
    "duration": 3,
    "start_time": "2023-04-13T18:09:55.226Z"
   },
   {
    "duration": 12,
    "start_time": "2023-04-13T18:09:55.230Z"
   },
   {
    "duration": 69,
    "start_time": "2023-04-13T18:09:55.244Z"
   },
   {
    "duration": 20,
    "start_time": "2023-04-13T18:09:55.315Z"
   },
   {
    "duration": 4422,
    "start_time": "2023-04-13T18:09:55.337Z"
   },
   {
    "duration": 3715,
    "start_time": "2023-04-13T18:09:59.760Z"
   },
   {
    "duration": 1725,
    "start_time": "2023-04-13T18:10:03.477Z"
   },
   {
    "duration": 4,
    "start_time": "2023-04-13T18:10:05.204Z"
   },
   {
    "duration": 1055,
    "start_time": "2023-04-13T18:10:05.210Z"
   },
   {
    "duration": 11,
    "start_time": "2023-04-13T18:10:06.268Z"
   },
   {
    "duration": 15,
    "start_time": "2023-04-13T18:10:06.289Z"
   },
   {
    "duration": 128443,
    "start_time": "2023-04-13T18:10:06.306Z"
   },
   {
    "duration": 1141,
    "start_time": "2023-04-13T18:12:14.751Z"
   },
   {
    "duration": 3215,
    "start_time": "2023-04-13T18:12:15.899Z"
   },
   {
    "duration": 24,
    "start_time": "2023-04-13T18:12:19.116Z"
   },
   {
    "duration": 658,
    "start_time": "2023-04-13T18:12:19.141Z"
   },
   {
    "duration": 1558,
    "start_time": "2023-04-13T18:25:59.344Z"
   },
   {
    "duration": 1679,
    "start_time": "2023-04-13T18:26:04.613Z"
   },
   {
    "duration": 1433,
    "start_time": "2023-04-13T18:26:08.966Z"
   },
   {
    "duration": 1453,
    "start_time": "2023-04-13T18:26:16.246Z"
   },
   {
    "duration": 1652,
    "start_time": "2023-04-13T18:26:19.239Z"
   },
   {
    "duration": 1574,
    "start_time": "2023-04-13T18:26:23.015Z"
   },
   {
    "duration": 7,
    "start_time": "2023-04-13T18:27:19.983Z"
   },
   {
    "duration": 3,
    "start_time": "2023-04-13T18:27:52.036Z"
   },
   {
    "duration": 4,
    "start_time": "2023-04-13T18:27:52.668Z"
   },
   {
    "duration": 5,
    "start_time": "2023-04-13T18:27:53.534Z"
   },
   {
    "duration": 4,
    "start_time": "2023-04-13T18:27:54.199Z"
   },
   {
    "duration": 4,
    "start_time": "2023-04-13T18:27:55.143Z"
   },
   {
    "duration": 1480,
    "start_time": "2023-04-13T18:28:07.927Z"
   },
   {
    "duration": 1435,
    "start_time": "2023-04-13T18:28:14.458Z"
   },
   {
    "duration": 1328,
    "start_time": "2023-04-13T18:29:49.077Z"
   },
   {
    "duration": 1669,
    "start_time": "2023-04-13T18:29:53.141Z"
   },
   {
    "duration": 1436,
    "start_time": "2023-04-13T18:29:57.262Z"
   },
   {
    "duration": 1376,
    "start_time": "2023-04-13T18:30:00.816Z"
   },
   {
    "duration": 1548,
    "start_time": "2023-04-13T18:30:05.344Z"
   },
   {
    "duration": 1477,
    "start_time": "2023-04-13T18:30:08.216Z"
   },
   {
    "duration": 2720,
    "start_time": "2023-04-13T18:31:37.903Z"
   },
   {
    "duration": 33,
    "start_time": "2023-04-13T18:31:40.625Z"
   },
   {
    "duration": 12,
    "start_time": "2023-04-13T18:31:40.660Z"
   },
   {
    "duration": 16,
    "start_time": "2023-04-13T18:31:40.673Z"
   },
   {
    "duration": 2,
    "start_time": "2023-04-13T18:31:40.691Z"
   },
   {
    "duration": 12,
    "start_time": "2023-04-13T18:31:40.695Z"
   },
   {
    "duration": 50,
    "start_time": "2023-04-13T18:31:40.708Z"
   },
   {
    "duration": 36,
    "start_time": "2023-04-13T18:31:40.760Z"
   },
   {
    "duration": 4041,
    "start_time": "2023-04-13T18:31:40.798Z"
   },
   {
    "duration": 2991,
    "start_time": "2023-04-13T18:31:44.841Z"
   },
   {
    "duration": 1546,
    "start_time": "2023-04-13T18:31:47.834Z"
   },
   {
    "duration": 4,
    "start_time": "2023-04-13T18:31:49.387Z"
   },
   {
    "duration": 757,
    "start_time": "2023-04-13T18:31:49.392Z"
   },
   {
    "duration": 11,
    "start_time": "2023-04-13T18:31:50.151Z"
   },
   {
    "duration": 18,
    "start_time": "2023-04-13T18:31:50.164Z"
   },
   {
    "duration": 116452,
    "start_time": "2023-04-13T18:31:50.184Z"
   },
   {
    "duration": 1760,
    "start_time": "2023-04-13T18:33:46.638Z"
   },
   {
    "duration": 1489,
    "start_time": "2023-04-13T18:33:48.400Z"
   },
   {
    "duration": 3082,
    "start_time": "2023-04-13T18:33:49.891Z"
   },
   {
    "duration": 33,
    "start_time": "2023-04-13T18:33:52.974Z"
   },
   {
    "duration": 643,
    "start_time": "2023-04-13T18:33:53.009Z"
   },
   {
    "duration": 171,
    "start_time": "2023-04-13T18:35:25.102Z"
   },
   {
    "duration": 12,
    "start_time": "2023-04-13T18:36:21.103Z"
   },
   {
    "duration": 1473,
    "start_time": "2023-04-13T18:37:21.816Z"
   },
   {
    "duration": 1492,
    "start_time": "2023-04-13T18:37:27.200Z"
   },
   {
    "duration": 855,
    "start_time": "2023-04-13T18:37:30.144Z"
   },
   {
    "duration": 1659,
    "start_time": "2023-04-13T18:38:00.030Z"
   },
   {
    "duration": 3052,
    "start_time": "2023-04-13T18:38:15.980Z"
   },
   {
    "duration": 35,
    "start_time": "2023-04-13T18:38:19.035Z"
   },
   {
    "duration": 15,
    "start_time": "2023-04-13T18:38:19.073Z"
   },
   {
    "duration": 23,
    "start_time": "2023-04-13T18:38:19.090Z"
   },
   {
    "duration": 4,
    "start_time": "2023-04-13T18:38:19.116Z"
   },
   {
    "duration": 30,
    "start_time": "2023-04-13T18:38:19.122Z"
   },
   {
    "duration": 59,
    "start_time": "2023-04-13T18:38:19.154Z"
   },
   {
    "duration": 21,
    "start_time": "2023-04-13T18:38:19.214Z"
   },
   {
    "duration": 4414,
    "start_time": "2023-04-13T18:38:19.237Z"
   },
   {
    "duration": 3290,
    "start_time": "2023-04-13T18:38:23.652Z"
   },
   {
    "duration": 1666,
    "start_time": "2023-04-13T18:38:26.943Z"
   },
   {
    "duration": 5,
    "start_time": "2023-04-13T18:38:28.611Z"
   },
   {
    "duration": 651,
    "start_time": "2023-04-13T18:38:28.618Z"
   },
   {
    "duration": 17,
    "start_time": "2023-04-13T18:38:29.272Z"
   },
   {
    "duration": 9,
    "start_time": "2023-04-13T18:38:29.290Z"
   },
   {
    "duration": 123337,
    "start_time": "2023-04-13T18:38:29.301Z"
   },
   {
    "duration": 1355,
    "start_time": "2023-04-13T18:40:32.640Z"
   },
   {
    "duration": 1296,
    "start_time": "2023-04-13T18:40:33.997Z"
   },
   {
    "duration": 3356,
    "start_time": "2023-04-13T18:40:35.296Z"
   },
   {
    "duration": 35,
    "start_time": "2023-04-13T18:40:38.654Z"
   },
   {
    "duration": 733,
    "start_time": "2023-04-13T18:40:38.691Z"
   }
  ],
  "kernelspec": {
   "display_name": "Python 3 (ipykernel)",
   "language": "python",
   "name": "python3"
  },
  "language_info": {
   "codemirror_mode": {
    "name": "ipython",
    "version": 3
   },
   "file_extension": ".py",
   "mimetype": "text/x-python",
   "name": "python",
   "nbconvert_exporter": "python",
   "pygments_lexer": "ipython3",
   "version": "3.9.12"
  },
  "toc": {
   "base_numbering": 1,
   "nav_menu": {},
   "number_sections": true,
   "sideBar": true,
   "skip_h1_title": true,
   "title_cell": "Table of Contents",
   "title_sidebar": "Contents",
   "toc_cell": false,
   "toc_position": {
    "height": "calc(100% - 180px)",
    "left": "10px",
    "top": "150px",
    "width": "312px"
   },
   "toc_section_display": true,
   "toc_window_display": true
  }
 },
 "nbformat": 4,
 "nbformat_minor": 2
}
