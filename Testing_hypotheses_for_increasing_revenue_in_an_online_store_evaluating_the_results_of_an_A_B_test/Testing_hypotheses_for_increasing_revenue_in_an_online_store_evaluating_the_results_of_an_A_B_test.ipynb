{
 "cells": [
  {
   "cell_type": "markdown",
   "metadata": {},
   "source": [
    "# <center> Проверка гипотез по увеличению выручки в интернет-магазине \n",
    "<center> Автор материала: Толстошеева Татьяна (@tsheeva)"
   ]
  },
  {
   "cell_type": "markdown",
   "metadata": {},
   "source": [
    "Аналитик и отдел маркетинга крупного интернет-магазина подготовили список гипотез для увеличения выручки. Необходимо:\n",
    "- приоритизировать гипотезы;\n",
    "- запустить A/B-тест;\n",
    "- проанализировать результаты\n",
    "\n",
    "В первой части проекта 9 гипотез по увеличению выручки интернет-магазина с указанными параметрами Reach, Impact, Confidence, Effort. Задача - применить фреймворки ICE и RICE для приоритизации гипотез. \n",
    "\n",
    "Во второй - анализ и принятие решения по результатам проведенного A/B-теста. "
   ]
  },
  {
   "cell_type": "markdown",
   "metadata": {},
   "source": [
    "## Приоритизация гипотез"
   ]
  },
  {
   "cell_type": "code",
   "execution_count": 2,
   "metadata": {},
   "outputs": [],
   "source": [
    "import pandas as pd\n",
    "import scipy.stats as stats\n",
    "import datetime as dt\n",
    "import numpy as np\n",
    "import matplotlib.pyplot as plt\n",
    "from matplotlib.pyplot import figure\n",
    "import plotly.express as px\n",
    "\n",
    "\n",
    "pd.set_option('display.max_colwidth', None) "
   ]
  },
  {
   "cell_type": "code",
   "execution_count": 3,
   "metadata": {},
   "outputs": [
    {
     "data": {
      "text/html": [
       "<div>\n",
       "<style scoped>\n",
       "    .dataframe tbody tr th:only-of-type {\n",
       "        vertical-align: middle;\n",
       "    }\n",
       "\n",
       "    .dataframe tbody tr th {\n",
       "        vertical-align: top;\n",
       "    }\n",
       "\n",
       "    .dataframe thead th {\n",
       "        text-align: right;\n",
       "    }\n",
       "</style>\n",
       "<table border=\"1\" class=\"dataframe\">\n",
       "  <thead>\n",
       "    <tr style=\"text-align: right;\">\n",
       "      <th></th>\n",
       "      <th>Hypothesis</th>\n",
       "      <th>Reach</th>\n",
       "      <th>Impact</th>\n",
       "      <th>Confidence</th>\n",
       "      <th>Efforts</th>\n",
       "    </tr>\n",
       "  </thead>\n",
       "  <tbody>\n",
       "    <tr>\n",
       "      <th>0</th>\n",
       "      <td>Добавить два новых канала привлечения трафика, что позволит привлекать на 30% больше пользователей</td>\n",
       "      <td>3</td>\n",
       "      <td>10</td>\n",
       "      <td>8</td>\n",
       "      <td>6</td>\n",
       "    </tr>\n",
       "    <tr>\n",
       "      <th>1</th>\n",
       "      <td>Запустить собственную службу доставки, что сократит срок доставки заказов</td>\n",
       "      <td>2</td>\n",
       "      <td>5</td>\n",
       "      <td>4</td>\n",
       "      <td>10</td>\n",
       "    </tr>\n",
       "    <tr>\n",
       "      <th>2</th>\n",
       "      <td>Добавить блоки рекомендаций товаров на сайт интернет магазина, чтобы повысить конверсию и средний чек заказа</td>\n",
       "      <td>8</td>\n",
       "      <td>3</td>\n",
       "      <td>7</td>\n",
       "      <td>3</td>\n",
       "    </tr>\n",
       "    <tr>\n",
       "      <th>3</th>\n",
       "      <td>Изменить структура категорий, что увеличит конверсию, т.к. пользователи быстрее найдут нужный товар</td>\n",
       "      <td>8</td>\n",
       "      <td>3</td>\n",
       "      <td>3</td>\n",
       "      <td>8</td>\n",
       "    </tr>\n",
       "    <tr>\n",
       "      <th>4</th>\n",
       "      <td>Изменить цвет фона главной страницы, чтобы увеличить вовлеченность пользователей</td>\n",
       "      <td>3</td>\n",
       "      <td>1</td>\n",
       "      <td>1</td>\n",
       "      <td>1</td>\n",
       "    </tr>\n",
       "    <tr>\n",
       "      <th>5</th>\n",
       "      <td>Добавить страницу отзывов клиентов о магазине, что позволит увеличить количество заказов</td>\n",
       "      <td>3</td>\n",
       "      <td>2</td>\n",
       "      <td>2</td>\n",
       "      <td>3</td>\n",
       "    </tr>\n",
       "    <tr>\n",
       "      <th>6</th>\n",
       "      <td>Показать на главной странице баннеры с актуальными акциями и распродажами, чтобы увеличить конверсию</td>\n",
       "      <td>5</td>\n",
       "      <td>3</td>\n",
       "      <td>8</td>\n",
       "      <td>3</td>\n",
       "    </tr>\n",
       "    <tr>\n",
       "      <th>7</th>\n",
       "      <td>Добавить форму подписки на все основные страницы, чтобы собрать базу клиентов для email-рассылок</td>\n",
       "      <td>10</td>\n",
       "      <td>7</td>\n",
       "      <td>8</td>\n",
       "      <td>5</td>\n",
       "    </tr>\n",
       "    <tr>\n",
       "      <th>8</th>\n",
       "      <td>Запустить акцию, дающую скидку на товар в день рождения</td>\n",
       "      <td>1</td>\n",
       "      <td>9</td>\n",
       "      <td>9</td>\n",
       "      <td>5</td>\n",
       "    </tr>\n",
       "  </tbody>\n",
       "</table>\n",
       "</div>"
      ],
      "text/plain": [
       "                                                                                                     Hypothesis  \\\n",
       "0            Добавить два новых канала привлечения трафика, что позволит привлекать на 30% больше пользователей   \n",
       "1                                     Запустить собственную службу доставки, что сократит срок доставки заказов   \n",
       "2  Добавить блоки рекомендаций товаров на сайт интернет магазина, чтобы повысить конверсию и средний чек заказа   \n",
       "3           Изменить структура категорий, что увеличит конверсию, т.к. пользователи быстрее найдут нужный товар   \n",
       "4                              Изменить цвет фона главной страницы, чтобы увеличить вовлеченность пользователей   \n",
       "5                      Добавить страницу отзывов клиентов о магазине, что позволит увеличить количество заказов   \n",
       "6          Показать на главной странице баннеры с актуальными акциями и распродажами, чтобы увеличить конверсию   \n",
       "7              Добавить форму подписки на все основные страницы, чтобы собрать базу клиентов для email-рассылок   \n",
       "8                                                       Запустить акцию, дающую скидку на товар в день рождения   \n",
       "\n",
       "   Reach  Impact  Confidence  Efforts  \n",
       "0      3      10           8        6  \n",
       "1      2       5           4       10  \n",
       "2      8       3           7        3  \n",
       "3      8       3           3        8  \n",
       "4      3       1           1        1  \n",
       "5      3       2           2        3  \n",
       "6      5       3           8        3  \n",
       "7     10       7           8        5  \n",
       "8      1       9           9        5  "
      ]
     },
     "metadata": {},
     "output_type": "display_data"
    }
   ],
   "source": [
    "# Откроем файл и изучим гипотезы по увеличению выручки интернет-магазина \n",
    "hypothesis = pd.read_csv('/datasets/hypothesis.csv')\n",
    "display(hypothesis)"
   ]
  },
  {
   "cell_type": "markdown",
   "metadata": {},
   "source": [
    "### Описание данных\n",
    "\n",
    "- Hypothesis — краткое описание гипотезы;\n",
    "- Reach — охват пользователей по 10-балльной шкале;\n",
    "- Impact — влияние на пользователей по 10-балльной шкале;\n",
    "- Confidence — уверенность в гипотезе по 10-балльной шкале;\n",
    "- Efforts — затраты ресурсов на проверку гипотезы по 10-балльной шкале. Чем больше значение Efforts, тем дороже проверка гипотезы."
   ]
  },
  {
   "cell_type": "code",
   "execution_count": 4,
   "metadata": {},
   "outputs": [
    {
     "data": {
      "text/html": [
       "<div>\n",
       "<style scoped>\n",
       "    .dataframe tbody tr th:only-of-type {\n",
       "        vertical-align: middle;\n",
       "    }\n",
       "\n",
       "    .dataframe tbody tr th {\n",
       "        vertical-align: top;\n",
       "    }\n",
       "\n",
       "    .dataframe thead th {\n",
       "        text-align: right;\n",
       "    }\n",
       "</style>\n",
       "<table border=\"1\" class=\"dataframe\">\n",
       "  <thead>\n",
       "    <tr style=\"text-align: right;\">\n",
       "      <th></th>\n",
       "      <th>Hypothesis</th>\n",
       "      <th>ICE</th>\n",
       "    </tr>\n",
       "  </thead>\n",
       "  <tbody>\n",
       "    <tr>\n",
       "      <th>8</th>\n",
       "      <td>Запустить акцию, дающую скидку на товар в день рождения</td>\n",
       "      <td>16.20</td>\n",
       "    </tr>\n",
       "    <tr>\n",
       "      <th>0</th>\n",
       "      <td>Добавить два новых канала привлечения трафика, что позволит привлекать на 30% больше пользователей</td>\n",
       "      <td>13.33</td>\n",
       "    </tr>\n",
       "    <tr>\n",
       "      <th>7</th>\n",
       "      <td>Добавить форму подписки на все основные страницы, чтобы собрать базу клиентов для email-рассылок</td>\n",
       "      <td>11.20</td>\n",
       "    </tr>\n",
       "    <tr>\n",
       "      <th>6</th>\n",
       "      <td>Показать на главной странице баннеры с актуальными акциями и распродажами, чтобы увеличить конверсию</td>\n",
       "      <td>8.00</td>\n",
       "    </tr>\n",
       "    <tr>\n",
       "      <th>2</th>\n",
       "      <td>Добавить блоки рекомендаций товаров на сайт интернет магазина, чтобы повысить конверсию и средний чек заказа</td>\n",
       "      <td>7.00</td>\n",
       "    </tr>\n",
       "    <tr>\n",
       "      <th>1</th>\n",
       "      <td>Запустить собственную службу доставки, что сократит срок доставки заказов</td>\n",
       "      <td>2.00</td>\n",
       "    </tr>\n",
       "    <tr>\n",
       "      <th>5</th>\n",
       "      <td>Добавить страницу отзывов клиентов о магазине, что позволит увеличить количество заказов</td>\n",
       "      <td>1.33</td>\n",
       "    </tr>\n",
       "    <tr>\n",
       "      <th>3</th>\n",
       "      <td>Изменить структура категорий, что увеличит конверсию, т.к. пользователи быстрее найдут нужный товар</td>\n",
       "      <td>1.12</td>\n",
       "    </tr>\n",
       "    <tr>\n",
       "      <th>4</th>\n",
       "      <td>Изменить цвет фона главной страницы, чтобы увеличить вовлеченность пользователей</td>\n",
       "      <td>1.00</td>\n",
       "    </tr>\n",
       "  </tbody>\n",
       "</table>\n",
       "</div>"
      ],
      "text/plain": [
       "                                                                                                     Hypothesis  \\\n",
       "8                                                       Запустить акцию, дающую скидку на товар в день рождения   \n",
       "0            Добавить два новых канала привлечения трафика, что позволит привлекать на 30% больше пользователей   \n",
       "7              Добавить форму подписки на все основные страницы, чтобы собрать базу клиентов для email-рассылок   \n",
       "6          Показать на главной странице баннеры с актуальными акциями и распродажами, чтобы увеличить конверсию   \n",
       "2  Добавить блоки рекомендаций товаров на сайт интернет магазина, чтобы повысить конверсию и средний чек заказа   \n",
       "1                                     Запустить собственную службу доставки, что сократит срок доставки заказов   \n",
       "5                      Добавить страницу отзывов клиентов о магазине, что позволит увеличить количество заказов   \n",
       "3           Изменить структура категорий, что увеличит конверсию, т.к. пользователи быстрее найдут нужный товар   \n",
       "4                              Изменить цвет фона главной страницы, чтобы увеличить вовлеченность пользователей   \n",
       "\n",
       "     ICE  \n",
       "8  16.20  \n",
       "0  13.33  \n",
       "7  11.20  \n",
       "6   8.00  \n",
       "2   7.00  \n",
       "1   2.00  \n",
       "5   1.33  \n",
       "3   1.12  \n",
       "4   1.00  "
      ]
     },
     "metadata": {},
     "output_type": "display_data"
    }
   ],
   "source": [
    "# применим фреймворк ICE для приоритизации гипотез\n",
    "hypothesis['ICE'] = ((hypothesis['Impact'] * hypothesis['Confidence']) / hypothesis['Efforts']).round(2)\n",
    "display(hypothesis[['Hypothesis', 'ICE']].sort_values(by='ICE', ascending=False))"
   ]
  },
  {
   "cell_type": "code",
   "execution_count": 5,
   "metadata": {},
   "outputs": [
    {
     "data": {
      "text/html": [
       "<div>\n",
       "<style scoped>\n",
       "    .dataframe tbody tr th:only-of-type {\n",
       "        vertical-align: middle;\n",
       "    }\n",
       "\n",
       "    .dataframe tbody tr th {\n",
       "        vertical-align: top;\n",
       "    }\n",
       "\n",
       "    .dataframe thead th {\n",
       "        text-align: right;\n",
       "    }\n",
       "</style>\n",
       "<table border=\"1\" class=\"dataframe\">\n",
       "  <thead>\n",
       "    <tr style=\"text-align: right;\">\n",
       "      <th></th>\n",
       "      <th>Hypothesis</th>\n",
       "      <th>RICE</th>\n",
       "    </tr>\n",
       "  </thead>\n",
       "  <tbody>\n",
       "    <tr>\n",
       "      <th>7</th>\n",
       "      <td>Добавить форму подписки на все основные страницы, чтобы собрать базу клиентов для email-рассылок</td>\n",
       "      <td>112.0</td>\n",
       "    </tr>\n",
       "    <tr>\n",
       "      <th>2</th>\n",
       "      <td>Добавить блоки рекомендаций товаров на сайт интернет магазина, чтобы повысить конверсию и средний чек заказа</td>\n",
       "      <td>56.0</td>\n",
       "    </tr>\n",
       "    <tr>\n",
       "      <th>0</th>\n",
       "      <td>Добавить два новых канала привлечения трафика, что позволит привлекать на 30% больше пользователей</td>\n",
       "      <td>40.0</td>\n",
       "    </tr>\n",
       "    <tr>\n",
       "      <th>6</th>\n",
       "      <td>Показать на главной странице баннеры с актуальными акциями и распродажами, чтобы увеличить конверсию</td>\n",
       "      <td>40.0</td>\n",
       "    </tr>\n",
       "    <tr>\n",
       "      <th>8</th>\n",
       "      <td>Запустить акцию, дающую скидку на товар в день рождения</td>\n",
       "      <td>16.2</td>\n",
       "    </tr>\n",
       "    <tr>\n",
       "      <th>3</th>\n",
       "      <td>Изменить структура категорий, что увеличит конверсию, т.к. пользователи быстрее найдут нужный товар</td>\n",
       "      <td>9.0</td>\n",
       "    </tr>\n",
       "    <tr>\n",
       "      <th>1</th>\n",
       "      <td>Запустить собственную службу доставки, что сократит срок доставки заказов</td>\n",
       "      <td>4.0</td>\n",
       "    </tr>\n",
       "    <tr>\n",
       "      <th>5</th>\n",
       "      <td>Добавить страницу отзывов клиентов о магазине, что позволит увеличить количество заказов</td>\n",
       "      <td>4.0</td>\n",
       "    </tr>\n",
       "    <tr>\n",
       "      <th>4</th>\n",
       "      <td>Изменить цвет фона главной страницы, чтобы увеличить вовлеченность пользователей</td>\n",
       "      <td>3.0</td>\n",
       "    </tr>\n",
       "  </tbody>\n",
       "</table>\n",
       "</div>"
      ],
      "text/plain": [
       "                                                                                                     Hypothesis  \\\n",
       "7              Добавить форму подписки на все основные страницы, чтобы собрать базу клиентов для email-рассылок   \n",
       "2  Добавить блоки рекомендаций товаров на сайт интернет магазина, чтобы повысить конверсию и средний чек заказа   \n",
       "0            Добавить два новых канала привлечения трафика, что позволит привлекать на 30% больше пользователей   \n",
       "6          Показать на главной странице баннеры с актуальными акциями и распродажами, чтобы увеличить конверсию   \n",
       "8                                                       Запустить акцию, дающую скидку на товар в день рождения   \n",
       "3           Изменить структура категорий, что увеличит конверсию, т.к. пользователи быстрее найдут нужный товар   \n",
       "1                                     Запустить собственную службу доставки, что сократит срок доставки заказов   \n",
       "5                      Добавить страницу отзывов клиентов о магазине, что позволит увеличить количество заказов   \n",
       "4                              Изменить цвет фона главной страницы, чтобы увеличить вовлеченность пользователей   \n",
       "\n",
       "    RICE  \n",
       "7  112.0  \n",
       "2   56.0  \n",
       "0   40.0  \n",
       "6   40.0  \n",
       "8   16.2  \n",
       "3    9.0  \n",
       "1    4.0  \n",
       "5    4.0  \n",
       "4    3.0  "
      ]
     },
     "metadata": {},
     "output_type": "display_data"
    }
   ],
   "source": [
    "# применим фреймворк RICE для приоритизации гипотез\n",
    "hypothesis['RICE'] = (hypothesis['Impact'] * hypothesis['Confidence'] * hypothesis['Reach']) / hypothesis['Efforts']\n",
    "display(hypothesis[['Hypothesis', 'RICE']].sort_values(by='RICE', ascending=False))"
   ]
  },
  {
   "cell_type": "markdown",
   "metadata": {},
   "source": [
    "При применении фреймворка ICE самыми важными оказались:\n",
    "- Запустить акцию, дающую скидку на товар в день рождения (16.20 баллов)\n",
    "- Добавить два новых канала привлечения трафика, что позволит привлекать на 30% больше пользователей (13.33 баллов)\n",
    "- Добавить форму подписки на все основные страницы, чтобы собрать базу клиентов для email-рассылок (11.20 баллов)\n",
    "\n",
    "При применении фреймворка RICE приоритеты изменились, теперь в первую очередь следует проверить следующие гипотезы: \n",
    "- Добавить форму подписки на все основные страницы, чтобы собрать базу клиентов для email-рассылок (112.0 баллов)\n",
    "- Добавить блоки рекомендаций товаров на сайт интернет магазина, чтобы повысить конверсию и средний чек заказа (56.0 баллов)\n",
    "- Добавить два новых канала привлечения трафика, что позволит привлекать на 30% больше пользователей (40.0 баллов)\n",
    "- Показать на главной странице баннеры с актуальными акциями и распродажами, чтобы увеличить конверсию (40.0 баллов)\n",
    "\n",
    "Причина смены приоритетов кроется в самом методе RICE: он включает в себя ещё и оценку охвата, т.е. реагирует и на целевую аудиторию проекта."
   ]
  },
  {
   "cell_type": "markdown",
   "metadata": {},
   "source": [
    "## Анализ A/B-теста"
   ]
  },
  {
   "cell_type": "code",
   "execution_count": 6,
   "metadata": {},
   "outputs": [
    {
     "data": {
      "text/html": [
       "<div>\n",
       "<style scoped>\n",
       "    .dataframe tbody tr th:only-of-type {\n",
       "        vertical-align: middle;\n",
       "    }\n",
       "\n",
       "    .dataframe tbody tr th {\n",
       "        vertical-align: top;\n",
       "    }\n",
       "\n",
       "    .dataframe thead th {\n",
       "        text-align: right;\n",
       "    }\n",
       "</style>\n",
       "<table border=\"1\" class=\"dataframe\">\n",
       "  <thead>\n",
       "    <tr style=\"text-align: right;\">\n",
       "      <th></th>\n",
       "      <th>transactionId</th>\n",
       "      <th>visitorId</th>\n",
       "      <th>date</th>\n",
       "      <th>revenue</th>\n",
       "      <th>group</th>\n",
       "    </tr>\n",
       "  </thead>\n",
       "  <tbody>\n",
       "    <tr>\n",
       "      <th>0</th>\n",
       "      <td>3667963787</td>\n",
       "      <td>3312258926</td>\n",
       "      <td>2019-08-15</td>\n",
       "      <td>1650</td>\n",
       "      <td>B</td>\n",
       "    </tr>\n",
       "    <tr>\n",
       "      <th>1</th>\n",
       "      <td>2804400009</td>\n",
       "      <td>3642806036</td>\n",
       "      <td>2019-08-15</td>\n",
       "      <td>730</td>\n",
       "      <td>B</td>\n",
       "    </tr>\n",
       "    <tr>\n",
       "      <th>2</th>\n",
       "      <td>2961555356</td>\n",
       "      <td>4069496402</td>\n",
       "      <td>2019-08-15</td>\n",
       "      <td>400</td>\n",
       "      <td>A</td>\n",
       "    </tr>\n",
       "    <tr>\n",
       "      <th>3</th>\n",
       "      <td>3797467345</td>\n",
       "      <td>1196621759</td>\n",
       "      <td>2019-08-15</td>\n",
       "      <td>9759</td>\n",
       "      <td>B</td>\n",
       "    </tr>\n",
       "    <tr>\n",
       "      <th>4</th>\n",
       "      <td>2282983706</td>\n",
       "      <td>2322279887</td>\n",
       "      <td>2019-08-15</td>\n",
       "      <td>2308</td>\n",
       "      <td>B</td>\n",
       "    </tr>\n",
       "  </tbody>\n",
       "</table>\n",
       "</div>"
      ],
      "text/plain": [
       "   transactionId   visitorId       date  revenue group\n",
       "0     3667963787  3312258926 2019-08-15     1650     B\n",
       "1     2804400009  3642806036 2019-08-15      730     B\n",
       "2     2961555356  4069496402 2019-08-15      400     A\n",
       "3     3797467345  1196621759 2019-08-15     9759     B\n",
       "4     2282983706  2322279887 2019-08-15     2308     B"
      ]
     },
     "metadata": {},
     "output_type": "display_data"
    },
    {
     "data": {
      "text/html": [
       "<div>\n",
       "<style scoped>\n",
       "    .dataframe tbody tr th:only-of-type {\n",
       "        vertical-align: middle;\n",
       "    }\n",
       "\n",
       "    .dataframe tbody tr th {\n",
       "        vertical-align: top;\n",
       "    }\n",
       "\n",
       "    .dataframe thead th {\n",
       "        text-align: right;\n",
       "    }\n",
       "</style>\n",
       "<table border=\"1\" class=\"dataframe\">\n",
       "  <thead>\n",
       "    <tr style=\"text-align: right;\">\n",
       "      <th></th>\n",
       "      <th>date</th>\n",
       "      <th>group</th>\n",
       "      <th>visitors</th>\n",
       "    </tr>\n",
       "  </thead>\n",
       "  <tbody>\n",
       "    <tr>\n",
       "      <th>0</th>\n",
       "      <td>2019-08-01</td>\n",
       "      <td>A</td>\n",
       "      <td>719</td>\n",
       "    </tr>\n",
       "    <tr>\n",
       "      <th>1</th>\n",
       "      <td>2019-08-02</td>\n",
       "      <td>A</td>\n",
       "      <td>619</td>\n",
       "    </tr>\n",
       "    <tr>\n",
       "      <th>2</th>\n",
       "      <td>2019-08-03</td>\n",
       "      <td>A</td>\n",
       "      <td>507</td>\n",
       "    </tr>\n",
       "    <tr>\n",
       "      <th>3</th>\n",
       "      <td>2019-08-04</td>\n",
       "      <td>A</td>\n",
       "      <td>717</td>\n",
       "    </tr>\n",
       "    <tr>\n",
       "      <th>4</th>\n",
       "      <td>2019-08-05</td>\n",
       "      <td>A</td>\n",
       "      <td>756</td>\n",
       "    </tr>\n",
       "  </tbody>\n",
       "</table>\n",
       "</div>"
      ],
      "text/plain": [
       "        date group  visitors\n",
       "0 2019-08-01     A       719\n",
       "1 2019-08-02     A       619\n",
       "2 2019-08-03     A       507\n",
       "3 2019-08-04     A       717\n",
       "4 2019-08-05     A       756"
      ]
     },
     "metadata": {},
     "output_type": "display_data"
    }
   ],
   "source": [
    "# откроем и изучим датасеты\n",
    "orders = pd.read_csv('/datasets/orders.csv')\n",
    "\n",
    "orders['date'] = orders['date'].map(\n",
    "    lambda x: dt.datetime.strptime(x, '%Y-%m-%d')\n",
    ")\n",
    "\n",
    "visitors = pd.read_csv('/datasets/visitors.csv')\n",
    "\n",
    "visitors['date'] = visitors['date'].map(\n",
    "    lambda x: dt.datetime.strptime(x, '%Y-%m-%d')\n",
    ")\n",
    "\n",
    "\n",
    "display(orders.head())\n",
    "display(visitors.head())"
   ]
  },
  {
   "cell_type": "code",
   "execution_count": 7,
   "metadata": {},
   "outputs": [
    {
     "name": "stdout",
     "output_type": "stream",
     "text": [
      "Кол-во дубликатов в orders = 0\n",
      "Кол-во дубликатов в visitors = 0\n",
      "<class 'pandas.core.frame.DataFrame'>\n",
      "RangeIndex: 1197 entries, 0 to 1196\n",
      "Data columns (total 5 columns):\n",
      " #   Column         Non-Null Count  Dtype         \n",
      "---  ------         --------------  -----         \n",
      " 0   transactionId  1197 non-null   int64         \n",
      " 1   visitorId      1197 non-null   int64         \n",
      " 2   date           1197 non-null   datetime64[ns]\n",
      " 3   revenue        1197 non-null   int64         \n",
      " 4   group          1197 non-null   object        \n",
      "dtypes: datetime64[ns](1), int64(3), object(1)\n",
      "memory usage: 46.9+ KB\n",
      "None\n",
      "<class 'pandas.core.frame.DataFrame'>\n",
      "RangeIndex: 62 entries, 0 to 61\n",
      "Data columns (total 3 columns):\n",
      " #   Column    Non-Null Count  Dtype         \n",
      "---  ------    --------------  -----         \n",
      " 0   date      62 non-null     datetime64[ns]\n",
      " 1   group     62 non-null     object        \n",
      " 2   visitors  62 non-null     int64         \n",
      "dtypes: datetime64[ns](1), int64(1), object(1)\n",
      "memory usage: 1.6+ KB\n",
      "None\n"
     ]
    }
   ],
   "source": [
    "# проверим на дубликаты и пропуски\n",
    "print(\"Кол-во дубликатов в orders =\",orders.duplicated().sum())\n",
    "print(\"Кол-во дубликатов в visitors =\",visitors.duplicated().sum())\n",
    "\n",
    "print(orders.info())\n",
    "print(visitors.info())"
   ]
  },
  {
   "cell_type": "markdown",
   "metadata": {},
   "source": [
    "### Описание данных\n",
    "Файл /datasets/orders.csv.\n",
    "- transactionId — идентификатор заказа;\n",
    "- visitorId — идентификатор пользователя, совершившего заказ;\n",
    "- date — дата, когда был совершён заказ;\n",
    "- revenue — выручка заказа;\n",
    "- group — группа A/B-теста, в которую попал заказ.\n",
    "\n",
    "Файл /datasets/visitors.csv.\n",
    "- date — дата;\n",
    "- group — группа A/B-теста;\n",
    "- visitors — количество пользователей в указанную дату в указанной группе A/B-теста"
   ]
  },
  {
   "cell_type": "markdown",
   "metadata": {},
   "source": [
    "Проведем дополнительные исследования:"
   ]
  },
  {
   "cell_type": "code",
   "execution_count": 8,
   "metadata": {},
   "outputs": [
    {
     "name": "stdout",
     "output_type": "stream",
     "text": [
      "Группы в файле orders:  ['B' 'A']\n",
      "Группы в файле visitors:  ['A' 'B']\n"
     ]
    }
   ],
   "source": [
    "# узнаем количество групп в АВ-тесте:\n",
    "print('Группы в файле orders: ', orders['group'].unique())\n",
    "print('Группы в файле visitors: ', visitors['group'].unique())"
   ]
  },
  {
   "cell_type": "code",
   "execution_count": 9,
   "metadata": {},
   "outputs": [
    {
     "name": "stdout",
     "output_type": "stream",
     "text": [
      "Минимальная и максимальная дата в файле orders:  2019-08-01 00:00:00 2019-08-31 00:00:00\n",
      "Минимальная и максимальная дата в файле visitors:  2019-08-01 00:00:00 2019-08-31 00:00:00\n"
     ]
    }
   ],
   "source": [
    "# узнаем даты начала и окончания теста:\n",
    "print('Минимальная и максимальная дата в файле orders: ', orders['date'].min(), orders['date'].max())\n",
    "print('Минимальная и максимальная дата в файле visitors: ', visitors['date'].min(), visitors['date'].max())"
   ]
  },
  {
   "cell_type": "code",
   "execution_count": 10,
   "metadata": {},
   "outputs": [
    {
     "name": "stdout",
     "output_type": "stream",
     "text": [
      "visitorId    1031\n",
      "dtype: int64\n",
      "       visitorId\n",
      "group           \n",
      "A            503\n",
      "B            586\n"
     ]
    }
   ],
   "source": [
    "# количество пользователей в каждой группе:\n",
    "print(orders.agg({'visitorId': 'nunique'}))\n",
    "print(orders.groupby('group').agg({'visitorId': 'nunique'}))"
   ]
  },
  {
   "cell_type": "code",
   "execution_count": 11,
   "metadata": {},
   "outputs": [
    {
     "name": "stdout",
     "output_type": "stream",
     "text": [
      "пользователи, попадающие в обе группы теста: \n"
     ]
    }
   ],
   "source": [
    "# посмотрим, не попадают ли какие-то пользователи в обе группы\n",
    "visitorsA = orders[orders['group'] == 'A']['visitorId'].drop_duplicates()\n",
    "visitorsB = orders[orders['group'] == 'B']['visitorId'].drop_duplicates()\n",
    "\n",
    "print('пользователи, попадающие в обе группы теста: ')\n",
    "for i in visitorsA:\n",
    "    if i in visitorsB:\n",
    "        print(i)"
   ]
  },
  {
   "cell_type": "markdown",
   "metadata": {},
   "source": [
    "В наших данных нет пользователей, попавших в обе группы теста."
   ]
  },
  {
   "cell_type": "code",
   "execution_count": 12,
   "metadata": {},
   "outputs": [
    {
     "name": "stdout",
     "output_type": "stream",
     "text": [
      "transactionId    1197\n",
      "dtype: int64\n"
     ]
    }
   ],
   "source": [
    "# общее количество заказов:\n",
    "print(orders.agg({'transactionId': 'nunique'}))"
   ]
  },
  {
   "cell_type": "markdown",
   "metadata": {},
   "source": [
    "#### Вывод:\n",
    "- В нашем тесте 2 группы: A и В;\n",
    "- Тест проходил с 1 по 31 августа 2019 года;\n",
    "- В исследовании приняли участие 1031 пользователей, 503 в группе А и 586 в группе В;\n",
    "- В наших данных нет пользователей, попавших в обе группы теста. "
   ]
  },
  {
   "cell_type": "markdown",
   "metadata": {},
   "source": [
    "### Предобработка данных"
   ]
  },
  {
   "cell_type": "markdown",
   "metadata": {},
   "source": [
    "В нашем распоряжении имеются датафреймы orders, содержащий информацию о заказах и посетителях интернет-магазина, полученные в рамках A/B тестирования, и visitors, содержащий количество пользователей в указанную дату в указанной группе A/B-теста. Получим новый датасет, содержащий кумулятивные данные."
   ]
  },
  {
   "cell_type": "code",
   "execution_count": 13,
   "metadata": {},
   "outputs": [
    {
     "data": {
      "text/html": [
       "<div>\n",
       "<style scoped>\n",
       "    .dataframe tbody tr th:only-of-type {\n",
       "        vertical-align: middle;\n",
       "    }\n",
       "\n",
       "    .dataframe tbody tr th {\n",
       "        vertical-align: top;\n",
       "    }\n",
       "\n",
       "    .dataframe thead th {\n",
       "        text-align: right;\n",
       "    }\n",
       "</style>\n",
       "<table border=\"1\" class=\"dataframe\">\n",
       "  <thead>\n",
       "    <tr style=\"text-align: right;\">\n",
       "      <th></th>\n",
       "      <th>date</th>\n",
       "      <th>visitorsPerDateA</th>\n",
       "    </tr>\n",
       "  </thead>\n",
       "  <tbody>\n",
       "    <tr>\n",
       "      <th>0</th>\n",
       "      <td>2019-08-01</td>\n",
       "      <td>719</td>\n",
       "    </tr>\n",
       "    <tr>\n",
       "      <th>1</th>\n",
       "      <td>2019-08-02</td>\n",
       "      <td>619</td>\n",
       "    </tr>\n",
       "    <tr>\n",
       "      <th>2</th>\n",
       "      <td>2019-08-03</td>\n",
       "      <td>507</td>\n",
       "    </tr>\n",
       "    <tr>\n",
       "      <th>3</th>\n",
       "      <td>2019-08-04</td>\n",
       "      <td>717</td>\n",
       "    </tr>\n",
       "    <tr>\n",
       "      <th>4</th>\n",
       "      <td>2019-08-05</td>\n",
       "      <td>756</td>\n",
       "    </tr>\n",
       "  </tbody>\n",
       "</table>\n",
       "</div>"
      ],
      "text/plain": [
       "        date  visitorsPerDateA\n",
       "0 2019-08-01               719\n",
       "1 2019-08-02               619\n",
       "2 2019-08-03               507\n",
       "3 2019-08-04               717\n",
       "4 2019-08-05               756"
      ]
     },
     "execution_count": 13,
     "metadata": {},
     "output_type": "execute_result"
    }
   ],
   "source": [
    "visitorsADaily = visitors[visitors['group'] == 'A'][['date', 'visitors']]\n",
    "visitorsADaily.columns = ['date', 'visitorsPerDateA']\n",
    "\n",
    "visitorsACummulative = visitorsADaily.apply(\n",
    "    lambda x: visitorsADaily[visitorsADaily['date'] <= x['date']].agg(\n",
    "        {'date': 'max', 'visitorsPerDateA': 'sum'}\n",
    "    ),\n",
    "    axis=1,\n",
    ")\n",
    "visitorsACummulative.columns = ['date', 'visitorsCummulativeA']\n",
    "visitorsADaily.head()"
   ]
  },
  {
   "cell_type": "code",
   "execution_count": 14,
   "metadata": {},
   "outputs": [
    {
     "data": {
      "text/html": [
       "<div>\n",
       "<style scoped>\n",
       "    .dataframe tbody tr th:only-of-type {\n",
       "        vertical-align: middle;\n",
       "    }\n",
       "\n",
       "    .dataframe tbody tr th {\n",
       "        vertical-align: top;\n",
       "    }\n",
       "\n",
       "    .dataframe thead th {\n",
       "        text-align: right;\n",
       "    }\n",
       "</style>\n",
       "<table border=\"1\" class=\"dataframe\">\n",
       "  <thead>\n",
       "    <tr style=\"text-align: right;\">\n",
       "      <th></th>\n",
       "      <th>date</th>\n",
       "      <th>visitorsCummulativeB</th>\n",
       "    </tr>\n",
       "  </thead>\n",
       "  <tbody>\n",
       "    <tr>\n",
       "      <th>31</th>\n",
       "      <td>2019-08-01</td>\n",
       "      <td>713</td>\n",
       "    </tr>\n",
       "    <tr>\n",
       "      <th>32</th>\n",
       "      <td>2019-08-02</td>\n",
       "      <td>1294</td>\n",
       "    </tr>\n",
       "    <tr>\n",
       "      <th>33</th>\n",
       "      <td>2019-08-03</td>\n",
       "      <td>1803</td>\n",
       "    </tr>\n",
       "    <tr>\n",
       "      <th>34</th>\n",
       "      <td>2019-08-04</td>\n",
       "      <td>2573</td>\n",
       "    </tr>\n",
       "    <tr>\n",
       "      <th>35</th>\n",
       "      <td>2019-08-05</td>\n",
       "      <td>3280</td>\n",
       "    </tr>\n",
       "  </tbody>\n",
       "</table>\n",
       "</div>"
      ],
      "text/plain": [
       "         date  visitorsCummulativeB\n",
       "31 2019-08-01                   713\n",
       "32 2019-08-02                  1294\n",
       "33 2019-08-03                  1803\n",
       "34 2019-08-04                  2573\n",
       "35 2019-08-05                  3280"
      ]
     },
     "execution_count": 14,
     "metadata": {},
     "output_type": "execute_result"
    }
   ],
   "source": [
    "visitorsBDaily = visitors[visitors['group'] == 'B'][['date', 'visitors']]\n",
    "visitorsBDaily.columns = ['date', 'visitorsPerDateB']\n",
    "\n",
    "visitorsBCummulative = visitorsBDaily.apply(\n",
    "    lambda x: visitorsBDaily[visitorsBDaily['date'] <= x['date']].agg(\n",
    "        {'date': 'max', 'visitorsPerDateB': 'sum'}\n",
    "    ),\n",
    "    axis=1,\n",
    ")\n",
    "visitorsBCummulative.columns = ['date', 'visitorsCummulativeB']\n",
    "visitorsBCummulative.head()"
   ]
  },
  {
   "cell_type": "code",
   "execution_count": 15,
   "metadata": {},
   "outputs": [
    {
     "data": {
      "image/png": "[encoded data removed]",
      "text/plain": [
       "<Figure size 1080x360 with 1 Axes>"
      ]
     },
     "metadata": {
      "needs_background": "light"
     },
     "output_type": "display_data"
    }
   ],
   "source": [
    "# посмотрим на динамику пользователей по дням:\n",
    "plt.figure(figsize=(15,5))\n",
    "\n",
    "plt.plot(visitorsADaily['date'], visitorsADaily['visitorsPerDateA'], label='A')\n",
    "plt.plot(visitorsBDaily['date'], visitorsBDaily['visitorsPerDateB'], label='B')\n",
    "plt.title('динамика пользователей по дням')\n",
    "plt.xlabel('дата')\n",
    "plt.ylabel('кол-во пользователей')\n",
    "plt.show()"
   ]
  },
  {
   "cell_type": "markdown",
   "metadata": {},
   "source": [
    "Динамика пользователей в обеих группах циклична и имеет общие тенденции. "
   ]
  },
  {
   "cell_type": "code",
   "execution_count": 16,
   "metadata": {},
   "outputs": [
    {
     "data": {
      "text/html": [
       "<div>\n",
       "<style scoped>\n",
       "    .dataframe tbody tr th:only-of-type {\n",
       "        vertical-align: middle;\n",
       "    }\n",
       "\n",
       "    .dataframe tbody tr th {\n",
       "        vertical-align: top;\n",
       "    }\n",
       "\n",
       "    .dataframe thead th {\n",
       "        text-align: right;\n",
       "    }\n",
       "</style>\n",
       "<table border=\"1\" class=\"dataframe\">\n",
       "  <thead>\n",
       "    <tr style=\"text-align: right;\">\n",
       "      <th></th>\n",
       "      <th>date</th>\n",
       "      <th>ordersCummulativeA</th>\n",
       "      <th>revenueCummulativeA</th>\n",
       "    </tr>\n",
       "  </thead>\n",
       "  <tbody>\n",
       "    <tr>\n",
       "      <th>0</th>\n",
       "      <td>2019-08-01</td>\n",
       "      <td>24</td>\n",
       "      <td>148579</td>\n",
       "    </tr>\n",
       "    <tr>\n",
       "      <th>1</th>\n",
       "      <td>2019-08-02</td>\n",
       "      <td>44</td>\n",
       "      <td>242401</td>\n",
       "    </tr>\n",
       "    <tr>\n",
       "      <th>2</th>\n",
       "      <td>2019-08-03</td>\n",
       "      <td>68</td>\n",
       "      <td>354874</td>\n",
       "    </tr>\n",
       "    <tr>\n",
       "      <th>3</th>\n",
       "      <td>2019-08-04</td>\n",
       "      <td>84</td>\n",
       "      <td>425699</td>\n",
       "    </tr>\n",
       "    <tr>\n",
       "      <th>4</th>\n",
       "      <td>2019-08-05</td>\n",
       "      <td>109</td>\n",
       "      <td>549917</td>\n",
       "    </tr>\n",
       "  </tbody>\n",
       "</table>\n",
       "</div>"
      ],
      "text/plain": [
       "        date  ordersCummulativeA  revenueCummulativeA\n",
       "0 2019-08-01                  24               148579\n",
       "1 2019-08-02                  44               242401\n",
       "2 2019-08-03                  68               354874\n",
       "3 2019-08-04                  84               425699\n",
       "4 2019-08-05                 109               549917"
      ]
     },
     "execution_count": 16,
     "metadata": {},
     "output_type": "execute_result"
    }
   ],
   "source": [
    "ordersADaily = (\n",
    "    orders[orders['group'] == 'A'][['date', 'transactionId', 'visitorId', 'revenue']]\n",
    "    .groupby('date', as_index=False)\n",
    "    .agg({'transactionId': pd.Series.nunique, 'revenue': 'sum'})\n",
    ")\n",
    "ordersADaily.columns = ['date', 'ordersPerDateA', 'revenuePerDateA']\n",
    "\n",
    "ordersACummulative = ordersADaily.apply(\n",
    "    lambda x: ordersADaily[ordersADaily['date'] <= x['date']].agg(\n",
    "        {'date': 'max', 'ordersPerDateA': 'sum', 'revenuePerDateA': 'sum'}\n",
    "    ),\n",
    "    axis=1,\n",
    ").sort_values(by=['date'])\n",
    "ordersACummulative.columns = [\n",
    "    'date',\n",
    "    'ordersCummulativeA',\n",
    "    'revenueCummulativeA',\n",
    "]\n",
    "\n",
    "ordersACummulative.head()"
   ]
  },
  {
   "cell_type": "code",
   "execution_count": 17,
   "metadata": {},
   "outputs": [
    {
     "data": {
      "text/html": [
       "<div>\n",
       "<style scoped>\n",
       "    .dataframe tbody tr th:only-of-type {\n",
       "        vertical-align: middle;\n",
       "    }\n",
       "\n",
       "    .dataframe tbody tr th {\n",
       "        vertical-align: top;\n",
       "    }\n",
       "\n",
       "    .dataframe thead th {\n",
       "        text-align: right;\n",
       "    }\n",
       "</style>\n",
       "<table border=\"1\" class=\"dataframe\">\n",
       "  <thead>\n",
       "    <tr style=\"text-align: right;\">\n",
       "      <th></th>\n",
       "      <th>date</th>\n",
       "      <th>ordersCummulativeB</th>\n",
       "      <th>revenueCummulativeB</th>\n",
       "    </tr>\n",
       "  </thead>\n",
       "  <tbody>\n",
       "    <tr>\n",
       "      <th>0</th>\n",
       "      <td>2019-08-01</td>\n",
       "      <td>21</td>\n",
       "      <td>101217</td>\n",
       "    </tr>\n",
       "    <tr>\n",
       "      <th>1</th>\n",
       "      <td>2019-08-02</td>\n",
       "      <td>45</td>\n",
       "      <td>266748</td>\n",
       "    </tr>\n",
       "    <tr>\n",
       "      <th>2</th>\n",
       "      <td>2019-08-03</td>\n",
       "      <td>61</td>\n",
       "      <td>380996</td>\n",
       "    </tr>\n",
       "    <tr>\n",
       "      <th>3</th>\n",
       "      <td>2019-08-04</td>\n",
       "      <td>78</td>\n",
       "      <td>489567</td>\n",
       "    </tr>\n",
       "    <tr>\n",
       "      <th>4</th>\n",
       "      <td>2019-08-05</td>\n",
       "      <td>101</td>\n",
       "      <td>581995</td>\n",
       "    </tr>\n",
       "  </tbody>\n",
       "</table>\n",
       "</div>"
      ],
      "text/plain": [
       "        date  ordersCummulativeB  revenueCummulativeB\n",
       "0 2019-08-01                  21               101217\n",
       "1 2019-08-02                  45               266748\n",
       "2 2019-08-03                  61               380996\n",
       "3 2019-08-04                  78               489567\n",
       "4 2019-08-05                 101               581995"
      ]
     },
     "execution_count": 17,
     "metadata": {},
     "output_type": "execute_result"
    }
   ],
   "source": [
    "ordersBDaily = (\n",
    "    orders[orders['group'] == 'B'][['date', 'transactionId', 'visitorId', 'revenue']]\n",
    "    .groupby('date', as_index=False)\n",
    "    .agg({'transactionId': pd.Series.nunique, 'revenue': 'sum'})\n",
    ")\n",
    "ordersBDaily.columns = ['date', 'ordersPerDateB', 'revenuePerDateB']\n",
    "\n",
    "ordersBCummulative = ordersBDaily.apply(\n",
    "    lambda x: ordersBDaily[ordersBDaily['date'] <= x['date']].agg(\n",
    "        {'date': 'max', 'ordersPerDateB': 'sum', 'revenuePerDateB': 'sum'}\n",
    "    ),\n",
    "    axis=1,\n",
    ").sort_values(by=['date'])\n",
    "ordersBCummulative.columns = [\n",
    "    'date',\n",
    "    'ordersCummulativeB',\n",
    "    'revenueCummulativeB',\n",
    "]\n",
    "ordersBCummulative.head()"
   ]
  },
  {
   "cell_type": "code",
   "execution_count": 18,
   "metadata": {},
   "outputs": [
    {
     "data": {
      "text/html": [
       "<div>\n",
       "<style scoped>\n",
       "    .dataframe tbody tr th:only-of-type {\n",
       "        vertical-align: middle;\n",
       "    }\n",
       "\n",
       "    .dataframe tbody tr th {\n",
       "        vertical-align: top;\n",
       "    }\n",
       "\n",
       "    .dataframe thead th {\n",
       "        text-align: right;\n",
       "    }\n",
       "</style>\n",
       "<table border=\"1\" class=\"dataframe\">\n",
       "  <thead>\n",
       "    <tr style=\"text-align: right;\">\n",
       "      <th></th>\n",
       "      <th>date</th>\n",
       "      <th>ordersPerDateA</th>\n",
       "      <th>revenuePerDateA</th>\n",
       "      <th>ordersPerDateB</th>\n",
       "      <th>revenuePerDateB</th>\n",
       "      <th>ordersCummulativeA</th>\n",
       "      <th>revenueCummulativeA</th>\n",
       "      <th>ordersCummulativeB</th>\n",
       "      <th>revenueCummulativeB</th>\n",
       "      <th>visitorsPerDateA</th>\n",
       "      <th>visitorsPerDateB</th>\n",
       "      <th>visitorsCummulativeA</th>\n",
       "      <th>visitorsCummulativeB</th>\n",
       "    </tr>\n",
       "  </thead>\n",
       "  <tbody>\n",
       "    <tr>\n",
       "      <th>0</th>\n",
       "      <td>2019-08-01</td>\n",
       "      <td>24</td>\n",
       "      <td>148579</td>\n",
       "      <td>21</td>\n",
       "      <td>101217</td>\n",
       "      <td>24</td>\n",
       "      <td>148579</td>\n",
       "      <td>21</td>\n",
       "      <td>101217</td>\n",
       "      <td>719</td>\n",
       "      <td>713</td>\n",
       "      <td>719</td>\n",
       "      <td>713</td>\n",
       "    </tr>\n",
       "    <tr>\n",
       "      <th>1</th>\n",
       "      <td>2019-08-02</td>\n",
       "      <td>20</td>\n",
       "      <td>93822</td>\n",
       "      <td>24</td>\n",
       "      <td>165531</td>\n",
       "      <td>44</td>\n",
       "      <td>242401</td>\n",
       "      <td>45</td>\n",
       "      <td>266748</td>\n",
       "      <td>619</td>\n",
       "      <td>581</td>\n",
       "      <td>1338</td>\n",
       "      <td>1294</td>\n",
       "    </tr>\n",
       "    <tr>\n",
       "      <th>2</th>\n",
       "      <td>2019-08-03</td>\n",
       "      <td>24</td>\n",
       "      <td>112473</td>\n",
       "      <td>16</td>\n",
       "      <td>114248</td>\n",
       "      <td>68</td>\n",
       "      <td>354874</td>\n",
       "      <td>61</td>\n",
       "      <td>380996</td>\n",
       "      <td>507</td>\n",
       "      <td>509</td>\n",
       "      <td>1845</td>\n",
       "      <td>1803</td>\n",
       "    </tr>\n",
       "    <tr>\n",
       "      <th>3</th>\n",
       "      <td>2019-08-04</td>\n",
       "      <td>16</td>\n",
       "      <td>70825</td>\n",
       "      <td>17</td>\n",
       "      <td>108571</td>\n",
       "      <td>84</td>\n",
       "      <td>425699</td>\n",
       "      <td>78</td>\n",
       "      <td>489567</td>\n",
       "      <td>717</td>\n",
       "      <td>770</td>\n",
       "      <td>2562</td>\n",
       "      <td>2573</td>\n",
       "    </tr>\n",
       "    <tr>\n",
       "      <th>4</th>\n",
       "      <td>2019-08-05</td>\n",
       "      <td>25</td>\n",
       "      <td>124218</td>\n",
       "      <td>23</td>\n",
       "      <td>92428</td>\n",
       "      <td>109</td>\n",
       "      <td>549917</td>\n",
       "      <td>101</td>\n",
       "      <td>581995</td>\n",
       "      <td>756</td>\n",
       "      <td>707</td>\n",
       "      <td>3318</td>\n",
       "      <td>3280</td>\n",
       "    </tr>\n",
       "  </tbody>\n",
       "</table>\n",
       "</div>"
      ],
      "text/plain": [
       "        date  ordersPerDateA  revenuePerDateA  ordersPerDateB  \\\n",
       "0 2019-08-01              24           148579              21   \n",
       "1 2019-08-02              20            93822              24   \n",
       "2 2019-08-03              24           112473              16   \n",
       "3 2019-08-04              16            70825              17   \n",
       "4 2019-08-05              25           124218              23   \n",
       "\n",
       "   revenuePerDateB  ordersCummulativeA  revenueCummulativeA  \\\n",
       "0           101217                  24               148579   \n",
       "1           165531                  44               242401   \n",
       "2           114248                  68               354874   \n",
       "3           108571                  84               425699   \n",
       "4            92428                 109               549917   \n",
       "\n",
       "   ordersCummulativeB  revenueCummulativeB  visitorsPerDateA  \\\n",
       "0                  21               101217               719   \n",
       "1                  45               266748               619   \n",
       "2                  61               380996               507   \n",
       "3                  78               489567               717   \n",
       "4                 101               581995               756   \n",
       "\n",
       "   visitorsPerDateB  visitorsCummulativeA  visitorsCummulativeB  \n",
       "0               713                   719                   713  \n",
       "1               581                  1338                  1294  \n",
       "2               509                  1845                  1803  \n",
       "3               770                  2562                  2573  \n",
       "4               707                  3318                  3280  "
      ]
     },
     "execution_count": 18,
     "metadata": {},
     "output_type": "execute_result"
    }
   ],
   "source": [
    "data = (\n",
    "    ordersADaily.merge(\n",
    "        ordersBDaily, left_on='date', right_on='date', how='left'\n",
    "    )\n",
    "    .merge(ordersACummulative, left_on='date', right_on='date', how='left')\n",
    "    .merge(ordersBCummulative, left_on='date', right_on='date', how='left')\n",
    "    .merge(visitorsADaily, left_on='date', right_on='date', how='left')\n",
    "    .merge(visitorsBDaily, left_on='date', right_on='date', how='left')\n",
    "    .merge(visitorsACummulative, left_on='date', right_on='date', how='left')\n",
    "    .merge(visitorsBCummulative, left_on='date', right_on='date', how='left')\n",
    ")\n",
    "\n",
    "data.head(5)"
   ]
  },
  {
   "cell_type": "code",
   "execution_count": 19,
   "metadata": {},
   "outputs": [
    {
     "name": "stdout",
     "output_type": "stream",
     "text": [
      "Дата начала и конца теста:  2019-08-01 00:00:00 2019-08-31 00:00:00\n",
      "<class 'pandas.core.frame.DataFrame'>\n",
      "Int64Index: 31 entries, 0 to 30\n",
      "Data columns (total 13 columns):\n",
      " #   Column                Non-Null Count  Dtype         \n",
      "---  ------                --------------  -----         \n",
      " 0   date                  31 non-null     datetime64[ns]\n",
      " 1   ordersPerDateA        31 non-null     int64         \n",
      " 2   revenuePerDateA       31 non-null     int64         \n",
      " 3   ordersPerDateB        31 non-null     int64         \n",
      " 4   revenuePerDateB       31 non-null     int64         \n",
      " 5   ordersCummulativeA    31 non-null     int64         \n",
      " 6   revenueCummulativeA   31 non-null     int64         \n",
      " 7   ordersCummulativeB    31 non-null     int64         \n",
      " 8   revenueCummulativeB   31 non-null     int64         \n",
      " 9   visitorsPerDateA      31 non-null     int64         \n",
      " 10  visitorsPerDateB      31 non-null     int64         \n",
      " 11  visitorsCummulativeA  31 non-null     int64         \n",
      " 12  visitorsCummulativeB  31 non-null     int64         \n",
      "dtypes: datetime64[ns](1), int64(12)\n",
      "memory usage: 3.4 KB\n",
      "None\n",
      "общее количество заказов :  1197\n"
     ]
    }
   ],
   "source": [
    "# проверим, корректно ли создан датафрейм:\n",
    "print(\"Дата начала и конца теста: \", data['date'].min(), data['date'].max())\n",
    "print(data.info())\n",
    "print(\"общее количество заказов : \", data['ordersCummulativeA'].max() + data['ordersCummulativeB'].max())"
   ]
  },
  {
   "cell_type": "markdown",
   "metadata": {},
   "source": [
    "Датасет создан корректно, приступаем к анализу."
   ]
  },
  {
   "cell_type": "markdown",
   "metadata": {},
   "source": [
    "### Выручка по дням"
   ]
  },
  {
   "cell_type": "markdown",
   "metadata": {},
   "source": [
    "Построим графики кумулятивной выручки по дням и группам A/B:"
   ]
  },
  {
   "cell_type": "code",
   "execution_count": 20,
   "metadata": {},
   "outputs": [
    {
     "data": {
      "image/png": "[encoded data removed]",
      "text/plain": [
       "<Figure size 1080x360 with 1 Axes>"
      ]
     },
     "metadata": {
      "needs_background": "light"
     },
     "output_type": "display_data"
    }
   ],
   "source": [
    "plt.figure(figsize=(15,5))\n",
    "\n",
    "# Строим график выручки группы А\n",
    "plt.plot(data['date'], data['revenueCummulativeA'], label='A')\n",
    "# Строим график выручки группы B\n",
    "plt.plot(data['date'], data['revenueCummulativeB'], label='B')\n",
    "plt.legend()\n",
    "plt.title('кумулятивная выручка по дням и группам')\n",
    "plt.xlabel('дата')\n",
    "plt.ylabel('выручка')\n",
    "plt.show()"
   ]
  },
  {
   "cell_type": "markdown",
   "metadata": {},
   "source": [
    "Выручка почти равномерно увеличивается в течение всего теста. Однако график выручки B группе в одной точке резко растет. Это может сигнализировать о всплесках числа заказов, либо о появлении очень дорогих заказов в выборке."
   ]
  },
  {
   "cell_type": "markdown",
   "metadata": {},
   "source": [
    "### Средний чек"
   ]
  },
  {
   "cell_type": "markdown",
   "metadata": {},
   "source": [
    "Построим графики среднего чека по группам — разделим кумулятивную выручку на кумулятивное число заказов:"
   ]
  },
  {
   "cell_type": "code",
   "execution_count": 21,
   "metadata": {},
   "outputs": [
    {
     "data": {
      "image/png": "[encoded data removed]",
      "text/plain": [
       "<Figure size 1080x360 with 1 Axes>"
      ]
     },
     "metadata": {
      "needs_background": "light"
     },
     "output_type": "display_data"
    }
   ],
   "source": [
    "plt.figure(figsize=(15,5))\n",
    "\n",
    "plt.plot(data['date'], data['revenueCummulativeA']/data['ordersCummulativeA'], label='A')\n",
    "plt.plot(data['date'], data['revenueCummulativeB']/data['ordersCummulativeB'], label='B')\n",
    "plt.legend()\n",
    "plt.title('кумулятивный средний чек по группам')\n",
    "plt.xlabel('дата')\n",
    "plt.ylabel('средний чек')\n",
    "plt.show()"
   ]
  },
  {
   "cell_type": "markdown",
   "metadata": {},
   "source": [
    "В группе А график среднего чека с начала теста начинается с падения, посередине идет резкий подъем и во второй половине теста он выравнивается. Возможно, это связано с небольшим количеством заказов в начале теста.\n",
    "\n",
    "Для группы B средний чек растет скачкообразно и ближе к концу теста продолжает медленно и равномерно уменьшаться. Возможно, в эту группу попали крупные заказы (резкие подъемы на графике), тогда нужно больше данных, чтобы прийти к реальному среднему чеку и установиться на его уровне."
   ]
  },
  {
   "cell_type": "markdown",
   "metadata": {},
   "source": [
    "### Относительное различие среднего чека"
   ]
  },
  {
   "cell_type": "code",
   "execution_count": 22,
   "metadata": {},
   "outputs": [
    {
     "data": {
      "image/png": "[encoded data removed]",
      "text/plain": [
       "<Figure size 1080x360 with 1 Axes>"
      ]
     },
     "metadata": {
      "needs_background": "light"
     },
     "output_type": "display_data"
    }
   ],
   "source": [
    "plt.figure(figsize=(15,5))\n",
    "\n",
    "# cтроим отношение средних чеков\n",
    "plt.plot(data['date'], (data['revenueCummulativeB']/data['ordersCummulativeB'])/(data['revenueCummulativeA']/data['ordersCummulativeA'])-1)\n",
    "\n",
    "# добавляем ось X\n",
    "plt.axhline(y=0, color='black', linestyle='--')\n",
    "\n",
    "plt.title('относительное различие среднего чека')\n",
    "plt.xlabel('дата')\n",
    "plt.show()"
   ]
  },
  {
   "cell_type": "markdown",
   "metadata": {},
   "source": [
    "В нескольких точках график различия между сегментами резко «скачет». Где-то точно есть крупные заказы и выбросы! "
   ]
  },
  {
   "cell_type": "markdown",
   "metadata": {},
   "source": [
    "### Cреднее количество заказов на посетителя"
   ]
  },
  {
   "cell_type": "code",
   "execution_count": 23,
   "metadata": {},
   "outputs": [
    {
     "data": {
      "image/png": "[encoded data removed]",
      "text/plain": [
       "<Figure size 1080x360 with 1 Axes>"
      ]
     },
     "metadata": {
      "needs_background": "light"
     },
     "output_type": "display_data"
    }
   ],
   "source": [
    "plt.figure(figsize=(15,5))\n",
    "\n",
    "# строим график кумулятивного среднего количества заказов на посетителя по группам\n",
    "\n",
    "plt.plot(data['date'], data['ordersCummulativeA']/data['visitorsCummulativeA']*100, label='A')\n",
    "plt.plot(data['date'], data['ordersCummulativeB']/data['visitorsCummulativeB']*100, label='B')\n",
    "\n",
    "plt.legend()\n",
    "plt.title('кумулятивное среднее количество заказов на посетителя')\n",
    "plt.xlabel('дата')\n",
    "plt.ylabel('кол-во заказов')\n",
    "plt.show()"
   ]
  },
  {
   "cell_type": "markdown",
   "metadata": {},
   "source": [
    "В начале теста наблюдаются скачки в обеих группах, под конец графики расходятся и стабилизируются. Посетители группы В делают повторные заказы чаще посетителей из группы А. "
   ]
  },
  {
   "cell_type": "markdown",
   "metadata": {},
   "source": [
    "### Относительное изменение среднего кол-ва заказов"
   ]
  },
  {
   "cell_type": "code",
   "execution_count": 24,
   "metadata": {},
   "outputs": [
    {
     "data": {
      "image/png": "[encoded data removed]",
      "text/plain": [
       "<Figure size 1080x360 with 1 Axes>"
      ]
     },
     "metadata": {
      "needs_background": "light"
     },
     "output_type": "display_data"
    }
   ],
   "source": [
    "plt.figure(figsize=(15,5))\n",
    "\n",
    "plt.plot(data['date'], (data['ordersCummulativeB'] / data['visitorsCummulativeB'])/(data['ordersCummulativeA'] / data['visitorsCummulativeA']) - 1, label=\"Изменение\")\n",
    "plt.legend()\n",
    "# добавляем ось X\n",
    "plt.axhline(y=0, color='black', linestyle='--') \n",
    "plt.title('Относительное изменение среднего количества заказов')\n",
    "plt.xlabel('дата')\n",
    "plt.show()"
   ]
  },
  {
   "cell_type": "markdown",
   "metadata": {},
   "source": [
    "График различия между сегментами резко «скачет» в самом начале теста. Надо искать аномалии."
   ]
  },
  {
   "cell_type": "markdown",
   "metadata": {},
   "source": [
    "###  Количество заказов на пользователя"
   ]
  },
  {
   "cell_type": "code",
   "execution_count": 25,
   "metadata": {},
   "outputs": [
    {
     "data": {
      "image/png": "[encoded data removed]",
      "text/plain": [
       "<Figure size 1080x360 with 1 Axes>"
      ]
     },
     "metadata": {
      "needs_background": "light"
     },
     "output_type": "display_data"
    }
   ],
   "source": [
    "plt.figure(figsize=(15,5))\n",
    "\n",
    "# построим точечную диаграмму числа заказов на одного пользователя: \n",
    "\n",
    "ordersByUsers = (\n",
    "    orders.groupby('visitorId', as_index=False)\n",
    "    .agg({'transactionId': 'nunique'})\n",
    ")\n",
    "\n",
    "ordersByUsers.columns = ['visitorId', 'orders']\n",
    "\n",
    "x_values = pd.Series(range(0,len(ordersByUsers)))\n",
    "plt.scatter(x_values, ordersByUsers['orders'])\n",
    "\n",
    "plt.title('количество заказов по пользователям')\n",
    "plt.xlabel('пользователи')\n",
    "plt.ylabel('кол-во заказов')\n",
    "plt.show()"
   ]
  },
  {
   "cell_type": "markdown",
   "metadata": {},
   "source": [
    "Большинство покупателей заказывали только один раз. Много пользователей с 2-3 заказами. Встречаются пользователи с 4-5 заказами, их точная доля не ясна — непонятно, считать их аномалиями или нет."
   ]
  },
  {
   "cell_type": "markdown",
   "metadata": {},
   "source": [
    "### Граница для определения аномальных пользователей"
   ]
  },
  {
   "cell_type": "code",
   "execution_count": 26,
   "metadata": {},
   "outputs": [
    {
     "name": "stdout",
     "output_type": "stream",
     "text": [
      "Рассчитаем 90 ,95 и 99 перцентили по заказам :  [1. 2. 4.]\n"
     ]
    }
   ],
   "source": [
    "# посчитаем выборочные перцентили количества заказов на одного пользователя:\n",
    "print('Рассчитаем 90 ,95 и 99 перцентили по заказам : ', np.percentile(ordersByUsers['orders'], [90, 95, 99])) "
   ]
  },
  {
   "cell_type": "markdown",
   "metadata": {},
   "source": [
    "Не более 1% пользователей оформляли больше чем 4 заказа. И 5% пользователей заказывали более 2 раз. Для большей точности рассчитаем все процентили с 95 по 99:"
   ]
  },
  {
   "cell_type": "code",
   "execution_count": 27,
   "metadata": {},
   "outputs": [
    {
     "name": "stdout",
     "output_type": "stream",
     "text": [
      "перцентили c 95 по 99 (по заказам) :  [2. 2. 2. 3. 4.]\n"
     ]
    }
   ],
   "source": [
    "print('перцентили c 95 по 99 (по заказам) : ', np.percentile(ordersByUsers['orders'], [95,96,97,98,99])) "
   ]
  },
  {
   "cell_type": "markdown",
   "metadata": {},
   "source": [
    "Теперь видно, что большинство (98%) пользователей делают 1 или 2 заказа. Всё что выше - это аномалия. Возьмем 3 заказа на одного пользователя за верхнюю границу числа заказов, и отсеим аномальных пользователей по ней. "
   ]
  },
  {
   "cell_type": "markdown",
   "metadata": {},
   "source": [
    "### Стоимость заказов"
   ]
  },
  {
   "cell_type": "code",
   "execution_count": 28,
   "metadata": {},
   "outputs": [
    {
     "data": {
      "image/png": "[encoded data removed]",
      "text/plain": [
       "<Figure size 1080x360 with 1 Axes>"
      ]
     },
     "metadata": {
      "needs_background": "light"
     },
     "output_type": "display_data"
    }
   ],
   "source": [
    "plt.figure(figsize=(15,5))\n",
    "# Оценим стоимость заказов с помощью точечного графика:\n",
    "x_values = pd.Series(range(0,len(orders['revenue'])))\n",
    "plt.scatter(x_values, orders['revenue'])\n",
    "plt.title('стоимость заказов')\n",
    "plt.xlabel('заказы')\n",
    "plt.ylabel('стоимость заказа')\n",
    "plt.show()"
   ]
  },
  {
   "cell_type": "markdown",
   "metadata": {},
   "source": [
    "Есть несколько анамально дорогих заказов. По графику сложно выбрать границу аномальных значений. Построим более наглядный график, для это уберем явные выбросы с 'revenue' большим 195000:"
   ]
  },
  {
   "cell_type": "code",
   "execution_count": 29,
   "metadata": {},
   "outputs": [
    {
     "data": {
      "image/png": "[encoded data removed]",
      "text/plain": [
       "<Figure size 1080x360 with 1 Axes>"
      ]
     },
     "metadata": {
      "needs_background": "light"
     },
     "output_type": "display_data"
    }
   ],
   "source": [
    "orders_filtered = orders[orders['revenue']<=195000]\n",
    "\n",
    "plt.figure(figsize=(15,5))\n",
    "# Оценим стоимость заказов с помощью точечного графика:\n",
    "x_values = pd.Series(range(0,len(orders_filtered['revenue'])))\n",
    "plt.scatter(x_values, orders_filtered['revenue'])\n",
    "plt.title('стоимость заказов')\n",
    "plt.xlabel('заказы')\n",
    "plt.ylabel('стоимость заказа')\n",
    "plt.grid()\n",
    "plt.show()"
   ]
  },
  {
   "cell_type": "markdown",
   "metadata": {},
   "source": [
    "Большинство заказов по стоимости не привышают 20000. Заказы стоимостью более 60000 кажутся аномалией. Чтобы найти более точную границу аномальных заказов рассчитаем процентили."
   ]
  },
  {
   "cell_type": "markdown",
   "metadata": {},
   "source": [
    "### Граница для определения аномальных заказов"
   ]
  },
  {
   "cell_type": "code",
   "execution_count": 30,
   "metadata": {},
   "outputs": [
    {
     "name": "stdout",
     "output_type": "stream",
     "text": [
      "Рассчитаем 90, 95 и 99 перцентили по выручке заказов :  [18168.  28000.  58233.2]\n"
     ]
    }
   ],
   "source": [
    "# определим 90, 95 и 99 перцентили среднего чека в выборке:\n",
    "print('Рассчитаем 90, 95 и 99 перцентили по выручке заказов : ', np.percentile(orders['revenue'], [90, 95, 99])) "
   ]
  },
  {
   "cell_type": "markdown",
   "metadata": {},
   "source": [
    "Не более 10% заказов дороже 18 168 рублей и не более 5% заказов дороже 28 000 рублей. 99% заказов меньше суммы 58233.2 , установим её в качестве границы для аномалий."
   ]
  },
  {
   "cell_type": "markdown",
   "metadata": {},
   "source": [
    "### Cтатистическая значимость различий в среднем количестве заказов по «сырым» данным"
   ]
  },
  {
   "cell_type": "markdown",
   "metadata": {},
   "source": [
    "Сформулируем гипотезы. Нулевая: различий в среднем количестве заказов между группами нет. Альтернативная: различия в среднем количестве заказов между группами есть."
   ]
  },
  {
   "cell_type": "code",
   "execution_count": 31,
   "metadata": {},
   "outputs": [],
   "source": [
    "# посчитаем статистическую значимость различия в среднем количестве заказов между группами\n",
    "\n",
    "ordersByUsersA = (\n",
    "    orders[orders['group'] == 'A']\n",
    "    .groupby('visitorId', as_index=False)\n",
    "    .agg({'transactionId': pd.Series.nunique})\n",
    ")\n",
    "ordersByUsersA.columns = ['visitorId', 'orders']\n",
    "\n",
    "ordersByUsersB = (\n",
    "    orders[orders['group'] == 'B']\n",
    "    .groupby('visitorId', as_index=False)\n",
    "    .agg({'transactionId': pd.Series.nunique})\n",
    ")\n",
    "ordersByUsersB.columns = ['visitorId', 'orders']"
   ]
  },
  {
   "cell_type": "code",
   "execution_count": 32,
   "metadata": {},
   "outputs": [],
   "source": [
    "# подготовим выборки к проверке критерием Манна-Уитни\n",
    "\n",
    "sampleA = pd.concat([ordersByUsersA['orders'],pd.Series(0, index=np.arange(data['visitorsPerDateA'].sum() - len(ordersByUsersA['orders'])), name='orders')],axis=0)\n",
    "\n",
    "sampleB = pd.concat([ordersByUsersB['orders'],pd.Series(0, index=np.arange(data['visitorsPerDateB'].sum() - len(ordersByUsersB['orders'])), name='orders')],axis=0)"
   ]
  },
  {
   "cell_type": "code",
   "execution_count": 33,
   "metadata": {},
   "outputs": [
    {
     "name": "stdout",
     "output_type": "stream",
     "text": [
      "p-value = 0.017\n",
      "Относительный показатель 'B' и 'A' = 0.138\n"
     ]
    }
   ],
   "source": [
    "# выведем относительный прирост среднего числа заказов группы B:\n",
    "\n",
    "print(\"p-value = {0:.3f}\".format(stats.mannwhitneyu(sampleA, sampleB)[1]))\n",
    "print(\"Относительный показатель 'B' и 'A' = {0:.3f}\".format(sampleB.mean() / sampleA.mean() - 1))"
   ]
  },
  {
   "cell_type": "markdown",
   "metadata": {},
   "source": [
    "P-value = 0.017, это меньше уровня значимости. Этозначит, что по «сырым» данным различия в среднем числе заказов групп A и B есть. Относительный выигрыш группы B равен 13.8%."
   ]
  },
  {
   "cell_type": "markdown",
   "metadata": {},
   "source": [
    "### Cтатистическая значимость различий в среднем чеке по «сырым» данным"
   ]
  },
  {
   "cell_type": "markdown",
   "metadata": {},
   "source": [
    "Теперь проверим статистическую значимость различий в среднем чеке между сегментами. Нулевая гипотеза: различий в среднем чеке между группами нет. Альтернативная гипотеза: различия в среднем чеке между группами есть. "
   ]
  },
  {
   "cell_type": "code",
   "execution_count": 34,
   "metadata": {},
   "outputs": [
    {
     "name": "stdout",
     "output_type": "stream",
     "text": [
      "p-value = 0.729\n",
      "Относительный показатель B и A = 0.259\n"
     ]
    }
   ],
   "source": [
    "# передадим критерию mannwhitneyu() данные о выручке с заказов \n",
    "# и найдем относительные различия в среднем чеке между группами:\n",
    "\n",
    "print('p-value = {0:.3f}'.format(stats.mannwhitneyu(orders[orders['group']=='A']['revenue'], orders[orders['group']=='B']['revenue'])[1]))\n",
    "print('Относительный показатель B и A = {0:.3f}'.format(orders[orders['group']=='B']['revenue'].mean()/orders[orders['group']=='A']['revenue'].mean()-1))"
   ]
  },
  {
   "cell_type": "markdown",
   "metadata": {},
   "source": [
    "P-value = 0,729, это значительно больше 0.05. Значит, нулевую гипотезу о том, что статистически значимых различий в среднем числе заказов между группами нет, не отвергаем. \n",
    "\n",
    "То есть средние чеки по \"сырым\" данным схожи. Впрочем, средний чек группы B значительно выше среднего чека группы A - почти на 26%! Наблюдаемые различия не являются значимыми при таком уровне значимости, а следовательно были получены случайно."
   ]
  },
  {
   "cell_type": "markdown",
   "metadata": {},
   "source": [
    "### Cтатистическая значимость различий в среднем количестве заказов по «очищенным» данным"
   ]
  },
  {
   "cell_type": "markdown",
   "metadata": {},
   "source": [
    "Примем за аномальных пользователей тех, кто совершил от 3 заказов или совершил заказ дороже 58233.2 рублей. \n",
    "Сформулируем гипотезы. Нулевая: различий в среднем количестве заказов по \"очищенным данным\" между группами нет. Альтернативная: различия в среднем в среднем количестве заказов по \"очищенным данным\" между группами есть."
   ]
  },
  {
   "cell_type": "code",
   "execution_count": 35,
   "metadata": {},
   "outputs": [
    {
     "name": "stdout",
     "output_type": "stream",
     "text": [
      "1099    148427295\n",
      "18      199603092\n",
      "23      237748145\n",
      "37      249864742\n",
      "68      457167155\n",
      "Name: visitorId, dtype: int64\n",
      "31\n"
     ]
    }
   ],
   "source": [
    "# Сделаем срезы пользователей с числом заказов 3 и более — usersWithManyOrders и пользователей, \n",
    "# совершивших заказы дороже 58233.2 — usersWithExpensiveOrders. Объединим их в таблице abnormalUsers\n",
    "abnormal_orders = 3\n",
    "abnormal_revenue = 58233.2\n",
    "\n",
    "usersWithManyOrders = pd.concat(\n",
    "    [\n",
    "        ordersByUsersA[ordersByUsersA['orders'] >= abnormal_orders]['visitorId'],\n",
    "        ordersByUsersB[ordersByUsersB['orders'] >= abnormal_orders]['visitorId'],\n",
    "    ],\n",
    "    axis=0,\n",
    ")\n",
    "usersWithExpensiveOrders = orders[orders['revenue'] >= abnormal_revenue]['visitorId']\n",
    "abnormalUsers = (\n",
    "    pd.concat([usersWithManyOrders, usersWithExpensiveOrders], axis=0)\n",
    "    .drop_duplicates()\n",
    "    .sort_values()\n",
    ")\n",
    "print(abnormalUsers.head(5))\n",
    "print(abnormalUsers.shape[0])"
   ]
  },
  {
   "cell_type": "markdown",
   "metadata": {},
   "source": [
    "Всего 31 аномальный пользователь. Узнаем, как их действия повлияли на результаты теста."
   ]
  },
  {
   "cell_type": "code",
   "execution_count": 36,
   "metadata": {},
   "outputs": [],
   "source": [
    "# создадим датафрейм с кумулятивными значениями по очищенным данным: \n",
    "\n",
    "ordersFiltered = orders[\n",
    "            np.logical_not(orders['visitorId'].isin(abnormalUsers))\n",
    "        ]\n",
    "\n",
    "ordersADailyFiltered = (\n",
    "    ordersFiltered[ordersFiltered['group'] == 'A'][['date', 'transactionId', 'visitorId', 'revenue']]\n",
    "    .groupby('date', as_index=False)\n",
    "    .agg({'transactionId': pd.Series.nunique, 'revenue': 'sum'})\n",
    ")\n",
    "ordersADailyFiltered.columns = ['date', 'ordersPerDateA', 'revenuePerDateA']\n",
    "\n",
    "ordersACummulativeFiltered = ordersADailyFiltered.apply(\n",
    "    lambda x: ordersADailyFiltered[ordersADaily['date'] <= x['date']].agg(\n",
    "        {'date': 'max', 'ordersPerDateA': 'sum', 'revenuePerDateA': 'sum'}\n",
    "    ),\n",
    "    axis=1,\n",
    ").sort_values(by=['date'])\n",
    "ordersACummulativeFiltered.columns = [\n",
    "    'date',\n",
    "    'ordersCummulativeA',\n",
    "    'revenueCummulativeA',\n",
    "]\n",
    "\n",
    "\n",
    "ordersBDailyFiltered = (\n",
    "    ordersFiltered[ordersFiltered['group'] == 'B'][['date', 'transactionId', 'visitorId', 'revenue']]\n",
    "    .groupby('date', as_index=False)\n",
    "    .agg({'transactionId': pd.Series.nunique, 'revenue': 'sum'})\n",
    ")\n",
    "ordersBDailyFiltered.columns = ['date', 'ordersPerDateB', 'revenuePerDateB']\n",
    "\n",
    "ordersBCummulativeFiltered = ordersBDailyFiltered.apply(\n",
    "    lambda x: ordersBDailyFiltered[ordersBDaily['date'] <= x['date']].agg(\n",
    "        {'date': 'max', 'ordersPerDateB': 'sum', 'revenuePerDateB': 'sum'}\n",
    "    ),\n",
    "    axis=1,\n",
    ").sort_values(by=['date'])\n",
    "ordersBCummulativeFiltered.columns = [\n",
    "    'date',\n",
    "    'ordersCummulativeB',\n",
    "    'revenueCummulativeB',\n",
    "]\n",
    "dataFiltered = (\n",
    "    ordersADaily.merge(\n",
    "        ordersBDaily, left_on='date', right_on='date', how='left'\n",
    "    )\n",
    "    .merge(ordersACummulativeFiltered, left_on='date', right_on='date', how='left')\n",
    "    .merge(ordersBCummulativeFiltered, left_on='date', right_on='date', how='left')\n",
    "    .merge(visitorsADaily, left_on='date', right_on='date', how='left')\n",
    "    .merge(visitorsBDaily, left_on='date', right_on='date', how='left')\n",
    "    .merge(visitorsACummulative, left_on='date', right_on='date', how='left')\n",
    "    .merge(visitorsBCummulative, left_on='date', right_on='date', how='left')\n",
    ")"
   ]
  },
  {
   "cell_type": "markdown",
   "metadata": {},
   "source": [
    "Посчитаем статистическую значимость различий в среднем количестве заказов между группами теста по очищенным данным. Подготовим выборки количества заказов по пользователям по группам теста:"
   ]
  },
  {
   "cell_type": "code",
   "execution_count": 37,
   "metadata": {},
   "outputs": [],
   "source": [
    "sampleAFiltered = pd.concat(\n",
    "    [\n",
    "        ordersByUsersA[\n",
    "            np.logical_not(ordersByUsersA['visitorId'].isin(abnormalUsers))\n",
    "        ]['orders'],\n",
    "        pd.Series(\n",
    "            0,\n",
    "            index=np.arange(\n",
    "                data['visitorsPerDateA'].sum() - len(ordersByUsersA['orders'])\n",
    "            ),\n",
    "            name='orders',\n",
    "        ),\n",
    "    ],\n",
    "    axis=0,\n",
    ")\n",
    "\n",
    "sampleBFiltered = pd.concat(\n",
    "    [\n",
    "        ordersByUsersB[\n",
    "            np.logical_not(ordersByUsersB['visitorId'].isin(abnormalUsers))\n",
    "        ]['orders'],\n",
    "        pd.Series(\n",
    "            0,\n",
    "            index=np.arange(\n",
    "                data['visitorsPerDateB'].sum() - len(ordersByUsersB['orders'])\n",
    "            ),\n",
    "            name='orders',\n",
    "        ),\n",
    "    ],\n",
    "    axis=0,\n",
    ")"
   ]
  },
  {
   "cell_type": "code",
   "execution_count": 38,
   "metadata": {},
   "outputs": [
    {
     "name": "stdout",
     "output_type": "stream",
     "text": [
      "p-value: 0.010\n",
      "Относительный показатель B и A: 0.174\n"
     ]
    }
   ],
   "source": [
    "# Применим статистический критерий Манна-Уитни к полученным выборкам:\n",
    "\n",
    "print('p-value: {0:.3f}'.format(stats.mannwhitneyu(sampleAFiltered, sampleBFiltered)[1]))\n",
    "print('Относительный показатель B и A: {0:.3f}'.format(sampleBFiltered.mean()/sampleAFiltered.mean()-1))"
   ]
  },
  {
   "cell_type": "code",
   "execution_count": 39,
   "metadata": {},
   "outputs": [
    {
     "data": {
      "image/png": "[encoded data removed]",
      "text/plain": [
       "<Figure size 1080x360 with 1 Axes>"
      ]
     },
     "metadata": {
      "needs_background": "light"
     },
     "output_type": "display_data"
    }
   ],
   "source": [
    "plt.figure(figsize=(15,5))\n",
    "\n",
    "# построим график различия среднего количества заказов между группами по очищенным данным:\n",
    "\n",
    "plt.plot(dataFiltered['date'], (dataFiltered['ordersCummulativeB'] / dataFiltered['visitorsCummulativeB'])/(dataFiltered['ordersCummulativeA'] / dataFiltered['visitorsCummulativeA']) - 1, label=\"Изменение\")\n",
    "plt.legend()\n",
    "# добавляем ось X\n",
    "plt.axhline(y=0, color='black', linestyle='--') \n",
    "plt.title('относительное различие среднего количества заказов между группами по очищенным данным')\n",
    "plt.xlabel('дата')\n",
    "plt.show()"
   ]
  },
  {
   "cell_type": "markdown",
   "metadata": {},
   "source": [
    "#### Вывод"
   ]
  },
  {
   "cell_type": "markdown",
   "metadata": {},
   "source": [
    "- P-value по \"очищенным\" данным 0.01, это еще меньше, чем по \"сырым\" (там P-value = 0.017), и так же меньше уровня значимости 0.05. Это значит, что мы отвергаем нулевую гипотезу о том, что статистически значимых различий в среднем числе заказов между группами нет.\n",
    "- Относительный выигрыш группы B в среднем количестве заказов по \"очищенным\" данным равен 17,3% (по сырым данным - 13,8%). Пользователи из этой группы чаще делают повторные заказы. \n",
    "- Графики различия среднего количества заказов между группами и по \"сырым\" и по \"очищенным данным\" почти не отличаются друг от друга, результаты по среднему количеству заказов практически не изменились. \n",
    "\n",
    "Произошло ли что-нибудь с результатами по среднему чеку?"
   ]
  },
  {
   "cell_type": "markdown",
   "metadata": {},
   "source": [
    "### Cтатистическая значимость различий в среднем чеке заказа по «очищенным» данным"
   ]
  },
  {
   "cell_type": "markdown",
   "metadata": {},
   "source": [
    " Нулевая гипотеза: различий в среднем чеке по \"очищенным данным\" между группами нет. Альтернативная гипотеза: различия в среднем чеке по \"очищенным данным\" между группами есть."
   ]
  },
  {
   "cell_type": "code",
   "execution_count": 40,
   "metadata": {},
   "outputs": [
    {
     "name": "stdout",
     "output_type": "stream",
     "text": [
      "p-value: 0.798\n",
      "Относительный показатель B и A: -0.020\n"
     ]
    }
   ],
   "source": [
    "# Применим статистический критерий Манна-Уитни к полученным выборкам:\n",
    "\n",
    "print(\n",
    "    'p-value: {0:.3f}'.format(\n",
    "        stats.mannwhitneyu(\n",
    "            orders[\n",
    "                np.logical_and(\n",
    "                    orders['group'] == 'A',\n",
    "                    np.logical_not(orders['visitorId'].isin(abnormalUsers)),\n",
    "                )\n",
    "            ]['revenue'],\n",
    "            orders[\n",
    "                np.logical_and(\n",
    "                    orders['group'] == 'B',\n",
    "                    np.logical_not(orders['visitorId'].isin(abnormalUsers)),\n",
    "                )\n",
    "            ]['revenue'],\n",
    "        )[1]\n",
    "    )\n",
    ")\n",
    "\n",
    "print(\n",
    "    \"Относительный показатель B и A: {0:.3f}\".format(\n",
    "        orders[\n",
    "            np.logical_and(\n",
    "                orders['group'] == 'B',\n",
    "                np.logical_not(orders['visitorId'].isin(abnormalUsers)),\n",
    "            )\n",
    "        ]['revenue'].mean()\n",
    "        / orders[\n",
    "            np.logical_and(\n",
    "                orders['group'] == 'A',\n",
    "                np.logical_not(orders['visitorId'].isin(abnormalUsers)),\n",
    "            )\n",
    "        ]['revenue'].mean()\n",
    "        - 1\n",
    "    )\n",
    ")"
   ]
  },
  {
   "cell_type": "code",
   "execution_count": 41,
   "metadata": {},
   "outputs": [
    {
     "data": {
      "image/png": "[encoded data removed]",
      "text/plain": [
       "<Figure size 1080x360 with 1 Axes>"
      ]
     },
     "metadata": {
      "needs_background": "light"
     },
     "output_type": "display_data"
    }
   ],
   "source": [
    "plt.figure(figsize=(15,5))\n",
    "\n",
    "# cтроим отношение средних чеков\n",
    "plt.plot(dataFiltered['date'], (dataFiltered['revenueCummulativeB']/dataFiltered['ordersCummulativeB'])/(dataFiltered['revenueCummulativeA']/dataFiltered['ordersCummulativeA'])-1)\n",
    "\n",
    "# добавляем ось X\n",
    "plt.axhline(y=0, color='black', linestyle='--')\n",
    "plt.title('относительное различие среднего чека между группами по очищенным данным')\n",
    "plt.xlabel('дата')\n",
    "plt.show()"
   ]
  },
  {
   "cell_type": "markdown",
   "metadata": {},
   "source": [
    "#### Вывод"
   ]
  },
  {
   "cell_type": "markdown",
   "metadata": {},
   "source": [
    "- P-value по \"очищенным\" данным = 0,798 (по \"сырым\" = 0,729). Мы все так же не можем отвергнуть нулевую гипотезу о том, что статистически значимых различий в среднем чеке заказов между группами нет.\n",
    "- А вот средний чек группы B оказался незначительно (на 2%) ниже среднего чека группы A, в то время как по \"сырым\" данным, он был больше аж 26%. Это значит то, что нам удалось избавиться от аномальных значений"
   ]
  },
  {
   "cell_type": "markdown",
   "metadata": {},
   "source": [
    "## Результаты"
   ]
  },
  {
   "cell_type": "markdown",
   "metadata": {},
   "source": [
    "### Приоритизация гипотез.  "
   ]
  },
  {
   "cell_type": "markdown",
   "metadata": {},
   "source": [
    "В первой части проекта мы получили 9 гипотез по увеличению выручки интернет-магазина с указанными параметрами Reach, Impact, Confidence, Effort. Используя фреймворки ICE и RICE для приоритизации гипотез, мы выделили задачи, которые надо решить в первую очередь, а какие можно решить потом.\n",
    "\n",
    "При применении фреймворка ICE самыми важными оказались:\n",
    "- Запустить акцию, дающую скидку на товар в день рождения (16.20 баллов)\n",
    "- Добавить два новых канала привлечения трафика, что позволит привлекать на 30% больше пользователей (13.33 баллов)\n",
    "- Добавить форму подписки на все основные страницы, чтобы собрать базу клиентов для email-рассылок (11.20 баллов)\n",
    "\n",
    "При применении фреймворка RICE приоритеты изменились, теперь в первую очередь следует проверить следующие гипотезы: \n",
    "- Добавить форму подписки на все основные страницы, чтобы собрать базу клиентов для email-рассылок (112.0 баллов)\n",
    "- Добавить блоки рекомендаций товаров на сайт интернет магазина, чтобы повысить конверсию и средний чек заказа (56.0 баллов)\n",
    "- Добавить два новых канала привлечения трафика, что позволит привлекать на 30% больше пользователей (40.0 баллов)\n",
    "- Показать на главной странице баннеры с актуальными акциями и распродажами, чтобы увеличить конверсию (40.0 баллов)"
   ]
  },
  {
   "cell_type": "markdown",
   "metadata": {},
   "source": [
    "### Анализ А/B теста"
   ]
  },
  {
   "cell_type": "markdown",
   "metadata": {},
   "source": [
    "Работали с датафреймами orders, содержащий информацию о заказах и посетителях интернет-магазина, полученные в рамках A/B тестирования, и visitors, содержащий количество пользователей в указанную дату в указанной группе A/B-теста. \n",
    "\n",
    "Проверили их на пропуски и дубликаты, выяснили, что в тесте 2 группы: A и В, он проходил с 1 по 31 августа 2019 года и в нем приняли участие 1031 пользователей, 503 в группе А и 586 в группе В. \n",
    "\n",
    "После предобработки данных мы создали новый датасет, содержащий кумулятивные данные, и уже с его помощью изучили выручку по дням, средний чек, количество и стоимость заказов. Увидели аномалии и убрали из выборки пользователей, совершивших от 3 заказов или заказы дороже 58233.2 рублей.\n",
    "\n",
    "И по \"сырым\" и по \"очищенным\" данным различия в количестве заказов по группам есть. Относительный выигрыш группы B в среднем количестве заказов по \"очищенным\" данным = 17,3% (по сырым данным = 13,8%), то есть пользователи из этой группы чаще делают повторные заказы.\n",
    "\n",
    "По \"сырым\" и по \"очищенным\" данным различия в средних чеках по группам отстутствуют, несмотря на то, что средний чек группы B оказался незначительно (на 2%) ниже среднего чека группы A, в то время как по \"сырым\" данным, он был больше аж 26%. \n",
    "\n",
    "В группе B больше заказов, чем в группе A, хотя по среднему чеку группы примерно равны. Зафиксируем победу группы B и остановим тест. "
   ]
  }
 ],
 "metadata": {
  "ExecuteTimeLog": [
   {
    "duration": 1070,
    "start_time": "2023-03-11T12:33:59.558Z"
   },
   {
    "duration": 63,
    "start_time": "2023-03-11T12:36:07.557Z"
   },
   {
    "duration": 25,
    "start_time": "2023-03-11T12:36:09.029Z"
   },
   {
    "duration": 8,
    "start_time": "2023-03-11T12:36:35.170Z"
   },
   {
    "duration": 12,
    "start_time": "2023-03-11T12:36:42.271Z"
   },
   {
    "duration": 34,
    "start_time": "2023-03-11T12:37:18.028Z"
   },
   {
    "duration": 26,
    "start_time": "2023-03-11T12:42:58.450Z"
   },
   {
    "duration": 10,
    "start_time": "2023-03-11T12:44:32.342Z"
   },
   {
    "duration": 853,
    "start_time": "2023-03-11T18:59:19.467Z"
   },
   {
    "duration": 84,
    "start_time": "2023-03-11T18:59:20.322Z"
   },
   {
    "duration": 10,
    "start_time": "2023-03-11T18:59:20.408Z"
   },
   {
    "duration": 111,
    "start_time": "2023-03-11T18:59:20.419Z"
   },
   {
    "duration": 9,
    "start_time": "2023-03-11T18:59:49.109Z"
   },
   {
    "duration": 11,
    "start_time": "2023-03-11T19:14:01.773Z"
   },
   {
    "duration": 10,
    "start_time": "2023-03-11T19:14:10.648Z"
   },
   {
    "duration": 3,
    "start_time": "2023-03-11T19:17:07.837Z"
   },
   {
    "duration": 41,
    "start_time": "2023-03-11T19:17:14.076Z"
   },
   {
    "duration": 3,
    "start_time": "2023-03-11T19:18:57.309Z"
   },
   {
    "duration": 32,
    "start_time": "2023-03-11T19:18:57.812Z"
   },
   {
    "duration": 10,
    "start_time": "2023-03-11T19:19:05.976Z"
   },
   {
    "duration": 11,
    "start_time": "2023-03-11T19:19:14.612Z"
   },
   {
    "duration": 3,
    "start_time": "2023-03-11T19:20:59.668Z"
   },
   {
    "duration": 33,
    "start_time": "2023-03-11T19:21:00.576Z"
   },
   {
    "duration": 3,
    "start_time": "2023-03-11T19:21:09.012Z"
   },
   {
    "duration": 32,
    "start_time": "2023-03-11T19:21:16.679Z"
   },
   {
    "duration": 11,
    "start_time": "2023-03-11T19:21:18.435Z"
   },
   {
    "duration": 12,
    "start_time": "2023-03-11T19:21:19.240Z"
   },
   {
    "duration": 221,
    "start_time": "2023-03-11T19:35:00.350Z"
   },
   {
    "duration": 73,
    "start_time": "2023-03-11T19:35:14.150Z"
   },
   {
    "duration": 80,
    "start_time": "2023-03-11T19:36:03.443Z"
   },
   {
    "duration": 101,
    "start_time": "2023-03-11T19:36:32.048Z"
   },
   {
    "duration": 105,
    "start_time": "2023-03-11T19:37:23.175Z"
   },
   {
    "duration": 96,
    "start_time": "2023-03-11T19:39:16.644Z"
   },
   {
    "duration": 109,
    "start_time": "2023-03-11T19:40:44.027Z"
   },
   {
    "duration": 88,
    "start_time": "2023-03-11T19:41:01.174Z"
   },
   {
    "duration": 12,
    "start_time": "2023-03-11T19:47:36.997Z"
   },
   {
    "duration": 18,
    "start_time": "2023-03-11T19:47:59.991Z"
   },
   {
    "duration": 6,
    "start_time": "2023-03-11T19:48:16.067Z"
   },
   {
    "duration": 26,
    "start_time": "2023-03-11T19:50:03.696Z"
   },
   {
    "duration": 25,
    "start_time": "2023-03-11T19:51:40.787Z"
   },
   {
    "duration": 841,
    "start_time": "2023-03-13T10:36:58.319Z"
   },
   {
    "duration": 84,
    "start_time": "2023-03-13T10:36:59.162Z"
   },
   {
    "duration": 14,
    "start_time": "2023-03-13T10:36:59.248Z"
   },
   {
    "duration": 18,
    "start_time": "2023-03-13T10:36:59.264Z"
   },
   {
    "duration": 345,
    "start_time": "2023-03-13T10:37:00.812Z"
   },
   {
    "duration": 105,
    "start_time": "2023-03-13T10:37:16.032Z"
   },
   {
    "duration": 86,
    "start_time": "2023-03-13T10:37:22.344Z"
   },
   {
    "duration": 76,
    "start_time": "2023-03-13T10:41:20.511Z"
   },
   {
    "duration": 83,
    "start_time": "2023-03-13T10:41:34.031Z"
   },
   {
    "duration": 6,
    "start_time": "2023-03-13T10:44:35.549Z"
   },
   {
    "duration": 172,
    "start_time": "2023-03-13T10:51:40.709Z"
   },
   {
    "duration": 170,
    "start_time": "2023-03-13T10:52:25.071Z"
   },
   {
    "duration": 6,
    "start_time": "2023-03-13T10:52:44.764Z"
   },
   {
    "duration": 170,
    "start_time": "2023-03-13T10:52:45.149Z"
   },
   {
    "duration": 19,
    "start_time": "2023-03-13T10:53:02.240Z"
   },
   {
    "duration": 204,
    "start_time": "2023-03-13T10:55:20.902Z"
   },
   {
    "duration": 134,
    "start_time": "2023-03-13T10:55:35.864Z"
   },
   {
    "duration": 15,
    "start_time": "2023-03-13T10:56:24.348Z"
   },
   {
    "duration": 13,
    "start_time": "2023-03-13T11:14:58.514Z"
   },
   {
    "duration": 522,
    "start_time": "2023-03-13T11:15:26.411Z"
   },
   {
    "duration": 300,
    "start_time": "2023-03-13T11:15:30.426Z"
   },
   {
    "duration": 179,
    "start_time": "2023-03-13T11:23:08.904Z"
   },
   {
    "duration": 6,
    "start_time": "2023-03-13T11:41:05.503Z"
   },
   {
    "duration": 15,
    "start_time": "2023-03-13T11:41:10.541Z"
   },
   {
    "duration": 176,
    "start_time": "2023-03-13T11:42:00.583Z"
   },
   {
    "duration": 381,
    "start_time": "2023-03-13T11:42:14.341Z"
   },
   {
    "duration": 26,
    "start_time": "2023-03-13T11:50:50.181Z"
   },
   {
    "duration": 1205,
    "start_time": "2023-03-13T11:53:22.378Z"
   },
   {
    "duration": 14,
    "start_time": "2023-03-13T11:53:57.347Z"
   },
   {
    "duration": 8,
    "start_time": "2023-03-13T11:54:08.498Z"
   },
   {
    "duration": 216,
    "start_time": "2023-03-13T11:55:15.697Z"
   },
   {
    "duration": 3,
    "start_time": "2023-03-13T11:57:04.183Z"
   },
   {
    "duration": 10,
    "start_time": "2023-03-13T11:58:00.297Z"
   },
   {
    "duration": 10,
    "start_time": "2023-03-13T11:58:14.118Z"
   },
   {
    "duration": 132,
    "start_time": "2023-03-13T11:58:36.664Z"
   },
   {
    "duration": 1117,
    "start_time": "2023-03-14T12:08:11.774Z"
   },
   {
    "duration": 121,
    "start_time": "2023-03-14T12:08:12.894Z"
   },
   {
    "duration": 10,
    "start_time": "2023-03-14T12:08:13.017Z"
   },
   {
    "duration": 9,
    "start_time": "2023-03-14T12:08:13.028Z"
   },
   {
    "duration": 183,
    "start_time": "2023-03-14T12:08:13.039Z"
   },
   {
    "duration": 4,
    "start_time": "2023-03-14T12:08:13.224Z"
   },
   {
    "duration": 163,
    "start_time": "2023-03-14T12:08:13.229Z"
   },
   {
    "duration": 104,
    "start_time": "2023-03-14T12:08:13.394Z"
   },
   {
    "duration": 9,
    "start_time": "2023-03-14T12:08:13.499Z"
   },
   {
    "duration": 243,
    "start_time": "2023-03-14T12:08:13.510Z"
   },
   {
    "duration": 158,
    "start_time": "2023-03-14T12:08:13.755Z"
   },
   {
    "duration": 270,
    "start_time": "2023-03-14T12:08:13.915Z"
   },
   {
    "duration": 12,
    "start_time": "2023-03-14T12:08:14.186Z"
   },
   {
    "duration": 104,
    "start_time": "2023-03-14T12:08:14.200Z"
   },
   {
    "duration": 3,
    "start_time": "2023-03-14T12:15:53.698Z"
   },
   {
    "duration": 1458,
    "start_time": "2023-03-14T19:17:11.080Z"
   },
   {
    "duration": 178,
    "start_time": "2023-03-14T19:17:12.541Z"
   },
   {
    "duration": 16,
    "start_time": "2023-03-14T19:17:12.721Z"
   },
   {
    "duration": 16,
    "start_time": "2023-03-14T19:17:12.739Z"
   },
   {
    "duration": 188,
    "start_time": "2023-03-14T19:17:12.758Z"
   },
   {
    "duration": 6,
    "start_time": "2023-03-14T19:17:12.948Z"
   },
   {
    "duration": 233,
    "start_time": "2023-03-14T19:17:12.956Z"
   },
   {
    "duration": 141,
    "start_time": "2023-03-14T19:17:13.195Z"
   },
   {
    "duration": 14,
    "start_time": "2023-03-14T19:17:13.338Z"
   },
   {
    "duration": 327,
    "start_time": "2023-03-14T19:17:13.354Z"
   },
   {
    "duration": 207,
    "start_time": "2023-03-14T19:17:13.691Z"
   },
   {
    "duration": 388,
    "start_time": "2023-03-14T19:17:13.900Z"
   },
   {
    "duration": 3,
    "start_time": "2023-03-14T19:17:14.300Z"
   },
   {
    "duration": 24,
    "start_time": "2023-03-14T19:17:14.308Z"
   },
   {
    "duration": 199,
    "start_time": "2023-03-14T19:17:14.334Z"
   },
   {
    "duration": 16,
    "start_time": "2023-03-14T19:20:42.000Z"
   },
   {
    "duration": 2,
    "start_time": "2023-03-14T19:29:43.696Z"
   },
   {
    "duration": 133,
    "start_time": "2023-03-14T19:30:34.457Z"
   },
   {
    "duration": 18,
    "start_time": "2023-03-14T19:30:56.466Z"
   },
   {
    "duration": 20,
    "start_time": "2023-03-14T19:33:35.169Z"
   },
   {
    "duration": 13,
    "start_time": "2023-03-14T19:37:25.448Z"
   },
   {
    "duration": 15,
    "start_time": "2023-03-14T19:38:28.413Z"
   },
   {
    "duration": 10,
    "start_time": "2023-03-14T19:47:46.006Z"
   },
   {
    "duration": 13,
    "start_time": "2023-03-14T19:47:56.149Z"
   },
   {
    "duration": 253,
    "start_time": "2023-03-14T19:49:44.981Z"
   },
   {
    "duration": 281,
    "start_time": "2023-03-14T20:03:41.206Z"
   },
   {
    "duration": 3,
    "start_time": "2023-03-14T20:24:58.250Z"
   },
   {
    "duration": 45,
    "start_time": "2023-03-14T20:24:58.256Z"
   },
   {
    "duration": 11,
    "start_time": "2023-03-14T20:24:58.304Z"
   },
   {
    "duration": 11,
    "start_time": "2023-03-14T20:24:58.317Z"
   },
   {
    "duration": 74,
    "start_time": "2023-03-14T20:24:58.330Z"
   },
   {
    "duration": 6,
    "start_time": "2023-03-14T20:24:58.407Z"
   },
   {
    "duration": 204,
    "start_time": "2023-03-14T20:24:58.414Z"
   },
   {
    "duration": 128,
    "start_time": "2023-03-14T20:24:58.619Z"
   },
   {
    "duration": 9,
    "start_time": "2023-03-14T20:24:58.749Z"
   },
   {
    "duration": 187,
    "start_time": "2023-03-14T20:24:58.769Z"
   },
   {
    "duration": 180,
    "start_time": "2023-03-14T20:24:58.958Z"
   },
   {
    "duration": 282,
    "start_time": "2023-03-14T20:24:59.140Z"
   },
   {
    "duration": 7,
    "start_time": "2023-03-14T20:24:59.424Z"
   },
   {
    "duration": 276,
    "start_time": "2023-03-14T20:24:59.433Z"
   },
   {
    "duration": 81,
    "start_time": "2023-03-15T10:52:36.813Z"
   },
   {
    "duration": 1217,
    "start_time": "2023-03-15T10:52:43.761Z"
   },
   {
    "duration": 132,
    "start_time": "2023-03-15T10:52:44.981Z"
   },
   {
    "duration": 14,
    "start_time": "2023-03-15T10:52:45.115Z"
   },
   {
    "duration": 12,
    "start_time": "2023-03-15T10:52:45.130Z"
   },
   {
    "duration": 139,
    "start_time": "2023-03-15T10:52:45.145Z"
   },
   {
    "duration": 6,
    "start_time": "2023-03-15T10:52:45.285Z"
   },
   {
    "duration": 171,
    "start_time": "2023-03-15T10:52:45.292Z"
   },
   {
    "duration": 123,
    "start_time": "2023-03-15T10:52:45.465Z"
   },
   {
    "duration": 9,
    "start_time": "2023-03-15T10:52:45.589Z"
   },
   {
    "duration": 268,
    "start_time": "2023-03-15T10:52:45.600Z"
   },
   {
    "duration": 173,
    "start_time": "2023-03-15T10:52:45.870Z"
   },
   {
    "duration": 306,
    "start_time": "2023-03-15T10:52:46.045Z"
   },
   {
    "duration": 6,
    "start_time": "2023-03-15T10:52:46.353Z"
   },
   {
    "duration": 200,
    "start_time": "2023-03-15T10:52:46.362Z"
   },
   {
    "duration": 73,
    "start_time": "2023-03-15T10:52:46.564Z"
   },
   {
    "duration": 89,
    "start_time": "2023-03-15T10:52:49.520Z"
   },
   {
    "duration": 235,
    "start_time": "2023-03-15T10:53:07.708Z"
   },
   {
    "duration": 9,
    "start_time": "2023-03-15T10:55:52.708Z"
   },
   {
    "duration": 8,
    "start_time": "2023-03-15T10:56:02.725Z"
   },
   {
    "duration": 5,
    "start_time": "2023-03-15T10:57:24.213Z"
   },
   {
    "duration": 9,
    "start_time": "2023-03-15T10:57:37.307Z"
   },
   {
    "duration": 5,
    "start_time": "2023-03-15T10:58:28.860Z"
   },
   {
    "duration": 9,
    "start_time": "2023-03-15T10:58:29.260Z"
   },
   {
    "duration": 183,
    "start_time": "2023-03-15T11:00:09.879Z"
   },
   {
    "duration": 9,
    "start_time": "2023-03-15T11:01:41.646Z"
   },
   {
    "duration": 195,
    "start_time": "2023-03-15T11:01:49.621Z"
   },
   {
    "duration": 198,
    "start_time": "2023-03-15T11:01:58.007Z"
   },
   {
    "duration": 8,
    "start_time": "2023-03-15T11:02:07.409Z"
   },
   {
    "duration": 9,
    "start_time": "2023-03-15T11:04:13.302Z"
   },
   {
    "duration": 12,
    "start_time": "2023-03-15T11:05:04.059Z"
   },
   {
    "duration": 155,
    "start_time": "2023-03-15T11:05:34.705Z"
   },
   {
    "duration": 224,
    "start_time": "2023-03-15T11:05:50.651Z"
   },
   {
    "duration": 147,
    "start_time": "2023-03-15T11:06:05.310Z"
   },
   {
    "duration": 1316,
    "start_time": "2023-03-15T18:46:50.690Z"
   },
   {
    "duration": 170,
    "start_time": "2023-03-15T18:46:52.008Z"
   },
   {
    "duration": 14,
    "start_time": "2023-03-15T18:46:52.180Z"
   },
   {
    "duration": 12,
    "start_time": "2023-03-15T18:46:52.196Z"
   },
   {
    "duration": 190,
    "start_time": "2023-03-15T18:46:52.211Z"
   },
   {
    "duration": 6,
    "start_time": "2023-03-15T18:46:52.402Z"
   },
   {
    "duration": 173,
    "start_time": "2023-03-15T18:46:52.410Z"
   },
   {
    "duration": 143,
    "start_time": "2023-03-15T18:46:52.585Z"
   },
   {
    "duration": 16,
    "start_time": "2023-03-15T18:46:52.730Z"
   },
   {
    "duration": 300,
    "start_time": "2023-03-15T18:46:52.748Z"
   },
   {
    "duration": 199,
    "start_time": "2023-03-15T18:46:53.050Z"
   },
   {
    "duration": 375,
    "start_time": "2023-03-15T18:46:53.250Z"
   },
   {
    "duration": 12,
    "start_time": "2023-03-15T18:46:53.627Z"
   },
   {
    "duration": 250,
    "start_time": "2023-03-15T18:46:53.643Z"
   },
   {
    "duration": 10,
    "start_time": "2023-03-15T18:46:53.895Z"
   },
   {
    "duration": 91,
    "start_time": "2023-03-15T19:04:08.506Z"
   },
   {
    "duration": 11,
    "start_time": "2023-03-15T19:04:21.068Z"
   },
   {
    "duration": 10,
    "start_time": "2023-03-15T19:04:29.624Z"
   },
   {
    "duration": 13,
    "start_time": "2023-03-15T19:04:46.018Z"
   },
   {
    "duration": 11,
    "start_time": "2023-03-15T19:04:56.584Z"
   },
   {
    "duration": 161,
    "start_time": "2023-03-15T19:06:28.566Z"
   },
   {
    "duration": 15,
    "start_time": "2023-03-15T19:06:54.296Z"
   },
   {
    "duration": 10,
    "start_time": "2023-03-15T19:07:47.744Z"
   },
   {
    "duration": 307,
    "start_time": "2023-03-15T19:08:55.846Z"
   },
   {
    "duration": 161,
    "start_time": "2023-03-15T19:09:59.495Z"
   },
   {
    "duration": 6,
    "start_time": "2023-03-15T19:10:40.869Z"
   },
   {
    "duration": 6,
    "start_time": "2023-03-15T19:10:58.121Z"
   },
   {
    "duration": 5,
    "start_time": "2023-03-15T19:11:27.011Z"
   },
   {
    "duration": 8,
    "start_time": "2023-03-15T19:14:27.683Z"
   },
   {
    "duration": 189,
    "start_time": "2023-03-15T19:14:28.754Z"
   },
   {
    "duration": 9,
    "start_time": "2023-03-15T19:17:14.433Z"
   },
   {
    "duration": 17,
    "start_time": "2023-03-15T19:17:38.783Z"
   },
   {
    "duration": 15,
    "start_time": "2023-03-15T19:19:57.865Z"
   },
   {
    "duration": 802,
    "start_time": "2023-03-15T19:23:45.093Z"
   },
   {
    "duration": 201,
    "start_time": "2023-03-15T19:24:02.082Z"
   },
   {
    "duration": 311,
    "start_time": "2023-03-15T19:25:22.211Z"
   },
   {
    "duration": 370,
    "start_time": "2023-03-15T19:25:56.856Z"
   },
   {
    "duration": 191,
    "start_time": "2023-03-15T19:26:19.549Z"
   },
   {
    "duration": 207,
    "start_time": "2023-03-15T19:31:46.311Z"
   },
   {
    "duration": 17,
    "start_time": "2023-03-15T19:32:10.505Z"
   },
   {
    "duration": 18,
    "start_time": "2023-03-15T19:32:23.889Z"
   },
   {
    "duration": 194,
    "start_time": "2023-03-15T19:32:29.792Z"
   },
   {
    "duration": 1316,
    "start_time": "2023-03-16T06:49:00.328Z"
   },
   {
    "duration": 150,
    "start_time": "2023-03-16T06:49:01.647Z"
   },
   {
    "duration": 15,
    "start_time": "2023-03-16T06:49:01.799Z"
   },
   {
    "duration": 22,
    "start_time": "2023-03-16T06:49:01.816Z"
   },
   {
    "duration": 202,
    "start_time": "2023-03-16T06:49:01.840Z"
   },
   {
    "duration": 5,
    "start_time": "2023-03-16T06:49:02.044Z"
   },
   {
    "duration": 182,
    "start_time": "2023-03-16T06:49:02.051Z"
   },
   {
    "duration": 128,
    "start_time": "2023-03-16T06:49:02.234Z"
   },
   {
    "duration": 10,
    "start_time": "2023-03-16T06:49:02.363Z"
   },
   {
    "duration": 278,
    "start_time": "2023-03-16T06:49:02.390Z"
   },
   {
    "duration": 202,
    "start_time": "2023-03-16T06:49:02.670Z"
   },
   {
    "duration": 373,
    "start_time": "2023-03-16T06:49:02.874Z"
   },
   {
    "duration": 7,
    "start_time": "2023-03-16T06:49:03.248Z"
   },
   {
    "duration": 220,
    "start_time": "2023-03-16T06:49:03.257Z"
   },
   {
    "duration": 26,
    "start_time": "2023-03-16T06:49:03.479Z"
   },
   {
    "duration": 208,
    "start_time": "2023-03-16T06:49:03.507Z"
   },
   {
    "duration": 214,
    "start_time": "2023-03-16T06:51:06.802Z"
   },
   {
    "duration": 223,
    "start_time": "2023-03-16T06:51:33.893Z"
   },
   {
    "duration": 234,
    "start_time": "2023-03-16T06:52:02.095Z"
   },
   {
    "duration": 197,
    "start_time": "2023-03-16T06:52:15.619Z"
   },
   {
    "duration": 254,
    "start_time": "2023-03-16T06:52:42.953Z"
   },
   {
    "duration": 196,
    "start_time": "2023-03-16T06:52:55.191Z"
   },
   {
    "duration": 221,
    "start_time": "2023-03-16T06:53:07.387Z"
   },
   {
    "duration": 211,
    "start_time": "2023-03-16T06:53:13.300Z"
   },
   {
    "duration": 223,
    "start_time": "2023-03-16T06:53:30.593Z"
   },
   {
    "duration": 215,
    "start_time": "2023-03-16T06:53:55.306Z"
   },
   {
    "duration": 226,
    "start_time": "2023-03-16T06:56:13.999Z"
   },
   {
    "duration": 210,
    "start_time": "2023-03-16T06:56:47.362Z"
   },
   {
    "duration": 218,
    "start_time": "2023-03-16T06:57:35.700Z"
   },
   {
    "duration": 207,
    "start_time": "2023-03-16T06:58:26.539Z"
   },
   {
    "duration": 191,
    "start_time": "2023-03-16T06:59:05.852Z"
   },
   {
    "duration": 198,
    "start_time": "2023-03-16T06:59:18.813Z"
   },
   {
    "duration": 44,
    "start_time": "2023-03-16T06:59:28.999Z"
   },
   {
    "duration": 223,
    "start_time": "2023-03-16T06:59:44.342Z"
   },
   {
    "duration": 265,
    "start_time": "2023-03-16T07:03:05.199Z"
   },
   {
    "duration": 286,
    "start_time": "2023-03-16T07:04:09.040Z"
   },
   {
    "duration": 192,
    "start_time": "2023-03-16T07:04:53.602Z"
   },
   {
    "duration": 208,
    "start_time": "2023-03-16T07:04:58.616Z"
   },
   {
    "duration": 215,
    "start_time": "2023-03-16T07:05:55.737Z"
   },
   {
    "duration": 197,
    "start_time": "2023-03-16T07:06:27.431Z"
   },
   {
    "duration": 192,
    "start_time": "2023-03-16T07:06:32.103Z"
   },
   {
    "duration": 205,
    "start_time": "2023-03-16T07:06:43.483Z"
   },
   {
    "duration": 177,
    "start_time": "2023-03-16T07:07:28.503Z"
   },
   {
    "duration": 205,
    "start_time": "2023-03-16T07:07:38.911Z"
   },
   {
    "duration": 182,
    "start_time": "2023-03-16T07:08:03.244Z"
   },
   {
    "duration": 209,
    "start_time": "2023-03-16T07:08:09.792Z"
   },
   {
    "duration": 176,
    "start_time": "2023-03-16T07:08:22.136Z"
   },
   {
    "duration": 298,
    "start_time": "2023-03-16T07:08:36.194Z"
   },
   {
    "duration": 195,
    "start_time": "2023-03-16T07:09:40.188Z"
   },
   {
    "duration": 320,
    "start_time": "2023-03-16T07:10:08.455Z"
   },
   {
    "duration": 185,
    "start_time": "2023-03-16T07:10:57.796Z"
   },
   {
    "duration": 14,
    "start_time": "2023-03-16T07:12:03.439Z"
   },
   {
    "duration": 185,
    "start_time": "2023-03-16T07:14:25.604Z"
   },
   {
    "duration": 164,
    "start_time": "2023-03-16T07:14:48.003Z"
   },
   {
    "duration": 178,
    "start_time": "2023-03-16T07:21:07.625Z"
   },
   {
    "duration": 9,
    "start_time": "2023-03-16T07:31:16.011Z"
   },
   {
    "duration": 9,
    "start_time": "2023-03-16T07:31:37.921Z"
   },
   {
    "duration": 11,
    "start_time": "2023-03-16T07:31:47.914Z"
   },
   {
    "duration": 124,
    "start_time": "2023-03-16T07:32:43.166Z"
   },
   {
    "duration": 76,
    "start_time": "2023-03-16T07:36:41.977Z"
   },
   {
    "duration": 114,
    "start_time": "2023-03-16T07:37:44.950Z"
   },
   {
    "duration": 116,
    "start_time": "2023-03-16T07:37:52.847Z"
   },
   {
    "duration": 4,
    "start_time": "2023-03-16T07:39:36.794Z"
   },
   {
    "duration": 4,
    "start_time": "2023-03-16T07:41:22.243Z"
   },
   {
    "duration": 135,
    "start_time": "2023-03-16T07:47:53.643Z"
   },
   {
    "duration": 5,
    "start_time": "2023-03-16T07:54:04.319Z"
   },
   {
    "duration": 4,
    "start_time": "2023-03-16T07:55:35.313Z"
   },
   {
    "duration": 261,
    "start_time": "2023-03-16T09:30:33.980Z"
   },
   {
    "duration": 243,
    "start_time": "2023-03-16T10:21:49.667Z"
   },
   {
    "duration": 15,
    "start_time": "2023-03-16T11:59:20.991Z"
   },
   {
    "duration": 13,
    "start_time": "2023-03-16T12:00:47.085Z"
   },
   {
    "duration": 17,
    "start_time": "2023-03-16T12:00:59.399Z"
   },
   {
    "duration": 759,
    "start_time": "2023-03-16T12:02:27.187Z"
   },
   {
    "duration": 65,
    "start_time": "2023-03-16T12:04:50.534Z"
   },
   {
    "duration": 21,
    "start_time": "2023-03-16T12:05:00.586Z"
   },
   {
    "duration": 22,
    "start_time": "2023-03-16T12:05:12.648Z"
   },
   {
    "duration": 19,
    "start_time": "2023-03-16T12:05:28.789Z"
   },
   {
    "duration": 47,
    "start_time": "2023-03-16T12:05:49.802Z"
   },
   {
    "duration": 75,
    "start_time": "2023-03-16T12:06:15.138Z"
   },
   {
    "duration": 197,
    "start_time": "2023-03-16T12:06:23.745Z"
   },
   {
    "duration": 57,
    "start_time": "2023-03-16T12:06:26.906Z"
   },
   {
    "duration": 206,
    "start_time": "2023-03-16T12:06:29.887Z"
   },
   {
    "duration": 197,
    "start_time": "2023-03-16T12:07:06.439Z"
   },
   {
    "duration": 187,
    "start_time": "2023-03-16T12:07:25.099Z"
   },
   {
    "duration": 48,
    "start_time": "2023-03-16T12:08:08.956Z"
   },
   {
    "duration": 220,
    "start_time": "2023-03-16T12:08:32.795Z"
   },
   {
    "duration": 202,
    "start_time": "2023-03-16T12:10:22.088Z"
   },
   {
    "duration": 207,
    "start_time": "2023-03-16T12:10:29.091Z"
   },
   {
    "duration": 261,
    "start_time": "2023-03-16T12:10:36.330Z"
   },
   {
    "duration": 345,
    "start_time": "2023-03-16T12:11:30.695Z"
   },
   {
    "duration": 196,
    "start_time": "2023-03-16T12:11:35.617Z"
   },
   {
    "duration": 64,
    "start_time": "2023-03-16T12:11:46.115Z"
   },
   {
    "duration": 174,
    "start_time": "2023-03-16T12:11:49.021Z"
   },
   {
    "duration": 192,
    "start_time": "2023-03-16T12:12:09.630Z"
   },
   {
    "duration": 196,
    "start_time": "2023-03-16T12:12:43.459Z"
   },
   {
    "duration": 195,
    "start_time": "2023-03-16T12:13:32.870Z"
   },
   {
    "duration": 302,
    "start_time": "2023-03-16T12:14:05.075Z"
   },
   {
    "duration": 1240,
    "start_time": "2023-03-17T10:12:30.710Z"
   },
   {
    "duration": 153,
    "start_time": "2023-03-17T10:12:31.953Z"
   },
   {
    "duration": 15,
    "start_time": "2023-03-17T10:12:32.108Z"
   },
   {
    "duration": 11,
    "start_time": "2023-03-17T10:12:32.125Z"
   },
   {
    "duration": 174,
    "start_time": "2023-03-17T10:12:32.137Z"
   },
   {
    "duration": 5,
    "start_time": "2023-03-17T10:12:32.313Z"
   },
   {
    "duration": 181,
    "start_time": "2023-03-17T10:12:32.320Z"
   },
   {
    "duration": 136,
    "start_time": "2023-03-17T10:12:32.503Z"
   },
   {
    "duration": 12,
    "start_time": "2023-03-17T10:12:32.641Z"
   },
   {
    "duration": 320,
    "start_time": "2023-03-17T10:12:32.656Z"
   },
   {
    "duration": 224,
    "start_time": "2023-03-17T10:12:32.978Z"
   },
   {
    "duration": 345,
    "start_time": "2023-03-17T10:12:33.204Z"
   },
   {
    "duration": 6,
    "start_time": "2023-03-17T10:12:33.551Z"
   },
   {
    "duration": 283,
    "start_time": "2023-03-17T10:12:33.560Z"
   },
   {
    "duration": 20,
    "start_time": "2023-03-17T10:12:33.844Z"
   },
   {
    "duration": 297,
    "start_time": "2023-03-17T10:12:33.865Z"
   },
   {
    "duration": 229,
    "start_time": "2023-03-17T10:12:34.164Z"
   },
   {
    "duration": 146,
    "start_time": "2023-03-17T10:12:34.395Z"
   },
   {
    "duration": 5,
    "start_time": "2023-03-17T10:12:34.542Z"
   },
   {
    "duration": 156,
    "start_time": "2023-03-17T10:12:34.548Z"
   },
   {
    "duration": 4,
    "start_time": "2023-03-17T10:12:34.706Z"
   },
   {
    "duration": 3,
    "start_time": "2023-03-17T10:36:11.311Z"
   },
   {
    "duration": 48,
    "start_time": "2023-03-17T10:36:11.316Z"
   },
   {
    "duration": 13,
    "start_time": "2023-03-17T10:36:11.366Z"
   },
   {
    "duration": 13,
    "start_time": "2023-03-17T10:36:11.381Z"
   },
   {
    "duration": 70,
    "start_time": "2023-03-17T10:36:11.396Z"
   },
   {
    "duration": 5,
    "start_time": "2023-03-17T10:36:11.468Z"
   },
   {
    "duration": 167,
    "start_time": "2023-03-17T10:36:11.474Z"
   },
   {
    "duration": 122,
    "start_time": "2023-03-17T10:36:11.643Z"
   },
   {
    "duration": 10,
    "start_time": "2023-03-17T10:36:11.767Z"
   },
   {
    "duration": 201,
    "start_time": "2023-03-17T10:36:11.778Z"
   },
   {
    "duration": 248,
    "start_time": "2023-03-17T10:36:11.981Z"
   },
   {
    "duration": 274,
    "start_time": "2023-03-17T10:36:12.231Z"
   },
   {
    "duration": 6,
    "start_time": "2023-03-17T10:36:12.507Z"
   },
   {
    "duration": 205,
    "start_time": "2023-03-17T10:36:12.523Z"
   },
   {
    "duration": 12,
    "start_time": "2023-03-17T10:36:14.312Z"
   },
   {
    "duration": 14,
    "start_time": "2023-03-17T10:37:12.389Z"
   },
   {
    "duration": 10,
    "start_time": "2023-03-17T10:40:43.320Z"
   },
   {
    "duration": 1269,
    "start_time": "2023-03-17T10:42:17.829Z"
   },
   {
    "duration": 253,
    "start_time": "2023-03-17T10:43:09.640Z"
   },
   {
    "duration": 134,
    "start_time": "2023-03-17T10:43:18.167Z"
   },
   {
    "duration": 205,
    "start_time": "2023-03-17T10:44:00.270Z"
   },
   {
    "duration": 145,
    "start_time": "2023-03-17T10:44:07.577Z"
   },
   {
    "duration": 19,
    "start_time": "2023-03-17T10:45:12.319Z"
   },
   {
    "duration": 270,
    "start_time": "2023-03-17T10:45:23.285Z"
   },
   {
    "duration": 20,
    "start_time": "2023-03-17T10:46:24.625Z"
   },
   {
    "duration": 22,
    "start_time": "2023-03-17T10:46:35.167Z"
   },
   {
    "duration": 1164,
    "start_time": "2023-03-17T10:46:39.937Z"
   },
   {
    "duration": 284,
    "start_time": "2023-03-17T10:46:50.845Z"
   },
   {
    "duration": 1228,
    "start_time": "2023-03-18T06:10:56.752Z"
   },
   {
    "duration": 148,
    "start_time": "2023-03-18T06:10:57.983Z"
   },
   {
    "duration": 16,
    "start_time": "2023-03-18T06:10:58.133Z"
   },
   {
    "duration": 17,
    "start_time": "2023-03-18T06:10:58.151Z"
   },
   {
    "duration": 194,
    "start_time": "2023-03-18T06:10:58.173Z"
   },
   {
    "duration": 6,
    "start_time": "2023-03-18T06:10:58.369Z"
   },
   {
    "duration": 170,
    "start_time": "2023-03-18T06:10:58.377Z"
   },
   {
    "duration": 136,
    "start_time": "2023-03-18T06:10:58.549Z"
   },
   {
    "duration": 10,
    "start_time": "2023-03-18T06:10:58.687Z"
   },
   {
    "duration": 290,
    "start_time": "2023-03-18T06:10:58.698Z"
   },
   {
    "duration": 211,
    "start_time": "2023-03-18T06:10:58.989Z"
   },
   {
    "duration": 377,
    "start_time": "2023-03-18T06:10:59.202Z"
   },
   {
    "duration": 6,
    "start_time": "2023-03-18T06:10:59.581Z"
   },
   {
    "duration": 224,
    "start_time": "2023-03-18T06:10:59.590Z"
   },
   {
    "duration": 27,
    "start_time": "2023-03-18T06:10:59.815Z"
   },
   {
    "duration": 310,
    "start_time": "2023-03-18T06:10:59.844Z"
   },
   {
    "duration": 142,
    "start_time": "2023-03-18T06:11:00.156Z"
   },
   {
    "duration": 4,
    "start_time": "2023-03-18T06:11:00.300Z"
   },
   {
    "duration": 175,
    "start_time": "2023-03-18T06:11:00.306Z"
   },
   {
    "duration": 4,
    "start_time": "2023-03-18T06:11:00.483Z"
   },
   {
    "duration": 107,
    "start_time": "2023-03-18T06:12:42.643Z"
   },
   {
    "duration": 142,
    "start_time": "2023-03-18T06:14:30.645Z"
   },
   {
    "duration": 176,
    "start_time": "2023-03-18T06:14:48.660Z"
   },
   {
    "duration": 173,
    "start_time": "2023-03-18T06:15:01.339Z"
   },
   {
    "duration": 171,
    "start_time": "2023-03-18T06:31:33.159Z"
   },
   {
    "duration": 11,
    "start_time": "2023-03-18T06:32:15.514Z"
   },
   {
    "duration": 144,
    "start_time": "2023-03-18T06:32:33.362Z"
   },
   {
    "duration": 146,
    "start_time": "2023-03-18T06:32:38.801Z"
   },
   {
    "duration": 20,
    "start_time": "2023-03-18T06:33:03.827Z"
   },
   {
    "duration": 313,
    "start_time": "2023-03-18T06:35:07.763Z"
   },
   {
    "duration": 404,
    "start_time": "2023-03-18T06:35:14.257Z"
   },
   {
    "duration": 8,
    "start_time": "2023-03-18T06:36:50.777Z"
   },
   {
    "duration": 2469,
    "start_time": "2023-03-18T10:14:01.709Z"
   },
   {
    "duration": 189,
    "start_time": "2023-03-18T10:14:04.181Z"
   },
   {
    "duration": 15,
    "start_time": "2023-03-18T10:14:04.372Z"
   },
   {
    "duration": 16,
    "start_time": "2023-03-18T10:14:04.389Z"
   },
   {
    "duration": 196,
    "start_time": "2023-03-18T10:14:04.408Z"
   },
   {
    "duration": 14,
    "start_time": "2023-03-18T10:16:00.495Z"
   },
   {
    "duration": 18,
    "start_time": "2023-03-18T10:16:42.412Z"
   },
   {
    "duration": 21,
    "start_time": "2023-03-18T10:16:49.082Z"
   },
   {
    "duration": 221,
    "start_time": "2023-03-18T10:18:57.460Z"
   },
   {
    "duration": 1099,
    "start_time": "2023-03-18T10:20:58.722Z"
   },
   {
    "duration": 96,
    "start_time": "2023-03-18T10:20:59.824Z"
   },
   {
    "duration": 13,
    "start_time": "2023-03-18T10:20:59.922Z"
   },
   {
    "duration": 21,
    "start_time": "2023-03-18T10:20:59.937Z"
   },
   {
    "duration": 89,
    "start_time": "2023-03-18T10:20:59.961Z"
   },
   {
    "duration": 16,
    "start_time": "2023-03-18T10:21:00.052Z"
   },
   {
    "duration": 346,
    "start_time": "2023-03-18T10:21:00.070Z"
   },
   {
    "duration": 79,
    "start_time": "2023-03-18T10:21:17.094Z"
   },
   {
    "duration": 89,
    "start_time": "2023-03-18T10:21:25.094Z"
   },
   {
    "duration": 135,
    "start_time": "2023-03-18T10:25:15.178Z"
   },
   {
    "duration": 14,
    "start_time": "2023-03-18T10:26:25.412Z"
   },
   {
    "duration": 1365,
    "start_time": "2023-03-18T10:27:37.438Z"
   },
   {
    "duration": 6,
    "start_time": "2023-03-18T10:27:43.085Z"
   },
   {
    "duration": 6,
    "start_time": "2023-03-18T10:28:59.627Z"
   },
   {
    "duration": 15,
    "start_time": "2023-03-18T10:29:33.220Z"
   },
   {
    "duration": 17,
    "start_time": "2023-03-18T10:30:45.027Z"
   },
   {
    "duration": 14,
    "start_time": "2023-03-18T10:31:06.522Z"
   },
   {
    "duration": 17,
    "start_time": "2023-03-18T10:31:36.358Z"
   },
   {
    "duration": 15,
    "start_time": "2023-03-18T10:31:43.546Z"
   },
   {
    "duration": 16,
    "start_time": "2023-03-18T10:32:30.785Z"
   },
   {
    "duration": 24,
    "start_time": "2023-03-18T10:34:54.004Z"
   },
   {
    "duration": 295,
    "start_time": "2023-03-18T10:35:38.417Z"
   },
   {
    "duration": 198,
    "start_time": "2023-03-18T10:38:25.637Z"
   },
   {
    "duration": 3,
    "start_time": "2023-03-18T10:39:57.352Z"
   },
   {
    "duration": 346,
    "start_time": "2023-03-18T10:41:04.049Z"
   },
   {
    "duration": 16,
    "start_time": "2023-03-18T10:41:27.751Z"
   },
   {
    "duration": 339,
    "start_time": "2023-03-18T10:41:30.113Z"
   },
   {
    "duration": 98,
    "start_time": "2023-03-18T10:43:13.421Z"
   },
   {
    "duration": 18,
    "start_time": "2023-03-18T10:49:44.026Z"
   },
   {
    "duration": 1087,
    "start_time": "2023-03-18T10:50:52.060Z"
   },
   {
    "duration": 92,
    "start_time": "2023-03-18T10:50:53.149Z"
   },
   {
    "duration": 12,
    "start_time": "2023-03-18T10:50:53.242Z"
   },
   {
    "duration": 19,
    "start_time": "2023-03-18T10:50:53.256Z"
   },
   {
    "duration": 75,
    "start_time": "2023-03-18T10:50:53.277Z"
   },
   {
    "duration": 62,
    "start_time": "2023-03-18T10:53:21.508Z"
   },
   {
    "duration": 68,
    "start_time": "2023-03-18T10:53:37.581Z"
   },
   {
    "duration": 48,
    "start_time": "2023-03-18T10:53:45.129Z"
   },
   {
    "duration": 53,
    "start_time": "2023-03-18T10:56:40.192Z"
   },
   {
    "duration": 57,
    "start_time": "2023-03-18T10:58:02.669Z"
   },
   {
    "duration": 71,
    "start_time": "2023-03-18T11:00:34.564Z"
   },
   {
    "duration": 62,
    "start_time": "2023-03-18T11:04:47.765Z"
   },
   {
    "duration": 65,
    "start_time": "2023-03-18T11:04:59.952Z"
   },
   {
    "duration": 28,
    "start_time": "2023-03-18T11:05:38.422Z"
   },
   {
    "duration": 96,
    "start_time": "2023-03-18T11:13:03.415Z"
   },
   {
    "duration": 9,
    "start_time": "2023-03-18T11:13:22.276Z"
   },
   {
    "duration": 261,
    "start_time": "2023-03-18T11:13:52.128Z"
   },
   {
    "duration": 192,
    "start_time": "2023-03-18T11:20:45.078Z"
   },
   {
    "duration": 250,
    "start_time": "2023-03-18T11:24:29.623Z"
   },
   {
    "duration": 324,
    "start_time": "2023-03-18T11:30:53.581Z"
   },
   {
    "duration": 313,
    "start_time": "2023-03-18T11:31:41.894Z"
   },
   {
    "duration": 16,
    "start_time": "2023-03-18T11:33:50.098Z"
   },
   {
    "duration": 203,
    "start_time": "2023-03-18T11:34:08.315Z"
   },
   {
    "duration": 212,
    "start_time": "2023-03-18T11:34:24.898Z"
   },
   {
    "duration": 263,
    "start_time": "2023-03-18T11:44:20.036Z"
   },
   {
    "duration": 304,
    "start_time": "2023-03-18T11:46:45.694Z"
   },
   {
    "duration": 179,
    "start_time": "2023-03-18T11:53:37.762Z"
   },
   {
    "duration": 158,
    "start_time": "2023-03-18T11:53:46.588Z"
   },
   {
    "duration": 12,
    "start_time": "2023-03-18T11:54:19.841Z"
   },
   {
    "duration": 8,
    "start_time": "2023-03-18T11:56:03.202Z"
   },
   {
    "duration": 27,
    "start_time": "2023-03-18T11:56:44.736Z"
   },
   {
    "duration": 12,
    "start_time": "2023-03-18T11:57:44.349Z"
   },
   {
    "duration": 25,
    "start_time": "2023-03-18T11:57:47.197Z"
   },
   {
    "duration": 1115,
    "start_time": "2023-03-18T18:20:57.174Z"
   },
   {
    "duration": 139,
    "start_time": "2023-03-18T18:20:58.291Z"
   },
   {
    "duration": 11,
    "start_time": "2023-03-18T18:20:58.431Z"
   },
   {
    "duration": 9,
    "start_time": "2023-03-18T18:20:58.444Z"
   },
   {
    "duration": 222,
    "start_time": "2023-03-18T18:20:58.457Z"
   },
   {
    "duration": 48,
    "start_time": "2023-03-18T18:20:58.680Z"
   },
   {
    "duration": 55,
    "start_time": "2023-03-18T18:20:58.730Z"
   },
   {
    "duration": 73,
    "start_time": "2023-03-18T18:20:58.786Z"
   },
   {
    "duration": 56,
    "start_time": "2023-03-18T18:20:58.861Z"
   },
   {
    "duration": 40,
    "start_time": "2023-03-18T18:20:58.919Z"
   },
   {
    "duration": 230,
    "start_time": "2023-03-18T18:20:58.960Z"
   },
   {
    "duration": 161,
    "start_time": "2023-03-18T18:20:59.191Z"
   },
   {
    "duration": 311,
    "start_time": "2023-03-18T18:20:59.356Z"
   },
   {
    "duration": 172,
    "start_time": "2023-03-18T18:20:59.668Z"
   },
   {
    "duration": 290,
    "start_time": "2023-03-18T18:20:59.841Z"
   },
   {
    "duration": 116,
    "start_time": "2023-03-18T18:21:00.133Z"
   },
   {
    "duration": 8,
    "start_time": "2023-03-18T18:21:00.251Z"
   },
   {
    "duration": 152,
    "start_time": "2023-03-18T18:21:00.260Z"
   },
   {
    "duration": 4,
    "start_time": "2023-03-18T18:21:00.413Z"
   },
   {
    "duration": 149,
    "start_time": "2023-03-18T18:21:00.418Z"
   },
   {
    "duration": 5,
    "start_time": "2023-03-18T18:21:00.569Z"
   },
   {
    "duration": 39,
    "start_time": "2023-03-18T18:21:00.575Z"
   },
   {
    "duration": 4,
    "start_time": "2023-03-18T18:29:13.303Z"
   },
   {
    "duration": 10,
    "start_time": "2023-03-18T18:55:17.612Z"
   },
   {
    "duration": 3,
    "start_time": "2023-03-18T18:59:32.778Z"
   },
   {
    "duration": 39,
    "start_time": "2023-03-18T18:59:32.784Z"
   },
   {
    "duration": 11,
    "start_time": "2023-03-18T18:59:32.825Z"
   },
   {
    "duration": 23,
    "start_time": "2023-03-18T18:59:32.837Z"
   },
   {
    "duration": 67,
    "start_time": "2023-03-18T18:59:32.862Z"
   },
   {
    "duration": 61,
    "start_time": "2023-03-18T18:59:32.931Z"
   },
   {
    "duration": 47,
    "start_time": "2023-03-18T18:59:32.994Z"
   },
   {
    "duration": 66,
    "start_time": "2023-03-18T18:59:33.056Z"
   },
   {
    "duration": 87,
    "start_time": "2023-03-18T18:59:33.124Z"
   },
   {
    "duration": 26,
    "start_time": "2023-03-18T18:59:33.213Z"
   },
   {
    "duration": 180,
    "start_time": "2023-03-18T18:59:33.256Z"
   },
   {
    "duration": 176,
    "start_time": "2023-03-18T18:59:33.438Z"
   },
   {
    "duration": 376,
    "start_time": "2023-03-18T18:59:33.617Z"
   },
   {
    "duration": 184,
    "start_time": "2023-03-18T18:59:33.995Z"
   },
   {
    "duration": 281,
    "start_time": "2023-03-18T18:59:34.181Z"
   },
   {
    "duration": 119,
    "start_time": "2023-03-18T18:59:34.463Z"
   },
   {
    "duration": 4,
    "start_time": "2023-03-18T18:59:34.584Z"
   },
   {
    "duration": 142,
    "start_time": "2023-03-18T18:59:34.590Z"
   },
   {
    "duration": 5,
    "start_time": "2023-03-18T18:59:34.734Z"
   },
   {
    "duration": 156,
    "start_time": "2023-03-18T18:59:34.741Z"
   },
   {
    "duration": 6,
    "start_time": "2023-03-18T18:59:34.899Z"
   },
   {
    "duration": 29,
    "start_time": "2023-03-18T18:59:34.907Z"
   },
   {
    "duration": 25,
    "start_time": "2023-03-18T18:59:34.937Z"
   },
   {
    "duration": 3,
    "start_time": "2023-03-18T18:59:34.964Z"
   },
   {
    "duration": 5,
    "start_time": "2023-03-18T19:10:05.845Z"
   },
   {
    "duration": 10,
    "start_time": "2023-03-18T19:16:56.298Z"
   },
   {
    "duration": 86,
    "start_time": "2023-03-18T19:17:55.496Z"
   },
   {
    "duration": 2276,
    "start_time": "2023-03-19T09:56:17.916Z"
   },
   {
    "duration": 302,
    "start_time": "2023-03-19T09:56:20.199Z"
   },
   {
    "duration": 21,
    "start_time": "2023-03-19T09:56:20.508Z"
   },
   {
    "duration": 110,
    "start_time": "2023-03-19T09:56:20.535Z"
   },
   {
    "duration": 451,
    "start_time": "2023-03-19T09:56:20.648Z"
   },
   {
    "duration": 120,
    "start_time": "2023-03-19T09:56:21.102Z"
   },
   {
    "duration": 105,
    "start_time": "2023-03-19T09:56:21.235Z"
   },
   {
    "duration": 133,
    "start_time": "2023-03-19T09:56:21.343Z"
   },
   {
    "duration": 145,
    "start_time": "2023-03-19T09:56:21.482Z"
   },
   {
    "duration": 72,
    "start_time": "2023-03-19T09:56:21.630Z"
   },
   {
    "duration": 510,
    "start_time": "2023-03-19T09:56:21.704Z"
   },
   {
    "duration": 330,
    "start_time": "2023-03-19T09:56:22.220Z"
   },
   {
    "duration": 419,
    "start_time": "2023-03-19T09:56:22.556Z"
   },
   {
    "duration": 348,
    "start_time": "2023-03-19T09:56:22.983Z"
   },
   {
    "duration": 415,
    "start_time": "2023-03-19T09:56:23.334Z"
   },
   {
    "duration": 206,
    "start_time": "2023-03-19T09:56:23.755Z"
   },
   {
    "duration": 82,
    "start_time": "2023-03-19T09:56:23.967Z"
   },
   {
    "duration": 533,
    "start_time": "2023-03-19T09:56:24.058Z"
   },
   {
    "duration": 7,
    "start_time": "2023-03-19T09:56:24.594Z"
   },
   {
    "duration": 591,
    "start_time": "2023-03-19T09:56:24.603Z"
   },
   {
    "duration": 15,
    "start_time": "2023-03-19T09:56:25.200Z"
   },
   {
    "duration": 194,
    "start_time": "2023-03-19T09:56:25.225Z"
   },
   {
    "duration": 196,
    "start_time": "2023-03-19T09:56:25.430Z"
   },
   {
    "duration": 202,
    "start_time": "2023-03-19T09:56:25.631Z"
   },
   {
    "duration": 34,
    "start_time": "2023-03-19T09:58:50.307Z"
   },
   {
    "duration": 30,
    "start_time": "2023-03-19T10:07:46.271Z"
   },
   {
    "duration": 93,
    "start_time": "2023-03-19T10:08:09.046Z"
   },
   {
    "duration": 83,
    "start_time": "2023-03-19T10:10:14.386Z"
   },
   {
    "duration": 3635,
    "start_time": "2023-03-19T10:13:28.818Z"
   },
   {
    "duration": 3522,
    "start_time": "2023-03-19T10:14:10.391Z"
   },
   {
    "duration": 50,
    "start_time": "2023-03-19T10:14:25.895Z"
   },
   {
    "duration": 192,
    "start_time": "2023-03-19T10:17:40.109Z"
   },
   {
    "duration": 543,
    "start_time": "2023-03-19T10:23:25.349Z"
   },
   {
    "duration": 20,
    "start_time": "2023-03-19T10:24:28.169Z"
   },
   {
    "duration": 52,
    "start_time": "2023-03-19T10:25:00.101Z"
   },
   {
    "duration": 9,
    "start_time": "2023-03-19T10:57:41.578Z"
   },
   {
    "duration": 5,
    "start_time": "2023-03-19T11:03:48.098Z"
   },
   {
    "duration": 28,
    "start_time": "2023-03-19T11:03:54.767Z"
   },
   {
    "duration": 135,
    "start_time": "2023-03-19T11:04:13.844Z"
   },
   {
    "duration": 124,
    "start_time": "2023-03-19T11:04:19.919Z"
   },
   {
    "duration": 109,
    "start_time": "2023-03-19T11:04:23.561Z"
   },
   {
    "duration": 13,
    "start_time": "2023-03-19T11:04:54.175Z"
   },
   {
    "duration": 89,
    "start_time": "2023-03-19T11:07:36.115Z"
   },
   {
    "duration": 93,
    "start_time": "2023-03-19T11:09:53.254Z"
   },
   {
    "duration": 252,
    "start_time": "2023-03-19T11:33:59.634Z"
   },
   {
    "duration": 66,
    "start_time": "2023-03-19T11:34:23.891Z"
   },
   {
    "duration": 118,
    "start_time": "2023-03-19T11:34:43.231Z"
   },
   {
    "duration": 116,
    "start_time": "2023-03-19T11:35:09.847Z"
   },
   {
    "duration": 73,
    "start_time": "2023-03-19T11:35:15.746Z"
   },
   {
    "duration": 306,
    "start_time": "2023-03-19T11:35:23.161Z"
   },
   {
    "duration": 259,
    "start_time": "2023-03-19T11:35:38.590Z"
   },
   {
    "duration": 506,
    "start_time": "2023-03-19T11:36:28.595Z"
   },
   {
    "duration": 288,
    "start_time": "2023-03-19T11:48:45.599Z"
   },
   {
    "duration": 247,
    "start_time": "2023-03-19T11:54:05.914Z"
   },
   {
    "duration": 436,
    "start_time": "2023-03-19T11:55:41.037Z"
   },
   {
    "duration": 33,
    "start_time": "2023-03-19T11:57:01.965Z"
   },
   {
    "duration": 373,
    "start_time": "2023-03-19T11:57:33.658Z"
   },
   {
    "duration": 1378,
    "start_time": "2023-03-20T12:04:51.079Z"
   },
   {
    "duration": 197,
    "start_time": "2023-03-20T12:04:52.460Z"
   },
   {
    "duration": 13,
    "start_time": "2023-03-20T12:04:52.660Z"
   },
   {
    "duration": 26,
    "start_time": "2023-03-20T12:04:52.675Z"
   },
   {
    "duration": 214,
    "start_time": "2023-03-20T12:04:52.703Z"
   },
   {
    "duration": 69,
    "start_time": "2023-03-20T12:04:52.919Z"
   },
   {
    "duration": 71,
    "start_time": "2023-03-20T12:04:52.990Z"
   },
   {
    "duration": 88,
    "start_time": "2023-03-20T12:04:53.062Z"
   },
   {
    "duration": 107,
    "start_time": "2023-03-20T12:04:53.152Z"
   },
   {
    "duration": 31,
    "start_time": "2023-03-20T12:04:53.262Z"
   },
   {
    "duration": 297,
    "start_time": "2023-03-20T12:04:53.294Z"
   },
   {
    "duration": 215,
    "start_time": "2023-03-20T12:04:53.593Z"
   },
   {
    "duration": 351,
    "start_time": "2023-03-20T12:04:53.810Z"
   },
   {
    "duration": 221,
    "start_time": "2023-03-20T12:04:54.163Z"
   },
   {
    "duration": 329,
    "start_time": "2023-03-20T12:04:54.385Z"
   },
   {
    "duration": 172,
    "start_time": "2023-03-20T12:04:54.716Z"
   },
   {
    "duration": 4,
    "start_time": "2023-03-20T12:04:54.891Z"
   },
   {
    "duration": 167,
    "start_time": "2023-03-20T12:04:54.897Z"
   },
   {
    "duration": 4,
    "start_time": "2023-03-20T12:04:55.066Z"
   },
   {
    "duration": 198,
    "start_time": "2023-03-20T12:04:55.072Z"
   },
   {
    "duration": 7,
    "start_time": "2023-03-20T12:04:55.272Z"
   },
   {
    "duration": 79,
    "start_time": "2023-03-20T12:04:55.280Z"
   },
   {
    "duration": 11,
    "start_time": "2023-03-20T12:04:55.361Z"
   },
   {
    "duration": 11,
    "start_time": "2023-03-20T12:04:55.374Z"
   },
   {
    "duration": 163,
    "start_time": "2023-03-20T12:04:55.387Z"
   },
   {
    "duration": 8,
    "start_time": "2023-03-20T12:04:55.556Z"
   },
   {
    "duration": 45,
    "start_time": "2023-03-20T12:04:55.565Z"
   },
   {
    "duration": 333,
    "start_time": "2023-03-20T12:04:55.613Z"
   },
   {
    "duration": 16,
    "start_time": "2023-03-20T12:04:55.950Z"
   },
   {
    "duration": 293,
    "start_time": "2023-03-20T12:04:55.968Z"
   },
   {
    "duration": 100,
    "start_time": "2023-03-20T12:35:40.462Z"
   },
   {
    "duration": 1126,
    "start_time": "2023-03-20T13:19:41.802Z"
   },
   {
    "duration": 136,
    "start_time": "2023-03-20T13:19:42.930Z"
   },
   {
    "duration": 11,
    "start_time": "2023-03-20T13:19:43.067Z"
   },
   {
    "duration": 13,
    "start_time": "2023-03-20T13:19:43.079Z"
   },
   {
    "duration": 184,
    "start_time": "2023-03-20T13:19:43.093Z"
   },
   {
    "duration": 65,
    "start_time": "2023-03-20T13:19:43.279Z"
   },
   {
    "duration": 55,
    "start_time": "2023-03-20T13:19:43.346Z"
   },
   {
    "duration": 72,
    "start_time": "2023-03-20T13:19:43.402Z"
   },
   {
    "duration": 67,
    "start_time": "2023-03-20T13:19:43.475Z"
   },
   {
    "duration": 29,
    "start_time": "2023-03-20T13:19:43.546Z"
   },
   {
    "duration": 278,
    "start_time": "2023-03-20T13:19:43.577Z"
   },
   {
    "duration": 200,
    "start_time": "2023-03-20T13:19:43.857Z"
   },
   {
    "duration": 272,
    "start_time": "2023-03-20T13:19:44.058Z"
   },
   {
    "duration": 207,
    "start_time": "2023-03-20T13:19:44.332Z"
   },
   {
    "duration": 316,
    "start_time": "2023-03-20T13:19:44.540Z"
   },
   {
    "duration": 120,
    "start_time": "2023-03-20T13:19:44.858Z"
   },
   {
    "duration": 4,
    "start_time": "2023-03-20T13:19:44.980Z"
   },
   {
    "duration": 178,
    "start_time": "2023-03-20T13:19:44.986Z"
   },
   {
    "duration": 4,
    "start_time": "2023-03-20T13:19:45.166Z"
   },
   {
    "duration": 147,
    "start_time": "2023-03-20T13:19:45.172Z"
   },
   {
    "duration": 10,
    "start_time": "2023-03-20T13:19:45.321Z"
   },
   {
    "duration": 26,
    "start_time": "2023-03-20T13:19:45.333Z"
   },
   {
    "duration": 13,
    "start_time": "2023-03-20T13:19:45.361Z"
   },
   {
    "duration": 10,
    "start_time": "2023-03-20T13:19:45.375Z"
   },
   {
    "duration": 157,
    "start_time": "2023-03-20T13:19:45.387Z"
   },
   {
    "duration": 7,
    "start_time": "2023-03-20T13:19:45.545Z"
   },
   {
    "duration": 27,
    "start_time": "2023-03-20T13:19:45.554Z"
   },
   {
    "duration": 279,
    "start_time": "2023-03-20T13:19:45.584Z"
   },
   {
    "duration": 13,
    "start_time": "2023-03-20T13:19:45.865Z"
   },
   {
    "duration": 305,
    "start_time": "2023-03-20T13:19:45.880Z"
   },
   {
    "duration": 344,
    "start_time": "2023-03-20T13:24:45.285Z"
   },
   {
    "duration": 178,
    "start_time": "2023-03-21T10:51:45.714Z"
   },
   {
    "duration": 61,
    "start_time": "2023-03-21T11:14:53.250Z"
   },
   {
    "duration": 50,
    "start_time": "2023-03-21T11:18:52.448Z"
   },
   {
    "duration": 1164,
    "start_time": "2023-03-21T11:19:05.955Z"
   },
   {
    "duration": 126,
    "start_time": "2023-03-21T11:19:07.121Z"
   },
   {
    "duration": 69,
    "start_time": "2023-03-21T11:19:07.249Z"
   },
   {
    "duration": 0,
    "start_time": "2023-03-21T11:19:07.320Z"
   },
   {
    "duration": 0,
    "start_time": "2023-03-21T11:19:07.321Z"
   },
   {
    "duration": 0,
    "start_time": "2023-03-21T11:19:07.322Z"
   },
   {
    "duration": 0,
    "start_time": "2023-03-21T11:19:07.323Z"
   },
   {
    "duration": 0,
    "start_time": "2023-03-21T11:19:07.324Z"
   },
   {
    "duration": 0,
    "start_time": "2023-03-21T11:19:07.325Z"
   },
   {
    "duration": 0,
    "start_time": "2023-03-21T11:19:07.326Z"
   },
   {
    "duration": 0,
    "start_time": "2023-03-21T11:19:07.327Z"
   },
   {
    "duration": 0,
    "start_time": "2023-03-21T11:19:07.328Z"
   },
   {
    "duration": 0,
    "start_time": "2023-03-21T11:19:07.329Z"
   },
   {
    "duration": 0,
    "start_time": "2023-03-21T11:19:07.330Z"
   },
   {
    "duration": 1,
    "start_time": "2023-03-21T11:19:07.330Z"
   },
   {
    "duration": 0,
    "start_time": "2023-03-21T11:19:07.331Z"
   },
   {
    "duration": 0,
    "start_time": "2023-03-21T11:19:07.332Z"
   },
   {
    "duration": 0,
    "start_time": "2023-03-21T11:19:07.333Z"
   },
   {
    "duration": 0,
    "start_time": "2023-03-21T11:19:07.334Z"
   },
   {
    "duration": 0,
    "start_time": "2023-03-21T11:19:07.360Z"
   },
   {
    "duration": 0,
    "start_time": "2023-03-21T11:19:07.361Z"
   },
   {
    "duration": 0,
    "start_time": "2023-03-21T11:19:07.362Z"
   },
   {
    "duration": 0,
    "start_time": "2023-03-21T11:19:07.362Z"
   },
   {
    "duration": 0,
    "start_time": "2023-03-21T11:19:07.363Z"
   },
   {
    "duration": 0,
    "start_time": "2023-03-21T11:19:07.364Z"
   },
   {
    "duration": 0,
    "start_time": "2023-03-21T11:19:07.365Z"
   },
   {
    "duration": 0,
    "start_time": "2023-03-21T11:19:07.366Z"
   },
   {
    "duration": 0,
    "start_time": "2023-03-21T11:19:07.366Z"
   },
   {
    "duration": 0,
    "start_time": "2023-03-21T11:19:07.367Z"
   },
   {
    "duration": 0,
    "start_time": "2023-03-21T11:19:07.368Z"
   },
   {
    "duration": 13,
    "start_time": "2023-03-21T11:19:12.572Z"
   },
   {
    "duration": 19,
    "start_time": "2023-03-21T11:20:32.900Z"
   },
   {
    "duration": 10,
    "start_time": "2023-03-21T11:21:08.409Z"
   },
   {
    "duration": 11,
    "start_time": "2023-03-21T11:21:22.843Z"
   },
   {
    "duration": 10,
    "start_time": "2023-03-21T11:21:44.583Z"
   },
   {
    "duration": 10,
    "start_time": "2023-03-21T11:22:19.489Z"
   },
   {
    "duration": 8,
    "start_time": "2023-03-21T11:22:33.849Z"
   },
   {
    "duration": 9,
    "start_time": "2023-03-21T11:22:51.889Z"
   },
   {
    "duration": 18,
    "start_time": "2023-03-21T11:23:18.812Z"
   },
   {
    "duration": 81,
    "start_time": "2023-03-21T11:24:04.915Z"
   },
   {
    "duration": 115,
    "start_time": "2023-03-21T11:24:10.888Z"
   },
   {
    "duration": 12,
    "start_time": "2023-03-21T11:24:29.168Z"
   },
   {
    "duration": 55,
    "start_time": "2023-03-21T11:31:44.587Z"
   },
   {
    "duration": 7,
    "start_time": "2023-03-21T11:33:51.788Z"
   },
   {
    "duration": 4,
    "start_time": "2023-03-21T11:34:03.436Z"
   },
   {
    "duration": 106,
    "start_time": "2023-03-21T11:34:03.443Z"
   },
   {
    "duration": 8,
    "start_time": "2023-03-21T11:34:03.551Z"
   },
   {
    "duration": 51,
    "start_time": "2023-03-21T11:34:03.569Z"
   },
   {
    "duration": 248,
    "start_time": "2023-03-21T11:34:03.621Z"
   },
   {
    "duration": 6,
    "start_time": "2023-03-21T11:34:05.441Z"
   },
   {
    "duration": 9,
    "start_time": "2023-03-21T11:34:30.766Z"
   },
   {
    "duration": 5,
    "start_time": "2023-03-21T11:35:55.973Z"
   },
   {
    "duration": 6,
    "start_time": "2023-03-21T11:36:23.445Z"
   },
   {
    "duration": 26,
    "start_time": "2023-03-21T11:36:44.285Z"
   },
   {
    "duration": 10,
    "start_time": "2023-03-21T11:37:18.529Z"
   },
   {
    "duration": 15,
    "start_time": "2023-03-21T11:37:36.845Z"
   },
   {
    "duration": 17,
    "start_time": "2023-03-21T11:37:47.405Z"
   },
   {
    "duration": 17,
    "start_time": "2023-03-21T11:38:25.365Z"
   },
   {
    "duration": 59,
    "start_time": "2023-03-21T11:38:56.786Z"
   },
   {
    "duration": 3,
    "start_time": "2023-03-21T11:45:08.119Z"
   },
   {
    "duration": 4,
    "start_time": "2023-03-21T11:46:16.600Z"
   },
   {
    "duration": 4,
    "start_time": "2023-03-21T11:47:27.283Z"
   },
   {
    "duration": 4,
    "start_time": "2023-03-21T11:49:05.684Z"
   },
   {
    "duration": 5,
    "start_time": "2023-03-21T11:49:37.521Z"
   },
   {
    "duration": 48,
    "start_time": "2023-03-21T11:52:55.971Z"
   },
   {
    "duration": 58,
    "start_time": "2023-03-21T11:53:20.457Z"
   },
   {
    "duration": 26,
    "start_time": "2023-03-21T11:53:28.884Z"
   },
   {
    "duration": 8,
    "start_time": "2023-03-21T11:53:40.720Z"
   },
   {
    "duration": 6,
    "start_time": "2023-03-21T11:53:54.155Z"
   },
   {
    "duration": 4,
    "start_time": "2023-03-21T11:54:45.919Z"
   },
   {
    "duration": 1379,
    "start_time": "2023-03-22T19:08:12.280Z"
   },
   {
    "duration": 168,
    "start_time": "2023-03-22T19:08:13.662Z"
   },
   {
    "duration": 14,
    "start_time": "2023-03-22T19:08:13.832Z"
   },
   {
    "duration": 16,
    "start_time": "2023-03-22T19:08:13.847Z"
   },
   {
    "duration": 247,
    "start_time": "2023-03-22T19:08:13.865Z"
   },
   {
    "duration": 28,
    "start_time": "2023-03-22T19:08:14.114Z"
   },
   {
    "duration": 5,
    "start_time": "2023-03-22T19:08:14.144Z"
   },
   {
    "duration": 7,
    "start_time": "2023-03-22T19:08:14.151Z"
   },
   {
    "duration": 19,
    "start_time": "2023-03-22T19:08:14.160Z"
   },
   {
    "duration": 89,
    "start_time": "2023-03-22T19:08:14.181Z"
   },
   {
    "duration": 59,
    "start_time": "2023-03-22T19:08:14.272Z"
   },
   {
    "duration": 84,
    "start_time": "2023-03-22T19:08:14.332Z"
   },
   {
    "duration": 79,
    "start_time": "2023-03-22T19:08:14.418Z"
   },
   {
    "duration": 28,
    "start_time": "2023-03-22T19:08:14.501Z"
   },
   {
    "duration": 293,
    "start_time": "2023-03-22T19:08:14.531Z"
   },
   {
    "duration": 195,
    "start_time": "2023-03-22T19:08:14.825Z"
   },
   {
    "duration": 344,
    "start_time": "2023-03-22T19:08:15.021Z"
   },
   {
    "duration": 214,
    "start_time": "2023-03-22T19:08:15.367Z"
   },
   {
    "duration": 302,
    "start_time": "2023-03-22T19:08:15.583Z"
   },
   {
    "duration": 142,
    "start_time": "2023-03-22T19:08:15.887Z"
   },
   {
    "duration": 5,
    "start_time": "2023-03-22T19:08:16.031Z"
   },
   {
    "duration": 168,
    "start_time": "2023-03-22T19:08:16.038Z"
   },
   {
    "duration": 4,
    "start_time": "2023-03-22T19:08:16.208Z"
   },
   {
    "duration": 184,
    "start_time": "2023-03-22T19:08:16.213Z"
   },
   {
    "duration": 7,
    "start_time": "2023-03-22T19:08:16.399Z"
   },
   {
    "duration": 28,
    "start_time": "2023-03-22T19:08:16.407Z"
   },
   {
    "duration": 37,
    "start_time": "2023-03-22T19:08:16.437Z"
   },
   {
    "duration": 12,
    "start_time": "2023-03-22T19:08:16.476Z"
   },
   {
    "duration": 167,
    "start_time": "2023-03-22T19:08:16.490Z"
   },
   {
    "duration": 10,
    "start_time": "2023-03-22T19:08:16.661Z"
   },
   {
    "duration": 22,
    "start_time": "2023-03-22T19:08:16.673Z"
   },
   {
    "duration": 297,
    "start_time": "2023-03-22T19:08:16.697Z"
   },
   {
    "duration": 17,
    "start_time": "2023-03-22T19:08:16.996Z"
   },
   {
    "duration": 313,
    "start_time": "2023-03-22T19:08:17.015Z"
   },
   {
    "duration": 123,
    "start_time": "2023-03-22T19:09:13.907Z"
   },
   {
    "duration": 4,
    "start_time": "2023-03-22T19:09:19.200Z"
   },
   {
    "duration": 8,
    "start_time": "2023-03-22T19:09:25.983Z"
   },
   {
    "duration": 9,
    "start_time": "2023-03-22T19:11:08.047Z"
   },
   {
    "duration": 14,
    "start_time": "2023-03-22T19:11:54.283Z"
   },
   {
    "duration": 14,
    "start_time": "2023-03-22T19:11:59.268Z"
   },
   {
    "duration": 11,
    "start_time": "2023-03-22T19:12:32.918Z"
   },
   {
    "duration": 11,
    "start_time": "2023-03-22T19:13:03.344Z"
   },
   {
    "duration": 10,
    "start_time": "2023-03-22T19:13:10.865Z"
   },
   {
    "duration": 13,
    "start_time": "2023-03-22T19:13:28.929Z"
   },
   {
    "duration": 6,
    "start_time": "2023-03-22T19:13:34.181Z"
   },
   {
    "duration": 7,
    "start_time": "2023-03-22T19:13:47.191Z"
   },
   {
    "duration": 6,
    "start_time": "2023-03-22T19:13:59.356Z"
   },
   {
    "duration": 9,
    "start_time": "2023-03-22T19:14:31.086Z"
   },
   {
    "duration": 91,
    "start_time": "2023-03-22T19:15:11.832Z"
   },
   {
    "duration": 19,
    "start_time": "2023-03-22T19:15:38.471Z"
   },
   {
    "duration": 9,
    "start_time": "2023-03-22T19:15:44.182Z"
   },
   {
    "duration": 6,
    "start_time": "2023-03-22T19:18:34.901Z"
   },
   {
    "duration": 20,
    "start_time": "2023-03-22T19:18:46.730Z"
   },
   {
    "duration": 9,
    "start_time": "2023-03-22T19:18:52.168Z"
   },
   {
    "duration": 6,
    "start_time": "2023-03-22T19:19:44.387Z"
   },
   {
    "duration": 86,
    "start_time": "2023-03-22T19:20:36.373Z"
   },
   {
    "duration": 86,
    "start_time": "2023-03-22T19:20:45.596Z"
   },
   {
    "duration": 8,
    "start_time": "2023-03-22T19:26:52.825Z"
   },
   {
    "duration": 72,
    "start_time": "2023-03-22T19:27:20.658Z"
   },
   {
    "duration": 38,
    "start_time": "2023-03-22T19:27:40.941Z"
   },
   {
    "duration": 8,
    "start_time": "2023-03-22T19:27:53.298Z"
   },
   {
    "duration": 8,
    "start_time": "2023-03-22T19:29:47.582Z"
   },
   {
    "duration": 9,
    "start_time": "2023-03-22T19:31:04.704Z"
   },
   {
    "duration": 190,
    "start_time": "2023-03-22T19:36:03.658Z"
   },
   {
    "duration": 153,
    "start_time": "2023-03-22T19:36:45.171Z"
   },
   {
    "duration": 203,
    "start_time": "2023-03-22T19:37:08.184Z"
   },
   {
    "duration": 220,
    "start_time": "2023-03-22T19:38:54.902Z"
   },
   {
    "duration": 14,
    "start_time": "2023-03-22T19:39:50.497Z"
   },
   {
    "duration": 1657,
    "start_time": "2023-03-22T19:39:58.583Z"
   },
   {
    "duration": 286,
    "start_time": "2023-03-22T19:49:28.438Z"
   },
   {
    "duration": 1246,
    "start_time": "2023-03-22T19:50:49.376Z"
   },
   {
    "duration": 1230,
    "start_time": "2023-03-22T19:51:00.935Z"
   },
   {
    "duration": 382,
    "start_time": "2023-03-22T19:51:25.626Z"
   },
   {
    "duration": 296,
    "start_time": "2023-03-22T19:59:12.226Z"
   },
   {
    "duration": 238,
    "start_time": "2023-03-22T20:00:39.720Z"
   },
   {
    "duration": 55,
    "start_time": "2023-03-23T10:23:49.111Z"
   },
   {
    "duration": 1485,
    "start_time": "2023-03-23T10:24:02.745Z"
   },
   {
    "duration": 104,
    "start_time": "2023-03-23T10:24:04.234Z"
   },
   {
    "duration": 15,
    "start_time": "2023-03-23T10:24:04.341Z"
   },
   {
    "duration": 14,
    "start_time": "2023-03-23T10:24:04.358Z"
   },
   {
    "duration": 184,
    "start_time": "2023-03-23T10:24:04.374Z"
   },
   {
    "duration": 23,
    "start_time": "2023-03-23T10:24:04.560Z"
   },
   {
    "duration": 5,
    "start_time": "2023-03-23T10:24:04.585Z"
   },
   {
    "duration": 10,
    "start_time": "2023-03-23T10:24:04.592Z"
   },
   {
    "duration": 23,
    "start_time": "2023-03-23T10:24:04.603Z"
   },
   {
    "duration": 53,
    "start_time": "2023-03-23T10:24:06.520Z"
   },
   {
    "duration": 73,
    "start_time": "2023-03-23T10:24:19.049Z"
   },
   {
    "duration": 15,
    "start_time": "2023-03-23T10:24:35.668Z"
   },
   {
    "duration": 17,
    "start_time": "2023-03-23T10:25:15.423Z"
   },
   {
    "duration": 16,
    "start_time": "2023-03-23T10:25:30.769Z"
   },
   {
    "duration": 8,
    "start_time": "2023-03-23T10:25:58.912Z"
   },
   {
    "duration": 9,
    "start_time": "2023-03-23T10:30:46.490Z"
   },
   {
    "duration": 14,
    "start_time": "2023-03-23T10:37:26.826Z"
   },
   {
    "duration": 4,
    "start_time": "2023-03-23T10:37:34.128Z"
   },
   {
    "duration": 60,
    "start_time": "2023-03-23T10:37:34.135Z"
   },
   {
    "duration": 16,
    "start_time": "2023-03-23T10:37:34.198Z"
   },
   {
    "duration": 18,
    "start_time": "2023-03-23T10:37:34.217Z"
   },
   {
    "duration": 86,
    "start_time": "2023-03-23T10:37:34.237Z"
   },
   {
    "duration": 35,
    "start_time": "2023-03-23T10:37:34.326Z"
   },
   {
    "duration": 12,
    "start_time": "2023-03-23T10:37:34.364Z"
   },
   {
    "duration": 15,
    "start_time": "2023-03-23T10:37:34.378Z"
   },
   {
    "duration": 17,
    "start_time": "2023-03-23T10:37:34.397Z"
   },
   {
    "duration": 10,
    "start_time": "2023-03-23T10:37:34.417Z"
   },
   {
    "duration": 109,
    "start_time": "2023-03-23T10:37:34.429Z"
   },
   {
    "duration": 104,
    "start_time": "2023-03-23T10:37:34.540Z"
   },
   {
    "duration": 1238,
    "start_time": "2023-03-23T10:37:38.045Z"
   },
   {
    "duration": 298,
    "start_time": "2023-03-23T10:38:17.459Z"
   },
   {
    "duration": 74,
    "start_time": "2023-03-23T10:40:26.422Z"
   },
   {
    "duration": 5,
    "start_time": "2023-03-23T10:40:35.396Z"
   },
   {
    "duration": 40,
    "start_time": "2023-03-23T10:40:35.403Z"
   },
   {
    "duration": 17,
    "start_time": "2023-03-23T10:40:35.446Z"
   },
   {
    "duration": 18,
    "start_time": "2023-03-23T10:40:35.464Z"
   },
   {
    "duration": 87,
    "start_time": "2023-03-23T10:40:35.486Z"
   },
   {
    "duration": 28,
    "start_time": "2023-03-23T10:40:35.576Z"
   },
   {
    "duration": 5,
    "start_time": "2023-03-23T10:40:35.606Z"
   },
   {
    "duration": 7,
    "start_time": "2023-03-23T10:40:35.613Z"
   },
   {
    "duration": 27,
    "start_time": "2023-03-23T10:40:35.622Z"
   },
   {
    "duration": 33,
    "start_time": "2023-03-23T10:40:35.651Z"
   },
   {
    "duration": 68,
    "start_time": "2023-03-23T10:40:35.686Z"
   },
   {
    "duration": 70,
    "start_time": "2023-03-23T10:40:35.756Z"
   },
   {
    "duration": 295,
    "start_time": "2023-03-23T10:40:35.828Z"
   },
   {
    "duration": 107,
    "start_time": "2023-03-23T10:40:36.127Z"
   },
   {
    "duration": 83,
    "start_time": "2023-03-23T10:40:36.236Z"
   },
   {
    "duration": 56,
    "start_time": "2023-03-23T10:40:36.321Z"
   },
   {
    "duration": 218,
    "start_time": "2023-03-23T10:40:36.380Z"
   },
   {
    "duration": 264,
    "start_time": "2023-03-23T10:40:36.600Z"
   },
   {
    "duration": 414,
    "start_time": "2023-03-23T10:40:36.867Z"
   },
   {
    "duration": 338,
    "start_time": "2023-03-23T10:40:37.283Z"
   },
   {
    "duration": 368,
    "start_time": "2023-03-23T10:40:37.624Z"
   },
   {
    "duration": 213,
    "start_time": "2023-03-23T10:40:37.994Z"
   },
   {
    "duration": 6,
    "start_time": "2023-03-23T10:40:38.210Z"
   },
   {
    "duration": 339,
    "start_time": "2023-03-23T10:40:38.218Z"
   },
   {
    "duration": 15,
    "start_time": "2023-03-23T10:40:38.560Z"
   },
   {
    "duration": 338,
    "start_time": "2023-03-23T10:40:38.578Z"
   },
   {
    "duration": 9,
    "start_time": "2023-03-23T10:40:38.919Z"
   },
   {
    "duration": 55,
    "start_time": "2023-03-23T10:40:38.932Z"
   },
   {
    "duration": 15,
    "start_time": "2023-03-23T10:40:38.989Z"
   },
   {
    "duration": 15,
    "start_time": "2023-03-23T10:40:39.006Z"
   },
   {
    "duration": 272,
    "start_time": "2023-03-23T10:40:39.024Z"
   },
   {
    "duration": 14,
    "start_time": "2023-03-23T10:40:39.299Z"
   },
   {
    "duration": 35,
    "start_time": "2023-03-23T10:40:39.315Z"
   },
   {
    "duration": 403,
    "start_time": "2023-03-23T10:40:39.376Z"
   },
   {
    "duration": 22,
    "start_time": "2023-03-23T10:40:39.781Z"
   },
   {
    "duration": 342,
    "start_time": "2023-03-23T10:40:39.805Z"
   },
   {
    "duration": 5,
    "start_time": "2023-03-23T10:42:35.708Z"
   },
   {
    "duration": 5,
    "start_time": "2023-03-23T10:43:36.608Z"
   },
   {
    "duration": 16,
    "start_time": "2023-03-23T10:44:08.697Z"
   },
   {
    "duration": 6,
    "start_time": "2023-03-23T10:46:22.799Z"
   },
   {
    "duration": 19,
    "start_time": "2023-03-23T10:47:43.199Z"
   },
   {
    "duration": 16,
    "start_time": "2023-03-23T10:48:24.908Z"
   },
   {
    "duration": 99,
    "start_time": "2023-03-23T10:49:46.037Z"
   },
   {
    "duration": 300,
    "start_time": "2023-03-23T10:54:33.904Z"
   },
   {
    "duration": 269,
    "start_time": "2023-03-23T10:54:48.828Z"
   },
   {
    "duration": 1649,
    "start_time": "2023-03-24T10:22:43.004Z"
   },
   {
    "duration": 109,
    "start_time": "2023-03-24T10:22:44.656Z"
   },
   {
    "duration": 19,
    "start_time": "2023-03-24T10:22:44.768Z"
   },
   {
    "duration": 14,
    "start_time": "2023-03-24T10:22:44.789Z"
   },
   {
    "duration": 249,
    "start_time": "2023-03-24T10:22:44.806Z"
   },
   {
    "duration": 25,
    "start_time": "2023-03-24T10:22:45.057Z"
   },
   {
    "duration": 6,
    "start_time": "2023-03-24T10:22:45.085Z"
   },
   {
    "duration": 28,
    "start_time": "2023-03-24T10:22:45.093Z"
   },
   {
    "duration": 28,
    "start_time": "2023-03-24T10:22:45.124Z"
   },
   {
    "duration": 9,
    "start_time": "2023-03-24T10:22:45.155Z"
   },
   {
    "duration": 10,
    "start_time": "2023-03-24T10:22:45.167Z"
   },
   {
    "duration": 106,
    "start_time": "2023-03-24T10:22:45.180Z"
   },
   {
    "duration": 99,
    "start_time": "2023-03-24T10:22:45.288Z"
   },
   {
    "duration": 426,
    "start_time": "2023-03-24T10:22:45.389Z"
   },
   {
    "duration": 0,
    "start_time": "2023-03-24T10:22:45.818Z"
   },
   {
    "duration": 0,
    "start_time": "2023-03-24T10:22:45.820Z"
   },
   {
    "duration": 0,
    "start_time": "2023-03-24T10:22:45.822Z"
   },
   {
    "duration": 0,
    "start_time": "2023-03-24T10:22:45.824Z"
   },
   {
    "duration": 0,
    "start_time": "2023-03-24T10:22:45.825Z"
   },
   {
    "duration": 0,
    "start_time": "2023-03-24T10:22:45.842Z"
   },
   {
    "duration": 0,
    "start_time": "2023-03-24T10:22:45.844Z"
   },
   {
    "duration": 0,
    "start_time": "2023-03-24T10:22:45.846Z"
   },
   {
    "duration": 0,
    "start_time": "2023-03-24T10:22:45.847Z"
   },
   {
    "duration": 0,
    "start_time": "2023-03-24T10:22:45.858Z"
   },
   {
    "duration": 0,
    "start_time": "2023-03-24T10:22:45.868Z"
   },
   {
    "duration": 0,
    "start_time": "2023-03-24T10:22:45.869Z"
   },
   {
    "duration": 0,
    "start_time": "2023-03-24T10:22:45.878Z"
   },
   {
    "duration": 0,
    "start_time": "2023-03-24T10:22:45.880Z"
   },
   {
    "duration": 0,
    "start_time": "2023-03-24T10:22:45.882Z"
   },
   {
    "duration": 0,
    "start_time": "2023-03-24T10:22:45.884Z"
   },
   {
    "duration": 0,
    "start_time": "2023-03-24T10:22:45.886Z"
   },
   {
    "duration": 0,
    "start_time": "2023-03-24T10:22:45.888Z"
   },
   {
    "duration": 0,
    "start_time": "2023-03-24T10:22:45.890Z"
   },
   {
    "duration": 0,
    "start_time": "2023-03-24T10:22:45.892Z"
   },
   {
    "duration": 0,
    "start_time": "2023-03-24T10:22:45.894Z"
   },
   {
    "duration": 0,
    "start_time": "2023-03-24T10:22:45.896Z"
   },
   {
    "duration": 0,
    "start_time": "2023-03-24T10:22:45.898Z"
   },
   {
    "duration": 0,
    "start_time": "2023-03-24T10:22:45.900Z"
   },
   {
    "duration": 263,
    "start_time": "2023-03-24T10:23:16.498Z"
   },
   {
    "duration": 271,
    "start_time": "2023-03-24T10:23:50.902Z"
   },
   {
    "duration": 238,
    "start_time": "2023-03-24T10:24:36.564Z"
   },
   {
    "duration": 222,
    "start_time": "2023-03-24T10:25:30.988Z"
   },
   {
    "duration": 192,
    "start_time": "2023-03-24T10:25:45.268Z"
   },
   {
    "duration": 14,
    "start_time": "2023-03-24T10:46:47.804Z"
   },
   {
    "duration": 13,
    "start_time": "2023-03-24T10:46:58.381Z"
   },
   {
    "duration": 113,
    "start_time": "2023-03-24T10:47:30.230Z"
   },
   {
    "duration": 159,
    "start_time": "2023-03-24T10:47:35.084Z"
   },
   {
    "duration": 244,
    "start_time": "2023-03-24T10:55:01.642Z"
   },
   {
    "duration": 4,
    "start_time": "2023-03-24T10:55:35.402Z"
   },
   {
    "duration": 323,
    "start_time": "2023-03-24T10:55:49.082Z"
   },
   {
    "duration": 187,
    "start_time": "2023-03-24T10:55:58.928Z"
   },
   {
    "duration": 194,
    "start_time": "2023-03-24T10:57:14.522Z"
   },
   {
    "duration": 231,
    "start_time": "2023-03-24T11:00:14.842Z"
   },
   {
    "duration": 300,
    "start_time": "2023-03-24T11:01:41.202Z"
   },
   {
    "duration": 218,
    "start_time": "2023-03-24T11:02:01.089Z"
   },
   {
    "duration": 222,
    "start_time": "2023-03-24T11:02:18.363Z"
   },
   {
    "duration": 163,
    "start_time": "2023-03-24T11:10:08.464Z"
   },
   {
    "duration": 149,
    "start_time": "2023-03-24T11:10:14.010Z"
   },
   {
    "duration": 165,
    "start_time": "2023-03-24T11:10:21.339Z"
   },
   {
    "duration": 189,
    "start_time": "2023-03-24T11:10:27.273Z"
   },
   {
    "duration": 268,
    "start_time": "2023-03-24T11:10:33.079Z"
   },
   {
    "duration": 222,
    "start_time": "2023-03-24T11:10:48.550Z"
   },
   {
    "duration": 345,
    "start_time": "2023-03-24T11:11:11.096Z"
   },
   {
    "duration": 13,
    "start_time": "2023-03-24T11:11:24.678Z"
   },
   {
    "duration": 11,
    "start_time": "2023-03-24T11:11:30.799Z"
   },
   {
    "duration": 11,
    "start_time": "2023-03-24T11:11:41.325Z"
   },
   {
    "duration": 1289,
    "start_time": "2023-03-24T11:11:57.230Z"
   },
   {
    "duration": 47,
    "start_time": "2023-03-24T11:11:58.522Z"
   },
   {
    "duration": 14,
    "start_time": "2023-03-24T11:11:58.570Z"
   },
   {
    "duration": 11,
    "start_time": "2023-03-24T11:11:58.586Z"
   },
   {
    "duration": 75,
    "start_time": "2023-03-24T11:11:58.599Z"
   },
   {
    "duration": 22,
    "start_time": "2023-03-24T11:11:58.676Z"
   },
   {
    "duration": 5,
    "start_time": "2023-03-24T11:11:58.700Z"
   },
   {
    "duration": 9,
    "start_time": "2023-03-24T11:11:58.706Z"
   },
   {
    "duration": 32,
    "start_time": "2023-03-24T11:11:58.717Z"
   },
   {
    "duration": 11,
    "start_time": "2023-03-24T11:11:58.752Z"
   },
   {
    "duration": 10,
    "start_time": "2023-03-24T11:11:58.765Z"
   },
   {
    "duration": 74,
    "start_time": "2023-03-24T11:11:58.776Z"
   },
   {
    "duration": 57,
    "start_time": "2023-03-24T11:11:58.852Z"
   },
   {
    "duration": 334,
    "start_time": "2023-03-24T11:11:58.911Z"
   },
   {
    "duration": 96,
    "start_time": "2023-03-24T11:11:59.247Z"
   },
   {
    "duration": 96,
    "start_time": "2023-03-24T11:11:59.345Z"
   },
   {
    "duration": 31,
    "start_time": "2023-03-24T11:11:59.443Z"
   },
   {
    "duration": 14,
    "start_time": "2023-03-24T11:11:59.476Z"
   },
   {
    "duration": 213,
    "start_time": "2023-03-24T11:11:59.492Z"
   },
   {
    "duration": 206,
    "start_time": "2023-03-24T11:11:59.707Z"
   },
   {
    "duration": 330,
    "start_time": "2023-03-24T11:11:59.915Z"
   },
   {
    "duration": 227,
    "start_time": "2023-03-24T11:12:00.248Z"
   },
   {
    "duration": 313,
    "start_time": "2023-03-24T11:12:00.478Z"
   },
   {
    "duration": 153,
    "start_time": "2023-03-24T11:12:00.794Z"
   },
   {
    "duration": 5,
    "start_time": "2023-03-24T11:12:00.950Z"
   },
   {
    "duration": 186,
    "start_time": "2023-03-24T11:12:00.957Z"
   },
   {
    "duration": 6,
    "start_time": "2023-03-24T11:12:01.147Z"
   },
   {
    "duration": 202,
    "start_time": "2023-03-24T11:12:01.157Z"
   },
   {
    "duration": 7,
    "start_time": "2023-03-24T11:12:01.360Z"
   },
   {
    "duration": 63,
    "start_time": "2023-03-24T11:12:01.368Z"
   },
   {
    "duration": 52,
    "start_time": "2023-03-24T11:12:01.434Z"
   },
   {
    "duration": 20,
    "start_time": "2023-03-24T11:12:01.488Z"
   },
   {
    "duration": 239,
    "start_time": "2023-03-24T11:12:01.511Z"
   },
   {
    "duration": 10,
    "start_time": "2023-03-24T11:12:01.753Z"
   },
   {
    "duration": 108,
    "start_time": "2023-03-24T11:12:01.765Z"
   },
   {
    "duration": 288,
    "start_time": "2023-03-24T11:12:01.875Z"
   },
   {
    "duration": 15,
    "start_time": "2023-03-24T11:12:02.165Z"
   },
   {
    "duration": 359,
    "start_time": "2023-03-24T11:12:02.182Z"
   },
   {
    "duration": 224,
    "start_time": "2023-03-24T11:15:52.358Z"
   },
   {
    "duration": 201,
    "start_time": "2023-03-24T11:16:01.656Z"
   },
   {
    "duration": 306,
    "start_time": "2023-03-24T11:16:12.187Z"
   },
   {
    "duration": 229,
    "start_time": "2023-03-24T11:16:21.477Z"
   },
   {
    "duration": 342,
    "start_time": "2023-03-24T11:16:30.146Z"
   },
   {
    "duration": 150,
    "start_time": "2023-03-24T11:16:37.915Z"
   },
   {
    "duration": 154,
    "start_time": "2023-03-24T11:16:53.484Z"
   },
   {
    "duration": 329,
    "start_time": "2023-03-24T11:17:13.407Z"
   },
   {
    "duration": 303,
    "start_time": "2023-03-24T11:17:22.357Z"
   },
   {
    "duration": 221,
    "start_time": "2023-03-24T11:18:02.246Z"
   },
   {
    "duration": 221,
    "start_time": "2023-03-24T11:18:13.437Z"
   },
   {
    "duration": 363,
    "start_time": "2023-03-24T11:18:25.061Z"
   },
   {
    "duration": 217,
    "start_time": "2023-03-24T11:18:52.382Z"
   },
   {
    "duration": 322,
    "start_time": "2023-03-24T11:19:17.848Z"
   },
   {
    "duration": 244,
    "start_time": "2023-03-24T11:19:27.046Z"
   },
   {
    "duration": 319,
    "start_time": "2023-03-24T11:19:34.159Z"
   },
   {
    "duration": 164,
    "start_time": "2023-03-24T11:19:44.603Z"
   },
   {
    "duration": 163,
    "start_time": "2023-03-24T11:19:54.535Z"
   },
   {
    "duration": 345,
    "start_time": "2023-03-24T11:20:07.428Z"
   },
   {
    "duration": 305,
    "start_time": "2023-03-24T11:20:15.366Z"
   },
   {
    "duration": 221,
    "start_time": "2023-03-24T11:25:40.053Z"
   },
   {
    "duration": 214,
    "start_time": "2023-03-24T11:26:01.898Z"
   },
   {
    "duration": 253,
    "start_time": "2023-03-24T11:26:52.152Z"
   },
   {
    "duration": 224,
    "start_time": "2023-03-24T11:27:30.170Z"
   },
   {
    "duration": 237,
    "start_time": "2023-03-24T11:27:48.274Z"
   },
   {
    "duration": 239,
    "start_time": "2023-03-24T11:28:04.536Z"
   },
   {
    "duration": 444,
    "start_time": "2023-03-24T11:29:02.327Z"
   },
   {
    "duration": 248,
    "start_time": "2023-03-24T11:29:52.534Z"
   },
   {
    "duration": 365,
    "start_time": "2023-03-24T11:30:45.529Z"
   },
   {
    "duration": 151,
    "start_time": "2023-03-24T11:31:14.526Z"
   },
   {
    "duration": 180,
    "start_time": "2023-03-24T11:31:36.700Z"
   },
   {
    "duration": 166,
    "start_time": "2023-03-24T11:31:48.515Z"
   },
   {
    "duration": 175,
    "start_time": "2023-03-24T11:34:18.021Z"
   },
   {
    "duration": 318,
    "start_time": "2023-03-24T11:36:11.373Z"
   },
   {
    "duration": 317,
    "start_time": "2023-03-24T11:37:09.258Z"
   },
   {
    "duration": 46,
    "start_time": "2023-03-24T11:39:13.509Z"
   },
   {
    "duration": 49,
    "start_time": "2023-03-24T11:41:55.104Z"
   },
   {
    "duration": 64,
    "start_time": "2023-03-24T11:45:36.992Z"
   },
   {
    "duration": 177,
    "start_time": "2023-03-24T11:47:30.206Z"
   },
   {
    "duration": 350,
    "start_time": "2023-03-24T11:47:58.832Z"
   },
   {
    "duration": 215,
    "start_time": "2023-03-24T11:48:17.359Z"
   },
   {
    "duration": 228,
    "start_time": "2023-03-24T11:48:24.208Z"
   },
   {
    "duration": 228,
    "start_time": "2023-03-24T11:48:32.927Z"
   },
   {
    "duration": 299,
    "start_time": "2023-03-24T11:48:40.255Z"
   },
   {
    "duration": 403,
    "start_time": "2023-03-24T11:48:46.490Z"
   },
   {
    "duration": 350,
    "start_time": "2023-03-24T11:48:52.708Z"
   },
   {
    "duration": 181,
    "start_time": "2023-03-24T11:49:11.116Z"
   },
   {
    "duration": 315,
    "start_time": "2023-03-24T11:49:23.037Z"
   },
   {
    "duration": 6,
    "start_time": "2023-03-24T11:51:27.120Z"
   },
   {
    "duration": 5,
    "start_time": "2023-03-24T11:51:31.414Z"
   },
   {
    "duration": 7,
    "start_time": "2023-03-24T11:52:46.775Z"
   },
   {
    "duration": 5,
    "start_time": "2023-03-24T11:54:21.343Z"
   },
   {
    "duration": 747,
    "start_time": "2023-03-24T11:57:03.223Z"
   },
   {
    "duration": 174,
    "start_time": "2023-03-24T11:58:19.510Z"
   },
   {
    "duration": 15,
    "start_time": "2023-03-24T11:58:43.562Z"
   },
   {
    "duration": 8,
    "start_time": "2023-03-24T11:59:45.315Z"
   },
   {
    "duration": 16,
    "start_time": "2023-03-24T11:59:52.705Z"
   },
   {
    "duration": 167,
    "start_time": "2023-03-24T12:00:13.565Z"
   },
   {
    "duration": 16,
    "start_time": "2023-03-24T12:00:34.221Z"
   },
   {
    "duration": 183,
    "start_time": "2023-03-24T12:00:46.030Z"
   },
   {
    "duration": 183,
    "start_time": "2023-03-24T12:02:27.710Z"
   },
   {
    "duration": 180,
    "start_time": "2023-03-24T12:04:06.390Z"
   },
   {
    "duration": 163,
    "start_time": "2023-03-24T12:04:24.258Z"
   },
   {
    "duration": 7,
    "start_time": "2023-03-24T12:05:45.011Z"
   },
   {
    "duration": 5,
    "start_time": "2023-03-24T12:05:53.211Z"
   },
   {
    "duration": 23,
    "start_time": "2023-03-24T12:10:39.340Z"
   },
   {
    "duration": 210,
    "start_time": "2023-03-24T12:11:45.157Z"
   },
   {
    "duration": 13,
    "start_time": "2023-03-24T12:12:34.764Z"
   },
   {
    "duration": 103,
    "start_time": "2023-03-24T12:12:52.296Z"
   },
   {
    "duration": 13,
    "start_time": "2023-03-24T12:13:06.236Z"
   },
   {
    "duration": 10,
    "start_time": "2023-03-24T12:16:53.074Z"
   },
   {
    "duration": 4,
    "start_time": "2023-03-24T12:21:30.407Z"
   },
   {
    "duration": 7,
    "start_time": "2023-03-24T12:21:39.050Z"
   },
   {
    "duration": 13,
    "start_time": "2023-03-24T12:23:10.015Z"
   },
   {
    "duration": 55,
    "start_time": "2023-03-24T12:24:08.655Z"
   },
   {
    "duration": 242,
    "start_time": "2023-03-24T12:24:37.653Z"
   },
   {
    "duration": 11,
    "start_time": "2023-03-24T12:24:42.280Z"
   },
   {
    "duration": 23,
    "start_time": "2023-03-24T12:24:46.487Z"
   },
   {
    "duration": 45,
    "start_time": "2023-03-24T12:25:46.241Z"
   },
   {
    "duration": 36,
    "start_time": "2023-03-24T12:25:58.945Z"
   },
   {
    "duration": 21,
    "start_time": "2023-03-24T12:27:53.540Z"
   },
   {
    "duration": 22,
    "start_time": "2023-03-24T12:29:18.748Z"
   },
   {
    "duration": 69,
    "start_time": "2023-03-25T11:02:33.362Z"
   },
   {
    "duration": 1388,
    "start_time": "2023-03-25T11:02:46.842Z"
   },
   {
    "duration": 115,
    "start_time": "2023-03-25T11:02:48.232Z"
   },
   {
    "duration": 13,
    "start_time": "2023-03-25T11:02:48.349Z"
   },
   {
    "duration": 26,
    "start_time": "2023-03-25T11:02:48.363Z"
   },
   {
    "duration": 169,
    "start_time": "2023-03-25T11:02:48.392Z"
   },
   {
    "duration": 22,
    "start_time": "2023-03-25T11:02:48.562Z"
   },
   {
    "duration": 6,
    "start_time": "2023-03-25T11:02:48.586Z"
   },
   {
    "duration": 22,
    "start_time": "2023-03-25T11:02:48.594Z"
   },
   {
    "duration": 27,
    "start_time": "2023-03-25T11:02:48.617Z"
   },
   {
    "duration": 6,
    "start_time": "2023-03-25T11:02:48.645Z"
   },
   {
    "duration": 5,
    "start_time": "2023-03-25T11:02:48.652Z"
   },
   {
    "duration": 61,
    "start_time": "2023-03-25T11:02:48.658Z"
   },
   {
    "duration": 74,
    "start_time": "2023-03-25T11:02:48.721Z"
   },
   {
    "duration": 301,
    "start_time": "2023-03-25T11:02:48.798Z"
   },
   {
    "duration": 67,
    "start_time": "2023-03-25T11:02:49.101Z"
   },
   {
    "duration": 68,
    "start_time": "2023-03-25T11:02:49.170Z"
   },
   {
    "duration": 48,
    "start_time": "2023-03-25T11:02:49.240Z"
   },
   {
    "duration": 18,
    "start_time": "2023-03-25T11:02:49.290Z"
   },
   {
    "duration": 231,
    "start_time": "2023-03-25T11:02:49.310Z"
   },
   {
    "duration": 206,
    "start_time": "2023-03-25T11:02:49.543Z"
   },
   {
    "duration": 371,
    "start_time": "2023-03-25T11:02:49.751Z"
   },
   {
    "duration": 226,
    "start_time": "2023-03-25T11:02:50.123Z"
   },
   {
    "duration": 344,
    "start_time": "2023-03-25T11:02:50.351Z"
   },
   {
    "duration": 188,
    "start_time": "2023-03-25T11:02:50.697Z"
   },
   {
    "duration": 8,
    "start_time": "2023-03-25T11:02:50.887Z"
   },
   {
    "duration": 5,
    "start_time": "2023-03-25T11:02:50.896Z"
   },
   {
    "duration": 184,
    "start_time": "2023-03-25T11:02:50.903Z"
   },
   {
    "duration": 253,
    "start_time": "2023-03-25T11:02:51.090Z"
   },
   {
    "duration": 5,
    "start_time": "2023-03-25T11:02:51.345Z"
   },
   {
    "duration": 260,
    "start_time": "2023-03-25T11:02:51.351Z"
   },
   {
    "duration": 8,
    "start_time": "2023-03-25T11:02:51.613Z"
   },
   {
    "duration": 23,
    "start_time": "2023-03-25T11:02:51.622Z"
   },
   {
    "duration": 28,
    "start_time": "2023-03-25T11:02:51.647Z"
   },
   {
    "duration": 10,
    "start_time": "2023-03-25T11:02:51.677Z"
   },
   {
    "duration": 172,
    "start_time": "2023-03-25T11:02:51.689Z"
   },
   {
    "duration": 11,
    "start_time": "2023-03-25T11:02:51.862Z"
   },
   {
    "duration": 29,
    "start_time": "2023-03-25T11:02:51.875Z"
   },
   {
    "duration": 303,
    "start_time": "2023-03-25T11:02:51.906Z"
   },
   {
    "duration": 18,
    "start_time": "2023-03-25T11:02:52.211Z"
   },
   {
    "duration": 328,
    "start_time": "2023-03-25T11:02:52.230Z"
   }
  ],
  "kernelspec": {
   "display_name": "Python 3 (ipykernel)",
   "language": "python",
   "name": "python3"
  },
  "language_info": {
   "codemirror_mode": {
    "name": "ipython",
    "version": 3
   },
   "file_extension": ".py",
   "mimetype": "text/x-python",
   "name": "python",
   "nbconvert_exporter": "python",
   "pygments_lexer": "ipython3",
   "version": "3.9.12"
  },
  "toc": {
   "base_numbering": 1,
   "nav_menu": {
    "height": "94px",
    "width": "317px"
   },
   "number_sections": true,
   "sideBar": true,
   "skip_h1_title": true,
   "title_cell": "Table of Contents",
   "title_sidebar": "Contents",
   "toc_cell": false,
   "toc_position": {
    "height": "calc(100% - 180px)",
    "left": "10px",
    "top": "150px",
    "width": "257px"
   },
   "toc_section_display": true,
   "toc_window_display": true
  }
 },
 "nbformat": 4,
 "nbformat_minor": 2
}
