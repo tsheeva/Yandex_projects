{
 "cells": [
  {
   "cell_type": "markdown",
   "metadata": {},
   "source": [
    "# <center> Исследование базы данных сервиса Stackoverflow\n",
    "<center> Автор материала: Толстошеева Татьяна (@tsheeva)"
   ]
  },
  {
   "cell_type": "markdown",
   "metadata": {},
   "source": [
    "Нам нужно написать несколько SQL-запросов в Jupyter Notebook. Необходимые данные находятся в таблицах схемы stackoverflow, подключаемся к базе с помощью SQLAlchemy."
   ]
  },
  {
   "cell_type": "code",
   "execution_count": 1,
   "metadata": {
    "id": "nlZBlglMDWKe"
   },
   "outputs": [],
   "source": [
    "import pandas as pd\n",
    "import matplotlib.pyplot as plt\n",
    "import seaborn as sns\n",
    "from sqlalchemy import create_engine \n",
    "from plotly import graph_objects as go \n",
    "import plotly.express as px"
   ]
  },
  {
   "cell_type": "markdown",
   "metadata": {
    "id": "XnOE3n28DWKg"
   },
   "source": [
    "### Конфигурация для подключения к базе данных `data-analyst-advanced-sql`\n",
    "Эта база данных содержит схему `stackoverflow`, с которой вы будете работать в проекте"
   ]
  },
  {
   "cell_type": "code",
   "execution_count": 2,
   "metadata": {
    "id": "6p-yGp7qDWKg"
   },
   "outputs": [],
   "source": [
    "db_config = {\n",
    "    'user': 'praktikum_student', # имя пользователя\n",
    "    'pwd': 'Sdf4$2;d-d30pp', # пароль\n",
    "    'host': 'rc1b-wcoijxj3yxfsf3fs.mdb.yandexcloud.net',\n",
    "    'port': 6432, # порт подключения\n",
    "    'db': 'data-analyst-advanced-sql' # название базы данных\n",
    "}  \n",
    "\n",
    "connection_string = 'postgresql://{}:{}@{}:{}/{}'.format(\n",
    "    db_config['user'],\n",
    "    db_config['pwd'],\n",
    "    db_config['host'],\n",
    "    db_config['port'],\n",
    "    db_config['db'],\n",
    ")"
   ]
  },
  {
   "cell_type": "markdown",
   "metadata": {
    "id": "2Rg8ZpS0DWKh"
   },
   "source": [
    "Создание подключения"
   ]
  },
  {
   "cell_type": "code",
   "execution_count": 3,
   "metadata": {
    "id": "DamCUTR6DWKi"
   },
   "outputs": [],
   "source": [
    "engine = create_engine(connection_string) "
   ]
  },
  {
   "cell_type": "code",
   "execution_count": 4,
   "metadata": {
    "id": "6Z_fw0yLDWKk"
   },
   "outputs": [],
   "source": [
    "query = '''\n",
    "SELECT *\n",
    "FROM stackoverflow.users\n",
    "LIMIT 10;\n",
    "'''\n",
    "\n",
    "sample_df = pd.read_sql_query(query, con=engine) "
   ]
  },
  {
   "cell_type": "code",
   "execution_count": 5,
   "metadata": {
    "id": "ZpuZ290oDWKk",
    "outputId": "22785a0a-e2bc-4559-ec3c-4879c4b377eb"
   },
   "outputs": [
    {
     "data": {
      "text/html": [
       "<div>\n",
       "<style scoped>\n",
       "    .dataframe tbody tr th:only-of-type {\n",
       "        vertical-align: middle;\n",
       "    }\n",
       "\n",
       "    .dataframe tbody tr th {\n",
       "        vertical-align: top;\n",
       "    }\n",
       "\n",
       "    .dataframe thead th {\n",
       "        text-align: right;\n",
       "    }\n",
       "</style>\n",
       "<table border=\"1\" class=\"dataframe\">\n",
       "  <thead>\n",
       "    <tr style=\"text-align: right;\">\n",
       "      <th></th>\n",
       "      <th>id</th>\n",
       "      <th>creation_date</th>\n",
       "      <th>display_name</th>\n",
       "      <th>last_access_date</th>\n",
       "      <th>location</th>\n",
       "      <th>reputation</th>\n",
       "      <th>views</th>\n",
       "    </tr>\n",
       "  </thead>\n",
       "  <tbody>\n",
       "    <tr>\n",
       "      <th>0</th>\n",
       "      <td>1</td>\n",
       "      <td>2008-07-31 14:22:31</td>\n",
       "      <td>Jeff Atwood</td>\n",
       "      <td>2018-08-29 02:34:23</td>\n",
       "      <td>El Cerrito, CA</td>\n",
       "      <td>44300</td>\n",
       "      <td>408587</td>\n",
       "    </tr>\n",
       "    <tr>\n",
       "      <th>1</th>\n",
       "      <td>2</td>\n",
       "      <td>2008-07-31 14:22:31</td>\n",
       "      <td>Geoff Dalgas</td>\n",
       "      <td>2018-08-23 17:31:56</td>\n",
       "      <td>Corvallis, OR</td>\n",
       "      <td>3491</td>\n",
       "      <td>23966</td>\n",
       "    </tr>\n",
       "    <tr>\n",
       "      <th>2</th>\n",
       "      <td>3</td>\n",
       "      <td>2008-07-31 14:22:31</td>\n",
       "      <td>Jarrod Dixon</td>\n",
       "      <td>2018-08-30 20:56:24</td>\n",
       "      <td>Raleigh, NC, United States</td>\n",
       "      <td>13418</td>\n",
       "      <td>24396</td>\n",
       "    </tr>\n",
       "    <tr>\n",
       "      <th>3</th>\n",
       "      <td>4</td>\n",
       "      <td>2008-07-31 14:22:31</td>\n",
       "      <td>Joel Spolsky</td>\n",
       "      <td>2018-08-14 22:18:15</td>\n",
       "      <td>New York, NY</td>\n",
       "      <td>28768</td>\n",
       "      <td>73755</td>\n",
       "    </tr>\n",
       "    <tr>\n",
       "      <th>4</th>\n",
       "      <td>5</td>\n",
       "      <td>2008-07-31 14:22:31</td>\n",
       "      <td>Jon Galloway</td>\n",
       "      <td>2018-08-29 16:48:36</td>\n",
       "      <td>San Diego, CA</td>\n",
       "      <td>39172</td>\n",
       "      <td>11700</td>\n",
       "    </tr>\n",
       "    <tr>\n",
       "      <th>5</th>\n",
       "      <td>8</td>\n",
       "      <td>2008-07-31 21:33:24</td>\n",
       "      <td>Eggs McLaren</td>\n",
       "      <td>2018-04-09 02:04:56</td>\n",
       "      <td>None</td>\n",
       "      <td>942</td>\n",
       "      <td>6372</td>\n",
       "    </tr>\n",
       "    <tr>\n",
       "      <th>6</th>\n",
       "      <td>9</td>\n",
       "      <td>2008-07-31 21:35:27</td>\n",
       "      <td>Kevin Dente</td>\n",
       "      <td>2018-08-30 18:18:03</td>\n",
       "      <td>Oakland, CA</td>\n",
       "      <td>14337</td>\n",
       "      <td>4949</td>\n",
       "    </tr>\n",
       "    <tr>\n",
       "      <th>7</th>\n",
       "      <td>11</td>\n",
       "      <td>2008-08-01 00:59:11</td>\n",
       "      <td>Anonymous User</td>\n",
       "      <td>2008-08-01 00:59:11</td>\n",
       "      <td>None</td>\n",
       "      <td>1890</td>\n",
       "      <td>2123</td>\n",
       "    </tr>\n",
       "    <tr>\n",
       "      <th>8</th>\n",
       "      <td>13</td>\n",
       "      <td>2008-08-01 04:18:05</td>\n",
       "      <td>Chris Jester-Young</td>\n",
       "      <td>2018-08-30 02:47:23</td>\n",
       "      <td>Raleigh, NC, United States</td>\n",
       "      <td>177138</td>\n",
       "      <td>35414</td>\n",
       "    </tr>\n",
       "    <tr>\n",
       "      <th>9</th>\n",
       "      <td>17</td>\n",
       "      <td>2008-08-01 12:02:22</td>\n",
       "      <td>Nick Berardi</td>\n",
       "      <td>2018-01-22 01:35:38</td>\n",
       "      <td>Issaquah, WA</td>\n",
       "      <td>44443</td>\n",
       "      <td>4786</td>\n",
       "    </tr>\n",
       "  </tbody>\n",
       "</table>\n",
       "</div>"
      ],
      "text/plain": [
       "   id       creation_date        display_name    last_access_date  \\\n",
       "0   1 2008-07-31 14:22:31         Jeff Atwood 2018-08-29 02:34:23   \n",
       "1   2 2008-07-31 14:22:31        Geoff Dalgas 2018-08-23 17:31:56   \n",
       "2   3 2008-07-31 14:22:31        Jarrod Dixon 2018-08-30 20:56:24   \n",
       "3   4 2008-07-31 14:22:31        Joel Spolsky 2018-08-14 22:18:15   \n",
       "4   5 2008-07-31 14:22:31        Jon Galloway 2018-08-29 16:48:36   \n",
       "5   8 2008-07-31 21:33:24        Eggs McLaren 2018-04-09 02:04:56   \n",
       "6   9 2008-07-31 21:35:27         Kevin Dente 2018-08-30 18:18:03   \n",
       "7  11 2008-08-01 00:59:11      Anonymous User 2008-08-01 00:59:11   \n",
       "8  13 2008-08-01 04:18:05  Chris Jester-Young 2018-08-30 02:47:23   \n",
       "9  17 2008-08-01 12:02:22        Nick Berardi 2018-01-22 01:35:38   \n",
       "\n",
       "                     location  reputation   views  \n",
       "0              El Cerrito, CA       44300  408587  \n",
       "1               Corvallis, OR        3491   23966  \n",
       "2  Raleigh, NC, United States       13418   24396  \n",
       "3                New York, NY       28768   73755  \n",
       "4               San Diego, CA       39172   11700  \n",
       "5                        None         942    6372  \n",
       "6                 Oakland, CA       14337    4949  \n",
       "7                        None        1890    2123  \n",
       "8  Raleigh, NC, United States      177138   35414  \n",
       "9                Issaquah, WA       44443    4786  "
      ]
     },
     "execution_count": 5,
     "metadata": {},
     "output_type": "execute_result"
    }
   ],
   "source": [
    "sample_df"
   ]
  },
  {
   "cell_type": "markdown",
   "metadata": {
    "id": "gnBMXkDBDWKm"
   },
   "source": [
    "# Задание 1"
   ]
  },
  {
   "cell_type": "markdown",
   "metadata": {
    "id": "vHsfOrrNDWKn"
   },
   "source": [
    "Выведите общую сумму просмотров постов за каждый месяц 2008 года. Если данных за какой-либо месяц в базе нет, такой месяц можно пропустить. Результат отсортируйте по убыванию общего количества просмотров."
   ]
  },
  {
   "cell_type": "code",
   "execution_count": 6,
   "metadata": {
    "id": "eWvykcXTDWKo"
   },
   "outputs": [
    {
     "data": {
      "text/html": [
       "<div>\n",
       "<style scoped>\n",
       "    .dataframe tbody tr th:only-of-type {\n",
       "        vertical-align: middle;\n",
       "    }\n",
       "\n",
       "    .dataframe tbody tr th {\n",
       "        vertical-align: top;\n",
       "    }\n",
       "\n",
       "    .dataframe thead th {\n",
       "        text-align: right;\n",
       "    }\n",
       "</style>\n",
       "<table border=\"1\" class=\"dataframe\">\n",
       "  <thead>\n",
       "    <tr style=\"text-align: right;\">\n",
       "      <th></th>\n",
       "      <th>month_date</th>\n",
       "      <th>total_views</th>\n",
       "    </tr>\n",
       "  </thead>\n",
       "  <tbody>\n",
       "    <tr>\n",
       "      <th>0</th>\n",
       "      <td>2008-09-01</td>\n",
       "      <td>452928568</td>\n",
       "    </tr>\n",
       "    <tr>\n",
       "      <th>1</th>\n",
       "      <td>2008-10-01</td>\n",
       "      <td>365400138</td>\n",
       "    </tr>\n",
       "    <tr>\n",
       "      <th>2</th>\n",
       "      <td>2008-11-01</td>\n",
       "      <td>221759651</td>\n",
       "    </tr>\n",
       "    <tr>\n",
       "      <th>3</th>\n",
       "      <td>2008-12-01</td>\n",
       "      <td>197792841</td>\n",
       "    </tr>\n",
       "    <tr>\n",
       "      <th>4</th>\n",
       "      <td>2008-08-01</td>\n",
       "      <td>131367083</td>\n",
       "    </tr>\n",
       "    <tr>\n",
       "      <th>5</th>\n",
       "      <td>2008-07-01</td>\n",
       "      <td>669895</td>\n",
       "    </tr>\n",
       "  </tbody>\n",
       "</table>\n",
       "</div>"
      ],
      "text/plain": [
       "   month_date  total_views\n",
       "0  2008-09-01    452928568\n",
       "1  2008-10-01    365400138\n",
       "2  2008-11-01    221759651\n",
       "3  2008-12-01    197792841\n",
       "4  2008-08-01    131367083\n",
       "5  2008-07-01       669895"
      ]
     },
     "execution_count": 6,
     "metadata": {},
     "output_type": "execute_result"
    }
   ],
   "source": [
    "query = '''\n",
    "SELECT DATE_TRUNC('month', creation_date):: date month_date,\n",
    "       SUM(views_count) total_views\n",
    "FROM stackoverflow.posts\n",
    "WHERE EXTRACT(YEAR FROM CAST(creation_date AS timestamp)) = 2008\n",
    "GROUP BY 1\n",
    "ORDER BY 2 DESC\n",
    "'''\n",
    "\n",
    "sample_df = pd.read_sql_query(query, con=engine) \n",
    "sample_df"
   ]
  },
  {
   "cell_type": "markdown",
   "metadata": {
    "id": "luxSj17oDWKq"
   },
   "source": [
    "В таблице с общей суммой просмотров постов за каждый месяц 2008 года не хватает данных за первое полугодие, а в июле количество просмотров анамально низкое. Возможно, это связано с тем, что запись ведется с конца июля."
   ]
  },
  {
   "cell_type": "markdown",
   "metadata": {
    "id": "FziIXkn5DWKr"
   },
   "source": [
    "# Задание 2"
   ]
  },
  {
   "cell_type": "markdown",
   "metadata": {
    "id": "fTGESZvYDWKr"
   },
   "source": [
    "Выведите имена самых активных пользователей, которые в первый месяц после регистрации (включая день регистрации) дали больше 100 ответов. Вопросы, которые задавали пользователи, не учитывайте. Для каждого имени пользователя выведите количество уникальных значений `user_id`. Отсортируйте результат по полю с именами в лексикографическом порядке."
   ]
  },
  {
   "cell_type": "code",
   "execution_count": 7,
   "metadata": {
    "id": "fIO-y-YjDWKt"
   },
   "outputs": [
    {
     "data": {
      "text/html": [
       "<div>\n",
       "<style scoped>\n",
       "    .dataframe tbody tr th:only-of-type {\n",
       "        vertical-align: middle;\n",
       "    }\n",
       "\n",
       "    .dataframe tbody tr th {\n",
       "        vertical-align: top;\n",
       "    }\n",
       "\n",
       "    .dataframe thead th {\n",
       "        text-align: right;\n",
       "    }\n",
       "</style>\n",
       "<table border=\"1\" class=\"dataframe\">\n",
       "  <thead>\n",
       "    <tr style=\"text-align: right;\">\n",
       "      <th></th>\n",
       "      <th>display_name</th>\n",
       "      <th>count</th>\n",
       "    </tr>\n",
       "  </thead>\n",
       "  <tbody>\n",
       "    <tr>\n",
       "      <th>0</th>\n",
       "      <td>1800 INFORMATION</td>\n",
       "      <td>1</td>\n",
       "    </tr>\n",
       "    <tr>\n",
       "      <th>1</th>\n",
       "      <td>Adam Bellaire</td>\n",
       "      <td>1</td>\n",
       "    </tr>\n",
       "    <tr>\n",
       "      <th>2</th>\n",
       "      <td>Adam Davis</td>\n",
       "      <td>1</td>\n",
       "    </tr>\n",
       "    <tr>\n",
       "      <th>3</th>\n",
       "      <td>Adam Liss</td>\n",
       "      <td>1</td>\n",
       "    </tr>\n",
       "    <tr>\n",
       "      <th>4</th>\n",
       "      <td>Alan</td>\n",
       "      <td>8</td>\n",
       "    </tr>\n",
       "    <tr>\n",
       "      <th>...</th>\n",
       "      <td>...</td>\n",
       "      <td>...</td>\n",
       "    </tr>\n",
       "    <tr>\n",
       "      <th>71</th>\n",
       "      <td>leppie</td>\n",
       "      <td>1</td>\n",
       "    </tr>\n",
       "    <tr>\n",
       "      <th>72</th>\n",
       "      <td>lomaxx</td>\n",
       "      <td>1</td>\n",
       "    </tr>\n",
       "    <tr>\n",
       "      <th>73</th>\n",
       "      <td>mattlant</td>\n",
       "      <td>1</td>\n",
       "    </tr>\n",
       "    <tr>\n",
       "      <th>74</th>\n",
       "      <td>paxdiablo</td>\n",
       "      <td>1</td>\n",
       "    </tr>\n",
       "    <tr>\n",
       "      <th>75</th>\n",
       "      <td>tzot</td>\n",
       "      <td>1</td>\n",
       "    </tr>\n",
       "  </tbody>\n",
       "</table>\n",
       "<p>76 rows × 2 columns</p>\n",
       "</div>"
      ],
      "text/plain": [
       "        display_name  count\n",
       "0   1800 INFORMATION      1\n",
       "1      Adam Bellaire      1\n",
       "2         Adam Davis      1\n",
       "3          Adam Liss      1\n",
       "4               Alan      8\n",
       "..               ...    ...\n",
       "71            leppie      1\n",
       "72            lomaxx      1\n",
       "73          mattlant      1\n",
       "74         paxdiablo      1\n",
       "75              tzot      1\n",
       "\n",
       "[76 rows x 2 columns]"
      ]
     },
     "execution_count": 7,
     "metadata": {},
     "output_type": "execute_result"
    }
   ],
   "source": [
    "query = '''\n",
    "SELECT display_name,\n",
    "       COUNT(DISTINCT user_id)\n",
    "FROM stackoverflow.users u\n",
    "JOIN stackoverflow.posts p ON p.user_id=u.id\n",
    "JOIN stackoverflow.post_types pt ON p.post_type_id=pt.id\n",
    "WHERE pt.type='Answer'\n",
    "  AND p.creation_date BETWEEN u.creation_date AND u.creation_date::timestamp + interval '1 month'\n",
    "GROUP BY 1\n",
    "HAVING COUNT(p.id)>100\n",
    "ORDER BY 1\n",
    "\n",
    "'''\n",
    "\n",
    "df = pd.read_sql_query(query, con=engine) \n",
    "df"
   ]
  },
  {
   "cell_type": "markdown",
   "metadata": {
    "id": "CEIGGQ6ODWKy"
   },
   "source": [
    "Мы видим, что под одним именем могут быть зарегистрировано несколько пользователей. "
   ]
  },
  {
   "cell_type": "markdown",
   "metadata": {
    "id": "JhM2xXj5DWKu"
   },
   "source": [
    "# Задание 3"
   ]
  },
  {
   "cell_type": "markdown",
   "metadata": {
    "id": "IS6xPqyyDWKu"
   },
   "source": [
    "Выведите количество постов за 2008 год по месяцам. Отберите посты от пользователей, которые зарегистрировались в сентябре 2008 года и сделали хотя бы один пост в декабре того же года. Отсортируйте таблицу по значению месяца по убыванию."
   ]
  },
  {
   "cell_type": "code",
   "execution_count": 8,
   "metadata": {
    "id": "kVu0FB8WDWKv"
   },
   "outputs": [
    {
     "data": {
      "text/html": [
       "<div>\n",
       "<style scoped>\n",
       "    .dataframe tbody tr th:only-of-type {\n",
       "        vertical-align: middle;\n",
       "    }\n",
       "\n",
       "    .dataframe tbody tr th {\n",
       "        vertical-align: top;\n",
       "    }\n",
       "\n",
       "    .dataframe thead th {\n",
       "        text-align: right;\n",
       "    }\n",
       "</style>\n",
       "<table border=\"1\" class=\"dataframe\">\n",
       "  <thead>\n",
       "    <tr style=\"text-align: right;\">\n",
       "      <th></th>\n",
       "      <th>month</th>\n",
       "      <th>count</th>\n",
       "    </tr>\n",
       "  </thead>\n",
       "  <tbody>\n",
       "    <tr>\n",
       "      <th>0</th>\n",
       "      <td>2008-12-01</td>\n",
       "      <td>17641</td>\n",
       "    </tr>\n",
       "    <tr>\n",
       "      <th>1</th>\n",
       "      <td>2008-11-01</td>\n",
       "      <td>18294</td>\n",
       "    </tr>\n",
       "    <tr>\n",
       "      <th>2</th>\n",
       "      <td>2008-10-01</td>\n",
       "      <td>27171</td>\n",
       "    </tr>\n",
       "    <tr>\n",
       "      <th>3</th>\n",
       "      <td>2008-09-01</td>\n",
       "      <td>24870</td>\n",
       "    </tr>\n",
       "    <tr>\n",
       "      <th>4</th>\n",
       "      <td>2008-08-01</td>\n",
       "      <td>32</td>\n",
       "    </tr>\n",
       "  </tbody>\n",
       "</table>\n",
       "</div>"
      ],
      "text/plain": [
       "        month  count\n",
       "0  2008-12-01  17641\n",
       "1  2008-11-01  18294\n",
       "2  2008-10-01  27171\n",
       "3  2008-09-01  24870\n",
       "4  2008-08-01     32"
      ]
     },
     "execution_count": 8,
     "metadata": {},
     "output_type": "execute_result"
    }
   ],
   "source": [
    "query = '''\n",
    "WITH users_list AS\n",
    "    (SELECT DISTINCT p.user_id\n",
    "    FROM stackoverflow.posts p\n",
    "    JOIN stackoverflow.users u ON p.user_id=u.id\n",
    "    WHERE DATE_TRUNC('month', u.creation_date) :: date = '2008-09-01'\n",
    "    AND DATE_TRUNC('month', p.creation_date) :: date = '2008-12-01')\n",
    "SELECT DATE_TRUNC('month', posts.creation_date):: date AS month,\n",
    "        COUNT(posts.id)\n",
    "FROM stackoverflow.posts \n",
    "JOIN users_list ul ON posts.user_id = ul.user_id\n",
    "GROUP BY 1\n",
    "ORDER BY 1 DESC\n",
    "'''\n",
    "\n",
    "df = pd.read_sql_query(query, con=engine) \n",
    "df"
   ]
  },
  {
   "cell_type": "markdown",
   "metadata": {
    "id": "MMVIz4yMlKpN"
   },
   "source": [
    "В августе было опубликовано 32 поста пользователями, которые зарегистрировались только в сентябре. Возможно это ошибка на стороне сервиса или при редактировании профиля меняется и 'creation_date' в таблице 'users'."
   ]
  },
  {
   "cell_type": "markdown",
   "metadata": {
    "id": "5Pcizm0DDWKz"
   },
   "source": [
    "# Задание 4"
   ]
  },
  {
   "cell_type": "markdown",
   "metadata": {
    "id": "KUZPF6vHDWKz"
   },
   "source": [
    "Используя данные о постах, выведите несколько полей:\n",
    "\n",
    "- идентификатор пользователя, который написал пост;\n",
    "- дата создания поста;\n",
    "- количество просмотров у текущего поста;\n",
    "- сумму просмотров постов автора с накоплением.\n",
    "\n",
    "Данные в таблице должны быть отсортированы по возрастанию идентификаторов пользователей, а данные об одном и том же пользователе — по возрастанию даты создания поста."
   ]
  },
  {
   "cell_type": "code",
   "execution_count": 9,
   "metadata": {
    "id": "hDoJhMzfDWK0"
   },
   "outputs": [
    {
     "data": {
      "text/html": [
       "<div>\n",
       "<style scoped>\n",
       "    .dataframe tbody tr th:only-of-type {\n",
       "        vertical-align: middle;\n",
       "    }\n",
       "\n",
       "    .dataframe tbody tr th {\n",
       "        vertical-align: top;\n",
       "    }\n",
       "\n",
       "    .dataframe thead th {\n",
       "        text-align: right;\n",
       "    }\n",
       "</style>\n",
       "<table border=\"1\" class=\"dataframe\">\n",
       "  <thead>\n",
       "    <tr style=\"text-align: right;\">\n",
       "      <th></th>\n",
       "      <th>user_id</th>\n",
       "      <th>creation_date</th>\n",
       "      <th>views_count</th>\n",
       "      <th>cumulative_cum</th>\n",
       "    </tr>\n",
       "  </thead>\n",
       "  <tbody>\n",
       "    <tr>\n",
       "      <th>0</th>\n",
       "      <td>1</td>\n",
       "      <td>2008-07-31 23:41:00</td>\n",
       "      <td>480476</td>\n",
       "      <td>480476</td>\n",
       "    </tr>\n",
       "    <tr>\n",
       "      <th>1</th>\n",
       "      <td>1</td>\n",
       "      <td>2008-07-31 23:55:38</td>\n",
       "      <td>136033</td>\n",
       "      <td>616509</td>\n",
       "    </tr>\n",
       "    <tr>\n",
       "      <th>2</th>\n",
       "      <td>1</td>\n",
       "      <td>2008-07-31 23:56:41</td>\n",
       "      <td>0</td>\n",
       "      <td>616509</td>\n",
       "    </tr>\n",
       "    <tr>\n",
       "      <th>3</th>\n",
       "      <td>1</td>\n",
       "      <td>2008-08-04 02:45:08</td>\n",
       "      <td>0</td>\n",
       "      <td>616509</td>\n",
       "    </tr>\n",
       "    <tr>\n",
       "      <th>4</th>\n",
       "      <td>1</td>\n",
       "      <td>2008-08-04 04:31:03</td>\n",
       "      <td>0</td>\n",
       "      <td>616509</td>\n",
       "    </tr>\n",
       "    <tr>\n",
       "      <th>...</th>\n",
       "      <td>...</td>\n",
       "      <td>...</td>\n",
       "      <td>...</td>\n",
       "      <td>...</td>\n",
       "    </tr>\n",
       "    <tr>\n",
       "      <th>243791</th>\n",
       "      <td>5696608</td>\n",
       "      <td>2008-12-23 16:00:37</td>\n",
       "      <td>0</td>\n",
       "      <td>2804</td>\n",
       "    </tr>\n",
       "    <tr>\n",
       "      <th>243792</th>\n",
       "      <td>5696608</td>\n",
       "      <td>2008-12-23 17:35:09</td>\n",
       "      <td>0</td>\n",
       "      <td>2804</td>\n",
       "    </tr>\n",
       "    <tr>\n",
       "      <th>243793</th>\n",
       "      <td>5696608</td>\n",
       "      <td>2008-12-24 01:02:48</td>\n",
       "      <td>0</td>\n",
       "      <td>2804</td>\n",
       "    </tr>\n",
       "    <tr>\n",
       "      <th>243794</th>\n",
       "      <td>5696608</td>\n",
       "      <td>2008-12-30 14:34:45</td>\n",
       "      <td>0</td>\n",
       "      <td>2804</td>\n",
       "    </tr>\n",
       "    <tr>\n",
       "      <th>243795</th>\n",
       "      <td>5696608</td>\n",
       "      <td>2008-12-30 16:32:12</td>\n",
       "      <td>0</td>\n",
       "      <td>2804</td>\n",
       "    </tr>\n",
       "  </tbody>\n",
       "</table>\n",
       "<p>243796 rows × 4 columns</p>\n",
       "</div>"
      ],
      "text/plain": [
       "        user_id       creation_date  views_count  cumulative_cum\n",
       "0             1 2008-07-31 23:41:00       480476          480476\n",
       "1             1 2008-07-31 23:55:38       136033          616509\n",
       "2             1 2008-07-31 23:56:41            0          616509\n",
       "3             1 2008-08-04 02:45:08            0          616509\n",
       "4             1 2008-08-04 04:31:03            0          616509\n",
       "...         ...                 ...          ...             ...\n",
       "243791  5696608 2008-12-23 16:00:37            0            2804\n",
       "243792  5696608 2008-12-23 17:35:09            0            2804\n",
       "243793  5696608 2008-12-24 01:02:48            0            2804\n",
       "243794  5696608 2008-12-30 14:34:45            0            2804\n",
       "243795  5696608 2008-12-30 16:32:12            0            2804\n",
       "\n",
       "[243796 rows x 4 columns]"
      ]
     },
     "execution_count": 9,
     "metadata": {},
     "output_type": "execute_result"
    }
   ],
   "source": [
    "query = '''\n",
    "SELECT user_id,\n",
    "        creation_date,\n",
    "        views_count,\n",
    "        SUM(views_count) OVER (PARTITION BY user_id ORDER BY creation_date) AS cumulative_cum\n",
    "FROM stackoverflow.posts\n",
    "ORDER BY 1,\n",
    "         2\n",
    "'''\n",
    "\n",
    "df = pd.read_sql_query(query, con=engine) \n",
    "df"
   ]
  },
  {
   "cell_type": "markdown",
   "metadata": {
    "id": "N0kHRHvIDWK2"
   },
   "source": [
    "# Задание 5"
   ]
  },
  {
   "cell_type": "markdown",
   "metadata": {
    "id": "gBgvmPtODWK2"
   },
   "source": [
    "Найдите среднее количество постов пользователей в день за август 2008 года. Отберите данные о пользователях, которые опубликовали больше 120 постов за август. Дни без публикаций не учитывайте. \n",
    "\n",
    "Отсортируйте результат по возрастанию среднего количества постов. Значения можно не округлять."
   ]
  },
  {
   "cell_type": "code",
   "execution_count": 10,
   "metadata": {
    "id": "YFyPNz5GDWK3"
   },
   "outputs": [
    {
     "data": {
      "text/html": [
       "<div>\n",
       "<style scoped>\n",
       "    .dataframe tbody tr th:only-of-type {\n",
       "        vertical-align: middle;\n",
       "    }\n",
       "\n",
       "    .dataframe tbody tr th {\n",
       "        vertical-align: top;\n",
       "    }\n",
       "\n",
       "    .dataframe thead th {\n",
       "        text-align: right;\n",
       "    }\n",
       "</style>\n",
       "<table border=\"1\" class=\"dataframe\">\n",
       "  <thead>\n",
       "    <tr style=\"text-align: right;\">\n",
       "      <th></th>\n",
       "      <th>user_id</th>\n",
       "      <th>avg</th>\n",
       "    </tr>\n",
       "  </thead>\n",
       "  <tbody>\n",
       "    <tr>\n",
       "      <th>0</th>\n",
       "      <td>116</td>\n",
       "      <td>4.777778</td>\n",
       "    </tr>\n",
       "    <tr>\n",
       "      <th>1</th>\n",
       "      <td>234</td>\n",
       "      <td>5.208333</td>\n",
       "    </tr>\n",
       "    <tr>\n",
       "      <th>2</th>\n",
       "      <td>91</td>\n",
       "      <td>5.681818</td>\n",
       "    </tr>\n",
       "    <tr>\n",
       "      <th>3</th>\n",
       "      <td>905</td>\n",
       "      <td>7.000000</td>\n",
       "    </tr>\n",
       "    <tr>\n",
       "      <th>4</th>\n",
       "      <td>383</td>\n",
       "      <td>7.277778</td>\n",
       "    </tr>\n",
       "  </tbody>\n",
       "</table>\n",
       "</div>"
      ],
      "text/plain": [
       "   user_id       avg\n",
       "0      116  4.777778\n",
       "1      234  5.208333\n",
       "2       91  5.681818\n",
       "3      905  7.000000\n",
       "4      383  7.277778"
      ]
     },
     "execution_count": 10,
     "metadata": {},
     "output_type": "execute_result"
    }
   ],
   "source": [
    "query = '''\n",
    "WITH posts_table AS\n",
    "    (SELECT DISTINCT user_id,\n",
    "            DATE_TRUNC('day', creation_date ) :: date AS dt,\n",
    "            COUNT(*) OVER (PARTITION BY user_id, DATE_TRUNC('day', creation_date ) :: date)\n",
    "    FROM stackoverflow.posts\n",
    "    WHERE DATE_TRUNC('month', creation_date) :: date = '2008-08-01'\n",
    "      AND user_id IN (SELECT user_id\n",
    "                        FROM stackoverflow.posts\n",
    "                        WHERE DATE_TRUNC('month', creation_date) :: date = '2008-08-01'\n",
    "                        GROUP BY user_id\n",
    "                        HAVING COUNT(id) > 120))\n",
    "SELECT user_id,\n",
    "       AVG(count)\n",
    "FROM posts_table\n",
    "GROUP BY 1\n",
    "ORDER BY 2\n",
    "'''\n",
    "\n",
    "df = pd.read_sql_query(query, con=engine) \n",
    "df"
   ]
  },
  {
   "cell_type": "markdown",
   "metadata": {
    "id": "EQ0dcFH4DWK5"
   },
   "source": [
    "# Задание 6"
   ]
  },
  {
   "cell_type": "markdown",
   "metadata": {
    "id": "c7flfg_hDWK5"
   },
   "source": [
    "Сколько в среднем дней в период с 1 по 7 декабря 2008 года пользователи взаимодействовали с платформой? Для каждого пользователя отберите дни, в которые он или она опубликовали хотя бы один пост. Нужно получить одно целое число — не забудьте округлить результат. "
   ]
  },
  {
   "cell_type": "code",
   "execution_count": 11,
   "metadata": {
    "id": "kZ7LXTr6DWK6"
   },
   "outputs": [
    {
     "data": {
      "text/html": [
       "<div>\n",
       "<style scoped>\n",
       "    .dataframe tbody tr th:only-of-type {\n",
       "        vertical-align: middle;\n",
       "    }\n",
       "\n",
       "    .dataframe tbody tr th {\n",
       "        vertical-align: top;\n",
       "    }\n",
       "\n",
       "    .dataframe thead th {\n",
       "        text-align: right;\n",
       "    }\n",
       "</style>\n",
       "<table border=\"1\" class=\"dataframe\">\n",
       "  <thead>\n",
       "    <tr style=\"text-align: right;\">\n",
       "      <th></th>\n",
       "      <th>round</th>\n",
       "    </tr>\n",
       "  </thead>\n",
       "  <tbody>\n",
       "    <tr>\n",
       "      <th>0</th>\n",
       "      <td>2.0</td>\n",
       "    </tr>\n",
       "  </tbody>\n",
       "</table>\n",
       "</div>"
      ],
      "text/plain": [
       "   round\n",
       "0    2.0"
      ]
     },
     "execution_count": 11,
     "metadata": {},
     "output_type": "execute_result"
    }
   ],
   "source": [
    "query = '''\n",
    "WITH active_days as\n",
    "    (SELECT user_id,\n",
    "           COUNT(DISTINCT DATE_TRUNC('day', creation_date) :: date)\n",
    "    FROM stackoverflow.posts\n",
    "    WHERE CAST(creation_date AS date) BETWEEN '2008-12-01' AND '2008-12-07'\n",
    "    GROUP BY 1)\n",
    "SELECT ROUND(AVG(count))\n",
    "FROM active_days\n",
    "'''\n",
    "\n",
    "df = pd.read_sql_query(query, con=engine) \n",
    "df"
   ]
  },
  {
   "cell_type": "markdown",
   "metadata": {
    "id": "LfUuYz-1DWK8"
   },
   "source": [
    "За первые 7 дней декабря 2008 года пользователи в среднем взаимодействовали с платформой 2 дня."
   ]
  },
  {
   "cell_type": "markdown",
   "metadata": {
    "id": "wfOmqmfLDWK8"
   },
   "source": [
    "# Задание 7"
   ]
  },
  {
   "cell_type": "markdown",
   "metadata": {
    "id": "X4ARQimADWK9"
   },
   "source": [
    "Выведите историю активности каждого пользователя в таком виде: идентификатор пользователя, дата публикации поста. Отсортируйте вывод по возрастанию идентификаторов пользователей, а для каждого пользователя — по возрастанию даты публикации.\n",
    "\n",
    "Добавьте в таблицу новое поле: для каждого поста в нём будет указано название месяца предпоследней публикации пользователя относительно текущей. Если такой публикации нет, укажите `NULL`.  Python автоматически поменяет `NULL` на `None`, но дополнительно преобразовывать значения `None` вам не нужно.\n",
    "\n",
    "Посмотрите внимательно на образец таблицы: для первых двух постов предпоследней публикации нет, но, начиная с третьего поста, в новое поле входит нужный месяц. Для следующего пользователя в первые две записи поля `second_last_month` тоже войдёт `NULL`."
   ]
  },
  {
   "cell_type": "code",
   "execution_count": 12,
   "metadata": {
    "id": "HzI1vhaMDWK-"
   },
   "outputs": [
    {
     "data": {
      "text/html": [
       "<div>\n",
       "<style scoped>\n",
       "    .dataframe tbody tr th:only-of-type {\n",
       "        vertical-align: middle;\n",
       "    }\n",
       "\n",
       "    .dataframe tbody tr th {\n",
       "        vertical-align: top;\n",
       "    }\n",
       "\n",
       "    .dataframe thead th {\n",
       "        text-align: right;\n",
       "    }\n",
       "</style>\n",
       "<table border=\"1\" class=\"dataframe\">\n",
       "  <thead>\n",
       "    <tr style=\"text-align: right;\">\n",
       "      <th></th>\n",
       "      <th>user_id</th>\n",
       "      <th>creation_date</th>\n",
       "      <th>to_char</th>\n",
       "    </tr>\n",
       "  </thead>\n",
       "  <tbody>\n",
       "    <tr>\n",
       "      <th>0</th>\n",
       "      <td>1</td>\n",
       "      <td>2008-07-31 23:41:00</td>\n",
       "      <td>None</td>\n",
       "    </tr>\n",
       "    <tr>\n",
       "      <th>1</th>\n",
       "      <td>1</td>\n",
       "      <td>2008-07-31 23:55:38</td>\n",
       "      <td>None</td>\n",
       "    </tr>\n",
       "    <tr>\n",
       "      <th>2</th>\n",
       "      <td>1</td>\n",
       "      <td>2008-07-31 23:56:41</td>\n",
       "      <td>July</td>\n",
       "    </tr>\n",
       "    <tr>\n",
       "      <th>3</th>\n",
       "      <td>1</td>\n",
       "      <td>2008-08-04 02:45:08</td>\n",
       "      <td>July</td>\n",
       "    </tr>\n",
       "    <tr>\n",
       "      <th>4</th>\n",
       "      <td>1</td>\n",
       "      <td>2008-08-04 04:31:03</td>\n",
       "      <td>July</td>\n",
       "    </tr>\n",
       "    <tr>\n",
       "      <th>...</th>\n",
       "      <td>...</td>\n",
       "      <td>...</td>\n",
       "      <td>...</td>\n",
       "    </tr>\n",
       "    <tr>\n",
       "      <th>243791</th>\n",
       "      <td>5696608</td>\n",
       "      <td>2008-12-23 16:00:37</td>\n",
       "      <td>December</td>\n",
       "    </tr>\n",
       "    <tr>\n",
       "      <th>243792</th>\n",
       "      <td>5696608</td>\n",
       "      <td>2008-12-23 17:35:09</td>\n",
       "      <td>December</td>\n",
       "    </tr>\n",
       "    <tr>\n",
       "      <th>243793</th>\n",
       "      <td>5696608</td>\n",
       "      <td>2008-12-24 01:02:48</td>\n",
       "      <td>December</td>\n",
       "    </tr>\n",
       "    <tr>\n",
       "      <th>243794</th>\n",
       "      <td>5696608</td>\n",
       "      <td>2008-12-30 14:34:45</td>\n",
       "      <td>December</td>\n",
       "    </tr>\n",
       "    <tr>\n",
       "      <th>243795</th>\n",
       "      <td>5696608</td>\n",
       "      <td>2008-12-30 16:32:12</td>\n",
       "      <td>December</td>\n",
       "    </tr>\n",
       "  </tbody>\n",
       "</table>\n",
       "<p>243796 rows × 3 columns</p>\n",
       "</div>"
      ],
      "text/plain": [
       "        user_id       creation_date    to_char\n",
       "0             1 2008-07-31 23:41:00       None\n",
       "1             1 2008-07-31 23:55:38       None\n",
       "2             1 2008-07-31 23:56:41  July     \n",
       "3             1 2008-08-04 02:45:08  July     \n",
       "4             1 2008-08-04 04:31:03  July     \n",
       "...         ...                 ...        ...\n",
       "243791  5696608 2008-12-23 16:00:37  December \n",
       "243792  5696608 2008-12-23 17:35:09  December \n",
       "243793  5696608 2008-12-24 01:02:48  December \n",
       "243794  5696608 2008-12-30 14:34:45  December \n",
       "243795  5696608 2008-12-30 16:32:12  December \n",
       "\n",
       "[243796 rows x 3 columns]"
      ]
     },
     "execution_count": 12,
     "metadata": {},
     "output_type": "execute_result"
    }
   ],
   "source": [
    "query = '''\n",
    "SELECT user_id,\n",
    "       creation_date,\n",
    "       TO_CHAR(LAG(creation_date, 2) OVER (ORDER BY user_id, creation_date), 'Month')\n",
    "FROM stackoverflow.posts\n",
    "ORDER BY 1,\n",
    "         2\n",
    "'''\n",
    "\n",
    "df = pd.read_sql_query(query, con=engine) \n",
    "df"
   ]
  },
  {
   "cell_type": "markdown",
   "metadata": {
    "id": "tf9qq2yzDWK_"
   },
   "source": [
    "# Задание 8"
   ]
  },
  {
   "cell_type": "markdown",
   "metadata": {
    "id": "gfwLVXBYDWLA"
   },
   "source": [
    "Рассчитайте аналог Retention Rate по месяцам для пользователей StackOverflow. Объедините пользователей в когорты по месяцу их первого поста. Возвращение определяйте по наличию поста в текущем месяце. "
   ]
  },
  {
   "cell_type": "code",
   "execution_count": 13,
   "metadata": {
    "id": "LUgFmwmTDWLB"
   },
   "outputs": [
    {
     "data": {
      "text/html": [
       "<div>\n",
       "<style scoped>\n",
       "    .dataframe tbody tr th:only-of-type {\n",
       "        vertical-align: middle;\n",
       "    }\n",
       "\n",
       "    .dataframe tbody tr th {\n",
       "        vertical-align: top;\n",
       "    }\n",
       "\n",
       "    .dataframe thead th {\n",
       "        text-align: right;\n",
       "    }\n",
       "</style>\n",
       "<table border=\"1\" class=\"dataframe\">\n",
       "  <thead>\n",
       "    <tr style=\"text-align: right;\">\n",
       "      <th></th>\n",
       "      <th>cohort_dt</th>\n",
       "      <th>session_date</th>\n",
       "      <th>users_cnt</th>\n",
       "      <th>cohort_users_cnt</th>\n",
       "      <th>retention_rate</th>\n",
       "    </tr>\n",
       "  </thead>\n",
       "  <tbody>\n",
       "    <tr>\n",
       "      <th>0</th>\n",
       "      <td>2008-07-01</td>\n",
       "      <td>2008-07-01</td>\n",
       "      <td>3</td>\n",
       "      <td>3</td>\n",
       "      <td>100.00</td>\n",
       "    </tr>\n",
       "    <tr>\n",
       "      <th>1</th>\n",
       "      <td>2008-07-01</td>\n",
       "      <td>2008-08-01</td>\n",
       "      <td>2</td>\n",
       "      <td>3</td>\n",
       "      <td>66.67</td>\n",
       "    </tr>\n",
       "    <tr>\n",
       "      <th>2</th>\n",
       "      <td>2008-07-01</td>\n",
       "      <td>2008-09-01</td>\n",
       "      <td>1</td>\n",
       "      <td>3</td>\n",
       "      <td>33.33</td>\n",
       "    </tr>\n",
       "    <tr>\n",
       "      <th>3</th>\n",
       "      <td>2008-07-01</td>\n",
       "      <td>2008-10-01</td>\n",
       "      <td>2</td>\n",
       "      <td>3</td>\n",
       "      <td>66.67</td>\n",
       "    </tr>\n",
       "    <tr>\n",
       "      <th>4</th>\n",
       "      <td>2008-07-01</td>\n",
       "      <td>2008-11-01</td>\n",
       "      <td>1</td>\n",
       "      <td>3</td>\n",
       "      <td>33.33</td>\n",
       "    </tr>\n",
       "    <tr>\n",
       "      <th>5</th>\n",
       "      <td>2008-07-01</td>\n",
       "      <td>2008-12-01</td>\n",
       "      <td>2</td>\n",
       "      <td>3</td>\n",
       "      <td>66.67</td>\n",
       "    </tr>\n",
       "    <tr>\n",
       "      <th>6</th>\n",
       "      <td>2008-08-01</td>\n",
       "      <td>2008-08-01</td>\n",
       "      <td>2151</td>\n",
       "      <td>2151</td>\n",
       "      <td>100.00</td>\n",
       "    </tr>\n",
       "    <tr>\n",
       "      <th>7</th>\n",
       "      <td>2008-08-01</td>\n",
       "      <td>2008-09-01</td>\n",
       "      <td>1571</td>\n",
       "      <td>2151</td>\n",
       "      <td>73.04</td>\n",
       "    </tr>\n",
       "    <tr>\n",
       "      <th>8</th>\n",
       "      <td>2008-08-01</td>\n",
       "      <td>2008-10-01</td>\n",
       "      <td>1275</td>\n",
       "      <td>2151</td>\n",
       "      <td>59.27</td>\n",
       "    </tr>\n",
       "    <tr>\n",
       "      <th>9</th>\n",
       "      <td>2008-08-01</td>\n",
       "      <td>2008-11-01</td>\n",
       "      <td>1050</td>\n",
       "      <td>2151</td>\n",
       "      <td>48.81</td>\n",
       "    </tr>\n",
       "    <tr>\n",
       "      <th>10</th>\n",
       "      <td>2008-08-01</td>\n",
       "      <td>2008-12-01</td>\n",
       "      <td>894</td>\n",
       "      <td>2151</td>\n",
       "      <td>41.56</td>\n",
       "    </tr>\n",
       "    <tr>\n",
       "      <th>11</th>\n",
       "      <td>2008-09-01</td>\n",
       "      <td>2008-09-01</td>\n",
       "      <td>7678</td>\n",
       "      <td>7678</td>\n",
       "      <td>100.00</td>\n",
       "    </tr>\n",
       "    <tr>\n",
       "      <th>12</th>\n",
       "      <td>2008-09-01</td>\n",
       "      <td>2008-10-01</td>\n",
       "      <td>4132</td>\n",
       "      <td>7678</td>\n",
       "      <td>53.82</td>\n",
       "    </tr>\n",
       "    <tr>\n",
       "      <th>13</th>\n",
       "      <td>2008-09-01</td>\n",
       "      <td>2008-11-01</td>\n",
       "      <td>2966</td>\n",
       "      <td>7678</td>\n",
       "      <td>38.63</td>\n",
       "    </tr>\n",
       "    <tr>\n",
       "      <th>14</th>\n",
       "      <td>2008-09-01</td>\n",
       "      <td>2008-12-01</td>\n",
       "      <td>2500</td>\n",
       "      <td>7678</td>\n",
       "      <td>32.56</td>\n",
       "    </tr>\n",
       "    <tr>\n",
       "      <th>15</th>\n",
       "      <td>2008-10-01</td>\n",
       "      <td>2008-10-01</td>\n",
       "      <td>3629</td>\n",
       "      <td>3629</td>\n",
       "      <td>100.00</td>\n",
       "    </tr>\n",
       "    <tr>\n",
       "      <th>16</th>\n",
       "      <td>2008-10-01</td>\n",
       "      <td>2008-11-01</td>\n",
       "      <td>1640</td>\n",
       "      <td>3629</td>\n",
       "      <td>45.19</td>\n",
       "    </tr>\n",
       "    <tr>\n",
       "      <th>17</th>\n",
       "      <td>2008-10-01</td>\n",
       "      <td>2008-12-01</td>\n",
       "      <td>1221</td>\n",
       "      <td>3629</td>\n",
       "      <td>33.65</td>\n",
       "    </tr>\n",
       "    <tr>\n",
       "      <th>18</th>\n",
       "      <td>2008-11-01</td>\n",
       "      <td>2008-11-01</td>\n",
       "      <td>2852</td>\n",
       "      <td>2852</td>\n",
       "      <td>100.00</td>\n",
       "    </tr>\n",
       "    <tr>\n",
       "      <th>19</th>\n",
       "      <td>2008-11-01</td>\n",
       "      <td>2008-12-01</td>\n",
       "      <td>1151</td>\n",
       "      <td>2852</td>\n",
       "      <td>40.36</td>\n",
       "    </tr>\n",
       "    <tr>\n",
       "      <th>20</th>\n",
       "      <td>2008-12-01</td>\n",
       "      <td>2008-12-01</td>\n",
       "      <td>2536</td>\n",
       "      <td>2536</td>\n",
       "      <td>100.00</td>\n",
       "    </tr>\n",
       "  </tbody>\n",
       "</table>\n",
       "</div>"
      ],
      "text/plain": [
       "     cohort_dt session_date  users_cnt  cohort_users_cnt  retention_rate\n",
       "0   2008-07-01   2008-07-01          3                 3          100.00\n",
       "1   2008-07-01   2008-08-01          2                 3           66.67\n",
       "2   2008-07-01   2008-09-01          1                 3           33.33\n",
       "3   2008-07-01   2008-10-01          2                 3           66.67\n",
       "4   2008-07-01   2008-11-01          1                 3           33.33\n",
       "5   2008-07-01   2008-12-01          2                 3           66.67\n",
       "6   2008-08-01   2008-08-01       2151              2151          100.00\n",
       "7   2008-08-01   2008-09-01       1571              2151           73.04\n",
       "8   2008-08-01   2008-10-01       1275              2151           59.27\n",
       "9   2008-08-01   2008-11-01       1050              2151           48.81\n",
       "10  2008-08-01   2008-12-01        894              2151           41.56\n",
       "11  2008-09-01   2008-09-01       7678              7678          100.00\n",
       "12  2008-09-01   2008-10-01       4132              7678           53.82\n",
       "13  2008-09-01   2008-11-01       2966              7678           38.63\n",
       "14  2008-09-01   2008-12-01       2500              7678           32.56\n",
       "15  2008-10-01   2008-10-01       3629              3629          100.00\n",
       "16  2008-10-01   2008-11-01       1640              3629           45.19\n",
       "17  2008-10-01   2008-12-01       1221              3629           33.65\n",
       "18  2008-11-01   2008-11-01       2852              2852          100.00\n",
       "19  2008-11-01   2008-12-01       1151              2852           40.36\n",
       "20  2008-12-01   2008-12-01       2536              2536          100.00"
      ]
     },
     "execution_count": 13,
     "metadata": {},
     "output_type": "execute_result"
    }
   ],
   "source": [
    "query = '''\n",
    "WITH profile AS\n",
    "    (WITH cohort_dt AS\n",
    "        (SELECT DISTINCT user_id,\n",
    "                        MIN(DATE_TRUNC('month', creation_date):: date) OVER (PARTITION BY user_id) AS cohort_dt\n",
    "        FROM stackoverflow.posts)\n",
    "    SELECT user_id,\n",
    "           cohort_dt,\n",
    "           COUNT(*) OVER (PARTITION BY cohort_dt) AS cohort_users_cnt\n",
    "    FROM cohort_dt),\n",
    "sessions AS\n",
    "    (SELECT user_id,\n",
    "           DATE_TRUNC('month', creation_date) :: date AS session_date\n",
    "    FROM stackoverflow.posts\n",
    "    GROUP BY 1,\n",
    "             2\n",
    "    ORDER BY 1,\n",
    "             2)\n",
    "SELECT p.cohort_dt,\n",
    "       s.session_date,\n",
    "       COUNT(p.user_id) AS users_cnt,\n",
    "       cohort_users_cnt,\n",
    "       ROUND(COUNT(p.user_id) *100.0 / cohort_users_cnt, 2) AS retention_rate\n",
    "FROM profile p JOIN sessions s ON p.user_id = s.user_id\n",
    "GROUP BY 1,\n",
    "         2,\n",
    "         4\n",
    "'''\n",
    "\n",
    "df = pd.read_sql_query(query, con=engine) \n",
    "retention_rate_df = pd.read_sql_query(query, con = engine) \n",
    "retention_rate_df"
   ]
  },
  {
   "cell_type": "code",
   "execution_count": 14,
   "metadata": {
    "id": "qAEJc8H1DWLC"
   },
   "outputs": [
    {
     "data": {
      "image/png": "[encoded data removed]",
      "text/plain": [
       "<Figure size 1152x1152 with 2 Axes>"
      ]
     },
     "metadata": {
      "needs_background": "light"
     },
     "output_type": "display_data"
    }
   ],
   "source": [
    "# строим тепловую карту Retention Rate\n",
    "retention = retention_rate_df.pivot('cohort_dt', 'session_date', 'retention_rate')\n",
    "retention.index = [str(x)[0:10] for x in retention.index]\n",
    "retention.columns = [str(x)[0:10] for x in retention.columns]\n",
    "\n",
    "plt.figure(figsize=(16, 16)) # задаём размер графика\n",
    "sns.heatmap(retention, # датафрейм с данными\n",
    "            annot=True, # добавляем подписи\n",
    "            fmt='') # задаём исходный формат\n",
    "plt.title('Тепловая карта') # название графика\n",
    "plt.show() "
   ]
  },
  {
   "cell_type": "markdown",
   "metadata": {
    "id": "EgOfIsI4DWLC"
   },
   "source": [
    "1. В июльскую когорту попало всего 3 человека, поэтому пост одного человека так сильно влияет на коофицент Retention Rate. \n",
    "2. В когорте пользователей от августа самый большой коэффициент удержания первого месяца по сравнению с другими когортами. Самый низкий - от ноября. \n",
    "3. С каждым месяцем динамика Retention Rate все хуже и хуже. "
   ]
  },
  {
   "cell_type": "markdown",
   "metadata": {
    "id": "1k7oPWt5DWLK"
   },
   "source": [
    "# Задание 9\n"
   ]
  },
  {
   "cell_type": "markdown",
   "metadata": {
    "id": "ALsYVSyRDWLM"
   },
   "source": [
    "На сколько процентов менялось количество постов ежемесячно с 1 сентября по 31 декабря 2008 года? Отобразите таблицу со следующими полями:\n",
    "\n",
    "- номер месяца;\n",
    "- количество постов за месяц;\n",
    "- процент, который показывает, насколько изменилось количество постов в текущем месяце по сравнению с предыдущим.\n",
    "\n",
    "Округлите значение процента до двух знаков после запятой."
   ]
  },
  {
   "cell_type": "code",
   "execution_count": 15,
   "metadata": {
    "id": "Mb5pShStDWLN"
   },
   "outputs": [
    {
     "data": {
      "text/html": [
       "<div>\n",
       "<style scoped>\n",
       "    .dataframe tbody tr th:only-of-type {\n",
       "        vertical-align: middle;\n",
       "    }\n",
       "\n",
       "    .dataframe tbody tr th {\n",
       "        vertical-align: top;\n",
       "    }\n",
       "\n",
       "    .dataframe thead th {\n",
       "        text-align: right;\n",
       "    }\n",
       "</style>\n",
       "<table border=\"1\" class=\"dataframe\">\n",
       "  <thead>\n",
       "    <tr style=\"text-align: right;\">\n",
       "      <th></th>\n",
       "      <th>creation_month</th>\n",
       "      <th>posts_count</th>\n",
       "      <th>percentage</th>\n",
       "    </tr>\n",
       "  </thead>\n",
       "  <tbody>\n",
       "    <tr>\n",
       "      <th>0</th>\n",
       "      <td>9.0</td>\n",
       "      <td>70371</td>\n",
       "      <td>NaN</td>\n",
       "    </tr>\n",
       "    <tr>\n",
       "      <th>1</th>\n",
       "      <td>10.0</td>\n",
       "      <td>63102</td>\n",
       "      <td>-10.33</td>\n",
       "    </tr>\n",
       "    <tr>\n",
       "      <th>2</th>\n",
       "      <td>11.0</td>\n",
       "      <td>46975</td>\n",
       "      <td>-25.56</td>\n",
       "    </tr>\n",
       "    <tr>\n",
       "      <th>3</th>\n",
       "      <td>12.0</td>\n",
       "      <td>44592</td>\n",
       "      <td>-5.07</td>\n",
       "    </tr>\n",
       "  </tbody>\n",
       "</table>\n",
       "</div>"
      ],
      "text/plain": [
       "   creation_month  posts_count  percentage\n",
       "0             9.0        70371         NaN\n",
       "1            10.0        63102      -10.33\n",
       "2            11.0        46975      -25.56\n",
       "3            12.0        44592       -5.07"
      ]
     },
     "execution_count": 15,
     "metadata": {},
     "output_type": "execute_result"
    }
   ],
   "source": [
    "query = '''\n",
    "WITH month_count AS\n",
    "    (SELECT EXTRACT(MONTH FROM creation_date) creation_month,\n",
    "           COUNT(*) posts_count\n",
    "    FROM stackoverflow.posts\n",
    "    WHERE CAST(creation_date AS date) BETWEEN '2008-09-01' AND '2008-12-31'\n",
    "    GROUP BY 1)\n",
    "SELECT *,\n",
    "       ROUND(((posts_count::numeric / LAG(posts_count) OVER (ORDER BY creation_month)) -1 ) * 100, 2) AS percentage\n",
    "FROM month_count\n",
    "\n",
    "'''\n",
    "\n",
    "df = pd.read_sql_query(query, con=engine) \n",
    "df"
   ]
  },
  {
   "cell_type": "markdown",
   "metadata": {
    "id": "uw7qMtafDWLP"
   },
   "source": [
    "# Задание 10"
   ]
  },
  {
   "cell_type": "markdown",
   "metadata": {
    "id": "oRBpWKx3DWLQ"
   },
   "source": [
    "Выгрузите данные активности пользователя, который опубликовал больше всего постов за всё время. Выведите данные за октябрь 2008 года в таком виде:\n",
    "\n",
    "- номер недели;\n",
    "- дата и время последнего поста, опубликованного на этой неделе."
   ]
  },
  {
   "cell_type": "code",
   "execution_count": 17,
   "metadata": {
    "id": "r5F5fSkwDWLQ"
   },
   "outputs": [
    {
     "data": {
      "text/html": [
       "<div>\n",
       "<style scoped>\n",
       "    .dataframe tbody tr th:only-of-type {\n",
       "        vertical-align: middle;\n",
       "    }\n",
       "\n",
       "    .dataframe tbody tr th {\n",
       "        vertical-align: top;\n",
       "    }\n",
       "\n",
       "    .dataframe thead th {\n",
       "        text-align: right;\n",
       "    }\n",
       "</style>\n",
       "<table border=\"1\" class=\"dataframe\">\n",
       "  <thead>\n",
       "    <tr style=\"text-align: right;\">\n",
       "      <th></th>\n",
       "      <th>week_creation</th>\n",
       "      <th>max</th>\n",
       "    </tr>\n",
       "  </thead>\n",
       "  <tbody>\n",
       "    <tr>\n",
       "      <th>0</th>\n",
       "      <td>40.0</td>\n",
       "      <td>2008-10-05 09:00:58</td>\n",
       "    </tr>\n",
       "    <tr>\n",
       "      <th>1</th>\n",
       "      <td>41.0</td>\n",
       "      <td>2008-10-12 21:22:23</td>\n",
       "    </tr>\n",
       "    <tr>\n",
       "      <th>2</th>\n",
       "      <td>42.0</td>\n",
       "      <td>2008-10-19 06:49:30</td>\n",
       "    </tr>\n",
       "    <tr>\n",
       "      <th>3</th>\n",
       "      <td>43.0</td>\n",
       "      <td>2008-10-26 21:44:36</td>\n",
       "    </tr>\n",
       "    <tr>\n",
       "      <th>4</th>\n",
       "      <td>44.0</td>\n",
       "      <td>2008-10-31 22:16:01</td>\n",
       "    </tr>\n",
       "  </tbody>\n",
       "</table>\n",
       "</div>"
      ],
      "text/plain": [
       "   week_creation                 max\n",
       "0           40.0 2008-10-05 09:00:58\n",
       "1           41.0 2008-10-12 21:22:23\n",
       "2           42.0 2008-10-19 06:49:30\n",
       "3           43.0 2008-10-26 21:44:36\n",
       "4           44.0 2008-10-31 22:16:01"
      ]
     },
     "execution_count": 17,
     "metadata": {},
     "output_type": "execute_result"
    }
   ],
   "source": [
    "query = '''\n",
    "SELECT EXTRACT(WEEK FROM CAST(creation_date AS timestamp)) week_creation,\n",
    "       MAX(creation_date) \n",
    "FROM stackoverflow.posts\n",
    "WHERE EXTRACT(MONTH FROM CAST(creation_date AS timestamp)) = 10 \n",
    "  AND user_id IN (WITH user_count AS\n",
    "                    (SELECT user_id,\n",
    "                           COUNT(id)\n",
    "                    FROM stackoverflow.posts\n",
    "                    GROUP BY 1\n",
    "                    ORDER BY 2 DESC)\n",
    "                SELECT user_id\n",
    "                FROM user_count\n",
    "                LIMIT 1)\n",
    "GROUP BY 1\n",
    "'''\n",
    "\n",
    "df = pd.read_sql_query(query, con=engine) \n",
    "df"
   ]
  }
 ],
 "metadata": {
  "ExecuteTimeLog": [
   {
    "duration": 843,
    "start_time": "2023-01-17T08:35:13.092Z"
   },
   {
    "duration": 3,
    "start_time": "2023-01-17T08:35:16.666Z"
   },
   {
    "duration": 5289,
    "start_time": "2023-01-17T08:35:22.212Z"
   },
   {
    "duration": 234,
    "start_time": "2023-01-17T08:38:45.572Z"
   },
   {
    "duration": 15,
    "start_time": "2023-01-17T08:38:46.911Z"
   },
   {
    "duration": 10,
    "start_time": "2023-01-17T11:36:24.612Z"
   },
   {
    "duration": 969,
    "start_time": "2023-01-17T11:36:37.582Z"
   },
   {
    "duration": 4,
    "start_time": "2023-01-17T11:36:38.553Z"
   },
   {
    "duration": 8798,
    "start_time": "2023-01-17T11:36:38.558Z"
   },
   {
    "duration": 46,
    "start_time": "2023-01-17T11:36:47.358Z"
   },
   {
    "duration": 17,
    "start_time": "2023-01-17T11:36:47.406Z"
   },
   {
    "duration": 17,
    "start_time": "2023-01-17T11:37:06.892Z"
   },
   {
    "duration": 26,
    "start_time": "2023-01-17T12:14:11.943Z"
   },
   {
    "duration": 65,
    "start_time": "2023-01-17T12:16:15.965Z"
   },
   {
    "duration": 192,
    "start_time": "2023-01-17T12:16:53.203Z"
   },
   {
    "duration": 99,
    "start_time": "2023-01-17T12:17:07.708Z"
   },
   {
    "duration": 122,
    "start_time": "2023-01-17T12:17:13.813Z"
   },
   {
    "duration": 73,
    "start_time": "2023-01-17T12:17:28.452Z"
   },
   {
    "duration": 8,
    "start_time": "2023-01-17T19:04:37.651Z"
   },
   {
    "duration": 42,
    "start_time": "2023-01-17T19:05:13.210Z"
   },
   {
    "duration": 891,
    "start_time": "2023-01-17T19:05:21.116Z"
   },
   {
    "duration": 4,
    "start_time": "2023-01-17T19:05:22.009Z"
   },
   {
    "duration": 7725,
    "start_time": "2023-01-17T19:05:22.015Z"
   },
   {
    "duration": 48,
    "start_time": "2023-01-17T19:05:29.742Z"
   },
   {
    "duration": 17,
    "start_time": "2023-01-17T19:05:29.792Z"
   },
   {
    "duration": 78,
    "start_time": "2023-01-17T19:05:29.811Z"
   },
   {
    "duration": 2,
    "start_time": "2023-01-17T19:05:29.891Z"
   },
   {
    "duration": 109,
    "start_time": "2023-01-17T19:05:29.895Z"
   },
   {
    "duration": 3,
    "start_time": "2023-01-17T19:13:47.072Z"
   },
   {
    "duration": 144,
    "start_time": "2023-01-17T19:14:08.600Z"
   },
   {
    "duration": 89,
    "start_time": "2023-01-17T19:14:26.063Z"
   },
   {
    "duration": 88,
    "start_time": "2023-01-17T19:14:39.268Z"
   },
   {
    "duration": 97,
    "start_time": "2023-01-17T19:14:46.964Z"
   },
   {
    "duration": 37,
    "start_time": "2023-01-17T19:15:06.244Z"
   },
   {
    "duration": 79,
    "start_time": "2023-01-17T19:17:43.389Z"
   },
   {
    "duration": 110,
    "start_time": "2023-01-17T19:20:45.526Z"
   },
   {
    "duration": 9,
    "start_time": "2023-01-17T19:21:00.261Z"
   },
   {
    "duration": 11,
    "start_time": "2023-01-17T19:21:29.269Z"
   },
   {
    "duration": 30,
    "start_time": "2023-01-17T19:22:05.107Z"
   },
   {
    "duration": 13,
    "start_time": "2023-01-17T19:22:47.152Z"
   },
   {
    "duration": 1391,
    "start_time": "2023-01-17T19:22:52.400Z"
   },
   {
    "duration": 1314,
    "start_time": "2023-01-17T19:23:10.120Z"
   },
   {
    "duration": 1341,
    "start_time": "2023-01-17T19:23:28.374Z"
   },
   {
    "duration": 1398,
    "start_time": "2023-01-17T19:24:55.105Z"
   },
   {
    "duration": 241,
    "start_time": "2023-01-17T19:25:57.587Z"
   },
   {
    "duration": 507,
    "start_time": "2023-01-17T19:26:48.423Z"
   },
   {
    "duration": 136,
    "start_time": "2023-01-17T19:27:13.118Z"
   },
   {
    "duration": 512,
    "start_time": "2023-01-17T19:27:45.126Z"
   },
   {
    "duration": 58,
    "start_time": "2023-01-17T19:27:57.146Z"
   },
   {
    "duration": 107,
    "start_time": "2023-01-17T19:29:13.890Z"
   },
   {
    "duration": 94,
    "start_time": "2023-01-17T19:29:23.342Z"
   },
   {
    "duration": 88,
    "start_time": "2023-01-17T19:29:38.778Z"
   },
   {
    "duration": 60,
    "start_time": "2023-01-17T19:29:48.397Z"
   },
   {
    "duration": 70,
    "start_time": "2023-01-17T19:30:11.695Z"
   },
   {
    "duration": 96,
    "start_time": "2023-01-17T19:30:30.371Z"
   },
   {
    "duration": 170,
    "start_time": "2023-01-17T19:30:35.600Z"
   },
   {
    "duration": 131,
    "start_time": "2023-01-17T19:30:59.316Z"
   },
   {
    "duration": 126,
    "start_time": "2023-01-17T19:31:32.272Z"
   },
   {
    "duration": 124,
    "start_time": "2023-01-17T19:36:35.507Z"
   },
   {
    "duration": 99,
    "start_time": "2023-01-17T19:36:53.834Z"
   },
   {
    "duration": 113,
    "start_time": "2023-01-17T20:02:38.904Z"
   },
   {
    "duration": 102,
    "start_time": "2023-01-17T20:03:06.100Z"
   },
   {
    "duration": 806,
    "start_time": "2023-01-18T11:42:27.104Z"
   },
   {
    "duration": 4,
    "start_time": "2023-01-18T11:42:27.913Z"
   },
   {
    "duration": 5300,
    "start_time": "2023-01-18T11:42:27.918Z"
   },
   {
    "duration": 217,
    "start_time": "2023-01-18T11:42:33.220Z"
   },
   {
    "duration": 12,
    "start_time": "2023-01-18T11:42:33.439Z"
   },
   {
    "duration": 106,
    "start_time": "2023-01-18T11:42:33.452Z"
   },
   {
    "duration": 2,
    "start_time": "2023-01-18T11:42:33.560Z"
   },
   {
    "duration": 139,
    "start_time": "2023-01-18T11:42:33.563Z"
   },
   {
    "duration": 2,
    "start_time": "2023-01-18T11:42:33.703Z"
   },
   {
    "duration": 191,
    "start_time": "2023-01-18T11:46:09.144Z"
   },
   {
    "duration": 165,
    "start_time": "2023-01-18T11:47:04.784Z"
   },
   {
    "duration": 133,
    "start_time": "2023-01-18T11:50:45.006Z"
   },
   {
    "duration": 151,
    "start_time": "2023-01-18T11:51:17.072Z"
   },
   {
    "duration": 147,
    "start_time": "2023-01-18T11:51:50.366Z"
   },
   {
    "duration": 124,
    "start_time": "2023-01-18T11:52:05.592Z"
   },
   {
    "duration": 149,
    "start_time": "2023-01-18T11:52:09.446Z"
   },
   {
    "duration": 3,
    "start_time": "2023-01-18T11:53:46.952Z"
   },
   {
    "duration": 1478,
    "start_time": "2023-01-18T11:54:01.783Z"
   },
   {
    "duration": 1027,
    "start_time": "2023-01-18T11:57:09.690Z"
   },
   {
    "duration": 60,
    "start_time": "2023-01-18T11:57:56.364Z"
   },
   {
    "duration": 965,
    "start_time": "2023-01-18T11:58:13.917Z"
   },
   {
    "duration": 125,
    "start_time": "2023-01-18T12:00:17.293Z"
   },
   {
    "duration": 837,
    "start_time": "2023-01-18T15:08:59.338Z"
   },
   {
    "duration": 3,
    "start_time": "2023-01-18T15:09:00.177Z"
   },
   {
    "duration": 5659,
    "start_time": "2023-01-18T15:09:00.181Z"
   },
   {
    "duration": 241,
    "start_time": "2023-01-18T15:09:05.843Z"
   },
   {
    "duration": 19,
    "start_time": "2023-01-18T15:09:06.086Z"
   },
   {
    "duration": 133,
    "start_time": "2023-01-18T15:09:06.107Z"
   },
   {
    "duration": 3,
    "start_time": "2023-01-18T15:09:06.242Z"
   },
   {
    "duration": 147,
    "start_time": "2023-01-18T15:09:06.246Z"
   },
   {
    "duration": 2,
    "start_time": "2023-01-18T15:09:06.395Z"
   },
   {
    "duration": 170,
    "start_time": "2023-01-18T15:09:06.399Z"
   },
   {
    "duration": 2,
    "start_time": "2023-01-18T15:09:06.570Z"
   },
   {
    "duration": 1219,
    "start_time": "2023-01-18T15:09:06.574Z"
   },
   {
    "duration": 1480,
    "start_time": "2023-01-18T15:10:26.458Z"
   },
   {
    "duration": 101,
    "start_time": "2023-01-18T15:14:05.057Z"
   },
   {
    "duration": 330,
    "start_time": "2023-01-18T15:15:22.008Z"
   },
   {
    "duration": 157,
    "start_time": "2023-01-18T15:15:29.615Z"
   },
   {
    "duration": 96,
    "start_time": "2023-01-18T15:16:24.535Z"
   },
   {
    "duration": 253,
    "start_time": "2023-01-18T15:16:32.576Z"
   },
   {
    "duration": 97,
    "start_time": "2023-01-18T15:21:24.813Z"
   },
   {
    "duration": 115,
    "start_time": "2023-01-18T15:21:35.568Z"
   },
   {
    "duration": 102,
    "start_time": "2023-01-18T15:21:40.364Z"
   },
   {
    "duration": 1387,
    "start_time": "2023-01-18T15:21:48.915Z"
   },
   {
    "duration": 68,
    "start_time": "2023-01-18T15:23:34.350Z"
   },
   {
    "duration": 116,
    "start_time": "2023-01-18T15:25:00.368Z"
   },
   {
    "duration": 111,
    "start_time": "2023-01-18T15:31:29.429Z"
   },
   {
    "duration": 124,
    "start_time": "2023-01-18T15:31:59.449Z"
   },
   {
    "duration": 113,
    "start_time": "2023-01-18T15:32:09.147Z"
   },
   {
    "duration": 99,
    "start_time": "2023-01-18T15:32:27.129Z"
   },
   {
    "duration": 102,
    "start_time": "2023-01-18T15:33:41.207Z"
   },
   {
    "duration": 121,
    "start_time": "2023-01-18T15:33:46.368Z"
   },
   {
    "duration": 101,
    "start_time": "2023-01-18T15:34:10.763Z"
   },
   {
    "duration": 103,
    "start_time": "2023-01-18T15:34:35.567Z"
   },
   {
    "duration": 100,
    "start_time": "2023-01-18T15:35:07.723Z"
   },
   {
    "duration": 98,
    "start_time": "2023-01-18T15:35:28.612Z"
   },
   {
    "duration": 101,
    "start_time": "2023-01-18T15:37:40.189Z"
   },
   {
    "duration": 101,
    "start_time": "2023-01-18T15:38:11.384Z"
   },
   {
    "duration": 104,
    "start_time": "2023-01-18T15:39:19.885Z"
   },
   {
    "duration": 99,
    "start_time": "2023-01-18T15:39:37.673Z"
   },
   {
    "duration": 99,
    "start_time": "2023-01-18T15:39:42.559Z"
   },
   {
    "duration": 124,
    "start_time": "2023-01-18T15:40:03.353Z"
   },
   {
    "duration": 100,
    "start_time": "2023-01-18T15:41:43.004Z"
   },
   {
    "duration": 98,
    "start_time": "2023-01-18T15:43:43.713Z"
   },
   {
    "duration": 97,
    "start_time": "2023-01-18T15:43:55.892Z"
   },
   {
    "duration": 97,
    "start_time": "2023-01-18T15:44:26.802Z"
   },
   {
    "duration": 99,
    "start_time": "2023-01-18T15:44:56.184Z"
   },
   {
    "duration": 100,
    "start_time": "2023-01-18T15:46:15.088Z"
   },
   {
    "duration": 107,
    "start_time": "2023-01-18T15:46:28.011Z"
   },
   {
    "duration": 112,
    "start_time": "2023-01-18T15:46:41.764Z"
   },
   {
    "duration": 115,
    "start_time": "2023-01-18T15:47:07.735Z"
   },
   {
    "duration": 105,
    "start_time": "2023-01-18T15:47:31.569Z"
   },
   {
    "duration": 90,
    "start_time": "2023-01-18T15:51:24.819Z"
   },
   {
    "duration": 105,
    "start_time": "2023-01-18T15:52:02.678Z"
   },
   {
    "duration": 73,
    "start_time": "2023-01-18T15:55:02.958Z"
   },
   {
    "duration": 1534,
    "start_time": "2023-01-18T15:55:55.546Z"
   },
   {
    "duration": 113,
    "start_time": "2023-01-18T15:57:36.199Z"
   },
   {
    "duration": 163,
    "start_time": "2023-01-18T15:57:51.742Z"
   },
   {
    "duration": 87,
    "start_time": "2023-01-18T15:58:11.795Z"
   },
   {
    "duration": 166,
    "start_time": "2023-01-18T15:58:17.138Z"
   },
   {
    "duration": 113,
    "start_time": "2023-01-18T16:09:40.945Z"
   },
   {
    "duration": 88,
    "start_time": "2023-01-18T16:09:44.936Z"
   },
   {
    "duration": 103,
    "start_time": "2023-01-18T16:10:33.436Z"
   },
   {
    "duration": 93,
    "start_time": "2023-01-18T16:10:51.201Z"
   },
   {
    "duration": 65,
    "start_time": "2023-01-18T16:12:21.221Z"
   },
   {
    "duration": 65,
    "start_time": "2023-01-18T16:13:08.823Z"
   },
   {
    "duration": 93,
    "start_time": "2023-01-18T16:15:28.632Z"
   },
   {
    "duration": 811,
    "start_time": "2023-01-18T16:15:39.926Z"
   },
   {
    "duration": 874,
    "start_time": "2023-01-18T16:16:09.745Z"
   },
   {
    "duration": 1314,
    "start_time": "2023-01-18T16:21:01.515Z"
   },
   {
    "duration": 1096,
    "start_time": "2023-01-18T16:28:08.428Z"
   },
   {
    "duration": 1307,
    "start_time": "2023-01-18T16:29:16.342Z"
   },
   {
    "duration": 1205,
    "start_time": "2023-01-18T16:29:36.498Z"
   },
   {
    "duration": 1177,
    "start_time": "2023-01-18T16:30:26.420Z"
   },
   {
    "duration": 64,
    "start_time": "2023-01-18T16:30:48.316Z"
   },
   {
    "duration": 1257,
    "start_time": "2023-01-18T16:30:56.313Z"
   },
   {
    "duration": 1583,
    "start_time": "2023-01-18T16:38:54.187Z"
   },
   {
    "duration": 113,
    "start_time": "2023-01-18T16:42:57.729Z"
   },
   {
    "duration": 210,
    "start_time": "2023-01-18T16:43:09.921Z"
   },
   {
    "duration": 98,
    "start_time": "2023-01-18T16:46:01.806Z"
   },
   {
    "duration": 94,
    "start_time": "2023-01-18T16:46:33.225Z"
   },
   {
    "duration": 406,
    "start_time": "2023-01-18T16:46:40.564Z"
   },
   {
    "duration": 472,
    "start_time": "2023-01-18T16:47:52.124Z"
   },
   {
    "duration": 427,
    "start_time": "2023-01-18T16:49:25.498Z"
   },
   {
    "duration": 103,
    "start_time": "2023-01-18T16:51:23.935Z"
   },
   {
    "duration": 98,
    "start_time": "2023-01-18T16:51:30.346Z"
   },
   {
    "duration": 93,
    "start_time": "2023-01-18T16:51:51.927Z"
   },
   {
    "duration": 95,
    "start_time": "2023-01-18T16:52:56.383Z"
   },
   {
    "duration": 492,
    "start_time": "2023-01-18T16:53:40.613Z"
   },
   {
    "duration": 427,
    "start_time": "2023-01-18T16:54:00.727Z"
   },
   {
    "duration": 97,
    "start_time": "2023-01-18T16:55:00.919Z"
   },
   {
    "duration": 720,
    "start_time": "2023-01-18T16:55:09.186Z"
   },
   {
    "duration": 96,
    "start_time": "2023-01-18T16:56:21.299Z"
   },
   {
    "duration": 713,
    "start_time": "2023-01-18T16:56:25.682Z"
   },
   {
    "duration": 710,
    "start_time": "2023-01-18T16:58:10.729Z"
   },
   {
    "duration": 735,
    "start_time": "2023-01-18T16:58:26.123Z"
   },
   {
    "duration": 99,
    "start_time": "2023-01-18T17:00:26.412Z"
   },
   {
    "duration": 1678,
    "start_time": "2023-01-18T17:00:52.643Z"
   },
   {
    "duration": 106,
    "start_time": "2023-01-18T17:15:15.646Z"
   },
   {
    "duration": 109,
    "start_time": "2023-01-18T17:15:38.834Z"
   },
   {
    "duration": 364,
    "start_time": "2023-01-18T17:17:08.489Z"
   },
   {
    "duration": 380,
    "start_time": "2023-01-18T17:17:36.030Z"
   },
   {
    "duration": 95,
    "start_time": "2023-01-18T17:22:59.536Z"
   },
   {
    "duration": 1120,
    "start_time": "2023-01-18T17:23:25.519Z"
   },
   {
    "duration": 113,
    "start_time": "2023-01-18T17:24:29.410Z"
   },
   {
    "duration": 98,
    "start_time": "2023-01-18T17:24:47.153Z"
   },
   {
    "duration": 773,
    "start_time": "2023-01-18T17:25:02.060Z"
   },
   {
    "duration": 338,
    "start_time": "2023-01-18T17:26:30.129Z"
   },
   {
    "duration": 90,
    "start_time": "2023-01-18T17:29:43.977Z"
   },
   {
    "duration": 460,
    "start_time": "2023-01-18T17:29:55.940Z"
   },
   {
    "duration": 766,
    "start_time": "2023-01-18T17:36:06.746Z"
   },
   {
    "duration": 1128,
    "start_time": "2023-01-18T17:37:41.580Z"
   },
   {
    "duration": 703,
    "start_time": "2023-01-18T17:38:44.513Z"
   },
   {
    "duration": 3,
    "start_time": "2023-01-18T17:58:00.376Z"
   },
   {
    "duration": 37,
    "start_time": "2023-01-18T17:58:00.380Z"
   },
   {
    "duration": 42,
    "start_time": "2023-01-18T17:58:00.419Z"
   },
   {
    "duration": 273,
    "start_time": "2023-01-18T17:58:00.463Z"
   },
   {
    "duration": 12,
    "start_time": "2023-01-18T17:58:00.738Z"
   },
   {
    "duration": 135,
    "start_time": "2023-01-18T17:58:00.751Z"
   },
   {
    "duration": 3,
    "start_time": "2023-01-18T17:58:00.887Z"
   },
   {
    "duration": 165,
    "start_time": "2023-01-18T17:58:00.892Z"
   },
   {
    "duration": 2,
    "start_time": "2023-01-18T17:58:01.060Z"
   },
   {
    "duration": 193,
    "start_time": "2023-01-18T17:58:01.064Z"
   },
   {
    "duration": 2,
    "start_time": "2023-01-18T17:58:01.259Z"
   },
   {
    "duration": 1568,
    "start_time": "2023-01-18T17:58:01.263Z"
   },
   {
    "duration": 95,
    "start_time": "2023-01-18T17:58:02.833Z"
   },
   {
    "duration": 67,
    "start_time": "2023-01-18T17:58:02.929Z"
   },
   {
    "duration": 2,
    "start_time": "2023-01-18T17:58:02.998Z"
   },
   {
    "duration": 1184,
    "start_time": "2023-01-18T17:58:03.002Z"
   },
   {
    "duration": 103,
    "start_time": "2023-01-18T17:58:05.701Z"
   },
   {
    "duration": 474,
    "start_time": "2023-01-18T17:58:57.100Z"
   },
   {
    "duration": 859,
    "start_time": "2023-01-18T18:50:27.417Z"
   },
   {
    "duration": 764,
    "start_time": "2023-01-18T18:50:42.596Z"
   },
   {
    "duration": 754,
    "start_time": "2023-01-18T18:51:34.751Z"
   },
   {
    "duration": 941,
    "start_time": "2023-01-18T18:51:44.498Z"
   },
   {
    "duration": 780,
    "start_time": "2023-01-18T18:51:50.467Z"
   },
   {
    "duration": 91,
    "start_time": "2023-01-18T18:55:24.075Z"
   },
   {
    "duration": 94,
    "start_time": "2023-01-18T18:55:33.380Z"
   },
   {
    "duration": 103,
    "start_time": "2023-01-18T18:55:59.909Z"
   },
   {
    "duration": 728,
    "start_time": "2023-01-18T18:57:26.387Z"
   },
   {
    "duration": 105,
    "start_time": "2023-01-18T18:57:34.866Z"
   },
   {
    "duration": 103,
    "start_time": "2023-01-18T18:57:39.404Z"
   },
   {
    "duration": 932,
    "start_time": "2023-01-18T18:57:50.608Z"
   },
   {
    "duration": 746,
    "start_time": "2023-01-18T18:57:56.704Z"
   },
   {
    "duration": 105,
    "start_time": "2023-01-18T18:59:37.543Z"
   },
   {
    "duration": 855,
    "start_time": "2023-01-18T18:59:42.106Z"
   },
   {
    "duration": 143,
    "start_time": "2023-01-18T20:08:07.995Z"
   },
   {
    "duration": 106,
    "start_time": "2023-01-18T20:09:59.240Z"
   },
   {
    "duration": 142,
    "start_time": "2023-01-18T20:10:02.084Z"
   },
   {
    "duration": 135,
    "start_time": "2023-01-18T20:13:32.310Z"
   },
   {
    "duration": 96,
    "start_time": "2023-01-18T20:13:53.443Z"
   },
   {
    "duration": 104,
    "start_time": "2023-01-18T20:14:01.353Z"
   },
   {
    "duration": 143,
    "start_time": "2023-01-18T20:14:41.401Z"
   },
   {
    "duration": 137,
    "start_time": "2023-01-18T20:14:52.042Z"
   },
   {
    "duration": 104,
    "start_time": "2023-01-18T20:16:44.664Z"
   },
   {
    "duration": 3763,
    "start_time": "2023-01-18T20:17:06.429Z"
   },
   {
    "duration": 89,
    "start_time": "2023-01-18T20:18:13.406Z"
   },
   {
    "duration": 90,
    "start_time": "2023-01-18T20:18:20.275Z"
   },
   {
    "duration": 16287,
    "start_time": "2023-01-18T20:22:45.038Z"
   },
   {
    "duration": 92,
    "start_time": "2023-01-18T20:23:34.179Z"
   },
   {
    "duration": 91,
    "start_time": "2023-01-18T20:23:42.348Z"
   },
   {
    "duration": 89,
    "start_time": "2023-01-18T20:26:04.046Z"
   },
   {
    "duration": 90,
    "start_time": "2023-01-18T20:26:22.710Z"
   },
   {
    "duration": 95,
    "start_time": "2023-01-18T20:27:38.514Z"
   },
   {
    "duration": 90,
    "start_time": "2023-01-18T20:27:58.914Z"
   },
   {
    "duration": 91,
    "start_time": "2023-01-18T20:28:04.940Z"
   },
   {
    "duration": 96,
    "start_time": "2023-01-18T20:29:27.791Z"
   },
   {
    "duration": 90,
    "start_time": "2023-01-18T20:32:33.680Z"
   },
   {
    "duration": 92,
    "start_time": "2023-01-18T20:32:56.973Z"
   },
   {
    "duration": 207,
    "start_time": "2023-01-18T20:35:29.369Z"
   },
   {
    "duration": 192,
    "start_time": "2023-01-18T20:35:40.695Z"
   },
   {
    "duration": 201,
    "start_time": "2023-01-18T20:35:46.279Z"
   },
   {
    "duration": 95,
    "start_time": "2023-01-18T20:45:38.184Z"
   },
   {
    "duration": 267,
    "start_time": "2023-01-18T20:48:47.791Z"
   },
   {
    "duration": 102,
    "start_time": "2023-01-18T20:49:07.444Z"
   },
   {
    "duration": 1691,
    "start_time": "2023-01-18T20:56:36.336Z"
   },
   {
    "duration": 843,
    "start_time": "2023-01-18T20:58:19.318Z"
   },
   {
    "duration": 1777,
    "start_time": "2023-01-18T20:58:49.086Z"
   },
   {
    "duration": 1621,
    "start_time": "2023-01-18T21:06:00.085Z"
   },
   {
    "duration": 177,
    "start_time": "2023-01-18T21:07:05.449Z"
   },
   {
    "duration": 151,
    "start_time": "2023-01-18T21:09:09.058Z"
   },
   {
    "duration": 151,
    "start_time": "2023-01-18T21:10:25.008Z"
   },
   {
    "duration": 162,
    "start_time": "2023-01-18T21:26:59.805Z"
   },
   {
    "duration": 173,
    "start_time": "2023-01-18T21:27:48.763Z"
   },
   {
    "duration": 165,
    "start_time": "2023-01-18T21:29:33.435Z"
   },
   {
    "duration": 49,
    "start_time": "2023-01-18T21:29:39.834Z"
   },
   {
    "duration": 174,
    "start_time": "2023-01-18T21:29:52.078Z"
   },
   {
    "duration": 157,
    "start_time": "2023-01-18T21:30:15.807Z"
   },
   {
    "duration": 160,
    "start_time": "2023-01-18T21:30:54.312Z"
   },
   {
    "duration": 164,
    "start_time": "2023-01-18T21:31:02.821Z"
   },
   {
    "duration": 858,
    "start_time": "2023-01-19T10:52:41.733Z"
   },
   {
    "duration": 3,
    "start_time": "2023-01-19T10:52:42.593Z"
   },
   {
    "duration": 6675,
    "start_time": "2023-01-19T10:52:42.598Z"
   },
   {
    "duration": 224,
    "start_time": "2023-01-19T10:52:49.274Z"
   },
   {
    "duration": 14,
    "start_time": "2023-01-19T10:52:49.501Z"
   },
   {
    "duration": 141,
    "start_time": "2023-01-19T10:52:49.517Z"
   },
   {
    "duration": 161,
    "start_time": "2023-01-19T10:52:49.660Z"
   },
   {
    "duration": 151,
    "start_time": "2023-01-19T10:52:49.822Z"
   },
   {
    "duration": 2,
    "start_time": "2023-01-19T10:52:49.975Z"
   },
   {
    "duration": 1223,
    "start_time": "2023-01-19T10:52:49.978Z"
   },
   {
    "duration": 105,
    "start_time": "2023-01-19T10:52:51.203Z"
   },
   {
    "duration": 65,
    "start_time": "2023-01-19T10:52:51.309Z"
   },
   {
    "duration": 2,
    "start_time": "2023-01-19T10:52:51.375Z"
   },
   {
    "duration": 1111,
    "start_time": "2023-01-19T10:52:51.381Z"
   },
   {
    "duration": 477,
    "start_time": "2023-01-19T10:52:52.494Z"
   },
   {
    "duration": 3,
    "start_time": "2023-01-19T10:52:52.972Z"
   },
   {
    "duration": 42,
    "start_time": "2023-01-19T10:52:52.977Z"
   },
   {
    "duration": 133,
    "start_time": "2023-01-19T10:52:53.021Z"
   },
   {
    "duration": 31,
    "start_time": "2023-01-19T10:52:53.156Z"
   },
   {
    "duration": 140,
    "start_time": "2023-01-19T10:52:53.189Z"
   },
   {
    "duration": 165,
    "start_time": "2023-01-19T10:55:54.229Z"
   },
   {
    "duration": 95,
    "start_time": "2023-01-19T10:55:59.366Z"
   },
   {
    "duration": 99,
    "start_time": "2023-01-19T10:56:07.646Z"
   },
   {
    "duration": 144,
    "start_time": "2023-01-19T10:56:46.809Z"
   },
   {
    "duration": 74,
    "start_time": "2023-01-19T10:57:09.149Z"
   },
   {
    "duration": 98,
    "start_time": "2023-01-19T10:57:24.531Z"
   },
   {
    "duration": 121,
    "start_time": "2023-01-19T10:57:28.012Z"
   },
   {
    "duration": 91,
    "start_time": "2023-01-19T10:58:30.854Z"
   },
   {
    "duration": 91,
    "start_time": "2023-01-19T10:58:35.500Z"
   },
   {
    "duration": 107,
    "start_time": "2023-01-19T10:58:41.490Z"
   },
   {
    "duration": 94,
    "start_time": "2023-01-19T10:59:31.291Z"
   },
   {
    "duration": 194,
    "start_time": "2023-01-19T11:35:38.230Z"
   },
   {
    "duration": 2703,
    "start_time": "2023-01-19T11:36:19.286Z"
   },
   {
    "duration": 1061,
    "start_time": "2023-01-19T11:37:14.466Z"
   },
   {
    "duration": 773,
    "start_time": "2023-01-19T11:38:20.145Z"
   },
   {
    "duration": 70,
    "start_time": "2023-01-19T11:39:02.141Z"
   },
   {
    "duration": 47,
    "start_time": "2023-01-19T17:38:31.187Z"
   },
   {
    "duration": 907,
    "start_time": "2023-01-19T17:38:39.240Z"
   },
   {
    "duration": 4,
    "start_time": "2023-01-19T17:38:40.149Z"
   },
   {
    "duration": 5154,
    "start_time": "2023-01-19T17:38:40.154Z"
   },
   {
    "duration": 225,
    "start_time": "2023-01-19T17:38:45.310Z"
   },
   {
    "duration": 14,
    "start_time": "2023-01-19T17:38:45.537Z"
   },
   {
    "duration": 105,
    "start_time": "2023-01-19T17:38:45.553Z"
   },
   {
    "duration": 167,
    "start_time": "2023-01-19T17:38:45.659Z"
   },
   {
    "duration": 151,
    "start_time": "2023-01-19T17:38:45.828Z"
   },
   {
    "duration": 1154,
    "start_time": "2023-01-19T17:38:45.981Z"
   },
   {
    "duration": 92,
    "start_time": "2023-01-19T17:38:47.138Z"
   },
   {
    "duration": 67,
    "start_time": "2023-01-19T17:38:47.232Z"
   },
   {
    "duration": 1068,
    "start_time": "2023-01-19T17:38:47.301Z"
   },
   {
    "duration": 952,
    "start_time": "2023-01-19T17:38:48.371Z"
   },
   {
    "duration": 57,
    "start_time": "2023-01-19T17:39:08.181Z"
   },
   {
    "duration": 466,
    "start_time": "2023-01-19T17:39:46.131Z"
   },
   {
    "duration": 488,
    "start_time": "2023-01-19T17:39:55.235Z"
   },
   {
    "duration": 5,
    "start_time": "2023-01-19T17:54:19.155Z"
   },
   {
    "duration": 4,
    "start_time": "2023-01-19T18:53:09.901Z"
   },
   {
    "duration": 64,
    "start_time": "2023-01-19T18:53:17.530Z"
   },
   {
    "duration": 764,
    "start_time": "2023-01-19T18:56:34.968Z"
   },
   {
    "duration": 9,
    "start_time": "2023-01-19T18:56:47.798Z"
   },
   {
    "duration": 757,
    "start_time": "2023-01-19T18:57:42.472Z"
   },
   {
    "duration": 91,
    "start_time": "2023-01-19T18:58:32.181Z"
   },
   {
    "duration": 179,
    "start_time": "2023-01-19T18:58:42.927Z"
   },
   {
    "duration": 92,
    "start_time": "2023-01-19T18:58:52.396Z"
   },
   {
    "duration": 89,
    "start_time": "2023-01-19T18:59:00.296Z"
   },
   {
    "duration": 146,
    "start_time": "2023-01-19T18:59:08.375Z"
   },
   {
    "duration": 93,
    "start_time": "2023-01-19T19:00:46.195Z"
   },
   {
    "duration": 90,
    "start_time": "2023-01-19T19:00:54.275Z"
   },
   {
    "duration": 88,
    "start_time": "2023-01-19T19:01:08.915Z"
   },
   {
    "duration": 154,
    "start_time": "2023-01-19T19:01:32.244Z"
   },
   {
    "duration": 144,
    "start_time": "2023-01-19T19:01:45.942Z"
   },
   {
    "duration": 10,
    "start_time": "2023-01-19T19:04:12.353Z"
   },
   {
    "duration": 73,
    "start_time": "2023-01-19T19:04:36.540Z"
   },
   {
    "duration": 494,
    "start_time": "2023-01-19T19:04:46.337Z"
   },
   {
    "duration": 1193,
    "start_time": "2023-01-19T19:07:58.321Z"
   },
   {
    "duration": 4,
    "start_time": "2023-01-19T19:07:59.515Z"
   },
   {
    "duration": 5087,
    "start_time": "2023-01-19T19:07:59.520Z"
   },
   {
    "duration": 233,
    "start_time": "2023-01-19T19:08:04.609Z"
   },
   {
    "duration": 16,
    "start_time": "2023-01-19T19:08:04.843Z"
   },
   {
    "duration": 107,
    "start_time": "2023-01-19T19:08:04.860Z"
   },
   {
    "duration": 177,
    "start_time": "2023-01-19T19:08:04.969Z"
   },
   {
    "duration": 155,
    "start_time": "2023-01-19T19:08:05.149Z"
   },
   {
    "duration": 1285,
    "start_time": "2023-01-19T19:08:05.306Z"
   },
   {
    "duration": 92,
    "start_time": "2023-01-19T19:08:06.593Z"
   },
   {
    "duration": 63,
    "start_time": "2023-01-19T19:08:06.686Z"
   },
   {
    "duration": 931,
    "start_time": "2023-01-19T19:08:06.751Z"
   },
   {
    "duration": 962,
    "start_time": "2023-01-19T19:08:07.684Z"
   },
   {
    "duration": 454,
    "start_time": "2023-01-19T19:08:08.647Z"
   },
   {
    "duration": 88,
    "start_time": "2023-01-19T19:08:09.102Z"
   },
   {
    "duration": 315,
    "start_time": "2023-01-19T19:08:09.192Z"
   },
   {
    "duration": 148,
    "start_time": "2023-01-19T19:08:09.509Z"
   },
   {
    "duration": 1660,
    "start_time": "2023-01-19T23:53:40.543Z"
   },
   {
    "duration": 3,
    "start_time": "2023-01-19T23:53:42.205Z"
   },
   {
    "duration": 6111,
    "start_time": "2023-01-19T23:53:42.210Z"
   },
   {
    "duration": 303,
    "start_time": "2023-01-19T23:53:48.323Z"
   },
   {
    "duration": 15,
    "start_time": "2023-01-19T23:53:48.627Z"
   },
   {
    "duration": 136,
    "start_time": "2023-01-19T23:53:48.644Z"
   },
   {
    "duration": 183,
    "start_time": "2023-01-19T23:53:48.782Z"
   },
   {
    "duration": 156,
    "start_time": "2023-01-19T23:53:48.967Z"
   },
   {
    "duration": 1489,
    "start_time": "2023-01-19T23:53:49.124Z"
   },
   {
    "duration": 93,
    "start_time": "2023-01-19T23:53:50.616Z"
   },
   {
    "duration": 82,
    "start_time": "2023-01-19T23:53:50.710Z"
   },
   {
    "duration": 1109,
    "start_time": "2023-01-19T23:53:50.794Z"
   },
   {
    "duration": 958,
    "start_time": "2023-01-19T23:53:51.905Z"
   },
   {
    "duration": 606,
    "start_time": "2023-01-19T23:53:52.865Z"
   },
   {
    "duration": 120,
    "start_time": "2023-01-19T23:53:53.473Z"
   },
   {
    "duration": 449,
    "start_time": "2023-01-19T23:53:53.594Z"
   },
   {
    "duration": 161,
    "start_time": "2023-01-19T23:53:54.045Z"
   },
   {
    "duration": 141,
    "start_time": "2023-01-20T19:14:03.355Z"
   },
   {
    "duration": 134,
    "start_time": "2023-01-20T19:15:07.240Z"
   },
   {
    "duration": 98,
    "start_time": "2023-01-20T19:16:49.744Z"
   },
   {
    "duration": 1274,
    "start_time": "2023-01-20T19:20:50.856Z"
   },
   {
    "duration": 1171,
    "start_time": "2023-01-20T19:22:22.359Z"
   },
   {
    "duration": 1561,
    "start_time": "2023-08-01T10:42:45.033Z"
   },
   {
    "duration": 3,
    "start_time": "2023-08-01T10:42:46.597Z"
   },
   {
    "duration": 15048,
    "start_time": "2023-08-01T10:42:46.608Z"
   },
   {
    "duration": 230,
    "start_time": "2023-08-01T10:43:01.658Z"
   },
   {
    "duration": 17,
    "start_time": "2023-08-01T10:43:01.890Z"
   },
   {
    "duration": 143,
    "start_time": "2023-08-01T10:43:01.909Z"
   },
   {
    "duration": 174,
    "start_time": "2023-08-01T10:43:02.054Z"
   },
   {
    "duration": 162,
    "start_time": "2023-08-01T10:43:02.229Z"
   },
   {
    "duration": 1390,
    "start_time": "2023-08-01T10:43:02.392Z"
   },
   {
    "duration": 98,
    "start_time": "2023-08-01T10:43:03.785Z"
   },
   {
    "duration": 66,
    "start_time": "2023-08-01T10:43:03.885Z"
   },
   {
    "duration": 1065,
    "start_time": "2023-08-01T10:43:03.953Z"
   },
   {
    "duration": 1004,
    "start_time": "2023-08-01T10:43:05.020Z"
   },
   {
    "duration": 559,
    "start_time": "2023-08-01T10:43:06.025Z"
   },
   {
    "duration": 95,
    "start_time": "2023-08-01T10:43:06.586Z"
   },
   {
    "duration": 516,
    "start_time": "2023-08-01T10:43:06.683Z"
   },
   {
    "duration": 145,
    "start_time": "2023-08-01T10:43:07.201Z"
   }
  ],
  "colab": {
   "name": "AdvansedSQLProjectTemplate.ipynb",
   "provenance": []
  },
  "kernelspec": {
   "display_name": "Python 3 (ipykernel)",
   "language": "python",
   "name": "python3"
  },
  "language_info": {
   "codemirror_mode": {
    "name": "ipython",
    "version": 3
   },
   "file_extension": ".py",
   "mimetype": "text/x-python",
   "name": "python",
   "nbconvert_exporter": "python",
   "pygments_lexer": "ipython3",
   "version": "3.9.12"
  },
  "toc": {
   "base_numbering": 1,
   "nav_menu": {},
   "number_sections": true,
   "sideBar": true,
   "skip_h1_title": true,
   "title_cell": "Table of Contents",
   "title_sidebar": "Contents",
   "toc_cell": false,
   "toc_position": {},
   "toc_section_display": true,
   "toc_window_display": false
  }
 },
 "nbformat": 4,
 "nbformat_minor": 1
}
